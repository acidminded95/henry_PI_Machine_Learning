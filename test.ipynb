{
 "cells": [
  {
   "cell_type": "markdown",
   "metadata": {},
   "source": [
    "# Henry PI 2: Machine Learning\n",
    "\n",
    "• Caros incluyen el promedio\n",
    "\n",
    "• robustscaler lidia mejor con outliers que standardscaler"
   ]
  },
  {
   "cell_type": "markdown",
   "metadata": {},
   "source": [
    "## ------------- D A T A --- E X P L O R A T I O N --------------"
   ]
  },
  {
   "cell_type": "code",
   "execution_count": 1,
   "metadata": {},
   "outputs": [],
   "source": [
    "# Importamos la librerías que necesitaremos\n",
    "\n",
    "import pandas as pd\n",
    "import numpy as np\n",
    "import matplotlib.pyplot as plt\n",
    "import seaborn as sns\n",
    "from sklearn import preprocessing"
   ]
  },
  {
   "cell_type": "code",
   "execution_count": 2,
   "metadata": {},
   "outputs": [
    {
     "data": {
      "text/html": [
       "<div>\n",
       "<style scoped>\n",
       "    .dataframe tbody tr th:only-of-type {\n",
       "        vertical-align: middle;\n",
       "    }\n",
       "\n",
       "    .dataframe tbody tr th {\n",
       "        vertical-align: top;\n",
       "    }\n",
       "\n",
       "    .dataframe thead th {\n",
       "        text-align: right;\n",
       "    }\n",
       "</style>\n",
       "<table border=\"1\" class=\"dataframe\">\n",
       "  <thead>\n",
       "    <tr style=\"text-align: right;\">\n",
       "      <th></th>\n",
       "      <th>Unnamed: 0</th>\n",
       "      <th>id</th>\n",
       "      <th>ad_type</th>\n",
       "      <th>start_date</th>\n",
       "      <th>end_date</th>\n",
       "      <th>created_on</th>\n",
       "      <th>lat</th>\n",
       "      <th>lon</th>\n",
       "      <th>l1</th>\n",
       "      <th>l2</th>\n",
       "      <th>...</th>\n",
       "      <th>surface_total</th>\n",
       "      <th>surface_covered</th>\n",
       "      <th>price</th>\n",
       "      <th>currency</th>\n",
       "      <th>price_period</th>\n",
       "      <th>title</th>\n",
       "      <th>description</th>\n",
       "      <th>property_type</th>\n",
       "      <th>operation_type</th>\n",
       "      <th>geometry</th>\n",
       "    </tr>\n",
       "  </thead>\n",
       "  <tbody>\n",
       "    <tr>\n",
       "      <th>117133</th>\n",
       "      <td>341112</td>\n",
       "      <td>L3R5xITE8JPkySHKyxdPXw==</td>\n",
       "      <td>Propiedad</td>\n",
       "      <td>2020-10-19</td>\n",
       "      <td>2021-01-18</td>\n",
       "      <td>2020-10-19</td>\n",
       "      <td>1.220589</td>\n",
       "      <td>-77.270066</td>\n",
       "      <td>Colombia</td>\n",
       "      <td>Nariño</td>\n",
       "      <td>...</td>\n",
       "      <td>NaN</td>\n",
       "      <td>NaN</td>\n",
       "      <td>190000000.0</td>\n",
       "      <td>COP</td>\n",
       "      <td>NaN</td>\n",
       "      <td>SE VENDE CASA ESQUINERA DE 6 ALCOBAS B/LA ESPE...</td>\n",
       "      <td>LA CASA ES ESQUINERA ESTA UBICADA EN EL B/ LA ...</td>\n",
       "      <td>Casa</td>\n",
       "      <td>Venta</td>\n",
       "      <td>POINT (-77.270066 1.220589)</td>\n",
       "    </tr>\n",
       "    <tr>\n",
       "      <th>38458</th>\n",
       "      <td>260733</td>\n",
       "      <td>/8XhDrGo/mSw6Dmg+Fha6w==</td>\n",
       "      <td>Propiedad</td>\n",
       "      <td>2020-10-21</td>\n",
       "      <td>2021-01-19</td>\n",
       "      <td>2020-10-21</td>\n",
       "      <td>NaN</td>\n",
       "      <td>NaN</td>\n",
       "      <td>Colombia</td>\n",
       "      <td>Meta</td>\n",
       "      <td>...</td>\n",
       "      <td>NaN</td>\n",
       "      <td>NaN</td>\n",
       "      <td>250000000.0</td>\n",
       "      <td>COP</td>\n",
       "      <td>NaN</td>\n",
       "      <td>ESPECTACULAR CASA RENTABLE DE DOS PISOS</td>\n",
       "      <td>ESPECTACULAR CASA RENTABLE DE DOS PISOS SECTOR...</td>\n",
       "      <td>Casa</td>\n",
       "      <td>Venta</td>\n",
       "      <td>POINT EMPTY</td>\n",
       "    </tr>\n",
       "    <tr>\n",
       "      <th>73306</th>\n",
       "      <td>850093</td>\n",
       "      <td>7gKL2KJ53nEXf2J+Pu8TPw==</td>\n",
       "      <td>Propiedad</td>\n",
       "      <td>2020-09-04</td>\n",
       "      <td>2020-09-10</td>\n",
       "      <td>2020-09-04</td>\n",
       "      <td>4.548942</td>\n",
       "      <td>-74.535235</td>\n",
       "      <td>Colombia</td>\n",
       "      <td>Cundinamarca</td>\n",
       "      <td>...</td>\n",
       "      <td>NaN</td>\n",
       "      <td>NaN</td>\n",
       "      <td>290000000.0</td>\n",
       "      <td>COP</td>\n",
       "      <td>NaN</td>\n",
       "      <td>vendo Lote en conjunto cerrado  Anapoima</td>\n",
       "      <td>Construya su vivienda campestre, como siempre ...</td>\n",
       "      <td>Lote</td>\n",
       "      <td>Venta</td>\n",
       "      <td>POINT (-74.535235 4.548942)</td>\n",
       "    </tr>\n",
       "    <tr>\n",
       "      <th>51508</th>\n",
       "      <td>636104</td>\n",
       "      <td>GiN7YVFhIk9e/LqLnDLaQg==</td>\n",
       "      <td>Propiedad</td>\n",
       "      <td>2020-07-29</td>\n",
       "      <td>2020-07-30</td>\n",
       "      <td>2020-07-29</td>\n",
       "      <td>6.247110</td>\n",
       "      <td>-75.604992</td>\n",
       "      <td>Colombia</td>\n",
       "      <td>Antioquia</td>\n",
       "      <td>...</td>\n",
       "      <td>NaN</td>\n",
       "      <td>NaN</td>\n",
       "      <td>660000000.0</td>\n",
       "      <td>COP</td>\n",
       "      <td>NaN</td>\n",
       "      <td>CASA EN VENTA SIMON BOLIVAR _ wasi1215905</td>\n",
       "      <td>Casa en venta ubicada en el sector de Simon Bo...</td>\n",
       "      <td>Casa</td>\n",
       "      <td>Venta</td>\n",
       "      <td>POINT (-75.60499191 6.24711018)</td>\n",
       "    </tr>\n",
       "    <tr>\n",
       "      <th>7617</th>\n",
       "      <td>642325</td>\n",
       "      <td>cBdqTVWFo3ye4eIjRVz7DA==</td>\n",
       "      <td>Propiedad</td>\n",
       "      <td>2020-08-15</td>\n",
       "      <td>2020-08-17</td>\n",
       "      <td>2020-08-15</td>\n",
       "      <td>NaN</td>\n",
       "      <td>NaN</td>\n",
       "      <td>Colombia</td>\n",
       "      <td>Antioquia</td>\n",
       "      <td>...</td>\n",
       "      <td>NaN</td>\n",
       "      <td>NaN</td>\n",
       "      <td>360000000.0</td>\n",
       "      <td>COP</td>\n",
       "      <td>NaN</td>\n",
       "      <td>Apartamento en Venta Ubicado en RIONEGRO</td>\n",
       "      <td>Codigo Inmueble 468 Apartamento Rionegro parqu...</td>\n",
       "      <td>Apartamento</td>\n",
       "      <td>Venta</td>\n",
       "      <td>POINT EMPTY</td>\n",
       "    </tr>\n",
       "  </tbody>\n",
       "</table>\n",
       "<p>5 rows × 27 columns</p>\n",
       "</div>"
      ],
      "text/plain": [
       "        Unnamed: 0                        id    ad_type  start_date  \\\n",
       "117133      341112  L3R5xITE8JPkySHKyxdPXw==  Propiedad  2020-10-19   \n",
       "38458       260733  /8XhDrGo/mSw6Dmg+Fha6w==  Propiedad  2020-10-21   \n",
       "73306       850093  7gKL2KJ53nEXf2J+Pu8TPw==  Propiedad  2020-09-04   \n",
       "51508       636104  GiN7YVFhIk9e/LqLnDLaQg==  Propiedad  2020-07-29   \n",
       "7617        642325  cBdqTVWFo3ye4eIjRVz7DA==  Propiedad  2020-08-15   \n",
       "\n",
       "          end_date  created_on       lat        lon        l1            l2  \\\n",
       "117133  2021-01-18  2020-10-19  1.220589 -77.270066  Colombia        Nariño   \n",
       "38458   2021-01-19  2020-10-21       NaN        NaN  Colombia          Meta   \n",
       "73306   2020-09-10  2020-09-04  4.548942 -74.535235  Colombia  Cundinamarca   \n",
       "51508   2020-07-30  2020-07-29  6.247110 -75.604992  Colombia     Antioquia   \n",
       "7617    2020-08-17  2020-08-15       NaN        NaN  Colombia     Antioquia   \n",
       "\n",
       "        ... surface_total surface_covered        price currency  price_period  \\\n",
       "117133  ...           NaN             NaN  190000000.0      COP           NaN   \n",
       "38458   ...           NaN             NaN  250000000.0      COP           NaN   \n",
       "73306   ...           NaN             NaN  290000000.0      COP           NaN   \n",
       "51508   ...           NaN             NaN  660000000.0      COP           NaN   \n",
       "7617    ...           NaN             NaN  360000000.0      COP           NaN   \n",
       "\n",
       "                                                    title  \\\n",
       "117133  SE VENDE CASA ESQUINERA DE 6 ALCOBAS B/LA ESPE...   \n",
       "38458             ESPECTACULAR CASA RENTABLE DE DOS PISOS   \n",
       "73306           vendo Lote en conjunto cerrado  Anapoima    \n",
       "51508           CASA EN VENTA SIMON BOLIVAR _ wasi1215905   \n",
       "7617             Apartamento en Venta Ubicado en RIONEGRO   \n",
       "\n",
       "                                              description  property_type  \\\n",
       "117133  LA CASA ES ESQUINERA ESTA UBICADA EN EL B/ LA ...           Casa   \n",
       "38458   ESPECTACULAR CASA RENTABLE DE DOS PISOS SECTOR...           Casa   \n",
       "73306   Construya su vivienda campestre, como siempre ...           Lote   \n",
       "51508   Casa en venta ubicada en el sector de Simon Bo...           Casa   \n",
       "7617    Codigo Inmueble 468 Apartamento Rionegro parqu...    Apartamento   \n",
       "\n",
       "        operation_type                         geometry  \n",
       "117133           Venta      POINT (-77.270066 1.220589)  \n",
       "38458            Venta                      POINT EMPTY  \n",
       "73306            Venta      POINT (-74.535235 4.548942)  \n",
       "51508            Venta  POINT (-75.60499191 6.24711018)  \n",
       "7617             Venta                      POINT EMPTY  \n",
       "\n",
       "[5 rows x 27 columns]"
      ]
     },
     "execution_count": 2,
     "metadata": {},
     "output_type": "execute_result"
    }
   ],
   "source": [
    "# Importamos el dataset con los datos de entrenamiento a un DataFrame de Pandas\n",
    "\n",
    "df_original = pd.read_csv('datasets/properties_colombia_train.csv')\n",
    "df_original.sample(5)"
   ]
  },
  {
   "cell_type": "code",
   "execution_count": 3,
   "metadata": {},
   "outputs": [
    {
     "name": "stdout",
     "output_type": "stream",
     "text": [
      "• Original shape: (197549, 27)\n",
      "\n",
      "• Original columns: Index(['Unnamed: 0', 'id', 'ad_type', 'start_date', 'end_date', 'created_on',\n",
      "       'lat', 'lon', 'l1', 'l2', 'l3', 'l4', 'l5', 'l6', 'rooms', 'bedrooms',\n",
      "       'bathrooms', 'surface_total', 'surface_covered', 'price', 'currency',\n",
      "       'price_period', 'title', 'description', 'property_type',\n",
      "       'operation_type', 'geometry'],\n",
      "      dtype='object')\n",
      "\n",
      "• Original price column's mean: 643605091.0064613\n"
     ]
    }
   ],
   "source": [
    "# Obtenemos algunos datos básicos del dataframe recién creado y el valor promedio de la columna que usaremos para crear la columna target\n",
    "\n",
    "original_price_mean = df_original.price.mean()\n",
    "\n",
    "print(f'• Original shape: {df_original.shape}\\n')\n",
    "print(f'• Original columns: {df_original.columns}\\n')\n",
    "print(f\"• Original price column's mean: {original_price_mean}\")"
   ]
  },
  {
   "cell_type": "code",
   "execution_count": 4,
   "metadata": {},
   "outputs": [
    {
     "data": {
      "text/plain": [
       "False    197549\n",
       "dtype: int64"
      ]
     },
     "execution_count": 4,
     "metadata": {},
     "output_type": "execute_result"
    }
   ],
   "source": [
    "# Buscamos registros duplicados (no hay)\n",
    "\n",
    "df_original.duplicated().value_counts()"
   ]
  },
  {
   "cell_type": "code",
   "execution_count": 5,
   "metadata": {},
   "outputs": [
    {
     "data": {
      "text/plain": [
       "Unnamed: 0              0\n",
       "id                      0\n",
       "ad_type                 0\n",
       "start_date              0\n",
       "end_date                0\n",
       "created_on              0\n",
       "lat                 49498\n",
       "lon                 49498\n",
       "l1                      0\n",
       "l2                      0\n",
       "l3                  11032\n",
       "l4                 152182\n",
       "l5                 170140\n",
       "l6                 190682\n",
       "rooms              170012\n",
       "bedrooms           157024\n",
       "bathrooms           41082\n",
       "surface_total      190575\n",
       "surface_covered    187747\n",
       "price                  63\n",
       "currency               67\n",
       "price_period       161578\n",
       "title                   1\n",
       "description           121\n",
       "property_type           0\n",
       "operation_type          0\n",
       "geometry                0\n",
       "dtype: int64"
      ]
     },
     "execution_count": 5,
     "metadata": {},
     "output_type": "execute_result"
    }
   ],
   "source": [
    "# Buscamos valores nulos por columna (hay muchos, en particular en las columnas l4, l5, l6, rooms, bedrooms, surface_total, surface_covered y price_period)\n",
    "\n",
    "df_original.isnull().sum()"
   ]
  },
  {
   "cell_type": "code",
   "execution_count": 6,
   "metadata": {},
   "outputs": [
    {
     "name": "stdout",
     "output_type": "stream",
     "text": [
      "\n",
      "\n",
      "Different values per column:\n",
      "\n",
      "\n",
      "\n",
      "• Unnamed: 0:\t197549\n",
      "\n",
      "• id:\t197549\n",
      "\n",
      "• ad_type:\t1\n",
      "\n",
      "• start_date:\t145\n",
      "\n",
      "• end_date:\t446\n",
      "\n",
      "• created_on:\t145\n",
      "\n",
      "• lat:\t51077\n",
      "\n",
      "• lon:\t50108\n",
      "\n",
      "• l1:\t1\n",
      "\n",
      "• l2:\t31\n",
      "\n",
      "• l3:\t293\n",
      "\n",
      "• l4:\t58\n",
      "\n",
      "• l5:\t20\n",
      "\n",
      "• l6:\t146\n",
      "\n",
      "• rooms:\t29\n",
      "\n",
      "• bedrooms:\t37\n",
      "\n",
      "• bathrooms:\t20\n",
      "\n",
      "• surface_total:\t1035\n",
      "\n",
      "• surface_covered:\t783\n",
      "\n",
      "• price:\t6096\n",
      "\n",
      "• currency:\t2\n",
      "\n",
      "• price_period:\t1\n",
      "\n",
      "• title:\t95025\n",
      "\n",
      "• description:\t111371\n",
      "\n",
      "• property_type:\t8\n",
      "\n",
      "• operation_type:\t1\n",
      "\n",
      "• geometry:\t62807\n"
     ]
    }
   ],
   "source": [
    "print('\\n\\nDifferent values per column:\\n\\n')\n",
    "for x in df_original:\n",
    "    print(f'\\n• {x}:\\t{len(df_original[x].value_counts())}')"
   ]
  },
  {
   "cell_type": "markdown",
   "metadata": {},
   "source": [
    "From the output above we can see that there are several columns with only one value among the 197549 registers (ad_type, l1, price_period, operation_type). Also we can see that the 'Unnamed: 0' and the 'id' columns have unique values for each row (are identifiers) and thus are redundant.\n",
    "\n",
    "We procceed to create another dataframe from the original one ignoring these columns."
   ]
  },
  {
   "cell_type": "code",
   "execution_count": 7,
   "metadata": {},
   "outputs": [
    {
     "name": "stdout",
     "output_type": "stream",
     "text": [
      "• Training DataFrame Shape: (197549, 21)\n",
      "\n",
      "• Training DataFrame Columns: Index(['start_date', 'end_date', 'created_on', 'lat', 'lon', 'l2', 'l3', 'l4',\n",
      "       'l5', 'l6', 'rooms', 'bedrooms', 'bathrooms', 'surface_total',\n",
      "       'surface_covered', 'price', 'currency', 'title', 'description',\n",
      "       'property_type', 'geometry'],\n",
      "      dtype='object')\n",
      "\n",
      "• Training DataFrame Price column mean: 643605091.0064613\n"
     ]
    }
   ],
   "source": [
    "# We create a new DataFrame which we will use to train our model with\n",
    "\n",
    "df_train = df_original.drop(['ad_type', 'l1', 'price_period', 'operation_type', 'Unnamed: 0', 'id'], axis=1)\n",
    "print(f'• Training DataFrame Shape: {df_train.shape}\\n')\n",
    "print(f'• Training DataFrame Columns: {df_train.columns}\\n')\n",
    "print(f'• Training DataFrame Price column mean: {df_train.price.mean()}')"
   ]
  },
  {
   "cell_type": "code",
   "execution_count": 8,
   "metadata": {},
   "outputs": [
    {
     "name": "stdout",
     "output_type": "stream",
     "text": [
      "<class 'pandas.core.frame.DataFrame'>\n",
      "RangeIndex: 197549 entries, 0 to 197548\n",
      "Data columns (total 21 columns):\n",
      " #   Column           Non-Null Count   Dtype  \n",
      "---  ------           --------------   -----  \n",
      " 0   start_date       197549 non-null  object \n",
      " 1   end_date         197549 non-null  object \n",
      " 2   created_on       197549 non-null  object \n",
      " 3   lat              148051 non-null  float64\n",
      " 4   lon              148051 non-null  float64\n",
      " 5   l2               197549 non-null  object \n",
      " 6   l3               186517 non-null  object \n",
      " 7   l4               45367 non-null   object \n",
      " 8   l5               27409 non-null   object \n",
      " 9   l6               6867 non-null    object \n",
      " 10  rooms            27537 non-null   float64\n",
      " 11  bedrooms         40525 non-null   float64\n",
      " 12  bathrooms        156467 non-null  float64\n",
      " 13  surface_total    6974 non-null    float64\n",
      " 14  surface_covered  9802 non-null    float64\n",
      " 15  price            197486 non-null  float64\n",
      " 16  currency         197482 non-null  object \n",
      " 17  title            197548 non-null  object \n",
      " 18  description      197428 non-null  object \n",
      " 19  property_type    197549 non-null  object \n",
      " 20  geometry         197549 non-null  object \n",
      "dtypes: float64(8), object(13)\n",
      "memory usage: 31.7+ MB\n"
     ]
    }
   ],
   "source": [
    "df_train.info()"
   ]
  },
  {
   "cell_type": "code",
   "execution_count": 9,
   "metadata": {},
   "outputs": [
    {
     "data": {
      "text/plain": [
       "start_date              0\n",
       "end_date                0\n",
       "created_on              0\n",
       "lat                 49498\n",
       "lon                 49498\n",
       "l2                      0\n",
       "l3                  11032\n",
       "l4                 152182\n",
       "l5                 170140\n",
       "l6                 190682\n",
       "rooms              170012\n",
       "bedrooms           157024\n",
       "bathrooms           41082\n",
       "surface_total      190575\n",
       "surface_covered    187747\n",
       "price                  63\n",
       "currency               67\n",
       "title                   1\n",
       "description           121\n",
       "property_type           0\n",
       "geometry                0\n",
       "dtype: int64"
      ]
     },
     "execution_count": 9,
     "metadata": {},
     "output_type": "execute_result"
    }
   ],
   "source": [
    "df_train.isnull().sum()"
   ]
  },
  {
   "cell_type": "markdown",
   "metadata": {},
   "source": [
    "We can see that we have missing values in the 'price' column, the one we will be using to create our categorical target column."
   ]
  },
  {
   "cell_type": "code",
   "execution_count": 10,
   "metadata": {},
   "outputs": [
    {
     "name": "stdout",
     "output_type": "stream",
     "text": [
      "• Training DataFrame Shape (after dropna): (197486, 21)\n",
      "\n",
      "• Training DataFrame Price column mean (after dropna): 643605091.0064613\n",
      "Price mean is the same before and after dropping missing values: True\n"
     ]
    }
   ],
   "source": [
    "df_train.dropna(subset=['price'], inplace=True)\n",
    "price_mean_after_dropna = df_train.price.mean()\n",
    "\n",
    "print(f'• Training DataFrame Shape (after dropna): {df_train.shape}\\n')\n",
    "print(f'• Training DataFrame Price column mean (after dropna): {df_train.price.mean()}')\n",
    "\n",
    "print(f'\\nPrice mean is the same before and after dropping missing values: {original_price_mean == price_mean_after_dropna}')"
   ]
  },
  {
   "cell_type": "code",
   "execution_count": 11,
   "metadata": {},
   "outputs": [
    {
     "data": {
      "text/plain": [
       "False    193718\n",
       "True       3768\n",
       "dtype: int64"
      ]
     },
     "execution_count": 11,
     "metadata": {},
     "output_type": "execute_result"
    }
   ],
   "source": [
    "df_train.duplicated().value_counts()"
   ]
  },
  {
   "cell_type": "markdown",
   "metadata": {},
   "source": [
    "We can see that after dropping the redundant and identifier columns we got a total of 3768 duplicated registers.\n",
    "\n",
    "We procceed to eliminate them."
   ]
  },
  {
   "cell_type": "code",
   "execution_count": 12,
   "metadata": {},
   "outputs": [
    {
     "name": "stdout",
     "output_type": "stream",
     "text": [
      "• Training DataFrame Shape (after drop_duplicates): (193718, 21)\n",
      "\n"
     ]
    }
   ],
   "source": [
    "df_train.drop_duplicates(inplace=True)\n",
    "print(f'• Training DataFrame Shape (after drop_duplicates): {df_train.shape}\\n')"
   ]
  },
  {
   "cell_type": "markdown",
   "metadata": {},
   "source": [
    "Now we will create the target column from the values of the 'price' column."
   ]
  },
  {
   "cell_type": "code",
   "execution_count": null,
   "metadata": {},
   "outputs": [],
   "source": [
    "df_2.price.min(), df_2.price.max()"
   ]
  },
  {
   "cell_type": "code",
   "execution_count": null,
   "metadata": {},
   "outputs": [],
   "source": [
    "df_2.sort_values(by='price',ascending=False).head()"
   ]
  },
  {
   "cell_type": "code",
   "execution_count": null,
   "metadata": {},
   "outputs": [],
   "source": [
    "df_2.price.value_counts()[0], df_2.price.value_counts()[345000000000.0]"
   ]
  },
  {
   "cell_type": "code",
   "execution_count": null,
   "metadata": {},
   "outputs": [],
   "source": [
    "# Aquí podemos ver que tenemos 8 registros cuyo precio se encuentra en USD\n",
    "df_2.currency.value_counts()"
   ]
  },
  {
   "cell_type": "code",
   "execution_count": null,
   "metadata": {},
   "outputs": [],
   "source": []
  },
  {
   "cell_type": "code",
   "execution_count": null,
   "metadata": {},
   "outputs": [],
   "source": [
    "df_2['Unnamed: 0'].duplicated().value_counts()"
   ]
  },
  {
   "cell_type": "code",
   "execution_count": null,
   "metadata": {},
   "outputs": [],
   "source": [
    "df_2.loc('currency')"
   ]
  },
  {
   "cell_type": "code",
   "execution_count": null,
   "metadata": {},
   "outputs": [],
   "source": [
    "df_2.price_period.value_counts()\n"
   ]
  },
  {
   "cell_type": "code",
   "execution_count": null,
   "metadata": {},
   "outputs": [],
   "source": [
    "df_2.property_type.value_counts()\n"
   ]
  },
  {
   "cell_type": "code",
   "execution_count": null,
   "metadata": {},
   "outputs": [],
   "source": [
    "df_2.operation_type.value_counts()\n"
   ]
  },
  {
   "cell_type": "code",
   "execution_count": null,
   "metadata": {},
   "outputs": [],
   "source": []
  },
  {
   "cell_type": "code",
   "execution_count": null,
   "metadata": {},
   "outputs": [],
   "source": []
  },
  {
   "cell_type": "code",
   "execution_count": null,
   "metadata": {},
   "outputs": [],
   "source": []
  },
  {
   "cell_type": "code",
   "execution_count": null,
   "metadata": {},
   "outputs": [],
   "source": [
    "df[['l1','l2','l3','l4','l5','l6']].sample(20)"
   ]
  },
  {
   "cell_type": "code",
   "execution_count": null,
   "metadata": {},
   "outputs": [],
   "source": [
    "df_2.l1.value_counts()"
   ]
  },
  {
   "cell_type": "code",
   "execution_count": null,
   "metadata": {},
   "outputs": [],
   "source": [
    "df_2.drop('l1', axis=1, inplace=True)"
   ]
  },
  {
   "cell_type": "code",
   "execution_count": null,
   "metadata": {},
   "outputs": [],
   "source": [
    "df_2.l2.value_counts()"
   ]
  },
  {
   "cell_type": "code",
   "execution_count": null,
   "metadata": {},
   "outputs": [],
   "source": [
    "df_2.l3.value_counts()"
   ]
  },
  {
   "cell_type": "code",
   "execution_count": null,
   "metadata": {},
   "outputs": [],
   "source": [
    "df_2.l4.value_counts()"
   ]
  }
 ],
 "metadata": {
  "kernelspec": {
   "display_name": "Python 3",
   "language": "python",
   "name": "python3"
  },
  "language_info": {
   "codemirror_mode": {
    "name": "ipython",
    "version": 3
   },
   "file_extension": ".py",
   "mimetype": "text/x-python",
   "name": "python",
   "nbconvert_exporter": "python",
   "pygments_lexer": "ipython3",
   "version": "3.10.4"
  },
  "orig_nbformat": 4,
  "vscode": {
   "interpreter": {
    "hash": "369f2c481f4da34e4445cda3fffd2e751bd1c4d706f27375911949ba6bb62e1c"
   }
  }
 },
 "nbformat": 4,
 "nbformat_minor": 2
}
