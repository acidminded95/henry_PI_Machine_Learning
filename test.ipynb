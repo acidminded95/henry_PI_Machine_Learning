{
 "cells": [
  {
   "cell_type": "markdown",
   "metadata": {},
   "source": [
    "# Henry PI 2: Machine Learning\n",
    "\n",
    "• Caros incluyen el promedio\n",
    "\n",
    "• stacking & walking\n",
    "\n",
    "• revisar descripciones repetidas: anuncios publicados múltiples veces\n",
    "\n",
    "• robustscaler lidia mejor con outliers que standardscaler\n",
    "\n",
    "• el registro más al sur parece estar en Nariño, pero también hay registros en el amazonas"
   ]
  },
  {
   "cell_type": "markdown",
   "metadata": {},
   "source": [
    "## ------------- D A T A --- E X P L O R A T I O N --- 1 --------------"
   ]
  },
  {
   "cell_type": "markdown",
   "metadata": {},
   "source": [
    "### -------------------------- GETTING TO KNOW THE DATASET --------------------------"
   ]
  },
  {
   "cell_type": "markdown",
   "metadata": {},
   "source": [
    "We start by importing the libraries that we need"
   ]
  },
  {
   "cell_type": "code",
   "execution_count": 1,
   "metadata": {},
   "outputs": [],
   "source": [
    "import pandas as pd\n",
    "import numpy as np\n",
    "import matplotlib.pyplot as plt\n",
    "import seaborn as sns\n",
    "import requests\n",
    "from sklearn import preprocessing\n",
    "from geopy.geocoders import Nominatim\n",
    "from geopy.extra.rate_limiter import RateLimiter\n",
    "from helpers import *\n"
   ]
  },
  {
   "cell_type": "code",
   "execution_count": 2,
   "metadata": {},
   "outputs": [],
   "source": [
    "import warnings\n",
    "\n",
    "def disable_pandas_warnings():\n",
    "    warnings.resetwarnings()  # Maybe somebody else is messing with the warnings system?\n",
    "    warnings.filterwarnings('ignore')  # Ignore everything\n",
    "    # ignore everything does not work: ignore specific messages, using regex\n",
    "    warnings.filterwarnings('ignore', '.*A value is trying to be set on a copy of a slice from a DataFrame.*')\n",
    "    warnings.filterwarnings('ignore', '.*indexing past lexsort depth may impact performance*')\n",
    "disable_pandas_warnings()"
   ]
  },
  {
   "cell_type": "code",
   "execution_count": 3,
   "metadata": {},
   "outputs": [],
   "source": [
    "# Next we import the dataset with the training data into a Pandas DataFrame\n",
    "\n",
    "original_df = pd.read_csv('datasets/properties_colombia_train.csv')\n",
    "#original_df.sample(5)"
   ]
  },
  {
   "cell_type": "code",
   "execution_count": 4,
   "metadata": {},
   "outputs": [
    {
     "name": "stdout",
     "output_type": "stream",
     "text": [
      "• Original shape: (197549, 27)\n",
      "\n",
      "• Original columns: Index(['Unnamed: 0', 'id', 'ad_type', 'start_date', 'end_date', 'created_on',\n",
      "       'lat', 'lon', 'l1', 'l2', 'l3', 'l4', 'l5', 'l6', 'rooms', 'bedrooms',\n",
      "       'bathrooms', 'surface_total', 'surface_covered', 'price', 'currency',\n",
      "       'price_period', 'title', 'description', 'property_type',\n",
      "       'operation_type', 'geometry'],\n",
      "      dtype='object')\n",
      "\n",
      "• Original price column's mean: 643605091.0064613\n"
     ]
    }
   ],
   "source": [
    "# Now we obtain some basic information about the DataFrame, along with the mean value from the feature we will use to create the target column\n",
    "\n",
    "original_price_mean = original_df.price.mean()\n",
    "\n",
    "print(f'• Original shape: {original_df.shape}\\n')\n",
    "print(f'• Original columns: {original_df.columns}\\n')\n",
    "print(f\"• Original price column's mean: {original_price_mean}\")"
   ]
  },
  {
   "cell_type": "code",
   "execution_count": 5,
   "metadata": {},
   "outputs": [
    {
     "data": {
      "text/plain": [
       "False    197549\n",
       "dtype: int64"
      ]
     },
     "execution_count": 5,
     "metadata": {},
     "output_type": "execute_result"
    }
   ],
   "source": [
    "# We look for duplicated registers (spoiler: there are none)\n",
    "\n",
    "original_df.duplicated().value_counts()"
   ]
  },
  {
   "cell_type": "code",
   "execution_count": 6,
   "metadata": {},
   "outputs": [
    {
     "data": {
      "text/plain": [
       "Unnamed: 0              0\n",
       "id                      0\n",
       "ad_type                 0\n",
       "start_date              0\n",
       "end_date                0\n",
       "created_on              0\n",
       "lat                 49498\n",
       "lon                 49498\n",
       "l1                      0\n",
       "l2                      0\n",
       "l3                  11032\n",
       "l4                 152182\n",
       "l5                 170140\n",
       "l6                 190682\n",
       "rooms              170012\n",
       "bedrooms           157024\n",
       "bathrooms           41082\n",
       "surface_total      190575\n",
       "surface_covered    187747\n",
       "price                  63\n",
       "currency               67\n",
       "price_period       161578\n",
       "title                   1\n",
       "description           121\n",
       "property_type           0\n",
       "operation_type          0\n",
       "geometry                0\n",
       "dtype: int64"
      ]
     },
     "execution_count": 6,
     "metadata": {},
     "output_type": "execute_result"
    }
   ],
   "source": [
    "# We look for missing values per feature (we find a lot of them, particularly in l4, l5, l6, rooms, bedrooms, surface_total, surface_covered and price_period)\n",
    "\n",
    "original_df.isnull().sum()"
   ]
  },
  {
   "cell_type": "markdown",
   "metadata": {},
   "source": [
    "### ---------- G E N E R A T I N G --- T A R G E T --- C O L U M N ----------"
   ]
  },
  {
   "cell_type": "code",
   "execution_count": 7,
   "metadata": {},
   "outputs": [
    {
     "data": {
      "text/plain": [
       "63"
      ]
     },
     "execution_count": 7,
     "metadata": {},
     "output_type": "execute_result"
    }
   ],
   "source": [
    "# We start by creating a copy of the original dataset and looking for missing values in the 'price' column (which we can see above as well)\n",
    "# Our targets will be obtained from the information contained in this column, so any training data without an associated target value will be pretty much useless.\n",
    "\n",
    "df_Xy = original_df.copy()\n",
    "df_Xy.price.isnull().sum()"
   ]
  },
  {
   "cell_type": "markdown",
   "metadata": {},
   "source": [
    "We can see that we have 63 missing values in the 'price' column, the one we will be using to create our target classification based on it's mean value.\n",
    "\n",
    "We procceed to drop those registers, this is because we need them to have a target value in order to train our models."
   ]
  },
  {
   "cell_type": "code",
   "execution_count": 8,
   "metadata": {},
   "outputs": [
    {
     "name": "stdout",
     "output_type": "stream",
     "text": [
      "• Original DataFrame Shape: (197549, 27)\n",
      "• DataFrame Shape (after dropna-price): (197486, 27)\n",
      "\n",
      "• DataFrame Price column mean (after dropna-price): 643605091.0064613\n",
      "• Is the price's mean still the same as the original: True\n"
     ]
    }
   ],
   "source": [
    "df_Xy.dropna(subset=['price'], inplace=True)\n",
    "\n",
    "price_mean_after_dropna = df_Xy.price.mean()\n",
    "\n",
    "print(f'• Original DataFrame Shape: {original_df.shape}')\n",
    "print(f'• DataFrame Shape (after dropna-price): {df_Xy.shape}\\n')\n",
    "print(f'• DataFrame Price column mean (after dropna-price): {price_mean_after_dropna}')\n",
    "print(f\"• Is the price's mean still the same as the original: {price_mean_after_dropna==original_price_mean}\")"
   ]
  },
  {
   "cell_type": "code",
   "execution_count": 9,
   "metadata": {},
   "outputs": [
    {
     "data": {
      "text/plain": [
       "0"
      ]
     },
     "execution_count": 9,
     "metadata": {},
     "output_type": "execute_result"
    }
   ],
   "source": [
    "# We check again for missing values\n",
    "\n",
    "df_Xy.price.isnull().sum()"
   ]
  },
  {
   "cell_type": "code",
   "execution_count": 10,
   "metadata": {},
   "outputs": [
    {
     "data": {
      "text/plain": [
       "(0.0, 345000000000.0)"
      ]
     },
     "execution_count": 10,
     "metadata": {},
     "output_type": "execute_result"
    }
   ],
   "source": [
    "# We check for the extreme values in the column\n",
    "\n",
    "df_Xy.price.min(), df_Xy.price.max()"
   ]
  },
  {
   "cell_type": "code",
   "execution_count": 11,
   "metadata": {},
   "outputs": [
    {
     "data": {
      "text/plain": [
       "(4, 1)"
      ]
     },
     "execution_count": 11,
     "metadata": {},
     "output_type": "execute_result"
    }
   ],
   "source": [
    "# We check for the amount of appereances of these extreme values\n",
    "\n",
    "df_Xy.price.value_counts()[0], df_Xy.price.value_counts()[345000000000.0]"
   ]
  },
  {
   "cell_type": "markdown",
   "metadata": {},
   "source": [
    "UPDATE:\n",
    "\n",
    "In the next couple cells we obtain the mean price of the column after removing it's outliers and it ended up being the one we used to create the target column with which our models would be trained.\n",
    "\n",
    "This strategy, implemented late in the process, radically improved our model results and was a response to the problem found in the 'Important Note' registered below."
   ]
  },
  {
   "cell_type": "code",
   "execution_count": 12,
   "metadata": {},
   "outputs": [
    {
     "data": {
      "text/plain": [
       "(400000000.0, (197486, 27))"
      ]
     },
     "execution_count": 12,
     "metadata": {},
     "output_type": "execute_result"
    }
   ],
   "source": [
    "Q1 = df_Xy.price.quantile(0.25)\n",
    "Q3 = df_Xy.price.quantile(0.75)\n",
    "IQR = Q3 - Q1\n",
    "IQR, df_Xy.shape"
   ]
  },
  {
   "cell_type": "code",
   "execution_count": 13,
   "metadata": {},
   "outputs": [
    {
     "data": {
      "text/plain": [
       "(178169, 27)"
      ]
     },
     "execution_count": 13,
     "metadata": {},
     "output_type": "execute_result"
    }
   ],
   "source": [
    "df_Xy_no = df_Xy[~((df_Xy['price'] < (Q1 - 1.5 * IQR)) | (df_Xy['price'] > (Q3 + 1.5 * IQR)))]\n",
    "df_Xy_no.shape"
   ]
  },
  {
   "cell_type": "code",
   "execution_count": 14,
   "metadata": {},
   "outputs": [
    {
     "name": "stdout",
     "output_type": "stream",
     "text": [
      "Price mean after dropping outliers: 373486750.12355685\n"
     ]
    }
   ],
   "source": [
    "price_mean_after_do = df_Xy_no.price.mean()\n",
    "print(f'Price mean after dropping outliers: {price_mean_after_do}')"
   ]
  },
  {
   "cell_type": "markdown",
   "metadata": {},
   "source": [
    "#### • IMPORTANT NOTE:\n",
    "\n",
    "Above we can see that there are extreme outliers in the column from which we are getting our training data targets. This is an important situation that must be adressed with the client, as these outliers (specially the big ones) will distort the column's mean value, affecting the division betweeen 'expensive' and 'cheap' house we are creating in our target column."
   ]
  },
  {
   "cell_type": "markdown",
   "metadata": {},
   "source": [
    "Now we will create the 'target' column using the values from 'price', separating them into two categories based on the mean of the column.\n",
    "\n",
    "UPDATE: We used the mean of the price column WITHOUT it's outliers to improve the model."
   ]
  },
  {
   "cell_type": "code",
   "execution_count": 15,
   "metadata": {},
   "outputs": [],
   "source": [
    "# As we found an absurdly big value as the max value of price column we check for some information about the biggest values in this column.\n",
    "\n",
    "#df_Xy.sort_values(by='price',ascending=False).head(100).price.mean() # Output: 54,246'115,351.52\n",
    "#df_Xy.sort_values(by='price',ascending=False).head(1000).price.mean() # Output: 17,829'070,843.313"
   ]
  },
  {
   "cell_type": "code",
   "execution_count": 16,
   "metadata": {},
   "outputs": [
    {
     "name": "stdout",
     "output_type": "stream",
     "text": [
      "(197486,)\n"
     ]
    },
    {
     "data": {
      "text/plain": [
       "0    111846\n",
       "1     85640\n",
       "Name: target, dtype: int64"
      ]
     },
     "execution_count": 16,
     "metadata": {},
     "output_type": "execute_result"
    }
   ],
   "source": [
    "df_Xy['target'] = (df_Xy['price'] >= price_mean_after_do).astype(int)\n",
    "print(df_Xy['target'].shape)\n",
    "df_Xy['target'].value_counts()"
   ]
  },
  {
   "cell_type": "code",
   "execution_count": 17,
   "metadata": {},
   "outputs": [
    {
     "name": "stdout",
     "output_type": "stream",
     "text": [
      "\n",
      "• Unnamed: 0:\t197486\n",
      "\n",
      "• id:\t197486\n",
      "\n",
      "• ad_type:\t1\n",
      "\n",
      "• start_date:\t145\n",
      "\n",
      "• end_date:\t446\n",
      "\n",
      "• created_on:\t145\n",
      "\n",
      "• lat:\t51075\n",
      "\n",
      "• lon:\t50107\n",
      "\n",
      "• l1:\t1\n",
      "\n",
      "• l2:\t31\n",
      "\n",
      "• l3:\t293\n",
      "\n",
      "• l4:\t58\n",
      "\n",
      "• l5:\t20\n",
      "\n",
      "• l6:\t146\n",
      "\n",
      "• rooms:\t29\n",
      "\n",
      "• bedrooms:\t37\n",
      "\n",
      "• bathrooms:\t20\n",
      "\n",
      "• surface_total:\t1030\n",
      "\n",
      "• surface_covered:\t781\n",
      "\n",
      "• price:\t6096\n",
      "\n",
      "• currency:\t2\n",
      "\n",
      "• price_period:\t1\n",
      "\n",
      "• title:\t94963\n",
      "\n",
      "• description:\t111312\n",
      "\n",
      "• property_type:\t8\n",
      "\n",
      "• operation_type:\t1\n",
      "\n",
      "• geometry:\t62785\n",
      "\n",
      "• target:\t2\n"
     ]
    }
   ],
   "source": [
    "# Now we look for the amount of different values per feature (in order to filter out redundant and non-informative features)\n",
    "\n",
    "for x in df_Xy:\n",
    "    print(f'\\n• {x}:\\t{len(df_Xy[x].value_counts())}')"
   ]
  },
  {
   "cell_type": "markdown",
   "metadata": {},
   "source": [
    "From the output above we can see that:\n",
    "1) There are several features with only one value throughout all of the 197486 registers (ad_type, l1, price_period, operation_type). This features give us no information.\n",
    "2) We can see that the columns labeled 'Unnamed: 0' and 'id' have unique values (identifiers) for each one of the rows and thus are redundant and not helpful for our classification purposes.\n",
    "\n",
    "We will procceed to create another dataframe from the original one ignoring these features, along with the 'price' column which was only useful for us in order to obtain our 'target' column. \n",
    "\n",
    "After this we will check for duplicates (once we have removed the identifiers that guaranteed every row was unique) and remove them. This will give us a somewhat clean dataset to begin preprocessing our data, i.e. applying to it the changes that we would apply to any input data given to our finished model in order to get predictions from it."
   ]
  },
  {
   "cell_type": "code",
   "execution_count": 18,
   "metadata": {},
   "outputs": [
    {
     "name": "stdout",
     "output_type": "stream",
     "text": [
      "• Training DataFrame Shape: (197486, 21)\n",
      "\n",
      "• Training DataFrame Columns: Index(['start_date', 'end_date', 'created_on', 'lat', 'lon', 'l2', 'l3', 'l4',\n",
      "       'l5', 'l6', 'rooms', 'bedrooms', 'bathrooms', 'surface_total',\n",
      "       'surface_covered', 'currency', 'title', 'description', 'property_type',\n",
      "       'geometry', 'target'],\n",
      "      dtype='object')\n",
      "\n"
     ]
    }
   ],
   "source": [
    "# We create a new DataFrame which we will use to train our model with, ignoring the unnecessary columns\n",
    "\n",
    "df_good_cols = df_Xy.drop(['ad_type', 'l1', 'price_period', 'operation_type', 'Unnamed: 0', 'id', 'price'], axis=1)\n",
    "print(f'• Training DataFrame Shape: {df_good_cols.shape}\\n')\n",
    "print(f'• Training DataFrame Columns: {df_good_cols.columns}\\n')"
   ]
  },
  {
   "cell_type": "code",
   "execution_count": 19,
   "metadata": {},
   "outputs": [
    {
     "data": {
      "text/plain": [
       "False    193400\n",
       "True       4086\n",
       "dtype: int64"
      ]
     },
     "execution_count": 19,
     "metadata": {},
     "output_type": "execute_result"
    }
   ],
   "source": [
    "df_good_cols.duplicated().value_counts()"
   ]
  },
  {
   "cell_type": "markdown",
   "metadata": {},
   "source": [
    "We can see that after dropping the redundant and identifier columns we got duplicated registers.\n",
    "\n",
    "We procceed to eliminate them."
   ]
  },
  {
   "cell_type": "code",
   "execution_count": 20,
   "metadata": {},
   "outputs": [
    {
     "data": {
      "text/plain": [
       "False    193400\n",
       "dtype: int64"
      ]
     },
     "execution_count": 20,
     "metadata": {},
     "output_type": "execute_result"
    }
   ],
   "source": [
    "df_good_cols.drop_duplicates(inplace=True)\n",
    "df_good_cols.duplicated().value_counts()"
   ]
  },
  {
   "cell_type": "markdown",
   "metadata": {},
   "source": [
    "## ---------------- D A T A --- E X P L O R A T I O N --- 2 ----------------"
   ]
  },
  {
   "cell_type": "markdown",
   "metadata": {},
   "source": [
    "### ---------------------- FINDING THE APPROPIATE TRANSFORMATIONS ----------------------"
   ]
  },
  {
   "cell_type": "markdown",
   "metadata": {},
   "source": [
    "In this section we will analyze our dataset's features grouping them by the type of data portrayed in them (date, location, property description and advertisement information).\n",
    "\n",
    "This way, we will be able to determine the best transformations to perform on each of them in order to feed our models with the best quality data we can get."
   ]
  },
  {
   "cell_type": "code",
   "execution_count": 21,
   "metadata": {},
   "outputs": [
    {
     "name": "stdout",
     "output_type": "stream",
     "text": [
      "<class 'pandas.core.frame.DataFrame'>\n",
      "Int64Index: 193400 entries, 0 to 197548\n",
      "Data columns (total 21 columns):\n",
      " #   Column           Non-Null Count   Dtype  \n",
      "---  ------           --------------   -----  \n",
      " 0   start_date       193400 non-null  object \n",
      " 1   end_date         193400 non-null  object \n",
      " 2   created_on       193400 non-null  object \n",
      " 3   lat              144882 non-null  float64\n",
      " 4   lon              144882 non-null  float64\n",
      " 5   l2               193400 non-null  object \n",
      " 6   l3               182570 non-null  object \n",
      " 7   l4               44348 non-null   object \n",
      " 8   l5               26776 non-null   object \n",
      " 9   l6               6793 non-null    object \n",
      " 10  rooms            27452 non-null   float64\n",
      " 11  bedrooms         40376 non-null   float64\n",
      " 12  bathrooms        153023 non-null  float64\n",
      " 13  surface_total    6942 non-null    float64\n",
      " 14  surface_covered  9755 non-null    float64\n",
      " 15  currency         193396 non-null  object \n",
      " 16  title            193399 non-null  object \n",
      " 17  description      193279 non-null  object \n",
      " 18  property_type    193400 non-null  object \n",
      " 19  geometry         193400 non-null  object \n",
      " 20  target           193400 non-null  int32  \n",
      "dtypes: float64(7), int32(1), object(13)\n",
      "memory usage: 31.7+ MB\n"
     ]
    }
   ],
   "source": [
    "df_good_cols.info()"
   ]
  },
  {
   "cell_type": "code",
   "execution_count": 22,
   "metadata": {},
   "outputs": [
    {
     "name": "stdout",
     "output_type": "stream",
     "text": [
      "• Total registers: 193400\n",
      "• Null values per feature:\n"
     ]
    },
    {
     "data": {
      "text/plain": [
       "start_date              0\n",
       "end_date                0\n",
       "created_on              0\n",
       "lat                 48518\n",
       "lon                 48518\n",
       "l2                      0\n",
       "l3                  10830\n",
       "l4                 149052\n",
       "l5                 166624\n",
       "l6                 186607\n",
       "rooms              165948\n",
       "bedrooms           153024\n",
       "bathrooms           40377\n",
       "surface_total      186458\n",
       "surface_covered    183645\n",
       "currency                4\n",
       "title                   1\n",
       "description           121\n",
       "property_type           0\n",
       "geometry                0\n",
       "target                  0\n",
       "dtype: int64"
      ]
     },
     "execution_count": 22,
     "metadata": {},
     "output_type": "execute_result"
    }
   ],
   "source": [
    "print(f'• Total registers: {len(df_good_cols)}')\n",
    "print('• Null values per feature:')\n",
    "df_good_cols.isnull().sum()"
   ]
  },
  {
   "cell_type": "code",
   "execution_count": 23,
   "metadata": {},
   "outputs": [],
   "source": [
    "# Here we create a function to gather information about a specific set of features from a dataset\n",
    "\n",
    "def get_info(feature_list, dataset=df_good_cols, maxmin=False, stats=False):\n",
    "    for x in feature_list:\n",
    "        types = set()\n",
    "        for y in dataset[x]:\n",
    "            types.add(type(y))\n",
    "        print(f'\\n----- {x} -----\\n •Data types: {types}\\n •Missing values:')\n",
    "        print(dataset[x].isnull().value_counts(),'\\n')\n",
    "        if maxmin:\n",
    "            print(f' •Min: {dataset[x].min()}\\n •Max: {dataset[x].max()}\\n')\n",
    "        if stats:\n",
    "            print(f' •Mean: {dataset[x].mean()}\\n •Median: {dataset[x].median()}\\n •Mode: {dataset[x].mode()}\\n')"
   ]
  },
  {
   "cell_type": "markdown",
   "metadata": {},
   "source": [
    "### 1) DATE FEATURES: start_date, end_date & created_on"
   ]
  },
  {
   "cell_type": "code",
   "execution_count": 24,
   "metadata": {},
   "outputs": [
    {
     "name": "stdout",
     "output_type": "stream",
     "text": [
      "\n",
      "----- start_date -----\n",
      " •Data types: {<class 'str'>}\n",
      " •Missing values:\n",
      "False    193400\n",
      "Name: start_date, dtype: int64 \n",
      "\n",
      " •Min: 2020-07-26\n",
      " •Max: 2020-12-31\n",
      "\n",
      "\n",
      "----- end_date -----\n",
      " •Data types: {<class 'str'>}\n",
      " •Missing values:\n",
      "False    193400\n",
      "Name: end_date, dtype: int64 \n",
      "\n",
      " •Min: 2020-07-26\n",
      " •Max: 9999-12-31\n",
      "\n",
      "\n",
      "----- created_on -----\n",
      " •Data types: {<class 'str'>}\n",
      " •Missing values:\n",
      "False    193400\n",
      "Name: created_on, dtype: int64 \n",
      "\n",
      " •Min: 2020-07-26\n",
      " •Max: 2020-12-31\n",
      "\n"
     ]
    }
   ],
   "source": [
    "date_features = ['start_date', 'end_date', 'created_on']\n",
    "\n",
    "get_info(date_features, maxmin=True)"
   ]
  },
  {
   "cell_type": "markdown",
   "metadata": {},
   "source": [
    "Here we can see that the maximum value for the 'end_date' feature has wrong data, as it is supposed to be the date when either the property was sold or the 'for sale' announcement stopped showing."
   ]
  },
  {
   "cell_type": "code",
   "execution_count": 25,
   "metadata": {},
   "outputs": [
    {
     "data": {
      "text/plain": [
       "9999-12-31    11925\n",
       "2020-08-27     3994\n",
       "2020-11-13     3800\n",
       "2020-07-27     2621\n",
       "2020-11-30     2399\n",
       "              ...  \n",
       "2021-08-16        2\n",
       "2021-09-26        2\n",
       "2021-10-03        1\n",
       "2021-07-04        1\n",
       "2021-06-20        1\n",
       "Name: end_date, Length: 446, dtype: int64"
      ]
     },
     "execution_count": 25,
     "metadata": {},
     "output_type": "execute_result"
    }
   ],
   "source": [
    "# Now we look for the amount of occurrences from this wrong value (spoiler: there are a lot of them)\n",
    "df_good_cols.end_date.value_counts()"
   ]
  },
  {
   "cell_type": "code",
   "execution_count": 26,
   "metadata": {},
   "outputs": [
    {
     "data": {
      "text/html": [
       "<div>\n",
       "<style scoped>\n",
       "    .dataframe tbody tr th:only-of-type {\n",
       "        vertical-align: middle;\n",
       "    }\n",
       "\n",
       "    .dataframe tbody tr th {\n",
       "        vertical-align: top;\n",
       "    }\n",
       "\n",
       "    .dataframe thead th {\n",
       "        text-align: right;\n",
       "    }\n",
       "</style>\n",
       "<table border=\"1\" class=\"dataframe\">\n",
       "  <thead>\n",
       "    <tr style=\"text-align: right;\">\n",
       "      <th></th>\n",
       "      <th>start_date</th>\n",
       "      <th>end_date</th>\n",
       "      <th>created_on</th>\n",
       "    </tr>\n",
       "  </thead>\n",
       "  <tbody>\n",
       "    <tr>\n",
       "      <th>6193</th>\n",
       "      <td>2020-12-31</td>\n",
       "      <td>9999-12-31</td>\n",
       "      <td>2020-12-31</td>\n",
       "    </tr>\n",
       "    <tr>\n",
       "      <th>9072</th>\n",
       "      <td>2020-12-31</td>\n",
       "      <td>9999-12-31</td>\n",
       "      <td>2020-12-31</td>\n",
       "    </tr>\n",
       "    <tr>\n",
       "      <th>20600</th>\n",
       "      <td>2020-12-31</td>\n",
       "      <td>9999-12-31</td>\n",
       "      <td>2020-12-31</td>\n",
       "    </tr>\n",
       "    <tr>\n",
       "      <th>25347</th>\n",
       "      <td>2020-12-31</td>\n",
       "      <td>9999-12-31</td>\n",
       "      <td>2020-12-31</td>\n",
       "    </tr>\n",
       "    <tr>\n",
       "      <th>44356</th>\n",
       "      <td>2020-12-31</td>\n",
       "      <td>9999-12-31</td>\n",
       "      <td>2020-12-31</td>\n",
       "    </tr>\n",
       "    <tr>\n",
       "      <th>...</th>\n",
       "      <td>...</td>\n",
       "      <td>...</td>\n",
       "      <td>...</td>\n",
       "    </tr>\n",
       "    <tr>\n",
       "      <th>190288</th>\n",
       "      <td>2020-07-26</td>\n",
       "      <td>9999-12-31</td>\n",
       "      <td>2020-07-26</td>\n",
       "    </tr>\n",
       "    <tr>\n",
       "      <th>193889</th>\n",
       "      <td>2020-07-26</td>\n",
       "      <td>9999-12-31</td>\n",
       "      <td>2020-07-26</td>\n",
       "    </tr>\n",
       "    <tr>\n",
       "      <th>147834</th>\n",
       "      <td>2020-12-26</td>\n",
       "      <td>2021-10-18</td>\n",
       "      <td>2020-12-26</td>\n",
       "    </tr>\n",
       "    <tr>\n",
       "      <th>7068</th>\n",
       "      <td>2020-12-11</td>\n",
       "      <td>2021-10-18</td>\n",
       "      <td>2020-12-11</td>\n",
       "    </tr>\n",
       "    <tr>\n",
       "      <th>37905</th>\n",
       "      <td>2020-12-11</td>\n",
       "      <td>2021-10-18</td>\n",
       "      <td>2020-12-11</td>\n",
       "    </tr>\n",
       "  </tbody>\n",
       "</table>\n",
       "<p>11928 rows × 3 columns</p>\n",
       "</div>"
      ],
      "text/plain": [
       "        start_date    end_date  created_on\n",
       "6193    2020-12-31  9999-12-31  2020-12-31\n",
       "9072    2020-12-31  9999-12-31  2020-12-31\n",
       "20600   2020-12-31  9999-12-31  2020-12-31\n",
       "25347   2020-12-31  9999-12-31  2020-12-31\n",
       "44356   2020-12-31  9999-12-31  2020-12-31\n",
       "...            ...         ...         ...\n",
       "190288  2020-07-26  9999-12-31  2020-07-26\n",
       "193889  2020-07-26  9999-12-31  2020-07-26\n",
       "147834  2020-12-26  2021-10-18  2020-12-26\n",
       "7068    2020-12-11  2021-10-18  2020-12-11\n",
       "37905   2020-12-11  2021-10-18  2020-12-11\n",
       "\n",
       "[11928 rows x 3 columns]"
      ]
     },
     "execution_count": 26,
     "metadata": {},
     "output_type": "execute_result"
    }
   ],
   "source": [
    "# Here we sort the date features by the end_date and see when the next value after '9999-12-31' appears, which is '2021-10-18'\n",
    "df_good_cols[['start_date', 'end_date', 'created_on']].sort_values(by=['end_date', 'start_date'], ascending=False).head(11928)"
   ]
  },
  {
   "cell_type": "code",
   "execution_count": 27,
   "metadata": {},
   "outputs": [
    {
     "data": {
      "text/plain": [
       "0.06165977249224405"
      ]
     },
     "execution_count": 27,
     "metadata": {},
     "output_type": "execute_result"
    }
   ],
   "source": [
    "11925/len(df_good_cols)"
   ]
  },
  {
   "cell_type": "markdown",
   "metadata": {},
   "source": [
    "We have 11925 wrong values in the 'end_date' feature (0.06%). \n",
    "\n",
    "After exploring this set of features, I have the intuiton that this data will not be relevant to our models. But in case we decide to use it in the future, here are some transformations that we may perform on them:\n",
    "\n",
    "1) Try to replace the wrong 'end_date' values with a the average date difference (between start_date and end_date, not including the wrong values, off course).\n",
    "\n",
    "2) Convert this colunms to 'datetime' data type and then change their format into timestamp."
   ]
  },
  {
   "cell_type": "markdown",
   "metadata": {},
   "source": [
    "### 2) LOCATION FEATURES: l2, l3, l4, l5, l6, geometry, lat & lon"
   ]
  },
  {
   "cell_type": "code",
   "execution_count": 28,
   "metadata": {},
   "outputs": [
    {
     "name": "stdout",
     "output_type": "stream",
     "text": [
      "\n",
      "----- l2 -----\n",
      " •Data types: {<class 'str'>}\n",
      " •Missing values:\n",
      "False    193400\n",
      "Name: l2, dtype: int64 \n",
      "\n",
      "\n",
      "----- l3 -----\n",
      " •Data types: {<class 'str'>, <class 'float'>}\n",
      " •Missing values:\n",
      "False    182570\n",
      "True      10830\n",
      "Name: l3, dtype: int64 \n",
      "\n",
      "\n",
      "----- l4 -----\n",
      " •Data types: {<class 'str'>, <class 'float'>}\n",
      " •Missing values:\n",
      "True     149052\n",
      "False     44348\n",
      "Name: l4, dtype: int64 \n",
      "\n",
      "\n",
      "----- l5 -----\n",
      " •Data types: {<class 'str'>, <class 'float'>}\n",
      " •Missing values:\n",
      "True     166624\n",
      "False     26776\n",
      "Name: l5, dtype: int64 \n",
      "\n",
      "\n",
      "----- l6 -----\n",
      " •Data types: {<class 'str'>, <class 'float'>}\n",
      " •Missing values:\n",
      "True     186607\n",
      "False      6793\n",
      "Name: l6, dtype: int64 \n",
      "\n",
      "\n",
      "----- geometry -----\n",
      " •Data types: {<class 'str'>}\n",
      " •Missing values:\n",
      "False    193400\n",
      "Name: geometry, dtype: int64 \n",
      "\n",
      "\n",
      "----- lat -----\n",
      " •Data types: {<class 'float'>}\n",
      " •Missing values:\n",
      "False    144882\n",
      "True      48518\n",
      "Name: lat, dtype: int64 \n",
      "\n",
      " •Min: -32.787342\n",
      " •Max: 34.420334\n",
      "\n",
      "\n",
      "----- lon -----\n",
      " •Data types: {<class 'float'>}\n",
      " •Missing values:\n",
      "False    144882\n",
      "True      48518\n",
      "Name: lon, dtype: int64 \n",
      "\n",
      " •Min: -119.69819\n",
      " •Max: -67.4825696\n",
      "\n"
     ]
    }
   ],
   "source": [
    "location_features = ['l2', 'l3', 'l4', 'l5', 'l6', 'geometry', 'lat', 'lon']\n",
    "\n",
    "get_info(location_features[:-2])\n",
    "get_info(location_features[-2:], maxmin=True)"
   ]
  },
  {
   "cell_type": "markdown",
   "metadata": {},
   "source": [
    "From the output above we can see that the 'l4', 'l5' and 'l6' features have more than half of their values missing, so this columns must be dropped.\n",
    "\n",
    "#### In the 'l2' feature, corresponding to Colombia's departments (their equivalent to states or provinces), we have no values missing.\n",
    "\n",
    "#### In the case of 'l3', there are 10828 values missing (about 5.5% of the registers). We will replace the missing values with the capital of the corresponding departments obtained from 'l2'."
   ]
  },
  {
   "cell_type": "code",
   "execution_count": 29,
   "metadata": {},
   "outputs": [
    {
     "data": {
      "text/plain": [
       "32"
      ]
     },
     "execution_count": 29,
     "metadata": {},
     "output_type": "execute_result"
    }
   ],
   "source": [
    "# Here we have a dictionary containing each of the 32 colombian departments as keys followed by their corresponding capitals as values.\n",
    "# This list will be stored in the helpers.py file\n",
    "\n",
    "'''\n",
    "capitals = {'Amazonas': 'Leticia', 'Antioquia': 'Medellín', 'Arauca': 'Arauca', 'Atlántico': 'Barranquilla', 'Bolívar' : 'Cartagena', 'Boyacá': 'Tunja',\n",
    "            'Caldas': 'Manizales', 'Caquetá': 'Florencia', 'Casanare': 'Yopal', 'Cauca': 'Popayán', 'Cesar': 'Valledupar', 'Chocó': 'Quibdó', 'Córdoba': 'Montería',\n",
    "            'Cundinamarca': 'Bogotá D.C', 'Guainía': 'Puerto Inírida', 'Guaviare': 'San José del Guaviare', 'Huila': 'Neiva', 'La Guajira': 'Riohacha', \n",
    "            'Magdalena': 'Santa Marta', 'Meta': 'Villavicencio', 'Nariño': 'Pasto', 'Norte de Santander': 'Cúcuta', 'Putumayo': 'Mocoa', 'Quindío': 'Armenia',\n",
    "            'Risaralda': 'Pereira', 'San Andrés Providencia y Santa Catalina': 'San Andrés', 'Santander': 'Bucaramanga', 'Sucre': 'Sincelejo', 'Tolima': 'Ibagué',\n",
    "            'Valle del Cauca': 'Cali', 'Vaupés': 'Mitú', 'Vichada': 'Puerto Carreño'}\n",
    "'''\n",
    "len(capitals)\n"
   ]
  },
  {
   "cell_type": "code",
   "execution_count": 30,
   "metadata": {},
   "outputs": [
    {
     "data": {
      "text/plain": [
       "294"
      ]
     },
     "execution_count": 30,
     "metadata": {},
     "output_type": "execute_result"
    }
   ],
   "source": [
    "# This is the amount of different cities in the 'l3' feature\n",
    "len(df_good_cols.l3.unique())"
   ]
  },
  {
   "cell_type": "markdown",
   "metadata": {},
   "source": [
    "#### Regarding the latitude and longitude values from the dataset, we can see from the output from the function at the beginning of this section that there are 48519 missing values on each of these features.\n"
   ]
  },
  {
   "cell_type": "code",
   "execution_count": 31,
   "metadata": {},
   "outputs": [
    {
     "name": "stdout",
     "output_type": "stream",
     "text": [
      "Rows missing 'lat' values: 48518\n",
      "Rows missing 'lon' values: 48518\n",
      "Rows missing both 'lat' and 'lon' values (2): 48518\n"
     ]
    }
   ],
   "source": [
    "# Here we check whether the missing values correspond to the same registers in the dataset:\n",
    "\n",
    "print(f\"Rows missing 'lat' values: {len(df_good_cols[df_good_cols['lat'].isnull()])}\")\n",
    "print(f\"Rows missing 'lon' values: {len(df_good_cols[df_good_cols['lon'].isnull()])}\")\n",
    "#print(f\"Rows missing both 'lat' and 'lon' values (1): {len(df_good_cols[df_good_cols['lat'].isnull()][df_good_cols['lon'].isnull()])}\")\n",
    "print(f\"Rows missing both 'lat' and 'lon' values (2): {len(df_good_cols[df_good_cols['lat'].isnull()][df_good_cols[df_good_cols['lat'].isnull()]['lon'].isnull()])}\")\n"
   ]
  },
  {
   "cell_type": "code",
   "execution_count": 32,
   "metadata": {},
   "outputs": [
    {
     "data": {
      "text/html": [
       "<div>\n",
       "<style scoped>\n",
       "    .dataframe tbody tr th:only-of-type {\n",
       "        vertical-align: middle;\n",
       "    }\n",
       "\n",
       "    .dataframe tbody tr th {\n",
       "        vertical-align: top;\n",
       "    }\n",
       "\n",
       "    .dataframe thead th {\n",
       "        text-align: right;\n",
       "    }\n",
       "</style>\n",
       "<table border=\"1\" class=\"dataframe\">\n",
       "  <thead>\n",
       "    <tr style=\"text-align: right;\">\n",
       "      <th></th>\n",
       "      <th>start_date</th>\n",
       "      <th>end_date</th>\n",
       "      <th>created_on</th>\n",
       "      <th>lat</th>\n",
       "      <th>lon</th>\n",
       "      <th>l2</th>\n",
       "      <th>l3</th>\n",
       "      <th>l4</th>\n",
       "      <th>l5</th>\n",
       "      <th>l6</th>\n",
       "      <th>...</th>\n",
       "      <th>bedrooms</th>\n",
       "      <th>bathrooms</th>\n",
       "      <th>surface_total</th>\n",
       "      <th>surface_covered</th>\n",
       "      <th>currency</th>\n",
       "      <th>title</th>\n",
       "      <th>description</th>\n",
       "      <th>property_type</th>\n",
       "      <th>geometry</th>\n",
       "      <th>target</th>\n",
       "    </tr>\n",
       "  </thead>\n",
       "  <tbody>\n",
       "    <tr>\n",
       "      <th>190185</th>\n",
       "      <td>2020-10-09</td>\n",
       "      <td>2020-10-10</td>\n",
       "      <td>2020-10-09</td>\n",
       "      <td>NaN</td>\n",
       "      <td>NaN</td>\n",
       "      <td>Antioquia</td>\n",
       "      <td>Medellín</td>\n",
       "      <td>NaN</td>\n",
       "      <td>NaN</td>\n",
       "      <td>NaN</td>\n",
       "      <td>...</td>\n",
       "      <td>NaN</td>\n",
       "      <td>2.0</td>\n",
       "      <td>NaN</td>\n",
       "      <td>NaN</td>\n",
       "      <td>COP</td>\n",
       "      <td>Apartamento en Venta Ubicado en SABANETA</td>\n",
       "      <td>Codigo Inmueble 642 se Vende apartamento de lu...</td>\n",
       "      <td>Apartamento</td>\n",
       "      <td>POINT EMPTY</td>\n",
       "      <td>0</td>\n",
       "    </tr>\n",
       "    <tr>\n",
       "      <th>108099</th>\n",
       "      <td>2020-09-07</td>\n",
       "      <td>2020-09-07</td>\n",
       "      <td>2020-09-07</td>\n",
       "      <td>NaN</td>\n",
       "      <td>NaN</td>\n",
       "      <td>Cundinamarca</td>\n",
       "      <td>Bogotá D.C</td>\n",
       "      <td>Zona Chapinero</td>\n",
       "      <td>Barrios Unidos</td>\n",
       "      <td>NaN</td>\n",
       "      <td>...</td>\n",
       "      <td>NaN</td>\n",
       "      <td>5.0</td>\n",
       "      <td>NaN</td>\n",
       "      <td>NaN</td>\n",
       "      <td>COP</td>\n",
       "      <td>97944 _ AMPLIO Y ACOGEDOR APARTAMENTO DUPLEX ,...</td>\n",
       "      <td>apto ubicado en la 104 15-75 chico navarra sex...</td>\n",
       "      <td>Apartamento</td>\n",
       "      <td>POINT EMPTY</td>\n",
       "      <td>1</td>\n",
       "    </tr>\n",
       "    <tr>\n",
       "      <th>71602</th>\n",
       "      <td>2020-10-14</td>\n",
       "      <td>2020-12-22</td>\n",
       "      <td>2020-10-14</td>\n",
       "      <td>NaN</td>\n",
       "      <td>NaN</td>\n",
       "      <td>Antioquia</td>\n",
       "      <td>Medellín</td>\n",
       "      <td>NaN</td>\n",
       "      <td>NaN</td>\n",
       "      <td>NaN</td>\n",
       "      <td>...</td>\n",
       "      <td>NaN</td>\n",
       "      <td>4.0</td>\n",
       "      <td>NaN</td>\n",
       "      <td>NaN</td>\n",
       "      <td>COP</td>\n",
       "      <td>SE VENDE APARTAMENTO EN SECTOR DE SAN LUCAS - ...</td>\n",
       "      <td>PR 10891. Apartamento en unidad cerrada sector...</td>\n",
       "      <td>Apartamento</td>\n",
       "      <td>POINT EMPTY</td>\n",
       "      <td>1</td>\n",
       "    </tr>\n",
       "    <tr>\n",
       "      <th>117112</th>\n",
       "      <td>2020-10-20</td>\n",
       "      <td>2021-02-25</td>\n",
       "      <td>2020-10-20</td>\n",
       "      <td>NaN</td>\n",
       "      <td>NaN</td>\n",
       "      <td>Cundinamarca</td>\n",
       "      <td>Bogotá D.C</td>\n",
       "      <td>Zona Chapinero</td>\n",
       "      <td>Teusaquillo</td>\n",
       "      <td>NaN</td>\n",
       "      <td>...</td>\n",
       "      <td>3.0</td>\n",
       "      <td>3.0</td>\n",
       "      <td>NaN</td>\n",
       "      <td>128.0</td>\n",
       "      <td>COP</td>\n",
       "      <td>Apartamento En Venta En Bogota Ciudad Salitre ...</td>\n",
       "      <td>Apartamento para estrenar en Proyecto Salitre ...</td>\n",
       "      <td>Apartamento</td>\n",
       "      <td>POINT EMPTY</td>\n",
       "      <td>1</td>\n",
       "    </tr>\n",
       "    <tr>\n",
       "      <th>39143</th>\n",
       "      <td>2020-08-04</td>\n",
       "      <td>2020-08-05</td>\n",
       "      <td>2020-08-04</td>\n",
       "      <td>NaN</td>\n",
       "      <td>NaN</td>\n",
       "      <td>Antioquia</td>\n",
       "      <td>Medellín</td>\n",
       "      <td>NaN</td>\n",
       "      <td>NaN</td>\n",
       "      <td>NaN</td>\n",
       "      <td>...</td>\n",
       "      <td>NaN</td>\n",
       "      <td>2.0</td>\n",
       "      <td>NaN</td>\n",
       "      <td>NaN</td>\n",
       "      <td>COP</td>\n",
       "      <td>Apartamento en venta en Aviva loma de los bern...</td>\n",
       "      <td>Hermoso apartamento con excelentes acabados co...</td>\n",
       "      <td>Apartamento</td>\n",
       "      <td>POINT EMPTY</td>\n",
       "      <td>1</td>\n",
       "    </tr>\n",
       "    <tr>\n",
       "      <th>155317</th>\n",
       "      <td>2020-09-12</td>\n",
       "      <td>2020-09-13</td>\n",
       "      <td>2020-09-12</td>\n",
       "      <td>NaN</td>\n",
       "      <td>NaN</td>\n",
       "      <td>Antioquia</td>\n",
       "      <td>Medellín</td>\n",
       "      <td>NaN</td>\n",
       "      <td>NaN</td>\n",
       "      <td>NaN</td>\n",
       "      <td>...</td>\n",
       "      <td>NaN</td>\n",
       "      <td>2.0</td>\n",
       "      <td>NaN</td>\n",
       "      <td>NaN</td>\n",
       "      <td>COP</td>\n",
       "      <td>Apartamento en Venta Ubicado en MEDELLIN</td>\n",
       "      <td>Codigo Inmueble 6127 COD INTERNO 6127 Lo conoc...</td>\n",
       "      <td>Apartamento</td>\n",
       "      <td>POINT EMPTY</td>\n",
       "      <td>0</td>\n",
       "    </tr>\n",
       "    <tr>\n",
       "      <th>183818</th>\n",
       "      <td>2020-08-04</td>\n",
       "      <td>2020-08-05</td>\n",
       "      <td>2020-08-04</td>\n",
       "      <td>NaN</td>\n",
       "      <td>NaN</td>\n",
       "      <td>Antioquia</td>\n",
       "      <td>Medellín</td>\n",
       "      <td>NaN</td>\n",
       "      <td>NaN</td>\n",
       "      <td>NaN</td>\n",
       "      <td>...</td>\n",
       "      <td>NaN</td>\n",
       "      <td>5.0</td>\n",
       "      <td>NaN</td>\n",
       "      <td>NaN</td>\n",
       "      <td>COP</td>\n",
       "      <td>Casa en Venta Ubicado en MEDELLIN</td>\n",
       "      <td>Codigo Inmueble 52 Casa en Urbanizacion, cerca...</td>\n",
       "      <td>Casa</td>\n",
       "      <td>POINT EMPTY</td>\n",
       "      <td>1</td>\n",
       "    </tr>\n",
       "    <tr>\n",
       "      <th>25966</th>\n",
       "      <td>2020-08-04</td>\n",
       "      <td>2020-08-05</td>\n",
       "      <td>2020-08-04</td>\n",
       "      <td>NaN</td>\n",
       "      <td>NaN</td>\n",
       "      <td>Antioquia</td>\n",
       "      <td>Medellín</td>\n",
       "      <td>NaN</td>\n",
       "      <td>NaN</td>\n",
       "      <td>NaN</td>\n",
       "      <td>...</td>\n",
       "      <td>NaN</td>\n",
       "      <td>3.0</td>\n",
       "      <td>NaN</td>\n",
       "      <td>NaN</td>\n",
       "      <td>COP</td>\n",
       "      <td>Apartamento en Venta Ubicado en MEDELLIN</td>\n",
       "      <td>Codigo Inmueble 554 Apartamento de 180 mtrs2, ...</td>\n",
       "      <td>Apartamento</td>\n",
       "      <td>POINT EMPTY</td>\n",
       "      <td>1</td>\n",
       "    </tr>\n",
       "    <tr>\n",
       "      <th>189913</th>\n",
       "      <td>2020-10-09</td>\n",
       "      <td>2020-10-10</td>\n",
       "      <td>2020-10-09</td>\n",
       "      <td>NaN</td>\n",
       "      <td>NaN</td>\n",
       "      <td>Antioquia</td>\n",
       "      <td>NaN</td>\n",
       "      <td>NaN</td>\n",
       "      <td>NaN</td>\n",
       "      <td>NaN</td>\n",
       "      <td>...</td>\n",
       "      <td>NaN</td>\n",
       "      <td>NaN</td>\n",
       "      <td>NaN</td>\n",
       "      <td>NaN</td>\n",
       "      <td>COP</td>\n",
       "      <td>LOTE EN VENTA EN EL RETIRO  EL RETIRO SimiCRM6...</td>\n",
       "      <td>622-14599 Lote en Venta Sector Macedonia - El ...</td>\n",
       "      <td>Lote</td>\n",
       "      <td>POINT EMPTY</td>\n",
       "      <td>0</td>\n",
       "    </tr>\n",
       "    <tr>\n",
       "      <th>75046</th>\n",
       "      <td>2020-11-27</td>\n",
       "      <td>2020-11-28</td>\n",
       "      <td>2020-11-27</td>\n",
       "      <td>NaN</td>\n",
       "      <td>NaN</td>\n",
       "      <td>Antioquia</td>\n",
       "      <td>Medellín</td>\n",
       "      <td>NaN</td>\n",
       "      <td>NaN</td>\n",
       "      <td>NaN</td>\n",
       "      <td>...</td>\n",
       "      <td>NaN</td>\n",
       "      <td>1.0</td>\n",
       "      <td>NaN</td>\n",
       "      <td>NaN</td>\n",
       "      <td>COP</td>\n",
       "      <td>Apartamento en Venta Ubicado en RIONEGRO</td>\n",
       "      <td>Codigo Inmueble 6368 Y si de vivir relajado se...</td>\n",
       "      <td>Apartamento</td>\n",
       "      <td>POINT EMPTY</td>\n",
       "      <td>0</td>\n",
       "    </tr>\n",
       "  </tbody>\n",
       "</table>\n",
       "<p>10 rows × 21 columns</p>\n",
       "</div>"
      ],
      "text/plain": [
       "        start_date    end_date  created_on  lat  lon            l2  \\\n",
       "190185  2020-10-09  2020-10-10  2020-10-09  NaN  NaN     Antioquia   \n",
       "108099  2020-09-07  2020-09-07  2020-09-07  NaN  NaN  Cundinamarca   \n",
       "71602   2020-10-14  2020-12-22  2020-10-14  NaN  NaN     Antioquia   \n",
       "117112  2020-10-20  2021-02-25  2020-10-20  NaN  NaN  Cundinamarca   \n",
       "39143   2020-08-04  2020-08-05  2020-08-04  NaN  NaN     Antioquia   \n",
       "155317  2020-09-12  2020-09-13  2020-09-12  NaN  NaN     Antioquia   \n",
       "183818  2020-08-04  2020-08-05  2020-08-04  NaN  NaN     Antioquia   \n",
       "25966   2020-08-04  2020-08-05  2020-08-04  NaN  NaN     Antioquia   \n",
       "189913  2020-10-09  2020-10-10  2020-10-09  NaN  NaN     Antioquia   \n",
       "75046   2020-11-27  2020-11-28  2020-11-27  NaN  NaN     Antioquia   \n",
       "\n",
       "                l3              l4              l5   l6  ...  bedrooms  \\\n",
       "190185    Medellín             NaN             NaN  NaN  ...       NaN   \n",
       "108099  Bogotá D.C  Zona Chapinero  Barrios Unidos  NaN  ...       NaN   \n",
       "71602     Medellín             NaN             NaN  NaN  ...       NaN   \n",
       "117112  Bogotá D.C  Zona Chapinero     Teusaquillo  NaN  ...       3.0   \n",
       "39143     Medellín             NaN             NaN  NaN  ...       NaN   \n",
       "155317    Medellín             NaN             NaN  NaN  ...       NaN   \n",
       "183818    Medellín             NaN             NaN  NaN  ...       NaN   \n",
       "25966     Medellín             NaN             NaN  NaN  ...       NaN   \n",
       "189913         NaN             NaN             NaN  NaN  ...       NaN   \n",
       "75046     Medellín             NaN             NaN  NaN  ...       NaN   \n",
       "\n",
       "        bathrooms  surface_total  surface_covered  currency  \\\n",
       "190185        2.0            NaN              NaN       COP   \n",
       "108099        5.0            NaN              NaN       COP   \n",
       "71602         4.0            NaN              NaN       COP   \n",
       "117112        3.0            NaN            128.0       COP   \n",
       "39143         2.0            NaN              NaN       COP   \n",
       "155317        2.0            NaN              NaN       COP   \n",
       "183818        5.0            NaN              NaN       COP   \n",
       "25966         3.0            NaN              NaN       COP   \n",
       "189913        NaN            NaN              NaN       COP   \n",
       "75046         1.0            NaN              NaN       COP   \n",
       "\n",
       "                                                    title  \\\n",
       "190185           Apartamento en Venta Ubicado en SABANETA   \n",
       "108099  97944 _ AMPLIO Y ACOGEDOR APARTAMENTO DUPLEX ,...   \n",
       "71602   SE VENDE APARTAMENTO EN SECTOR DE SAN LUCAS - ...   \n",
       "117112  Apartamento En Venta En Bogota Ciudad Salitre ...   \n",
       "39143   Apartamento en venta en Aviva loma de los bern...   \n",
       "155317           Apartamento en Venta Ubicado en MEDELLIN   \n",
       "183818                  Casa en Venta Ubicado en MEDELLIN   \n",
       "25966            Apartamento en Venta Ubicado en MEDELLIN   \n",
       "189913  LOTE EN VENTA EN EL RETIRO  EL RETIRO SimiCRM6...   \n",
       "75046            Apartamento en Venta Ubicado en RIONEGRO   \n",
       "\n",
       "                                              description property_type  \\\n",
       "190185  Codigo Inmueble 642 se Vende apartamento de lu...   Apartamento   \n",
       "108099  apto ubicado en la 104 15-75 chico navarra sex...   Apartamento   \n",
       "71602   PR 10891. Apartamento en unidad cerrada sector...   Apartamento   \n",
       "117112  Apartamento para estrenar en Proyecto Salitre ...   Apartamento   \n",
       "39143   Hermoso apartamento con excelentes acabados co...   Apartamento   \n",
       "155317  Codigo Inmueble 6127 COD INTERNO 6127 Lo conoc...   Apartamento   \n",
       "183818  Codigo Inmueble 52 Casa en Urbanizacion, cerca...          Casa   \n",
       "25966   Codigo Inmueble 554 Apartamento de 180 mtrs2, ...   Apartamento   \n",
       "189913  622-14599 Lote en Venta Sector Macedonia - El ...          Lote   \n",
       "75046   Codigo Inmueble 6368 Y si de vivir relajado se...   Apartamento   \n",
       "\n",
       "           geometry target  \n",
       "190185  POINT EMPTY      0  \n",
       "108099  POINT EMPTY      1  \n",
       "71602   POINT EMPTY      1  \n",
       "117112  POINT EMPTY      1  \n",
       "39143   POINT EMPTY      1  \n",
       "155317  POINT EMPTY      0  \n",
       "183818  POINT EMPTY      1  \n",
       "25966   POINT EMPTY      1  \n",
       "189913  POINT EMPTY      0  \n",
       "75046   POINT EMPTY      0  \n",
       "\n",
       "[10 rows x 21 columns]"
      ]
     },
     "execution_count": 32,
     "metadata": {},
     "output_type": "execute_result"
    }
   ],
   "source": [
    "# Here we take a sample to further proof that every row missing a 'lat' value is missing it's 'lon' value as well\n",
    "df_good_cols[df_good_cols['lat'].isnull()].sample(10)"
   ]
  },
  {
   "cell_type": "markdown",
   "metadata": {},
   "source": [
    "#### In order to analize whether the non-missing values for latitudes and longitudes are in fact located within colombian territory, we need to define certain limits for it, beyond which we shouldn't expect to find any lat or lon values. \n",
    "\n",
    "##### The map below can helps us estimate the following limits:\n",
    "\n",
    "Latitudes (south to north) that encompass colombian territory: -4.5, 15\n",
    "\n",
    "Longitudes (west to east) that encompass colombian territory: -82, -67\n"
   ]
  },
  {
   "cell_type": "markdown",
   "metadata": {},
   "source": [
    "![Colombia Latitudes and Longitudes](https://i.imgur.com/ZdKWfRG.png)"
   ]
  },
  {
   "cell_type": "code",
   "execution_count": 33,
   "metadata": {},
   "outputs": [],
   "source": [
    "# We define the corresponding limits as two lists, one for the latitudes and one for the longitudes\n",
    "# This limits encompass the colombian insular territories, which extend further west an north than it's continental territory\n",
    "\n",
    "lat_col = [-4.5, 15]    # Southernmost and northernmost latitudes respectively\n",
    "lon_col = [-82, -67]    # Westernmost and easternmost longitudes respectively"
   ]
  },
  {
   "cell_type": "code",
   "execution_count": 34,
   "metadata": {},
   "outputs": [
    {
     "name": "stdout",
     "output_type": "stream",
     "text": [
      "• Latitudes south from Colombia: 1\n",
      "• Latitudes north from Colombia: 1\n"
     ]
    }
   ],
   "source": [
    "count_lat_smaller = 0   # Registers with a latitude to the south of Colombia\n",
    "count_lat_greater = 0   # Registers with a latitude to the north of Colombia\n",
    "for x in df_good_cols.lat:\n",
    "    if x<lat_col[0]:\n",
    "        count_lat_smaller += 1\n",
    "    elif x>lat_col[1]:\n",
    "        count_lat_greater += 1\n",
    "    \n",
    "print(f'• Latitudes south from Colombia: {count_lat_smaller}\\n• Latitudes north from Colombia: {count_lat_greater}')"
   ]
  },
  {
   "cell_type": "markdown",
   "metadata": {},
   "source": [
    "As we can see, there's only 1 value exceeding Colombia's latitudes on each direction in our dataset. We can visualize them:"
   ]
  },
  {
   "cell_type": "code",
   "execution_count": 35,
   "metadata": {},
   "outputs": [
    {
     "data": {
      "text/html": [
       "<div>\n",
       "<style scoped>\n",
       "    .dataframe tbody tr th:only-of-type {\n",
       "        vertical-align: middle;\n",
       "    }\n",
       "\n",
       "    .dataframe tbody tr th {\n",
       "        vertical-align: top;\n",
       "    }\n",
       "\n",
       "    .dataframe thead th {\n",
       "        text-align: right;\n",
       "    }\n",
       "</style>\n",
       "<table border=\"1\" class=\"dataframe\">\n",
       "  <thead>\n",
       "    <tr style=\"text-align: right;\">\n",
       "      <th></th>\n",
       "      <th>start_date</th>\n",
       "      <th>end_date</th>\n",
       "      <th>created_on</th>\n",
       "      <th>lat</th>\n",
       "      <th>lon</th>\n",
       "      <th>l2</th>\n",
       "      <th>l3</th>\n",
       "      <th>l4</th>\n",
       "      <th>l5</th>\n",
       "      <th>l6</th>\n",
       "      <th>...</th>\n",
       "      <th>bedrooms</th>\n",
       "      <th>bathrooms</th>\n",
       "      <th>surface_total</th>\n",
       "      <th>surface_covered</th>\n",
       "      <th>currency</th>\n",
       "      <th>title</th>\n",
       "      <th>description</th>\n",
       "      <th>property_type</th>\n",
       "      <th>geometry</th>\n",
       "      <th>target</th>\n",
       "    </tr>\n",
       "  </thead>\n",
       "  <tbody>\n",
       "    <tr>\n",
       "      <th>138682</th>\n",
       "      <td>2020-09-29</td>\n",
       "      <td>2021-07-26</td>\n",
       "      <td>2020-09-29</td>\n",
       "      <td>-32.787342</td>\n",
       "      <td>-71.20732</td>\n",
       "      <td>Cundinamarca</td>\n",
       "      <td>La Calera</td>\n",
       "      <td>NaN</td>\n",
       "      <td>NaN</td>\n",
       "      <td>NaN</td>\n",
       "      <td>...</td>\n",
       "      <td>NaN</td>\n",
       "      <td>6.0</td>\n",
       "      <td>NaN</td>\n",
       "      <td>NaN</td>\n",
       "      <td>COP</td>\n",
       "      <td>51548 LA  CALERA  MIRADO DEL LAGO</td>\n",
       "      <td>Casa hermosa,amplia, vigilancia sector&amp;nbsp; t...</td>\n",
       "      <td>Casa</td>\n",
       "      <td>POINT (-71.20732 -32.787342)</td>\n",
       "      <td>1</td>\n",
       "    </tr>\n",
       "    <tr>\n",
       "      <th>177722</th>\n",
       "      <td>2020-11-19</td>\n",
       "      <td>9999-12-31</td>\n",
       "      <td>2020-11-19</td>\n",
       "      <td>0.823972</td>\n",
       "      <td>-77.62271</td>\n",
       "      <td>Nariño</td>\n",
       "      <td>NaN</td>\n",
       "      <td>NaN</td>\n",
       "      <td>NaN</td>\n",
       "      <td>NaN</td>\n",
       "      <td>...</td>\n",
       "      <td>4.0</td>\n",
       "      <td>NaN</td>\n",
       "      <td>NaN</td>\n",
       "      <td>NaN</td>\n",
       "      <td>COP</td>\n",
       "      <td>Se vende casa en Ipiales</td>\n",
       "      <td>Venta de casa en colina verde\\nInfo: 320302104...</td>\n",
       "      <td>Casa</td>\n",
       "      <td>POINT (-77.6227098 0.823972)</td>\n",
       "      <td>0</td>\n",
       "    </tr>\n",
       "  </tbody>\n",
       "</table>\n",
       "<p>2 rows × 21 columns</p>\n",
       "</div>"
      ],
      "text/plain": [
       "        start_date    end_date  created_on        lat       lon            l2  \\\n",
       "138682  2020-09-29  2021-07-26  2020-09-29 -32.787342 -71.20732  Cundinamarca   \n",
       "177722  2020-11-19  9999-12-31  2020-11-19   0.823972 -77.62271        Nariño   \n",
       "\n",
       "               l3   l4   l5   l6  ...  bedrooms  bathrooms  surface_total  \\\n",
       "138682  La Calera  NaN  NaN  NaN  ...       NaN        6.0            NaN   \n",
       "177722        NaN  NaN  NaN  NaN  ...       4.0        NaN            NaN   \n",
       "\n",
       "        surface_covered  currency                                title  \\\n",
       "138682              NaN       COP  51548 LA  CALERA  MIRADO DEL LAGO     \n",
       "177722              NaN       COP             Se vende casa en Ipiales   \n",
       "\n",
       "                                              description property_type  \\\n",
       "138682  Casa hermosa,amplia, vigilancia sector&nbsp; t...          Casa   \n",
       "177722  Venta de casa en colina verde\\nInfo: 320302104...          Casa   \n",
       "\n",
       "                            geometry target  \n",
       "138682  POINT (-71.20732 -32.787342)      1  \n",
       "177722  POINT (-77.6227098 0.823972)      0  \n",
       "\n",
       "[2 rows x 21 columns]"
      ]
     },
     "execution_count": 35,
     "metadata": {},
     "output_type": "execute_result"
    }
   ],
   "source": [
    "df_good_cols.sort_values(by='lat').head(2)"
   ]
  },
  {
   "cell_type": "code",
   "execution_count": 36,
   "metadata": {},
   "outputs": [
    {
     "data": {
      "text/html": [
       "<div>\n",
       "<style scoped>\n",
       "    .dataframe tbody tr th:only-of-type {\n",
       "        vertical-align: middle;\n",
       "    }\n",
       "\n",
       "    .dataframe tbody tr th {\n",
       "        vertical-align: top;\n",
       "    }\n",
       "\n",
       "    .dataframe thead th {\n",
       "        text-align: right;\n",
       "    }\n",
       "</style>\n",
       "<table border=\"1\" class=\"dataframe\">\n",
       "  <thead>\n",
       "    <tr style=\"text-align: right;\">\n",
       "      <th></th>\n",
       "      <th>start_date</th>\n",
       "      <th>end_date</th>\n",
       "      <th>created_on</th>\n",
       "      <th>lat</th>\n",
       "      <th>lon</th>\n",
       "      <th>l2</th>\n",
       "      <th>l3</th>\n",
       "      <th>l4</th>\n",
       "      <th>l5</th>\n",
       "      <th>l6</th>\n",
       "      <th>...</th>\n",
       "      <th>bedrooms</th>\n",
       "      <th>bathrooms</th>\n",
       "      <th>surface_total</th>\n",
       "      <th>surface_covered</th>\n",
       "      <th>currency</th>\n",
       "      <th>title</th>\n",
       "      <th>description</th>\n",
       "      <th>property_type</th>\n",
       "      <th>geometry</th>\n",
       "      <th>target</th>\n",
       "    </tr>\n",
       "  </thead>\n",
       "  <tbody>\n",
       "    <tr>\n",
       "      <th>148562</th>\n",
       "      <td>2020-11-06</td>\n",
       "      <td>2021-07-26</td>\n",
       "      <td>2020-11-06</td>\n",
       "      <td>34.420334</td>\n",
       "      <td>-119.69819</td>\n",
       "      <td>Cundinamarca</td>\n",
       "      <td>Bogotá D.C</td>\n",
       "      <td>NaN</td>\n",
       "      <td>NaN</td>\n",
       "      <td>NaN</td>\n",
       "      <td>...</td>\n",
       "      <td>NaN</td>\n",
       "      <td>4.0</td>\n",
       "      <td>NaN</td>\n",
       "      <td>NaN</td>\n",
       "      <td>COP</td>\n",
       "      <td>51599  SANTA  BARBARA  APARTAMENTO  506</td>\n",
       "      <td>Apartamento&amp;nbsp; para&amp;nbsp; remodelar , duple...</td>\n",
       "      <td>Apartamento</td>\n",
       "      <td>POINT (-119.69819 34.420334)</td>\n",
       "      <td>1</td>\n",
       "    </tr>\n",
       "    <tr>\n",
       "      <th>18218</th>\n",
       "      <td>2020-09-02</td>\n",
       "      <td>2020-09-21</td>\n",
       "      <td>2020-09-02</td>\n",
       "      <td>13.351917</td>\n",
       "      <td>-81.35745</td>\n",
       "      <td>San Andrés Providencia y Santa Catalina</td>\n",
       "      <td>Providencia</td>\n",
       "      <td>NaN</td>\n",
       "      <td>NaN</td>\n",
       "      <td>NaN</td>\n",
       "      <td>...</td>\n",
       "      <td>NaN</td>\n",
       "      <td>NaN</td>\n",
       "      <td>NaN</td>\n",
       "      <td>NaN</td>\n",
       "      <td>COP</td>\n",
       "      <td>Lote Terreno en Venta en Providencia _ wasi150...</td>\n",
       "      <td>De la Isla de San Andrés en Avión son 20 minut...</td>\n",
       "      <td>Lote</td>\n",
       "      <td>POINT (-81.35745049 13.35191746)</td>\n",
       "      <td>1</td>\n",
       "    </tr>\n",
       "  </tbody>\n",
       "</table>\n",
       "<p>2 rows × 21 columns</p>\n",
       "</div>"
      ],
      "text/plain": [
       "        start_date    end_date  created_on        lat        lon  \\\n",
       "148562  2020-11-06  2021-07-26  2020-11-06  34.420334 -119.69819   \n",
       "18218   2020-09-02  2020-09-21  2020-09-02  13.351917  -81.35745   \n",
       "\n",
       "                                             l2           l3   l4   l5   l6  \\\n",
       "148562                             Cundinamarca   Bogotá D.C  NaN  NaN  NaN   \n",
       "18218   San Andrés Providencia y Santa Catalina  Providencia  NaN  NaN  NaN   \n",
       "\n",
       "        ...  bedrooms  bathrooms  surface_total  surface_covered  currency  \\\n",
       "148562  ...       NaN        4.0            NaN              NaN       COP   \n",
       "18218   ...       NaN        NaN            NaN              NaN       COP   \n",
       "\n",
       "                                                    title  \\\n",
       "148562           51599  SANTA  BARBARA  APARTAMENTO  506    \n",
       "18218   Lote Terreno en Venta en Providencia _ wasi150...   \n",
       "\n",
       "                                              description property_type  \\\n",
       "148562  Apartamento&nbsp; para&nbsp; remodelar , duple...   Apartamento   \n",
       "18218   De la Isla de San Andrés en Avión son 20 minut...          Lote   \n",
       "\n",
       "                                geometry target  \n",
       "148562      POINT (-119.69819 34.420334)      1  \n",
       "18218   POINT (-81.35745049 13.35191746)      1  \n",
       "\n",
       "[2 rows x 21 columns]"
      ]
     },
     "execution_count": 36,
     "metadata": {},
     "output_type": "execute_result"
    }
   ],
   "source": [
    "df_good_cols.sort_values(by='lat', ascending=False).head(2)"
   ]
  },
  {
   "cell_type": "code",
   "execution_count": 37,
   "metadata": {},
   "outputs": [
    {
     "name": "stdout",
     "output_type": "stream",
     "text": [
      "• Longitudes to the west from Colombia: 1\n",
      "• Longitudes to the east from Colombia: 0\n"
     ]
    }
   ],
   "source": [
    "count_lon_smaller = 0   # Registers with a longitude to the west of Colombia\n",
    "count_lon_greater = 0   # Registers with a longitude to the east of Colombia\n",
    "for x in df_good_cols.lon:\n",
    "    if x<lon_col[0]:\n",
    "        count_lon_smaller += 1\n",
    "    elif x>lon_col[1]:\n",
    "        count_lon_greater += 1\n",
    "    \n",
    "print(f'• Longitudes to the west from Colombia: {count_lon_smaller}\\n• Longitudes to the east from Colombia: {count_lon_greater}')"
   ]
  },
  {
   "cell_type": "markdown",
   "metadata": {},
   "source": [
    "We found only one missplaced longitude, to the west of Colombia. Now we visualize it:"
   ]
  },
  {
   "cell_type": "code",
   "execution_count": 38,
   "metadata": {},
   "outputs": [
    {
     "data": {
      "text/html": [
       "<div>\n",
       "<style scoped>\n",
       "    .dataframe tbody tr th:only-of-type {\n",
       "        vertical-align: middle;\n",
       "    }\n",
       "\n",
       "    .dataframe tbody tr th {\n",
       "        vertical-align: top;\n",
       "    }\n",
       "\n",
       "    .dataframe thead th {\n",
       "        text-align: right;\n",
       "    }\n",
       "</style>\n",
       "<table border=\"1\" class=\"dataframe\">\n",
       "  <thead>\n",
       "    <tr style=\"text-align: right;\">\n",
       "      <th></th>\n",
       "      <th>start_date</th>\n",
       "      <th>end_date</th>\n",
       "      <th>created_on</th>\n",
       "      <th>lat</th>\n",
       "      <th>lon</th>\n",
       "      <th>l2</th>\n",
       "      <th>l3</th>\n",
       "      <th>l4</th>\n",
       "      <th>l5</th>\n",
       "      <th>l6</th>\n",
       "      <th>...</th>\n",
       "      <th>bedrooms</th>\n",
       "      <th>bathrooms</th>\n",
       "      <th>surface_total</th>\n",
       "      <th>surface_covered</th>\n",
       "      <th>currency</th>\n",
       "      <th>title</th>\n",
       "      <th>description</th>\n",
       "      <th>property_type</th>\n",
       "      <th>geometry</th>\n",
       "      <th>target</th>\n",
       "    </tr>\n",
       "  </thead>\n",
       "  <tbody>\n",
       "    <tr>\n",
       "      <th>148562</th>\n",
       "      <td>2020-11-06</td>\n",
       "      <td>2021-07-26</td>\n",
       "      <td>2020-11-06</td>\n",
       "      <td>34.420334</td>\n",
       "      <td>-119.69819</td>\n",
       "      <td>Cundinamarca</td>\n",
       "      <td>Bogotá D.C</td>\n",
       "      <td>NaN</td>\n",
       "      <td>NaN</td>\n",
       "      <td>NaN</td>\n",
       "      <td>...</td>\n",
       "      <td>NaN</td>\n",
       "      <td>4.0</td>\n",
       "      <td>NaN</td>\n",
       "      <td>NaN</td>\n",
       "      <td>COP</td>\n",
       "      <td>51599  SANTA  BARBARA  APARTAMENTO  506</td>\n",
       "      <td>Apartamento&amp;nbsp; para&amp;nbsp; remodelar , duple...</td>\n",
       "      <td>Apartamento</td>\n",
       "      <td>POINT (-119.69819 34.420334)</td>\n",
       "      <td>1</td>\n",
       "    </tr>\n",
       "    <tr>\n",
       "      <th>114121</th>\n",
       "      <td>2020-09-16</td>\n",
       "      <td>9999-12-31</td>\n",
       "      <td>2020-09-16</td>\n",
       "      <td>12.524494</td>\n",
       "      <td>-81.72839</td>\n",
       "      <td>San Andrés Providencia y Santa Catalina</td>\n",
       "      <td>NaN</td>\n",
       "      <td>NaN</td>\n",
       "      <td>NaN</td>\n",
       "      <td>NaN</td>\n",
       "      <td>...</td>\n",
       "      <td>8.0</td>\n",
       "      <td>NaN</td>\n",
       "      <td>NaN</td>\n",
       "      <td>NaN</td>\n",
       "      <td>COP</td>\n",
       "      <td>Casa de Lujo en la Isla de Andrés</td>\n",
       "      <td>Para vivir o para invertir, ésta casa llena de...</td>\n",
       "      <td>Finca</td>\n",
       "      <td>POINT (-81.7283900951 12.5244938806)</td>\n",
       "      <td>1</td>\n",
       "    </tr>\n",
       "  </tbody>\n",
       "</table>\n",
       "<p>2 rows × 21 columns</p>\n",
       "</div>"
      ],
      "text/plain": [
       "        start_date    end_date  created_on        lat        lon  \\\n",
       "148562  2020-11-06  2021-07-26  2020-11-06  34.420334 -119.69819   \n",
       "114121  2020-09-16  9999-12-31  2020-09-16  12.524494  -81.72839   \n",
       "\n",
       "                                             l2          l3   l4   l5   l6  \\\n",
       "148562                             Cundinamarca  Bogotá D.C  NaN  NaN  NaN   \n",
       "114121  San Andrés Providencia y Santa Catalina         NaN  NaN  NaN  NaN   \n",
       "\n",
       "        ...  bedrooms  bathrooms  surface_total  surface_covered  currency  \\\n",
       "148562  ...       NaN        4.0            NaN              NaN       COP   \n",
       "114121  ...       8.0        NaN            NaN              NaN       COP   \n",
       "\n",
       "                                           title  \\\n",
       "148562  51599  SANTA  BARBARA  APARTAMENTO  506    \n",
       "114121         Casa de Lujo en la Isla de Andrés   \n",
       "\n",
       "                                              description property_type  \\\n",
       "148562  Apartamento&nbsp; para&nbsp; remodelar , duple...   Apartamento   \n",
       "114121  Para vivir o para invertir, ésta casa llena de...         Finca   \n",
       "\n",
       "                                    geometry target  \n",
       "148562          POINT (-119.69819 34.420334)      1  \n",
       "114121  POINT (-81.7283900951 12.5244938806)      1  \n",
       "\n",
       "[2 rows x 21 columns]"
      ]
     },
     "execution_count": 38,
     "metadata": {},
     "output_type": "execute_result"
    }
   ],
   "source": [
    "df_good_cols.sort_values(by='lon').head(2)"
   ]
  },
  {
   "cell_type": "code",
   "execution_count": 39,
   "metadata": {},
   "outputs": [
    {
     "data": {
      "text/html": [
       "<div>\n",
       "<style scoped>\n",
       "    .dataframe tbody tr th:only-of-type {\n",
       "        vertical-align: middle;\n",
       "    }\n",
       "\n",
       "    .dataframe tbody tr th {\n",
       "        vertical-align: top;\n",
       "    }\n",
       "\n",
       "    .dataframe thead th {\n",
       "        text-align: right;\n",
       "    }\n",
       "</style>\n",
       "<table border=\"1\" class=\"dataframe\">\n",
       "  <thead>\n",
       "    <tr style=\"text-align: right;\">\n",
       "      <th></th>\n",
       "      <th>start_date</th>\n",
       "      <th>end_date</th>\n",
       "      <th>created_on</th>\n",
       "      <th>lat</th>\n",
       "      <th>lon</th>\n",
       "      <th>l2</th>\n",
       "      <th>l3</th>\n",
       "      <th>l4</th>\n",
       "      <th>l5</th>\n",
       "      <th>l6</th>\n",
       "      <th>...</th>\n",
       "      <th>bedrooms</th>\n",
       "      <th>bathrooms</th>\n",
       "      <th>surface_total</th>\n",
       "      <th>surface_covered</th>\n",
       "      <th>currency</th>\n",
       "      <th>title</th>\n",
       "      <th>description</th>\n",
       "      <th>property_type</th>\n",
       "      <th>geometry</th>\n",
       "      <th>target</th>\n",
       "    </tr>\n",
       "  </thead>\n",
       "  <tbody>\n",
       "    <tr>\n",
       "      <th>59361</th>\n",
       "      <td>2020-08-01</td>\n",
       "      <td>2020-09-16</td>\n",
       "      <td>2020-08-01</td>\n",
       "      <td>6.189912</td>\n",
       "      <td>-67.482570</td>\n",
       "      <td>Vichada</td>\n",
       "      <td>Puerto Carreño</td>\n",
       "      <td>NaN</td>\n",
       "      <td>NaN</td>\n",
       "      <td>NaN</td>\n",
       "      <td>...</td>\n",
       "      <td>NaN</td>\n",
       "      <td>1.0</td>\n",
       "      <td>NaN</td>\n",
       "      <td>NaN</td>\n",
       "      <td>COP</td>\n",
       "      <td>FINCA  AGROINDUSTRIAL PUERTO CARREÑO</td>\n",
       "      <td>FINCA  AGROINDUSTRIAL Y GANADERA  A 10 MINUTOS...</td>\n",
       "      <td>Otro</td>\n",
       "      <td>POINT (-67.4825696 6.1899117)</td>\n",
       "      <td>1</td>\n",
       "    </tr>\n",
       "    <tr>\n",
       "      <th>2232</th>\n",
       "      <td>2020-10-03</td>\n",
       "      <td>2020-11-30</td>\n",
       "      <td>2020-10-03</td>\n",
       "      <td>3.870204</td>\n",
       "      <td>-67.924336</td>\n",
       "      <td>Guainía</td>\n",
       "      <td>Inírida</td>\n",
       "      <td>NaN</td>\n",
       "      <td>NaN</td>\n",
       "      <td>NaN</td>\n",
       "      <td>...</td>\n",
       "      <td>NaN</td>\n",
       "      <td>NaN</td>\n",
       "      <td>NaN</td>\n",
       "      <td>NaN</td>\n",
       "      <td>COP</td>\n",
       "      <td>SE VENDE FINCA EN INIRIDA GUAINIA</td>\n",
       "      <td>Finca de 14,56 hectáreas en venta en la zona r...</td>\n",
       "      <td>Lote</td>\n",
       "      <td>POINT (-67.9243361 3.8702044)</td>\n",
       "      <td>0</td>\n",
       "    </tr>\n",
       "  </tbody>\n",
       "</table>\n",
       "<p>2 rows × 21 columns</p>\n",
       "</div>"
      ],
      "text/plain": [
       "       start_date    end_date  created_on       lat        lon       l2  \\\n",
       "59361  2020-08-01  2020-09-16  2020-08-01  6.189912 -67.482570  Vichada   \n",
       "2232   2020-10-03  2020-11-30  2020-10-03  3.870204 -67.924336  Guainía   \n",
       "\n",
       "                   l3   l4   l5   l6  ...  bedrooms  bathrooms  surface_total  \\\n",
       "59361  Puerto Carreño  NaN  NaN  NaN  ...       NaN        1.0            NaN   \n",
       "2232          Inírida  NaN  NaN  NaN  ...       NaN        NaN            NaN   \n",
       "\n",
       "       surface_covered  currency                                 title  \\\n",
       "59361              NaN       COP  FINCA  AGROINDUSTRIAL PUERTO CARREÑO   \n",
       "2232               NaN       COP     SE VENDE FINCA EN INIRIDA GUAINIA   \n",
       "\n",
       "                                             description property_type  \\\n",
       "59361  FINCA  AGROINDUSTRIAL Y GANADERA  A 10 MINUTOS...          Otro   \n",
       "2232   Finca de 14,56 hectáreas en venta en la zona r...          Lote   \n",
       "\n",
       "                            geometry target  \n",
       "59361  POINT (-67.4825696 6.1899117)      1  \n",
       "2232   POINT (-67.9243361 3.8702044)      0  \n",
       "\n",
       "[2 rows x 21 columns]"
      ]
     },
     "execution_count": 39,
     "metadata": {},
     "output_type": "execute_result"
    }
   ],
   "source": [
    "df_good_cols.sort_values(by='lon', ascending=False).head(2)"
   ]
  },
  {
   "cell_type": "markdown",
   "metadata": {},
   "source": [
    "#### There where only 3 misplaced latitude and longitude values in total. Those can be replaced by the coordinates from the city in the register ('l3' value)."
   ]
  },
  {
   "cell_type": "code",
   "execution_count": 40,
   "metadata": {},
   "outputs": [],
   "source": [
    "# Here we get a pd.Series with the possible combinatorics of the values in 'l2' and 'l3' for each row.\n",
    "\n",
    "combinations = []\n",
    "for x in range(len(df_good_cols)):\n",
    "    if str(df_good_cols.iloc[x].l3) != 'nan':\n",
    "        combinations.append(f'{df_good_cols.iloc[x].l3}, {df_good_cols.iloc[x].l2}')\n",
    "comb_series = pd.Series(combinations)\n",
    "unique_l2_l3 = comb_series.unique()"
   ]
  },
  {
   "cell_type": "code",
   "execution_count": 41,
   "metadata": {},
   "outputs": [
    {
     "name": "stdout",
     "output_type": "stream",
     "text": [
      "299\n"
     ]
    }
   ],
   "source": [
    "print(len(unique_l2_l3))"
   ]
  },
  {
   "cell_type": "code",
   "execution_count": 42,
   "metadata": {},
   "outputs": [
    {
     "name": "stdout",
     "output_type": "stream",
     "text": [
      "Amount of different cities in df_train.l3: 294\n",
      "Amount of different cities in the combination df_train.l3-df_train.l2: 299\n"
     ]
    }
   ],
   "source": [
    "# Now we check whether the number of combinatorics is the same as the number of cities alone\n",
    "df_cities = df_good_cols.l3.unique()\n",
    "print(f'Amount of different cities in df_train.l3: {len(df_cities)}')\n",
    "print(f'Amount of different cities in the combination df_train.l3-df_train.l2: {len(unique_l2_l3)}')"
   ]
  },
  {
   "cell_type": "markdown",
   "metadata": {},
   "source": [
    "The output above suggests that there are cities with the same name but in different deppartments ('l2') among our list."
   ]
  },
  {
   "cell_type": "code",
   "execution_count": 43,
   "metadata": {},
   "outputs": [
    {
     "name": "stdout",
     "output_type": "stream",
     "text": [
      "['Granada', ' Meta']\n",
      "['San Martín', ' Cesar']\n",
      "['Restrepo', ' Meta']\n",
      "['Guamal', ' Meta']\n",
      "['Armenia', ' Antioquia']\n",
      "['Barbosa', ' Santander']\n"
     ]
    }
   ],
   "source": [
    "# We will check if there are repeated city names\n",
    "l2_l3_cities = []\n",
    "repeated_cities = []\n",
    "for x in unique_l2_l3:\n",
    "    y = x.split(',')\n",
    "    if y[0] not in l2_l3_cities:\n",
    "        l2_l3_cities.append(y[0])\n",
    "    else:\n",
    "        repeated_cities.append(y[0])\n",
    "        print(y)\n"
   ]
  },
  {
   "cell_type": "markdown",
   "metadata": {},
   "source": [
    "The output above represents different cities with the same name but in different departments from Colombia. This explains the difference between the amount of unique values in 'l3' and the amount of unique values in the combinatory of 'l2' and 'l3'.\n",
    "\n",
    "Below you can see the complete list of the aforementioned combinatorics and corroborate that the cities listed above have two entries in the list."
   ]
  },
  {
   "cell_type": "code",
   "execution_count": 44,
   "metadata": {},
   "outputs": [
    {
     "name": "stdout",
     "output_type": "stream",
     "text": [
      "Armenia, Quindío\n",
      "Barbosa, Antioquia\n",
      "Guamal, Magdalena\n",
      "Restrepo, Valle del Cauca\n",
      "Granada, Cundinamarca\n",
      "San Martín, Meta\n",
      "Granada, Meta\n",
      "San Martín, Cesar\n",
      "Restrepo, Meta\n",
      "Guamal, Meta\n",
      "Armenia, Antioquia\n",
      "Barbosa, Santander\n"
     ]
    }
   ],
   "source": [
    "for x in unique_l2_l3:\n",
    "    y = x.split(',')\n",
    "    if y[0] in repeated_cities:\n",
    "        print(x)"
   ]
  },
  {
   "cell_type": "code",
   "execution_count": 45,
   "metadata": {},
   "outputs": [
    {
     "data": {
      "text/plain": [
       "\"\\ngeolocator = Nominatim(user_agent='acidminded')\\ngeocode = RateLimiter(geolocator.geocode, min_delay_seconds=1)\\n\\ndep_ciud_lat_lon = {}\\n\\nfor x in capitals.keys():\\n    dep_ciud_lat_lon[x] = {}\\n\\nfor x in unique_l2_l3:\\n    coor = geocode(x)\\n    y = x.split(',')\\n    ciud = y[0]\\n    dep = y[1][1:]\\n    dep_ciud_lat_lon[dep][ciud] = {'lat':coor.latitude, 'lon':coor.longitude}\\n\\nfor x in capitals:\\n    dep = x\\n    if capitals[x] not in dep_ciud_lat_lon[x]:\\n        ciud = capitals[x]\\n        coor = geocode(f'{ciud}, {dep}')\\n        dep_ciud_lat_lon[dep][ciud] = {'lat':coor.latitude, 'lon':coor.longitude}\\n\\nprint(dep_ciud_lat_lon)\\n\""
      ]
     },
     "execution_count": 45,
     "metadata": {},
     "output_type": "execute_result"
    }
   ],
   "source": [
    "# Now we create a dictionary with the coordinates for each of the unique combinatorics\n",
    "# This code takes too long to run, so it will be commented out and it's output saved in a dictionary in the helpers.py file.\n",
    "\n",
    "'''\n",
    "geolocator = Nominatim(user_agent='acidminded')\n",
    "geocode = RateLimiter(geolocator.geocode, min_delay_seconds=1)\n",
    "\n",
    "dep_ciud_lat_lon = {}\n",
    "\n",
    "for x in capitals.keys():\n",
    "    dep_ciud_lat_lon[x] = {}\n",
    "\n",
    "for x in unique_l2_l3:\n",
    "    coor = geocode(x)\n",
    "    y = x.split(',')\n",
    "    ciud = y[0]\n",
    "    dep = y[1][1:]\n",
    "    dep_ciud_lat_lon[dep][ciud] = {'lat':coor.latitude, 'lon':coor.longitude}\n",
    "\n",
    "for x in capitals:\n",
    "    dep = x\n",
    "    if capitals[x] not in dep_ciud_lat_lon[x]:\n",
    "        ciud = capitals[x]\n",
    "        coor = geocode(f'{ciud}, {dep}')\n",
    "        dep_ciud_lat_lon[dep][ciud] = {'lat':coor.latitude, 'lon':coor.longitude}\n",
    "\n",
    "print(dep_ciud_lat_lon)\n",
    "'''"
   ]
  },
  {
   "cell_type": "code",
   "execution_count": 46,
   "metadata": {},
   "outputs": [
    {
     "data": {
      "text/plain": [
       "\"\\nOUTPUT:\\n1\\n[('Bolívar', 'Santa Rosa', 'lon problem')]\\n\\n# We solved this value by correcting the coordinates for this town manually. It seems that the 'geocode' library gave the wrong coordinates for it.\\n\""
      ]
     },
     "execution_count": 46,
     "metadata": {},
     "output_type": "execute_result"
    }
   ],
   "source": [
    "# Here we check for any problem within our dictionary and found one which is corrected manually.\n",
    "\n",
    "'''\n",
    "count = 0\n",
    "problems = []\n",
    "for dep in dep_ciud_lat_lon:\n",
    "    for city in  dep_ciud_lat_lon[dep]:\n",
    "        if (dep_ciud_lat_lon[dep][city]['lat'] < lat_col[0]) or (dep_ciud_lat_lon[dep][city]['lat'] > lat_col[1]):\n",
    "            count += 1\n",
    "            problems.append((dep, city, 'lat problem'))\n",
    "        if (dep_ciud_lat_lon[dep][city]['lon'] < lon_col[0]) or (dep_ciud_lat_lon[dep][city]['lon'] > lon_col[1]):\n",
    "            count += 1\n",
    "            problems.append((dep, city, 'lon problem'))\n",
    "print(count)\n",
    "print(problems)\n",
    "'''\n",
    "\n",
    "'''\n",
    "OUTPUT:\n",
    "1\n",
    "[('Bolívar', 'Santa Rosa', 'lon problem')]\n",
    "\n",
    "# We solved this value by correcting the coordinates for this town manually. It seems that the 'geocode' library gave the wrong coordinates for it.\n",
    "'''\n"
   ]
  },
  {
   "cell_type": "code",
   "execution_count": 47,
   "metadata": {},
   "outputs": [
    {
     "name": "stdout",
     "output_type": "stream",
     "text": [
      "dict_keys(['Amazonas', 'Antioquia', 'Arauca', 'Atlántico', 'Bolívar', 'Boyacá', 'Caldas', 'Caquetá', 'Casanare', 'Cauca', 'Cesar', 'Chocó', 'Córdoba', 'Cundinamarca', 'Guainía', 'Guaviare', 'Huila', 'La Guajira', 'Magdalena', 'Meta', 'Nariño', 'Norte de Santander', 'Putumayo', 'Quindío', 'Risaralda', 'San Andrés Providencia y Santa Catalina', 'Santander', 'Sucre', 'Tolima', 'Valle del Cauca', 'Vaupés', 'Vichada'])\n"
     ]
    }
   ],
   "source": [
    "print(dep_ciud_lat_lon.keys())"
   ]
  },
  {
   "cell_type": "code",
   "execution_count": 48,
   "metadata": {},
   "outputs": [
    {
     "data": {
      "text/plain": [
       "POINT EMPTY                        48518\n",
       "POINT (-73.112 7.119)                264\n",
       "POINT (-75.572 6.203)                259\n",
       "POINT (-76.554 3.258)                199\n",
       "POINT (-74.1376942 4.6303361)        137\n",
       "                                   ...  \n",
       "POINT (-74.061 4.715)                  1\n",
       "POINT (-75.43534316 6.02491343)        1\n",
       "POINT (-74.0868554 4.6703724)          1\n",
       "POINT (-76.471 3.434)                  1\n",
       "POINT (-73.106 7.064)                  1\n",
       "Name: geometry, Length: 62785, dtype: int64"
      ]
     },
     "execution_count": 48,
     "metadata": {},
     "output_type": "execute_result"
    }
   ],
   "source": [
    "# Let's see the missing values from the 'geometry' feature\n",
    "\n",
    "df_good_cols.geometry.value_counts()"
   ]
  },
  {
   "cell_type": "markdown",
   "metadata": {},
   "source": [
    "There are 48519 values missing from 'geometry', but once we have obtained the lat and lon for all our missing 'lat' and 'lon' values we can fill in this feature as well."
   ]
  },
  {
   "cell_type": "markdown",
   "metadata": {},
   "source": [
    "### 4) PROPERTY FEATURES: rooms, bedrooms, bathrooms, surface_total, surface_covered & property_type"
   ]
  },
  {
   "cell_type": "code",
   "execution_count": 49,
   "metadata": {},
   "outputs": [
    {
     "name": "stdout",
     "output_type": "stream",
     "text": [
      "\n",
      "----- rooms -----\n",
      " •Data types: {<class 'float'>}\n",
      " •Missing values:\n",
      "True     165948\n",
      "False     27452\n",
      "Name: rooms, dtype: int64 \n",
      "\n",
      " •Min: 1.0\n",
      " •Max: 40.0\n",
      "\n",
      " •Mean: 3.2904706396619554\n",
      " •Median: 3.0\n",
      " •Mode: 0    3.0\n",
      "Name: rooms, dtype: float64\n",
      "\n",
      "\n",
      "----- bedrooms -----\n",
      " •Data types: {<class 'float'>}\n",
      " •Missing values:\n",
      "True     153024\n",
      "False     40376\n",
      "Name: bedrooms, dtype: int64 \n",
      "\n",
      " •Min: 0.0\n",
      " •Max: 96.0\n",
      "\n",
      " •Mean: 3.241182880919358\n",
      " •Median: 3.0\n",
      " •Mode: 0    3.0\n",
      "Name: bedrooms, dtype: float64\n",
      "\n",
      "\n",
      "----- bathrooms -----\n",
      " •Data types: {<class 'float'>}\n",
      " •Missing values:\n",
      "False    153023\n",
      "True      40377\n",
      "Name: bathrooms, dtype: int64 \n",
      "\n",
      " •Min: 1.0\n",
      " •Max: 20.0\n",
      "\n",
      " •Mean: 2.6387536514118795\n",
      " •Median: 2.0\n",
      " •Mode: 0    2.0\n",
      "Name: bathrooms, dtype: float64\n",
      "\n",
      "\n",
      "----- surface_total -----\n",
      " •Data types: {<class 'float'>}\n",
      " •Missing values:\n",
      "True     186458\n",
      "False      6942\n",
      "Name: surface_total, dtype: int64 \n",
      "\n",
      " •Min: 10.0\n",
      " •Max: 180000.0\n",
      "\n",
      " •Mean: 1329.7345145491213\n",
      " •Median: 120.0\n",
      " •Mode: 0    60.0\n",
      "Name: surface_total, dtype: float64\n",
      "\n",
      "\n",
      "----- surface_covered -----\n",
      " •Data types: {<class 'float'>}\n",
      " •Missing values:\n",
      "True     183645\n",
      "False      9755\n",
      "Name: surface_covered, dtype: int64 \n",
      "\n",
      " •Min: 1.0\n",
      " •Max: 3480000.0\n",
      "\n",
      " •Mean: 946.7107124551512\n",
      " •Median: 114.0\n",
      " •Mode: 0    60.0\n",
      "Name: surface_covered, dtype: float64\n",
      "\n",
      "\n",
      "----- property_type -----\n",
      " •Data types: {<class 'str'>}\n",
      " •Missing values:\n",
      "False    193400\n",
      "Name: property_type, dtype: int64 \n",
      "\n"
     ]
    }
   ],
   "source": [
    "property_features = ['rooms', 'bedrooms', 'bathrooms', 'surface_total', 'surface_covered', 'property_type']\n",
    "\n",
    "get_info(property_features[:-1], maxmin=True, stats=True)\n",
    "get_info(property_features[-1:])"
   ]
  },
  {
   "cell_type": "markdown",
   "metadata": {},
   "source": [
    "From the output above we can see that the only ones of these features that have less than half of it's values missing are 'bathrooms' and 'property_type'.\n",
    "\n",
    "Because of this, 'bathrooms' and 'property_type' will be the only columns from this subset of features that we will be using for training our models by the moment.\n",
    "\n",
    "We are awere that it exists the possibility for us to extract meaningful information from each sale's description in order to fill the missing data from these columns and that may be a path we will explore when improving our first models. But for the moment these two features will suffice."
   ]
  },
  {
   "cell_type": "code",
   "execution_count": 50,
   "metadata": {},
   "outputs": [
    {
     "name": "stdout",
     "output_type": "stream",
     "text": [
      "\n",
      " • GOOD COLS NO DATES •\n",
      "\n",
      " SHAPE: \n",
      "(193400, 18)\n",
      " Columns:\n",
      "Index(['lat', 'lon', 'l2', 'l3', 'l4', 'l5', 'l6', 'rooms', 'bedrooms',\n",
      "       'bathrooms', 'surface_total', 'surface_covered', 'currency', 'title',\n",
      "       'description', 'property_type', 'geometry', 'target'],\n",
      "      dtype='object')\n",
      "DUPLICATED INFO:\n",
      "False    120421\n",
      "True      72979\n",
      "dtype: int64\n",
      "\n",
      "DUPLICATED INFO AFTER DROP:\n",
      "False    120421\n",
      "dtype: int64\n",
      "\n",
      "\n",
      "----- rooms -----\n",
      " •Data types: {<class 'float'>}\n",
      " •Missing values:\n",
      "True     93507\n",
      "False    26914\n",
      "Name: rooms, dtype: int64 \n",
      "\n",
      " •Min: 1.0\n",
      " •Max: 40.0\n",
      "\n",
      " •Mean: 3.2879170691833246\n",
      " •Median: 3.0\n",
      " •Mode: 0    3.0\n",
      "Name: rooms, dtype: float64\n",
      "\n",
      "\n",
      "----- bedrooms -----\n",
      " •Data types: {<class 'float'>}\n",
      " •Missing values:\n",
      "True     80702\n",
      "False    39719\n",
      "Name: bedrooms, dtype: int64 \n",
      "\n",
      " •Min: 0.0\n",
      " •Max: 96.0\n",
      "\n",
      " •Mean: 3.239129887459402\n",
      " •Median: 3.0\n",
      " •Mode: 0    3.0\n",
      "Name: bedrooms, dtype: float64\n",
      "\n",
      "\n",
      "----- bathrooms -----\n",
      " •Data types: {<class 'float'>}\n",
      " •Missing values:\n",
      "False    87751\n",
      "True     32670\n",
      "Name: bathrooms, dtype: int64 \n",
      "\n",
      " •Min: 1.0\n",
      " •Max: 20.0\n",
      "\n",
      " •Mean: 2.6891203519048217\n",
      " •Median: 2.0\n",
      " •Mode: 0    2.0\n",
      "Name: bathrooms, dtype: float64\n",
      "\n",
      "\n",
      "----- surface_total -----\n",
      " •Data types: {<class 'float'>}\n",
      " •Missing values:\n",
      "True     113499\n",
      "False      6922\n",
      "Name: surface_total, dtype: int64 \n",
      "\n",
      " •Min: 10.0\n",
      " •Max: 180000.0\n",
      "\n",
      " •Mean: 1332.758740248483\n",
      " •Median: 120.0\n",
      " •Mode: 0    60.0\n",
      "Name: surface_total, dtype: float64\n",
      "\n",
      "\n",
      "----- surface_covered -----\n",
      " •Data types: {<class 'float'>}\n",
      " •Missing values:\n",
      "True     110698\n",
      "False      9723\n",
      "Name: surface_covered, dtype: int64 \n",
      "\n",
      " •Min: 1.0\n",
      " •Max: 3480000.0\n",
      "\n",
      " •Mean: 949.1829682196853\n",
      " •Median: 114.0\n",
      " •Mode: 0    60.0\n",
      "Name: surface_covered, dtype: float64\n",
      "\n",
      "\n",
      "----- property_type -----\n",
      " •Data types: {<class 'str'>}\n",
      " •Missing values:\n",
      "False    120421\n",
      "Name: property_type, dtype: int64 \n",
      "\n"
     ]
    }
   ],
   "source": [
    "# We try to see if the situation is different after dropping the date columns (which leaves us a lot of duolicated registries) and dropping duplicates\n",
    "\n",
    "df_good_cols_no_dates = df_good_cols.drop(date_features, axis=1).copy()\n",
    "print(f'\\n • GOOD COLS NO DATES •\\n\\n SHAPE: \\n{df_good_cols_no_dates.shape}\\n Columns:\\n{df_good_cols_no_dates.columns}')\n",
    "\n",
    "print(f'DUPLICATED INFO:\\n{df_good_cols_no_dates.duplicated().value_counts()}\\n')\n",
    "df_good_cols_no_dates.drop_duplicates(inplace=True)\n",
    "print(f'DUPLICATED INFO AFTER DROP:\\n{df_good_cols_no_dates.duplicated().value_counts()}\\n')\n",
    "\n",
    "get_info(property_features[:-1], dataset=df_good_cols_no_dates, maxmin=True, stats=True)\n",
    "get_info(property_features[-1:], dataset=df_good_cols_no_dates)\n"
   ]
  },
  {
   "cell_type": "markdown",
   "metadata": {},
   "source": [
    "#### The missing values from the 'bathrooms' column will be imputed with the floor rounded mean value according to it's property_type."
   ]
  },
  {
   "cell_type": "code",
   "execution_count": 51,
   "metadata": {},
   "outputs": [
    {
     "data": {
      "text/plain": [
       "2.0     69156\n",
       "3.0     30954\n",
       "1.0     22231\n",
       "4.0     17019\n",
       "5.0      7557\n",
       "6.0      2937\n",
       "7.0      1158\n",
       "10.0      928\n",
       "8.0       681\n",
       "9.0       329\n",
       "20.0       14\n",
       "12.0       14\n",
       "13.0       11\n",
       "11.0        8\n",
       "15.0        7\n",
       "19.0        6\n",
       "14.0        5\n",
       "18.0        5\n",
       "16.0        2\n",
       "17.0        1\n",
       "Name: bathrooms, dtype: int64"
      ]
     },
     "execution_count": 51,
     "metadata": {},
     "output_type": "execute_result"
    }
   ],
   "source": [
    "df_good_cols.bathrooms.value_counts()"
   ]
  },
  {
   "cell_type": "code",
   "execution_count": 52,
   "metadata": {},
   "outputs": [
    {
     "data": {
      "text/html": [
       "<div>\n",
       "<style scoped>\n",
       "    .dataframe tbody tr th:only-of-type {\n",
       "        vertical-align: middle;\n",
       "    }\n",
       "\n",
       "    .dataframe tbody tr th {\n",
       "        vertical-align: top;\n",
       "    }\n",
       "\n",
       "    .dataframe thead th {\n",
       "        text-align: right;\n",
       "    }\n",
       "</style>\n",
       "<table border=\"1\" class=\"dataframe\">\n",
       "  <thead>\n",
       "    <tr style=\"text-align: right;\">\n",
       "      <th></th>\n",
       "      <th>start_date</th>\n",
       "      <th>end_date</th>\n",
       "      <th>created_on</th>\n",
       "      <th>lat</th>\n",
       "      <th>lon</th>\n",
       "      <th>l2</th>\n",
       "      <th>l3</th>\n",
       "      <th>l4</th>\n",
       "      <th>l5</th>\n",
       "      <th>l6</th>\n",
       "      <th>...</th>\n",
       "      <th>bedrooms</th>\n",
       "      <th>bathrooms</th>\n",
       "      <th>surface_total</th>\n",
       "      <th>surface_covered</th>\n",
       "      <th>currency</th>\n",
       "      <th>title</th>\n",
       "      <th>description</th>\n",
       "      <th>property_type</th>\n",
       "      <th>geometry</th>\n",
       "      <th>target</th>\n",
       "    </tr>\n",
       "  </thead>\n",
       "  <tbody>\n",
       "    <tr>\n",
       "      <th>185592</th>\n",
       "      <td>2020-09-12</td>\n",
       "      <td>2020-11-13</td>\n",
       "      <td>2020-09-12</td>\n",
       "      <td>3.421000</td>\n",
       "      <td>-76.545000</td>\n",
       "      <td>Valle del Cauca</td>\n",
       "      <td>Cali</td>\n",
       "      <td>NaN</td>\n",
       "      <td>NaN</td>\n",
       "      <td>NaN</td>\n",
       "      <td>...</td>\n",
       "      <td>20.0</td>\n",
       "      <td>20.0</td>\n",
       "      <td>210.0</td>\n",
       "      <td>692.0</td>\n",
       "      <td>COP</td>\n",
       "      <td>Edificio En Arriendo/venta En Cali Urbanizacin...</td>\n",
       "      <td>Se Vende o Se alquila, edificio en la zona sur...</td>\n",
       "      <td>Otro</td>\n",
       "      <td>POINT (-76.545 3.421)</td>\n",
       "      <td>1</td>\n",
       "    </tr>\n",
       "    <tr>\n",
       "      <th>53449</th>\n",
       "      <td>2020-11-30</td>\n",
       "      <td>2021-07-01</td>\n",
       "      <td>2020-11-30</td>\n",
       "      <td>4.644464</td>\n",
       "      <td>-74.060546</td>\n",
       "      <td>Cundinamarca</td>\n",
       "      <td>Bogotá D.C</td>\n",
       "      <td>Zona Chapinero</td>\n",
       "      <td>Chapinero</td>\n",
       "      <td>NaN</td>\n",
       "      <td>...</td>\n",
       "      <td>22.0</td>\n",
       "      <td>20.0</td>\n",
       "      <td>NaN</td>\n",
       "      <td>NaN</td>\n",
       "      <td>COP</td>\n",
       "      <td>CASA EN VENTA, BOGOTA-CHAPINERO</td>\n",
       "      <td>Casa esquinera remodelada. ambiente acogedor. ...</td>\n",
       "      <td>Casa</td>\n",
       "      <td>POINT (-74.060546 4.6444642)</td>\n",
       "      <td>1</td>\n",
       "    </tr>\n",
       "    <tr>\n",
       "      <th>175440</th>\n",
       "      <td>2020-10-15</td>\n",
       "      <td>2021-04-07</td>\n",
       "      <td>2020-10-15</td>\n",
       "      <td>NaN</td>\n",
       "      <td>NaN</td>\n",
       "      <td>Atlántico</td>\n",
       "      <td>Barranquilla</td>\n",
       "      <td>NaN</td>\n",
       "      <td>NaN</td>\n",
       "      <td>NaN</td>\n",
       "      <td>...</td>\n",
       "      <td>23.0</td>\n",
       "      <td>20.0</td>\n",
       "      <td>NaN</td>\n",
       "      <td>NaN</td>\n",
       "      <td>COP</td>\n",
       "      <td>HOTEL EN VENTA, BARRANQUILLA-EL POBLADO</td>\n",
       "      <td>Medellín se ha convertido en un destino turíst...</td>\n",
       "      <td>Otro</td>\n",
       "      <td>POINT EMPTY</td>\n",
       "      <td>1</td>\n",
       "    </tr>\n",
       "    <tr>\n",
       "      <th>51712</th>\n",
       "      <td>2020-11-23</td>\n",
       "      <td>2021-08-20</td>\n",
       "      <td>2020-11-23</td>\n",
       "      <td>4.632800</td>\n",
       "      <td>-74.072722</td>\n",
       "      <td>Cundinamarca</td>\n",
       "      <td>Bogotá D.C</td>\n",
       "      <td>Zona Chapinero</td>\n",
       "      <td>Teusaquillo</td>\n",
       "      <td>NaN</td>\n",
       "      <td>...</td>\n",
       "      <td>21.0</td>\n",
       "      <td>20.0</td>\n",
       "      <td>NaN</td>\n",
       "      <td>NaN</td>\n",
       "      <td>COP</td>\n",
       "      <td>EDIFICIO EN VENTA, BOGOTA-SANTA TERESITA</td>\n",
       "      <td>UBICADÍSIMO EDIFICIO ESQUINERO EN VENTA  21 HA...</td>\n",
       "      <td>Otro</td>\n",
       "      <td>POINT (-74.0727222 4.6328001)</td>\n",
       "      <td>1</td>\n",
       "    </tr>\n",
       "    <tr>\n",
       "      <th>102407</th>\n",
       "      <td>2020-11-11</td>\n",
       "      <td>2020-11-18</td>\n",
       "      <td>2020-11-11</td>\n",
       "      <td>4.204624</td>\n",
       "      <td>-74.631732</td>\n",
       "      <td>Tolima</td>\n",
       "      <td>Melgar</td>\n",
       "      <td>NaN</td>\n",
       "      <td>NaN</td>\n",
       "      <td>NaN</td>\n",
       "      <td>...</td>\n",
       "      <td>21.0</td>\n",
       "      <td>20.0</td>\n",
       "      <td>NaN</td>\n",
       "      <td>NaN</td>\n",
       "      <td>COP</td>\n",
       "      <td>HOTEL EN VENTA, MELGAR-MELGAR</td>\n",
       "      <td>Hotel en privilegiada ubicación, colindante co...</td>\n",
       "      <td>Otro</td>\n",
       "      <td>POINT (-74.6317323 4.2046243)</td>\n",
       "      <td>1</td>\n",
       "    </tr>\n",
       "    <tr>\n",
       "      <th>138694</th>\n",
       "      <td>2020-08-27</td>\n",
       "      <td>9999-12-31</td>\n",
       "      <td>2020-08-27</td>\n",
       "      <td>NaN</td>\n",
       "      <td>NaN</td>\n",
       "      <td>Cundinamarca</td>\n",
       "      <td>Bogotá D.C</td>\n",
       "      <td>Zona Chapinero</td>\n",
       "      <td>Chapinero</td>\n",
       "      <td>Chapinero Central</td>\n",
       "      <td>...</td>\n",
       "      <td>0.0</td>\n",
       "      <td>20.0</td>\n",
       "      <td>NaN</td>\n",
       "      <td>NaN</td>\n",
       "      <td>COP</td>\n",
       "      <td>EDIFICIO EN VENTA, BOGOTA-CHAPINERO CENTRAL</td>\n",
       "      <td>Edificio para venta en el sector de Chapinero....</td>\n",
       "      <td>Otro</td>\n",
       "      <td>POINT EMPTY</td>\n",
       "      <td>1</td>\n",
       "    </tr>\n",
       "    <tr>\n",
       "      <th>96152</th>\n",
       "      <td>2020-09-30</td>\n",
       "      <td>2021-01-18</td>\n",
       "      <td>2020-09-30</td>\n",
       "      <td>4.680884</td>\n",
       "      <td>-74.130453</td>\n",
       "      <td>Cundinamarca</td>\n",
       "      <td>Bogotá D.C</td>\n",
       "      <td>Zona Occidental</td>\n",
       "      <td>Fontibón</td>\n",
       "      <td>NaN</td>\n",
       "      <td>...</td>\n",
       "      <td>0.0</td>\n",
       "      <td>20.0</td>\n",
       "      <td>NaN</td>\n",
       "      <td>NaN</td>\n",
       "      <td>COP</td>\n",
       "      <td>EDIFICIO EN VENTA, BOGOTA-EL DORADO</td>\n",
       "      <td>Excelente ubicación muy cerca de estaciones de...</td>\n",
       "      <td>Otro</td>\n",
       "      <td>POINT (-74.1304534018 4.6808835909)</td>\n",
       "      <td>1</td>\n",
       "    </tr>\n",
       "    <tr>\n",
       "      <th>58649</th>\n",
       "      <td>2020-08-21</td>\n",
       "      <td>2020-10-23</td>\n",
       "      <td>2020-08-21</td>\n",
       "      <td>4.652547</td>\n",
       "      <td>-74.058393</td>\n",
       "      <td>Cundinamarca</td>\n",
       "      <td>Bogotá D.C</td>\n",
       "      <td>Zona Chapinero</td>\n",
       "      <td>Chapinero</td>\n",
       "      <td>Quinta Camacho</td>\n",
       "      <td>...</td>\n",
       "      <td>24.0</td>\n",
       "      <td>20.0</td>\n",
       "      <td>NaN</td>\n",
       "      <td>NaN</td>\n",
       "      <td>COP</td>\n",
       "      <td>CASA EN VENTA, BOGOTA-QUINTA CAMACHO</td>\n",
       "      <td>Arriendo Espectacular hotel  ubicado en el cor...</td>\n",
       "      <td>Casa</td>\n",
       "      <td>POINT (-74.0583932 4.6525474)</td>\n",
       "      <td>1</td>\n",
       "    </tr>\n",
       "    <tr>\n",
       "      <th>69334</th>\n",
       "      <td>2020-09-10</td>\n",
       "      <td>2021-05-24</td>\n",
       "      <td>2020-09-10</td>\n",
       "      <td>4.637380</td>\n",
       "      <td>-74.064302</td>\n",
       "      <td>Cundinamarca</td>\n",
       "      <td>Bogotá D.C</td>\n",
       "      <td>Zona Chapinero</td>\n",
       "      <td>Chapinero</td>\n",
       "      <td>Marly</td>\n",
       "      <td>...</td>\n",
       "      <td>45.0</td>\n",
       "      <td>20.0</td>\n",
       "      <td>NaN</td>\n",
       "      <td>NaN</td>\n",
       "      <td>COP</td>\n",
       "      <td>EDIFICIO EN ARRIENDO/VENTA, BOGOTA-MARLY</td>\n",
       "      <td>espectacular edificio de 4000 mtrs2 construido...</td>\n",
       "      <td>Otro</td>\n",
       "      <td>POINT (-74.0643016 4.6373802)</td>\n",
       "      <td>0</td>\n",
       "    </tr>\n",
       "    <tr>\n",
       "      <th>8442</th>\n",
       "      <td>2020-08-05</td>\n",
       "      <td>9999-12-31</td>\n",
       "      <td>2020-08-05</td>\n",
       "      <td>7.114464</td>\n",
       "      <td>-73.119884</td>\n",
       "      <td>Santander</td>\n",
       "      <td>Bucaramanga</td>\n",
       "      <td>NaN</td>\n",
       "      <td>NaN</td>\n",
       "      <td>NaN</td>\n",
       "      <td>...</td>\n",
       "      <td>3.0</td>\n",
       "      <td>20.0</td>\n",
       "      <td>NaN</td>\n",
       "      <td>NaN</td>\n",
       "      <td>COP</td>\n",
       "      <td>APARTAMENTO EN VENTA, BUCARAMANGA-CONCORDIA</td>\n",
       "      <td>Inmogestion presenta este bonito apartamento e...</td>\n",
       "      <td>Apartamento</td>\n",
       "      <td>POINT (-73.1198842 7.1144635)</td>\n",
       "      <td>0</td>\n",
       "    </tr>\n",
       "    <tr>\n",
       "      <th>109313</th>\n",
       "      <td>2020-11-28</td>\n",
       "      <td>2020-12-01</td>\n",
       "      <td>2020-11-28</td>\n",
       "      <td>5.324000</td>\n",
       "      <td>-72.404000</td>\n",
       "      <td>Casanare</td>\n",
       "      <td>Yopal</td>\n",
       "      <td>NaN</td>\n",
       "      <td>NaN</td>\n",
       "      <td>NaN</td>\n",
       "      <td>...</td>\n",
       "      <td>40.0</td>\n",
       "      <td>20.0</td>\n",
       "      <td>200.0</td>\n",
       "      <td>1000.0</td>\n",
       "      <td>COP</td>\n",
       "      <td>Edificio En Venta En Yopal Yopal Cod. VIRD315</td>\n",
       "      <td>SE VENDE ESPECTACULAR HOTEL UBICADO EN LA CIUD...</td>\n",
       "      <td>Otro</td>\n",
       "      <td>POINT (-72.404 5.324)</td>\n",
       "      <td>1</td>\n",
       "    </tr>\n",
       "    <tr>\n",
       "      <th>169137</th>\n",
       "      <td>2020-11-27</td>\n",
       "      <td>2020-12-01</td>\n",
       "      <td>2020-11-27</td>\n",
       "      <td>2.811000</td>\n",
       "      <td>-75.227000</td>\n",
       "      <td>Huila</td>\n",
       "      <td>Rivera</td>\n",
       "      <td>NaN</td>\n",
       "      <td>NaN</td>\n",
       "      <td>NaN</td>\n",
       "      <td>...</td>\n",
       "      <td>23.0</td>\n",
       "      <td>20.0</td>\n",
       "      <td>3287.0</td>\n",
       "      <td>500.0</td>\n",
       "      <td>COP</td>\n",
       "      <td>Casa Campestre En Venta En Rivera  Cod. VGBX49...</td>\n",
       "      <td>Espectacular Hotel Campestre ubicado en el Cor...</td>\n",
       "      <td>Casa</td>\n",
       "      <td>POINT (-75.227 2.811)</td>\n",
       "      <td>1</td>\n",
       "    </tr>\n",
       "    <tr>\n",
       "      <th>42219</th>\n",
       "      <td>2020-08-28</td>\n",
       "      <td>2020-12-02</td>\n",
       "      <td>2020-08-28</td>\n",
       "      <td>NaN</td>\n",
       "      <td>NaN</td>\n",
       "      <td>Cundinamarca</td>\n",
       "      <td>Bogotá D.C</td>\n",
       "      <td>Zona Centro</td>\n",
       "      <td>La Candelaria</td>\n",
       "      <td>Las Aguas</td>\n",
       "      <td>...</td>\n",
       "      <td>96.0</td>\n",
       "      <td>20.0</td>\n",
       "      <td>NaN</td>\n",
       "      <td>NaN</td>\n",
       "      <td>COP</td>\n",
       "      <td>HOTEL EN VENTA, BOGOTA-LAS AGUAS</td>\n",
       "      <td>Perfecta ubicación en el centro de Bogotá. A t...</td>\n",
       "      <td>Otro</td>\n",
       "      <td>POINT EMPTY</td>\n",
       "      <td>1</td>\n",
       "    </tr>\n",
       "    <tr>\n",
       "      <th>39286</th>\n",
       "      <td>2020-09-02</td>\n",
       "      <td>9999-12-31</td>\n",
       "      <td>2020-09-02</td>\n",
       "      <td>4.809850</td>\n",
       "      <td>-74.101838</td>\n",
       "      <td>Cundinamarca</td>\n",
       "      <td>Cota</td>\n",
       "      <td>NaN</td>\n",
       "      <td>NaN</td>\n",
       "      <td>NaN</td>\n",
       "      <td>...</td>\n",
       "      <td>0.0</td>\n",
       "      <td>20.0</td>\n",
       "      <td>NaN</td>\n",
       "      <td>NaN</td>\n",
       "      <td>COP</td>\n",
       "      <td>BODEGA EN VENTA, COTA-COTA</td>\n",
       "      <td>Bodegas 545.04 Mts2 y oficinas 245,28. Mts2 pa...</td>\n",
       "      <td>Otro</td>\n",
       "      <td>POINT (-74.1018383 4.8098502)</td>\n",
       "      <td>1</td>\n",
       "    </tr>\n",
       "    <tr>\n",
       "      <th>63094</th>\n",
       "      <td>2020-08-19</td>\n",
       "      <td>2021-04-22</td>\n",
       "      <td>2020-08-19</td>\n",
       "      <td>NaN</td>\n",
       "      <td>NaN</td>\n",
       "      <td>Cauca</td>\n",
       "      <td>NaN</td>\n",
       "      <td>NaN</td>\n",
       "      <td>NaN</td>\n",
       "      <td>NaN</td>\n",
       "      <td>...</td>\n",
       "      <td>10.0</td>\n",
       "      <td>19.0</td>\n",
       "      <td>NaN</td>\n",
       "      <td>NaN</td>\n",
       "      <td>COP</td>\n",
       "      <td>CASA EN VENTA, MONDOMO-MONDOMO</td>\n",
       "      <td>Amplia casa de campo posicionada y reconocida,...</td>\n",
       "      <td>Casa</td>\n",
       "      <td>POINT EMPTY</td>\n",
       "      <td>1</td>\n",
       "    </tr>\n",
       "  </tbody>\n",
       "</table>\n",
       "<p>15 rows × 21 columns</p>\n",
       "</div>"
      ],
      "text/plain": [
       "        start_date    end_date  created_on       lat        lon  \\\n",
       "185592  2020-09-12  2020-11-13  2020-09-12  3.421000 -76.545000   \n",
       "53449   2020-11-30  2021-07-01  2020-11-30  4.644464 -74.060546   \n",
       "175440  2020-10-15  2021-04-07  2020-10-15       NaN        NaN   \n",
       "51712   2020-11-23  2021-08-20  2020-11-23  4.632800 -74.072722   \n",
       "102407  2020-11-11  2020-11-18  2020-11-11  4.204624 -74.631732   \n",
       "138694  2020-08-27  9999-12-31  2020-08-27       NaN        NaN   \n",
       "96152   2020-09-30  2021-01-18  2020-09-30  4.680884 -74.130453   \n",
       "58649   2020-08-21  2020-10-23  2020-08-21  4.652547 -74.058393   \n",
       "69334   2020-09-10  2021-05-24  2020-09-10  4.637380 -74.064302   \n",
       "8442    2020-08-05  9999-12-31  2020-08-05  7.114464 -73.119884   \n",
       "109313  2020-11-28  2020-12-01  2020-11-28  5.324000 -72.404000   \n",
       "169137  2020-11-27  2020-12-01  2020-11-27  2.811000 -75.227000   \n",
       "42219   2020-08-28  2020-12-02  2020-08-28       NaN        NaN   \n",
       "39286   2020-09-02  9999-12-31  2020-09-02  4.809850 -74.101838   \n",
       "63094   2020-08-19  2021-04-22  2020-08-19       NaN        NaN   \n",
       "\n",
       "                     l2            l3               l4             l5  \\\n",
       "185592  Valle del Cauca          Cali              NaN            NaN   \n",
       "53449      Cundinamarca    Bogotá D.C   Zona Chapinero      Chapinero   \n",
       "175440        Atlántico  Barranquilla              NaN            NaN   \n",
       "51712      Cundinamarca    Bogotá D.C   Zona Chapinero    Teusaquillo   \n",
       "102407           Tolima        Melgar              NaN            NaN   \n",
       "138694     Cundinamarca    Bogotá D.C   Zona Chapinero      Chapinero   \n",
       "96152      Cundinamarca    Bogotá D.C  Zona Occidental       Fontibón   \n",
       "58649      Cundinamarca    Bogotá D.C   Zona Chapinero      Chapinero   \n",
       "69334      Cundinamarca    Bogotá D.C   Zona Chapinero      Chapinero   \n",
       "8442          Santander   Bucaramanga              NaN            NaN   \n",
       "109313         Casanare         Yopal              NaN            NaN   \n",
       "169137            Huila        Rivera              NaN            NaN   \n",
       "42219      Cundinamarca    Bogotá D.C      Zona Centro  La Candelaria   \n",
       "39286      Cundinamarca          Cota              NaN            NaN   \n",
       "63094             Cauca           NaN              NaN            NaN   \n",
       "\n",
       "                       l6  ...  bedrooms  bathrooms  surface_total  \\\n",
       "185592                NaN  ...      20.0       20.0          210.0   \n",
       "53449                 NaN  ...      22.0       20.0            NaN   \n",
       "175440                NaN  ...      23.0       20.0            NaN   \n",
       "51712                 NaN  ...      21.0       20.0            NaN   \n",
       "102407                NaN  ...      21.0       20.0            NaN   \n",
       "138694  Chapinero Central  ...       0.0       20.0            NaN   \n",
       "96152                 NaN  ...       0.0       20.0            NaN   \n",
       "58649      Quinta Camacho  ...      24.0       20.0            NaN   \n",
       "69334               Marly  ...      45.0       20.0            NaN   \n",
       "8442                  NaN  ...       3.0       20.0            NaN   \n",
       "109313                NaN  ...      40.0       20.0          200.0   \n",
       "169137                NaN  ...      23.0       20.0         3287.0   \n",
       "42219           Las Aguas  ...      96.0       20.0            NaN   \n",
       "39286                 NaN  ...       0.0       20.0            NaN   \n",
       "63094                 NaN  ...      10.0       19.0            NaN   \n",
       "\n",
       "        surface_covered  currency  \\\n",
       "185592            692.0       COP   \n",
       "53449               NaN       COP   \n",
       "175440              NaN       COP   \n",
       "51712               NaN       COP   \n",
       "102407              NaN       COP   \n",
       "138694              NaN       COP   \n",
       "96152               NaN       COP   \n",
       "58649               NaN       COP   \n",
       "69334               NaN       COP   \n",
       "8442                NaN       COP   \n",
       "109313           1000.0       COP   \n",
       "169137            500.0       COP   \n",
       "42219               NaN       COP   \n",
       "39286               NaN       COP   \n",
       "63094               NaN       COP   \n",
       "\n",
       "                                                    title  \\\n",
       "185592  Edificio En Arriendo/venta En Cali Urbanizacin...   \n",
       "53449                     CASA EN VENTA, BOGOTA-CHAPINERO   \n",
       "175440            HOTEL EN VENTA, BARRANQUILLA-EL POBLADO   \n",
       "51712            EDIFICIO EN VENTA, BOGOTA-SANTA TERESITA   \n",
       "102407                      HOTEL EN VENTA, MELGAR-MELGAR   \n",
       "138694        EDIFICIO EN VENTA, BOGOTA-CHAPINERO CENTRAL   \n",
       "96152                 EDIFICIO EN VENTA, BOGOTA-EL DORADO   \n",
       "58649                CASA EN VENTA, BOGOTA-QUINTA CAMACHO   \n",
       "69334            EDIFICIO EN ARRIENDO/VENTA, BOGOTA-MARLY   \n",
       "8442          APARTAMENTO EN VENTA, BUCARAMANGA-CONCORDIA   \n",
       "109313      Edificio En Venta En Yopal Yopal Cod. VIRD315   \n",
       "169137  Casa Campestre En Venta En Rivera  Cod. VGBX49...   \n",
       "42219                    HOTEL EN VENTA, BOGOTA-LAS AGUAS   \n",
       "39286                          BODEGA EN VENTA, COTA-COTA   \n",
       "63094                      CASA EN VENTA, MONDOMO-MONDOMO   \n",
       "\n",
       "                                              description property_type  \\\n",
       "185592  Se Vende o Se alquila, edificio en la zona sur...          Otro   \n",
       "53449   Casa esquinera remodelada. ambiente acogedor. ...          Casa   \n",
       "175440  Medellín se ha convertido en un destino turíst...          Otro   \n",
       "51712   UBICADÍSIMO EDIFICIO ESQUINERO EN VENTA  21 HA...          Otro   \n",
       "102407  Hotel en privilegiada ubicación, colindante co...          Otro   \n",
       "138694  Edificio para venta en el sector de Chapinero....          Otro   \n",
       "96152   Excelente ubicación muy cerca de estaciones de...          Otro   \n",
       "58649   Arriendo Espectacular hotel  ubicado en el cor...          Casa   \n",
       "69334   espectacular edificio de 4000 mtrs2 construido...          Otro   \n",
       "8442    Inmogestion presenta este bonito apartamento e...   Apartamento   \n",
       "109313  SE VENDE ESPECTACULAR HOTEL UBICADO EN LA CIUD...          Otro   \n",
       "169137  Espectacular Hotel Campestre ubicado en el Cor...          Casa   \n",
       "42219   Perfecta ubicación en el centro de Bogotá. A t...          Otro   \n",
       "39286   Bodegas 545.04 Mts2 y oficinas 245,28. Mts2 pa...          Otro   \n",
       "63094   Amplia casa de campo posicionada y reconocida,...          Casa   \n",
       "\n",
       "                                   geometry target  \n",
       "185592                POINT (-76.545 3.421)      1  \n",
       "53449          POINT (-74.060546 4.6444642)      1  \n",
       "175440                          POINT EMPTY      1  \n",
       "51712         POINT (-74.0727222 4.6328001)      1  \n",
       "102407        POINT (-74.6317323 4.2046243)      1  \n",
       "138694                          POINT EMPTY      1  \n",
       "96152   POINT (-74.1304534018 4.6808835909)      1  \n",
       "58649         POINT (-74.0583932 4.6525474)      1  \n",
       "69334         POINT (-74.0643016 4.6373802)      0  \n",
       "8442          POINT (-73.1198842 7.1144635)      0  \n",
       "109313                POINT (-72.404 5.324)      1  \n",
       "169137                POINT (-75.227 2.811)      1  \n",
       "42219                           POINT EMPTY      1  \n",
       "39286         POINT (-74.1018383 4.8098502)      1  \n",
       "63094                           POINT EMPTY      1  \n",
       "\n",
       "[15 rows x 21 columns]"
      ]
     },
     "execution_count": 52,
     "metadata": {},
     "output_type": "execute_result"
    }
   ],
   "source": [
    "df_good_cols.sort_values(by=['bathrooms'], ascending=False).head(15)"
   ]
  },
  {
   "cell_type": "code",
   "execution_count": 53,
   "metadata": {},
   "outputs": [
    {
     "data": {
      "text/plain": [
       "Apartamento        98691\n",
       "Casa               59116\n",
       "Otro               16150\n",
       "Lote               15982\n",
       "Local comercial     1249\n",
       "Finca               1131\n",
       "Oficina             1071\n",
       "Parqueadero           10\n",
       "Name: property_type, dtype: int64"
      ]
     },
     "execution_count": 53,
     "metadata": {},
     "output_type": "execute_result"
    }
   ],
   "source": [
    "df_good_cols.property_type.value_counts()"
   ]
  },
  {
   "cell_type": "code",
   "execution_count": 54,
   "metadata": {},
   "outputs": [
    {
     "name": "stdout",
     "output_type": "stream",
     "text": [
      "<class 'numpy.ndarray'>\n"
     ]
    }
   ],
   "source": [
    "property_types = df_good_cols.property_type.unique()\n",
    "print(type(property_types))"
   ]
  },
  {
   "cell_type": "code",
   "execution_count": 55,
   "metadata": {},
   "outputs": [
    {
     "name": "stdout",
     "output_type": "stream",
     "text": [
      "\n",
      "House or apartment registries by amount of bathrooms:\n",
      "\n",
      "• 5 bathrooms:\n",
      "\t 11061\n",
      "• 6 bathrooms:\n",
      "\t 4390\n",
      "• 7 bathrooms:\n",
      "\t 2045\n",
      "• 8 bathrooms:\n",
      "\t 1134\n",
      "• 9 bathrooms:\n",
      "\t 661\n",
      "• 10 bathrooms:\n",
      "\t 412\n",
      "• 11 bathrooms:\n",
      "\t 30\n",
      "• 12 bathrooms:\n",
      "\t 26\n",
      "• 13 bathrooms:\n",
      "\t 20\n",
      "• 14 bathrooms:\n",
      "\t 13\n",
      "• 15 bathrooms:\n",
      "\t 10\n",
      "• 16 bathrooms:\n",
      "\t 7\n",
      "• 17 bathrooms:\n",
      "\t 7\n",
      "• 18 bathrooms:\n",
      "\t 7\n",
      "• 19 bathrooms:\n",
      "\t 6\n",
      "• 20 bathrooms:\n",
      "\t 4\n"
     ]
    }
   ],
   "source": [
    "print(f'\\nHouse or apartment registries by amount of bathrooms:\\n')\n",
    "for x in range(5,21):\n",
    "    print(f'• {x} bathrooms:')\n",
    "    print('\\t',len(df_good_cols.loc[((df_good_cols.property_type == 'Casa') | (df_good_cols.property_type == 'Apartamento'))&((df_good_cols.bathrooms >= x))]))"
   ]
  },
  {
   "cell_type": "markdown",
   "metadata": {},
   "source": [
    "It is very unlikely that a house or an apartment will have 6 or more bathrooms, for this reason, those values will be replaced by the floor rounded mean of the column (2)."
   ]
  },
  {
   "cell_type": "markdown",
   "metadata": {},
   "source": [
    "### 5) ADVERTISING FEATURES: currency, title & description "
   ]
  },
  {
   "cell_type": "code",
   "execution_count": 56,
   "metadata": {},
   "outputs": [
    {
     "name": "stdout",
     "output_type": "stream",
     "text": [
      "\n",
      "----- currency -----\n",
      " •Data types: {<class 'str'>, <class 'float'>}\n",
      " •Missing values:\n",
      "False    193396\n",
      "True          4\n",
      "Name: currency, dtype: int64 \n",
      "\n",
      "\n",
      "----- title -----\n",
      " •Data types: {<class 'str'>, <class 'float'>}\n",
      " •Missing values:\n",
      "False    193399\n",
      "True          1\n",
      "Name: title, dtype: int64 \n",
      "\n",
      "\n",
      "----- description -----\n",
      " •Data types: {<class 'str'>, <class 'float'>}\n",
      " •Missing values:\n",
      "False    193279\n",
      "True        121\n",
      "Name: description, dtype: int64 \n",
      "\n"
     ]
    }
   ],
   "source": [
    "advertising_features = ['currency', 'title', 'description']\n",
    "\n",
    "get_info(advertising_features)"
   ]
  },
  {
   "cell_type": "code",
   "execution_count": 57,
   "metadata": {},
   "outputs": [
    {
     "name": "stdout",
     "output_type": "stream",
     "text": [
      "<class 'pandas.core.frame.DataFrame'>\n",
      "Int64Index: 193400 entries, 0 to 197548\n",
      "Data columns (total 3 columns):\n",
      " #   Column       Non-Null Count   Dtype \n",
      "---  ------       --------------   ----- \n",
      " 0   currency     193396 non-null  object\n",
      " 1   title        193399 non-null  object\n",
      " 2   description  193279 non-null  object\n",
      "dtypes: object(3)\n",
      "memory usage: 5.9+ MB\n"
     ]
    }
   ],
   "source": [
    "df_good_cols[advertising_features].info()"
   ]
  },
  {
   "cell_type": "code",
   "execution_count": 58,
   "metadata": {},
   "outputs": [
    {
     "data": {
      "text/html": [
       "<div>\n",
       "<style scoped>\n",
       "    .dataframe tbody tr th:only-of-type {\n",
       "        vertical-align: middle;\n",
       "    }\n",
       "\n",
       "    .dataframe tbody tr th {\n",
       "        vertical-align: top;\n",
       "    }\n",
       "\n",
       "    .dataframe thead th {\n",
       "        text-align: right;\n",
       "    }\n",
       "</style>\n",
       "<table border=\"1\" class=\"dataframe\">\n",
       "  <thead>\n",
       "    <tr style=\"text-align: right;\">\n",
       "      <th></th>\n",
       "      <th>start_date</th>\n",
       "      <th>end_date</th>\n",
       "      <th>created_on</th>\n",
       "      <th>lat</th>\n",
       "      <th>lon</th>\n",
       "      <th>l2</th>\n",
       "      <th>l3</th>\n",
       "      <th>l4</th>\n",
       "      <th>l5</th>\n",
       "      <th>l6</th>\n",
       "      <th>...</th>\n",
       "      <th>bedrooms</th>\n",
       "      <th>bathrooms</th>\n",
       "      <th>surface_total</th>\n",
       "      <th>surface_covered</th>\n",
       "      <th>currency</th>\n",
       "      <th>title</th>\n",
       "      <th>description</th>\n",
       "      <th>property_type</th>\n",
       "      <th>geometry</th>\n",
       "      <th>target</th>\n",
       "    </tr>\n",
       "  </thead>\n",
       "  <tbody>\n",
       "    <tr>\n",
       "      <th>16240</th>\n",
       "      <td>2020-11-27</td>\n",
       "      <td>2020-11-27</td>\n",
       "      <td>2020-11-27</td>\n",
       "      <td>NaN</td>\n",
       "      <td>NaN</td>\n",
       "      <td>Valle del Cauca</td>\n",
       "      <td>Cali</td>\n",
       "      <td>NaN</td>\n",
       "      <td>NaN</td>\n",
       "      <td>NaN</td>\n",
       "      <td>...</td>\n",
       "      <td>6.0</td>\n",
       "      <td>2.0</td>\n",
       "      <td>NaN</td>\n",
       "      <td>NaN</td>\n",
       "      <td>NaN</td>\n",
       "      <td>Venta casa  barrio cuidad Córdoba cali vall</td>\n",
       "      <td>&lt;b&gt;Venta casa  barrio cuidad Córdoba cali vall...</td>\n",
       "      <td>Casa</td>\n",
       "      <td>POINT EMPTY</td>\n",
       "      <td>0</td>\n",
       "    </tr>\n",
       "    <tr>\n",
       "      <th>53528</th>\n",
       "      <td>2020-12-15</td>\n",
       "      <td>2020-12-15</td>\n",
       "      <td>2020-12-15</td>\n",
       "      <td>NaN</td>\n",
       "      <td>NaN</td>\n",
       "      <td>Tolima</td>\n",
       "      <td>Ibagué</td>\n",
       "      <td>NaN</td>\n",
       "      <td>NaN</td>\n",
       "      <td>NaN</td>\n",
       "      <td>...</td>\n",
       "      <td>4.0</td>\n",
       "      <td>NaN</td>\n",
       "      <td>NaN</td>\n",
       "      <td>NaN</td>\n",
       "      <td>NaN</td>\n",
       "      <td>VENDO APARTAMENTO  BALCONES DEL VERGEL</td>\n",
       "      <td>&lt;b&gt;VENDO APARTAMENTO  BALCONES DEL VERGEL&lt;/b&gt;&lt;...</td>\n",
       "      <td>Apartamento</td>\n",
       "      <td>POINT EMPTY</td>\n",
       "      <td>0</td>\n",
       "    </tr>\n",
       "    <tr>\n",
       "      <th>90818</th>\n",
       "      <td>2020-10-21</td>\n",
       "      <td>2020-10-21</td>\n",
       "      <td>2020-10-21</td>\n",
       "      <td>NaN</td>\n",
       "      <td>NaN</td>\n",
       "      <td>Antioquia</td>\n",
       "      <td>Sabaneta</td>\n",
       "      <td>NaN</td>\n",
       "      <td>NaN</td>\n",
       "      <td>NaN</td>\n",
       "      <td>...</td>\n",
       "      <td>3.0</td>\n",
       "      <td>NaN</td>\n",
       "      <td>NaN</td>\n",
       "      <td>NaN</td>\n",
       "      <td>NaN</td>\n",
       "      <td>Cod12 Aparatamento en Venta Poblado</td>\n",
       "      <td>&lt;br /&gt;\\n  &lt;br /&gt;\\n Ref#582518.</td>\n",
       "      <td>Apartamento</td>\n",
       "      <td>POINT EMPTY</td>\n",
       "      <td>0</td>\n",
       "    </tr>\n",
       "    <tr>\n",
       "      <th>119682</th>\n",
       "      <td>2020-10-21</td>\n",
       "      <td>2020-10-21</td>\n",
       "      <td>2020-10-21</td>\n",
       "      <td>NaN</td>\n",
       "      <td>NaN</td>\n",
       "      <td>Santander</td>\n",
       "      <td>Bucaramanga</td>\n",
       "      <td>NaN</td>\n",
       "      <td>NaN</td>\n",
       "      <td>NaN</td>\n",
       "      <td>...</td>\n",
       "      <td>NaN</td>\n",
       "      <td>NaN</td>\n",
       "      <td>NaN</td>\n",
       "      <td>NaN</td>\n",
       "      <td>NaN</td>\n",
       "      <td>Vendo Casa Campestre</td>\n",
       "      <td>&lt;br /&gt;\\n  &lt;br /&gt;\\n Ref#582835.</td>\n",
       "      <td>Finca</td>\n",
       "      <td>POINT EMPTY</td>\n",
       "      <td>0</td>\n",
       "    </tr>\n",
       "  </tbody>\n",
       "</table>\n",
       "<p>4 rows × 21 columns</p>\n",
       "</div>"
      ],
      "text/plain": [
       "        start_date    end_date  created_on  lat  lon               l2  \\\n",
       "16240   2020-11-27  2020-11-27  2020-11-27  NaN  NaN  Valle del Cauca   \n",
       "53528   2020-12-15  2020-12-15  2020-12-15  NaN  NaN           Tolima   \n",
       "90818   2020-10-21  2020-10-21  2020-10-21  NaN  NaN        Antioquia   \n",
       "119682  2020-10-21  2020-10-21  2020-10-21  NaN  NaN        Santander   \n",
       "\n",
       "                 l3   l4   l5   l6  ...  bedrooms  bathrooms  surface_total  \\\n",
       "16240          Cali  NaN  NaN  NaN  ...       6.0        2.0            NaN   \n",
       "53528        Ibagué  NaN  NaN  NaN  ...       4.0        NaN            NaN   \n",
       "90818      Sabaneta  NaN  NaN  NaN  ...       3.0        NaN            NaN   \n",
       "119682  Bucaramanga  NaN  NaN  NaN  ...       NaN        NaN            NaN   \n",
       "\n",
       "        surface_covered  currency  \\\n",
       "16240               NaN       NaN   \n",
       "53528               NaN       NaN   \n",
       "90818               NaN       NaN   \n",
       "119682              NaN       NaN   \n",
       "\n",
       "                                              title  \\\n",
       "16240   Venta casa  barrio cuidad Córdoba cali vall   \n",
       "53528        VENDO APARTAMENTO  BALCONES DEL VERGEL   \n",
       "90818           Cod12 Aparatamento en Venta Poblado   \n",
       "119682                         Vendo Casa Campestre   \n",
       "\n",
       "                                              description property_type  \\\n",
       "16240   <b>Venta casa  barrio cuidad Córdoba cali vall...          Casa   \n",
       "53528   <b>VENDO APARTAMENTO  BALCONES DEL VERGEL</b><...   Apartamento   \n",
       "90818                      <br />\\n  <br />\\n Ref#582518.   Apartamento   \n",
       "119682                     <br />\\n  <br />\\n Ref#582835.         Finca   \n",
       "\n",
       "           geometry target  \n",
       "16240   POINT EMPTY      0  \n",
       "53528   POINT EMPTY      0  \n",
       "90818   POINT EMPTY      0  \n",
       "119682  POINT EMPTY      0  \n",
       "\n",
       "[4 rows x 21 columns]"
      ]
     },
     "execution_count": 58,
     "metadata": {},
     "output_type": "execute_result"
    }
   ],
   "source": [
    "df_good_cols[df_good_cols['currency'].isnull()]"
   ]
  },
  {
   "cell_type": "code",
   "execution_count": 59,
   "metadata": {},
   "outputs": [
    {
     "data": {
      "text/plain": [
       "COP    193388\n",
       "USD         8\n",
       "Name: currency, dtype: int64"
      ]
     },
     "execution_count": 59,
     "metadata": {},
     "output_type": "execute_result"
    }
   ],
   "source": [
    "# Here we can see that 8 of the registers have a price in usd\n",
    "df_good_cols.currency.value_counts()"
   ]
  },
  {
   "cell_type": "code",
   "execution_count": 60,
   "metadata": {},
   "outputs": [
    {
     "data": {
      "text/html": [
       "<div>\n",
       "<style scoped>\n",
       "    .dataframe tbody tr th:only-of-type {\n",
       "        vertical-align: middle;\n",
       "    }\n",
       "\n",
       "    .dataframe tbody tr th {\n",
       "        vertical-align: top;\n",
       "    }\n",
       "\n",
       "    .dataframe thead th {\n",
       "        text-align: right;\n",
       "    }\n",
       "</style>\n",
       "<table border=\"1\" class=\"dataframe\">\n",
       "  <thead>\n",
       "    <tr style=\"text-align: right;\">\n",
       "      <th></th>\n",
       "      <th>start_date</th>\n",
       "      <th>end_date</th>\n",
       "      <th>created_on</th>\n",
       "      <th>lat</th>\n",
       "      <th>lon</th>\n",
       "      <th>l2</th>\n",
       "      <th>l3</th>\n",
       "      <th>l4</th>\n",
       "      <th>l5</th>\n",
       "      <th>l6</th>\n",
       "      <th>...</th>\n",
       "      <th>bedrooms</th>\n",
       "      <th>bathrooms</th>\n",
       "      <th>surface_total</th>\n",
       "      <th>surface_covered</th>\n",
       "      <th>currency</th>\n",
       "      <th>title</th>\n",
       "      <th>description</th>\n",
       "      <th>property_type</th>\n",
       "      <th>geometry</th>\n",
       "      <th>target</th>\n",
       "    </tr>\n",
       "  </thead>\n",
       "  <tbody>\n",
       "    <tr>\n",
       "      <th>5902</th>\n",
       "      <td>2020-08-25</td>\n",
       "      <td>9999-12-31</td>\n",
       "      <td>2020-08-25</td>\n",
       "      <td>4.914310</td>\n",
       "      <td>-73.993189</td>\n",
       "      <td>Cundinamarca</td>\n",
       "      <td>Sopó</td>\n",
       "      <td>NaN</td>\n",
       "      <td>NaN</td>\n",
       "      <td>NaN</td>\n",
       "      <td>...</td>\n",
       "      <td>3.0</td>\n",
       "      <td>NaN</td>\n",
       "      <td>NaN</td>\n",
       "      <td>NaN</td>\n",
       "      <td>USD</td>\n",
       "      <td>Vendo espectacular casa entre Bogota y Briceño</td>\n",
       "      <td>Espectacular casa entre Bogota- Briceño km 12 ...</td>\n",
       "      <td>Casa</td>\n",
       "      <td>POINT (-73.9931885 4.9143096)</td>\n",
       "      <td>0</td>\n",
       "    </tr>\n",
       "    <tr>\n",
       "      <th>49196</th>\n",
       "      <td>2020-10-07</td>\n",
       "      <td>2021-01-22</td>\n",
       "      <td>2020-10-07</td>\n",
       "      <td>10.513831</td>\n",
       "      <td>-75.498685</td>\n",
       "      <td>Bolívar</td>\n",
       "      <td>Cartagena</td>\n",
       "      <td>NaN</td>\n",
       "      <td>NaN</td>\n",
       "      <td>NaN</td>\n",
       "      <td>...</td>\n",
       "      <td>5.0</td>\n",
       "      <td>NaN</td>\n",
       "      <td>NaN</td>\n",
       "      <td>NaN</td>\n",
       "      <td>USD</td>\n",
       "      <td>Exclusive beach house for sale - Manzanillo de...</td>\n",
       "      <td>¡EXCLUSIVE BEACH HOUSE FOR SALE - MANZANILLO D...</td>\n",
       "      <td>Casa</td>\n",
       "      <td>POINT (-75.4986852407 10.5138313669)</td>\n",
       "      <td>0</td>\n",
       "    </tr>\n",
       "    <tr>\n",
       "      <th>56159</th>\n",
       "      <td>2020-10-26</td>\n",
       "      <td>2020-10-26</td>\n",
       "      <td>2020-10-26</td>\n",
       "      <td>4.739003</td>\n",
       "      <td>-74.098302</td>\n",
       "      <td>Cundinamarca</td>\n",
       "      <td>Bogotá D.C</td>\n",
       "      <td>Zona Noroccidental</td>\n",
       "      <td>NaN</td>\n",
       "      <td>NaN</td>\n",
       "      <td>...</td>\n",
       "      <td>5.0</td>\n",
       "      <td>NaN</td>\n",
       "      <td>NaN</td>\n",
       "      <td>NaN</td>\n",
       "      <td>USD</td>\n",
       "      <td>Casa en Venta Costa del Este RAH PA: 20-11172</td>\n",
       "      <td>Viva en una casa espaciosa con terrazas y pati...</td>\n",
       "      <td>Casa</td>\n",
       "      <td>POINT (-74.098302 4.7390028)</td>\n",
       "      <td>0</td>\n",
       "    </tr>\n",
       "    <tr>\n",
       "      <th>56522</th>\n",
       "      <td>2020-10-26</td>\n",
       "      <td>2020-10-26</td>\n",
       "      <td>2020-10-26</td>\n",
       "      <td>4.695757</td>\n",
       "      <td>-74.043894</td>\n",
       "      <td>Cundinamarca</td>\n",
       "      <td>Bogotá D.C</td>\n",
       "      <td>Zona Norte</td>\n",
       "      <td>Usaquén</td>\n",
       "      <td>NaN</td>\n",
       "      <td>...</td>\n",
       "      <td>4.0</td>\n",
       "      <td>NaN</td>\n",
       "      <td>NaN</td>\n",
       "      <td>NaN</td>\n",
       "      <td>USD</td>\n",
       "      <td>Apartamento en Venta Santa Maria RAH PA: 20-10683</td>\n",
       "      <td>Majestuoso apartamento a estrenar con la mejor...</td>\n",
       "      <td>Apartamento</td>\n",
       "      <td>POINT (-74.0438943 4.6957568)</td>\n",
       "      <td>0</td>\n",
       "    </tr>\n",
       "    <tr>\n",
       "      <th>116979</th>\n",
       "      <td>2020-09-13</td>\n",
       "      <td>2021-01-12</td>\n",
       "      <td>2020-09-13</td>\n",
       "      <td>NaN</td>\n",
       "      <td>NaN</td>\n",
       "      <td>Santander</td>\n",
       "      <td>Bucaramanga</td>\n",
       "      <td>NaN</td>\n",
       "      <td>NaN</td>\n",
       "      <td>NaN</td>\n",
       "      <td>...</td>\n",
       "      <td>NaN</td>\n",
       "      <td>NaN</td>\n",
       "      <td>NaN</td>\n",
       "      <td>NaN</td>\n",
       "      <td>USD</td>\n",
       "      <td>Villa for sale Bali</td>\n",
       "      <td>Villa for sale Bali&lt;br /&gt;\\n&lt;br /&gt;\\nLocation: J...</td>\n",
       "      <td>Finca</td>\n",
       "      <td>POINT EMPTY</td>\n",
       "      <td>0</td>\n",
       "    </tr>\n",
       "    <tr>\n",
       "      <th>136236</th>\n",
       "      <td>2020-09-16</td>\n",
       "      <td>2020-10-29</td>\n",
       "      <td>2020-09-16</td>\n",
       "      <td>4.622794</td>\n",
       "      <td>-74.090960</td>\n",
       "      <td>Cundinamarca</td>\n",
       "      <td>Bogotá D.C</td>\n",
       "      <td>Zona Centro</td>\n",
       "      <td>Puente Aranda</td>\n",
       "      <td>NaN</td>\n",
       "      <td>...</td>\n",
       "      <td>3.0</td>\n",
       "      <td>2.0</td>\n",
       "      <td>NaN</td>\n",
       "      <td>NaN</td>\n",
       "      <td>USD</td>\n",
       "      <td>Venta Casa Excelente</td>\n",
       "      <td>&lt;br /&gt;\\n - Calefacción\\n- Parrilla\\n &lt;br /&gt;\\n ...</td>\n",
       "      <td>Casa</td>\n",
       "      <td>POINT (-74.0909602 4.622794)</td>\n",
       "      <td>0</td>\n",
       "    </tr>\n",
       "    <tr>\n",
       "      <th>137025</th>\n",
       "      <td>2020-08-29</td>\n",
       "      <td>9999-12-31</td>\n",
       "      <td>2020-08-29</td>\n",
       "      <td>12.585979</td>\n",
       "      <td>-81.714549</td>\n",
       "      <td>San Andrés Providencia y Santa Catalina</td>\n",
       "      <td>NaN</td>\n",
       "      <td>NaN</td>\n",
       "      <td>NaN</td>\n",
       "      <td>NaN</td>\n",
       "      <td>...</td>\n",
       "      <td>0.0</td>\n",
       "      <td>NaN</td>\n",
       "      <td>NaN</td>\n",
       "      <td>NaN</td>\n",
       "      <td>USD</td>\n",
       "      <td>HOTEL EN VENTA EN LA ISLA DE SAN ANDRÉS</td>\n",
       "      <td>\\nUn Hotel Boutique TOTALMENTE frente al mar.\\...</td>\n",
       "      <td>Otro</td>\n",
       "      <td>POINT (-81.7145490646 12.5859785199)</td>\n",
       "      <td>0</td>\n",
       "    </tr>\n",
       "    <tr>\n",
       "      <th>167143</th>\n",
       "      <td>2020-08-08</td>\n",
       "      <td>9999-12-31</td>\n",
       "      <td>2020-08-08</td>\n",
       "      <td>10.829302</td>\n",
       "      <td>-75.160260</td>\n",
       "      <td>Atlántico</td>\n",
       "      <td>NaN</td>\n",
       "      <td>NaN</td>\n",
       "      <td>NaN</td>\n",
       "      <td>NaN</td>\n",
       "      <td>...</td>\n",
       "      <td>NaN</td>\n",
       "      <td>NaN</td>\n",
       "      <td>NaN</td>\n",
       "      <td>NaN</td>\n",
       "      <td>USD</td>\n",
       "      <td>Lote en venta Vía Barranquilla Cartagena</td>\n",
       "      <td>OPORTUNIDAD DE INVERSIÒN EN EL CARIBE COLOMBIA...</td>\n",
       "      <td>Lote</td>\n",
       "      <td>POINT (-75.1602602005 10.8293016581)</td>\n",
       "      <td>0</td>\n",
       "    </tr>\n",
       "  </tbody>\n",
       "</table>\n",
       "<p>8 rows × 21 columns</p>\n",
       "</div>"
      ],
      "text/plain": [
       "        start_date    end_date  created_on        lat        lon  \\\n",
       "5902    2020-08-25  9999-12-31  2020-08-25   4.914310 -73.993189   \n",
       "49196   2020-10-07  2021-01-22  2020-10-07  10.513831 -75.498685   \n",
       "56159   2020-10-26  2020-10-26  2020-10-26   4.739003 -74.098302   \n",
       "56522   2020-10-26  2020-10-26  2020-10-26   4.695757 -74.043894   \n",
       "116979  2020-09-13  2021-01-12  2020-09-13        NaN        NaN   \n",
       "136236  2020-09-16  2020-10-29  2020-09-16   4.622794 -74.090960   \n",
       "137025  2020-08-29  9999-12-31  2020-08-29  12.585979 -81.714549   \n",
       "167143  2020-08-08  9999-12-31  2020-08-08  10.829302 -75.160260   \n",
       "\n",
       "                                             l2           l3  \\\n",
       "5902                               Cundinamarca         Sopó   \n",
       "49196                                   Bolívar    Cartagena   \n",
       "56159                              Cundinamarca   Bogotá D.C   \n",
       "56522                              Cundinamarca   Bogotá D.C   \n",
       "116979                                Santander  Bucaramanga   \n",
       "136236                             Cundinamarca   Bogotá D.C   \n",
       "137025  San Andrés Providencia y Santa Catalina          NaN   \n",
       "167143                                Atlántico          NaN   \n",
       "\n",
       "                        l4             l5   l6  ...  bedrooms  bathrooms  \\\n",
       "5902                   NaN            NaN  NaN  ...       3.0        NaN   \n",
       "49196                  NaN            NaN  NaN  ...       5.0        NaN   \n",
       "56159   Zona Noroccidental            NaN  NaN  ...       5.0        NaN   \n",
       "56522           Zona Norte        Usaquén  NaN  ...       4.0        NaN   \n",
       "116979                 NaN            NaN  NaN  ...       NaN        NaN   \n",
       "136236         Zona Centro  Puente Aranda  NaN  ...       3.0        2.0   \n",
       "137025                 NaN            NaN  NaN  ...       0.0        NaN   \n",
       "167143                 NaN            NaN  NaN  ...       NaN        NaN   \n",
       "\n",
       "        surface_total  surface_covered  currency  \\\n",
       "5902              NaN              NaN       USD   \n",
       "49196             NaN              NaN       USD   \n",
       "56159             NaN              NaN       USD   \n",
       "56522             NaN              NaN       USD   \n",
       "116979            NaN              NaN       USD   \n",
       "136236            NaN              NaN       USD   \n",
       "137025            NaN              NaN       USD   \n",
       "167143            NaN              NaN       USD   \n",
       "\n",
       "                                                    title  \\\n",
       "5902       Vendo espectacular casa entre Bogota y Briceño   \n",
       "49196   Exclusive beach house for sale - Manzanillo de...   \n",
       "56159       Casa en Venta Costa del Este RAH PA: 20-11172   \n",
       "56522   Apartamento en Venta Santa Maria RAH PA: 20-10683   \n",
       "116979                                Villa for sale Bali   \n",
       "136236                               Venta Casa Excelente   \n",
       "137025           HOTEL EN VENTA EN LA ISLA DE SAN ANDRÉS    \n",
       "167143           Lote en venta Vía Barranquilla Cartagena   \n",
       "\n",
       "                                              description property_type  \\\n",
       "5902    Espectacular casa entre Bogota- Briceño km 12 ...          Casa   \n",
       "49196   ¡EXCLUSIVE BEACH HOUSE FOR SALE - MANZANILLO D...          Casa   \n",
       "56159   Viva en una casa espaciosa con terrazas y pati...          Casa   \n",
       "56522   Majestuoso apartamento a estrenar con la mejor...   Apartamento   \n",
       "116979  Villa for sale Bali<br />\\n<br />\\nLocation: J...         Finca   \n",
       "136236  <br />\\n - Calefacción\\n- Parrilla\\n <br />\\n ...          Casa   \n",
       "137025  \\nUn Hotel Boutique TOTALMENTE frente al mar.\\...          Otro   \n",
       "167143  OPORTUNIDAD DE INVERSIÒN EN EL CARIBE COLOMBIA...          Lote   \n",
       "\n",
       "                                    geometry target  \n",
       "5902           POINT (-73.9931885 4.9143096)      0  \n",
       "49196   POINT (-75.4986852407 10.5138313669)      0  \n",
       "56159           POINT (-74.098302 4.7390028)      0  \n",
       "56522          POINT (-74.0438943 4.6957568)      0  \n",
       "116979                           POINT EMPTY      0  \n",
       "136236          POINT (-74.0909602 4.622794)      0  \n",
       "137025  POINT (-81.7145490646 12.5859785199)      0  \n",
       "167143  POINT (-75.1602602005 10.8293016581)      0  \n",
       "\n",
       "[8 rows x 21 columns]"
      ]
     },
     "execution_count": 60,
     "metadata": {},
     "output_type": "execute_result"
    }
   ],
   "source": [
    "df_good_cols.loc[df_good_cols.currency=='USD']"
   ]
  },
  {
   "cell_type": "code",
   "execution_count": 61,
   "metadata": {},
   "outputs": [
    {
     "data": {
      "text/plain": [
       "False    111313\n",
       "True      82087\n",
       "Name: description, dtype: int64"
      ]
     },
     "execution_count": 61,
     "metadata": {},
     "output_type": "execute_result"
    }
   ],
   "source": [
    "df_good_cols.description.duplicated().value_counts()\n"
   ]
  },
  {
   "cell_type": "code",
   "execution_count": 62,
   "metadata": {},
   "outputs": [
    {
     "data": {
      "text/plain": [
       "\"\\nx = df_good_cols[['description','property_type','target']].sample(15)\\nprint(x)\\nfor y in x.description:\\n    print('----------------------------------------')\\n    print(y)\\n\""
      ]
     },
     "execution_count": 62,
     "metadata": {},
     "output_type": "execute_result"
    }
   ],
   "source": [
    "# In this cell we analized the properties' descriptions in order to fin key word that may help us identify a positive target, in case we use NPL\n",
    "# The lists are saved in the next cell\n",
    "'''\n",
    "x = df_good_cols[['description','property_type','target']].sample(15)\n",
    "print(x)\n",
    "for y in x.description:\n",
    "    print('----------------------------------------')\n",
    "    print(y)\n",
    "'''"
   ]
  },
  {
   "cell_type": "code",
   "execution_count": 63,
   "metadata": {},
   "outputs": [],
   "source": [
    "description_expensive = ['excelente', 'exclusivo', 'exclusiva', 'club', 'mejor', 'lujo', 'playa', 'piscina', 'jacuzzi', 'terraza', 'campestre', 'condominio']\n",
    "description_cheap = ['negociable', 'economico', 'economica', 'sencillo', 'sencilla']"
   ]
  },
  {
   "cell_type": "code",
   "execution_count": 64,
   "metadata": {},
   "outputs": [
    {
     "data": {
      "text/plain": [
       "True     98436\n",
       "False    94964\n",
       "Name: title, dtype: int64"
      ]
     },
     "execution_count": 64,
     "metadata": {},
     "output_type": "execute_result"
    }
   ],
   "source": [
    "df_good_cols.title.duplicated().value_counts()"
   ]
  },
  {
   "cell_type": "markdown",
   "metadata": {},
   "source": [
    "## -------------- D A T A --- P R E P R O C E S S I N G --- 1 --------------"
   ]
  },
  {
   "cell_type": "markdown",
   "metadata": {},
   "source": [
    "### ------------------------ DEFINING THE SUBSET(S) OF TRAINING DATA ------------------------"
   ]
  },
  {
   "cell_type": "markdown",
   "metadata": {},
   "source": [
    "Now that we have filtered out some columns (resulting in teh datasets 'df_good_cols' and 'df_good_cols_no_dates'), we can explore whether it is convenient to further filter our training data or if it is okay to go."
   ]
  },
  {
   "cell_type": "code",
   "execution_count": 65,
   "metadata": {},
   "outputs": [
    {
     "data": {
      "text/plain": [
       "((193400, 21),\n",
       " Index(['start_date', 'end_date', 'created_on', 'lat', 'lon', 'l2', 'l3', 'l4',\n",
       "        'l5', 'l6', 'rooms', 'bedrooms', 'bathrooms', 'surface_total',\n",
       "        'surface_covered', 'currency', 'title', 'description', 'property_type',\n",
       "        'geometry', 'target'],\n",
       "       dtype='object'),\n",
       " 'DUPLICATED REGISTRIES: False    193400\\ndtype: int64')"
      ]
     },
     "execution_count": 65,
     "metadata": {},
     "output_type": "execute_result"
    }
   ],
   "source": [
    "df_good_cols.shape, df_good_cols.columns, f'DUPLICATED REGISTRIES: {df_good_cols.duplicated().value_counts()}'"
   ]
  },
  {
   "cell_type": "code",
   "execution_count": 66,
   "metadata": {},
   "outputs": [
    {
     "data": {
      "text/plain": [
       "((120421, 18),\n",
       " Index(['lat', 'lon', 'l2', 'l3', 'l4', 'l5', 'l6', 'rooms', 'bedrooms',\n",
       "        'bathrooms', 'surface_total', 'surface_covered', 'currency', 'title',\n",
       "        'description', 'property_type', 'geometry', 'target'],\n",
       "       dtype='object'),\n",
       " 'DUPLICATED REGISTRIES: False    120421\\ndtype: int64')"
      ]
     },
     "execution_count": 66,
     "metadata": {},
     "output_type": "execute_result"
    }
   ],
   "source": [
    "df_good_cols_no_dates.shape, df_good_cols_no_dates.columns,f'DUPLICATED REGISTRIES: {df_good_cols_no_dates.duplicated().value_counts()}'"
   ]
  },
  {
   "cell_type": "code",
   "execution_count": 67,
   "metadata": {},
   "outputs": [
    {
     "data": {
      "text/plain": [
       "False    111313\n",
       "True       9108\n",
       "Name: description, dtype: int64"
      ]
     },
     "execution_count": 67,
     "metadata": {},
     "output_type": "execute_result"
    }
   ],
   "source": [
    "df_good_cols_no_dates.description.duplicated().value_counts()"
   ]
  },
  {
   "cell_type": "code",
   "execution_count": 68,
   "metadata": {},
   "outputs": [
    {
     "data": {
      "text/plain": [
       "(111313, 18)"
      ]
     },
     "execution_count": 68,
     "metadata": {},
     "output_type": "execute_result"
    }
   ],
   "source": [
    "df_minimal = df_good_cols_no_dates.drop_duplicates(subset='description').copy()\n",
    "df_minimal.shape"
   ]
  },
  {
   "cell_type": "code",
   "execution_count": 69,
   "metadata": {},
   "outputs": [
    {
     "data": {
      "text/plain": [
       "False    89757\n",
       "True     21556\n",
       "Name: title, dtype: int64"
      ]
     },
     "execution_count": 69,
     "metadata": {},
     "output_type": "execute_result"
    }
   ],
   "source": [
    "df_minimal.title.duplicated().value_counts()"
   ]
  },
  {
   "cell_type": "code",
   "execution_count": 70,
   "metadata": {},
   "outputs": [],
   "source": [
    "X1 = df_good_cols.drop('target',axis=1)\n",
    "y1 = df_good_cols.target\n",
    "X2 = df_good_cols_no_dates.drop('target',axis=1)\n",
    "y2 = df_good_cols_no_dates.target\n",
    "X3 = df_minimal.drop('target',axis=1)\n",
    "y3 = df_minimal.target"
   ]
  },
  {
   "cell_type": "markdown",
   "metadata": {},
   "source": [
    "### ------------------------------------ CREATING THE PIPELINE ------------------------------------"
   ]
  },
  {
   "cell_type": "markdown",
   "metadata": {},
   "source": [
    "We will design a pipeline the recieves a dataset with (at least) the same features as 'df_minimal' (minus the target column). \n",
    "\n",
    "This pipeline will perform the necessary changes to the dataset, feed it to a model of our selection, perform a cross validation and give us the results.\n",
    "\n",
    "As we concluded on the previous section, we will select a few features that will be considered relevant to continue with the data preprocessing and model training: l2, l3, lat, lon, bathrooms and property_type."
   ]
  },
  {
   "cell_type": "markdown",
   "metadata": {},
   "source": [
    "l2--- categorical (needs encoding). MissVal (0, ok!)\n",
    "\n",
    "l3--- categorical (needs encoding). MissVal (needs imputation using 'capitals')\n",
    "\n",
    "lat--- numerical (ok). MissVal (needs imputation using 'dep_ciud_lat_lon') -standard scaler\n",
    "\n",
    "lon--- numerical (ok). MissVal (needs imputation using 'dep_ciud_lat_lon')\n",
    "\n",
    "bathrooms-- numerical (ok). MissVal (needs imputation using mean 2). Replace values greater than 5 (and with property type 'casa' or 'apartamento) with 2 by 2\n",
    "\n",
    "property_type--- categorical (needs encoding). MissVal (0, ok!)\n",
    "\n",
    "description-- generate numerical column depending on whether text appears on expensive_list or cheap_list (pending implementation)"
   ]
  },
  {
   "cell_type": "code",
   "execution_count": 71,
   "metadata": {},
   "outputs": [],
   "source": [
    "from sklearn.preprocessing import StandardScaler, MinMaxScaler, FunctionTransformer, OneHotEncoder\n",
    "from sklearn.neighbors import KNeighborsClassifier\n",
    "from sklearn.tree import DecisionTreeClassifier\n",
    "from sklearn.decomposition import PCA\n",
    "from sklearn.pipeline import Pipeline, make_pipeline\n",
    "from sklearn.ensemble import RandomForestClassifier\n",
    "from sklearn.svm import LinearSVC, SVC\n",
    "from sklearn.metrics import confusion_matrix, accuracy_score, recall_score, classification_report\n",
    "from sklearn.model_selection import train_test_split, cross_val_score, cross_validate, GridSearchCV"
   ]
  },
  {
   "cell_type": "markdown",
   "metadata": {},
   "source": [
    "#### Here we define some helper functions that will be used to fill missing values during the preprocessing"
   ]
  },
  {
   "cell_type": "code",
   "execution_count": 72,
   "metadata": {},
   "outputs": [],
   "source": [
    "def fill_l3(df):\n",
    "    l3_ok = []\n",
    "    for x in range(len(df)):\n",
    "        if type(df.loc[x,'l3']) == float:\n",
    "            dep = df.loc[x,'l2']\n",
    "            l3_ok.append(str(capitals[dep]))\n",
    "        else:\n",
    "            l3_ok.append(str(df.loc[x,'l3']))\n",
    "    return pd.Series(l3_ok)"
   ]
  },
  {
   "cell_type": "code",
   "execution_count": 73,
   "metadata": {},
   "outputs": [],
   "source": [
    "def fill_coor(df):\n",
    "    lat_ok = []\n",
    "    lon_ok = []\n",
    "    for x in range(len(df)):\n",
    "        if str(df.loc[x,'lat']) == 'nan':\n",
    "            dep, city = df.loc[x,'l2':'l3']\n",
    "            #print('NAN FOUND: ',dep, city, df.loc[x,'lat'], df.loc[x,'lon'])\n",
    "            try:\n",
    "                lat_ok.append(float(dep_ciud_lat_lon[dep][city]['lat']))\n",
    "                lon_ok.append(float(dep_ciud_lat_lon[dep][city]['lon']))\n",
    "            except KeyError:\n",
    "                geolocator = Nominatim(user_agent='acidminded')\n",
    "                geocode = RateLimiter(geolocator.geocode, min_delay_seconds=1)\n",
    "                txt = f'{city}, {dep}'\n",
    "                coor = geocode(txt)\n",
    "                lat_ok.append(coor.latitude)\n",
    "                lon_ok.append(coor.longitude)\n",
    "                dep_ciud_lat_lon[dep][city] = {'lat':coor.latitude, 'lon':coor.longitude}\n",
    "                print(f'NEW DATA: {dep}{city} lat: {coor.latitude} lon: {coor.longitude}')\n",
    "        else:\n",
    "            lat_ok.append(df.loc[x,'lat'])\n",
    "            lon_ok.append(df.loc[x,'lon'])\n",
    "    return pd.Series(lat_ok), pd.Series(lon_ok)"
   ]
  },
  {
   "cell_type": "code",
   "execution_count": 74,
   "metadata": {},
   "outputs": [],
   "source": [
    "prtypes = ['Casa', 'Apartamento', 'Otro', 'Oficina', 'Finca', 'Lote', 'Local comercial', 'Parqueadero']\n",
    "prtypes_avgbtrms = {}\n",
    "\n",
    "for x in prtypes:\n",
    "    prtypes_avgbtrms[x] = X1.loc[X1.property_type==x].bathrooms.mean()\n",
    "    if str(prtypes_avgbtrms[x]) == 'nan':\n",
    "        prtypes_avgbtrms[x] = 1\n",
    "for x in prtypes_avgbtrms:\n",
    "    prtypes_avgbtrms[x] = round(prtypes_avgbtrms[x])"
   ]
  },
  {
   "cell_type": "code",
   "execution_count": 75,
   "metadata": {},
   "outputs": [],
   "source": [
    "def fill_bathrooms(df):  #hehe\n",
    "    btrms_ok = []\n",
    "    for x in range(len(df)):\n",
    "        btrms = df.loc[x,'bathrooms'] \n",
    "        prtype = df.loc[x,'property_type']\n",
    "\n",
    "        if str(btrms) == 'nan':\n",
    "            btrms_ok.append(prtypes_avgbtrms[prtype])\n",
    "        elif btrms >= 6:\n",
    "            if prtype in ['Casa', 'Apartamento']:\n",
    "                btrms_ok.append(float(2))\n",
    "            else:\n",
    "                btrms_ok.append(btrms)\n",
    "        else:\n",
    "            btrms_ok.append(btrms)\n",
    "    return pd.Series(btrms_ok)"
   ]
  },
  {
   "cell_type": "code",
   "execution_count": 76,
   "metadata": {},
   "outputs": [],
   "source": [
    "def fill_description(df):\n",
    "    dsc_ok = []\n",
    "    for x in range(len(df)):\n",
    "        dsc = df.loc[x,'description'] \n",
    "        if str(dsc) == 'nan':\n",
    "            dsc_ok.append('no description')\n",
    "        else:\n",
    "            dsc_ok.append(dsc)\n",
    "    return pd.Series(dsc_ok)"
   ]
  },
  {
   "cell_type": "code",
   "execution_count": 77,
   "metadata": {},
   "outputs": [],
   "source": [
    "def fill_nan(dataset, l3=True, coor=True, bathrooms=True, description=False):\n",
    "    if description:\n",
    "        X = dataset[['bathrooms', 'lat', 'lon', 'l2', 'l3', 'property_type', 'description']]\n",
    "        X.reset_index(inplace=True, drop=True)\n",
    "        X['description'] = fill_description(X)\n",
    "        X['description'] = X['description'].astype('category')\n",
    "    else:\n",
    "        X = dataset[['bathrooms', 'lat', 'lon', 'l2', 'l3', 'property_type']]\n",
    "        X.reset_index(inplace=True, drop=True)\n",
    "    # Fill missing values\n",
    "    if l3:\n",
    "        X['l3'] = fill_l3(X)\n",
    "    if coor:\n",
    "        X['lat'], X['lon'] = fill_coor(X)\n",
    "    if bathrooms:\n",
    "        X['bathrooms'] = fill_bathrooms(X)\n",
    "        \n",
    "    # Prepare to transform to numerical\n",
    "    X['l2'] = X['l2'].astype('category')\n",
    "    X['l3'] = X['l3'].astype('category')\n",
    "    X['property_type'] = X['property_type'].astype('category')\n",
    "    \n",
    "    \n",
    "    return X"
   ]
  },
  {
   "cell_type": "code",
   "execution_count": 78,
   "metadata": {},
   "outputs": [
    {
     "data": {
      "text/plain": [
       "start_date              0\n",
       "end_date                0\n",
       "created_on              0\n",
       "lat                 48518\n",
       "lon                 48518\n",
       "l2                      0\n",
       "l3                  10830\n",
       "l4                 149052\n",
       "l5                 166624\n",
       "l6                 186607\n",
       "rooms              165948\n",
       "bedrooms           153024\n",
       "bathrooms           40377\n",
       "surface_total      186458\n",
       "surface_covered    183645\n",
       "currency                4\n",
       "title                   1\n",
       "description           121\n",
       "property_type           0\n",
       "geometry                0\n",
       "dtype: int64"
      ]
     },
     "execution_count": 78,
     "metadata": {},
     "output_type": "execute_result"
    }
   ],
   "source": [
    "X1.isnull().sum()"
   ]
  },
  {
   "cell_type": "code",
   "execution_count": 79,
   "metadata": {},
   "outputs": [
    {
     "data": {
      "text/plain": [
       "bathrooms        0\n",
       "lat              0\n",
       "lon              0\n",
       "l2               0\n",
       "l3               0\n",
       "property_type    0\n",
       "dtype: int64"
      ]
     },
     "execution_count": 79,
     "metadata": {},
     "output_type": "execute_result"
    }
   ],
   "source": [
    "X_ok = fill_nan(X1, description=False)\n",
    "X_ok.isnull().sum()\n"
   ]
  },
  {
   "cell_type": "code",
   "execution_count": 80,
   "metadata": {},
   "outputs": [
    {
     "data": {
      "text/html": [
       "<div>\n",
       "<style scoped>\n",
       "    .dataframe tbody tr th:only-of-type {\n",
       "        vertical-align: middle;\n",
       "    }\n",
       "\n",
       "    .dataframe tbody tr th {\n",
       "        vertical-align: top;\n",
       "    }\n",
       "\n",
       "    .dataframe thead th {\n",
       "        text-align: right;\n",
       "    }\n",
       "</style>\n",
       "<table border=\"1\" class=\"dataframe\">\n",
       "  <thead>\n",
       "    <tr style=\"text-align: right;\">\n",
       "      <th></th>\n",
       "      <th>bathrooms</th>\n",
       "      <th>lat</th>\n",
       "      <th>lon</th>\n",
       "      <th>l2</th>\n",
       "      <th>l3</th>\n",
       "      <th>property_type</th>\n",
       "    </tr>\n",
       "  </thead>\n",
       "  <tbody>\n",
       "    <tr>\n",
       "      <th>0</th>\n",
       "      <td>4.0</td>\n",
       "      <td>6.203000</td>\n",
       "      <td>-75.572000</td>\n",
       "      <td>Antioquia</td>\n",
       "      <td>Medellín</td>\n",
       "      <td>Casa</td>\n",
       "    </tr>\n",
       "    <tr>\n",
       "      <th>1</th>\n",
       "      <td>2.0</td>\n",
       "      <td>4.722748</td>\n",
       "      <td>-74.073115</td>\n",
       "      <td>Cundinamarca</td>\n",
       "      <td>Bogotá D.C</td>\n",
       "      <td>Apartamento</td>\n",
       "    </tr>\n",
       "    <tr>\n",
       "      <th>2</th>\n",
       "      <td>2.0</td>\n",
       "      <td>4.709000</td>\n",
       "      <td>-74.030000</td>\n",
       "      <td>Cundinamarca</td>\n",
       "      <td>Bogotá D.C</td>\n",
       "      <td>Casa</td>\n",
       "    </tr>\n",
       "    <tr>\n",
       "      <th>3</th>\n",
       "      <td>1.0</td>\n",
       "      <td>7.117263</td>\n",
       "      <td>-73.115667</td>\n",
       "      <td>Santander</td>\n",
       "      <td>Bucaramanga</td>\n",
       "      <td>Otro</td>\n",
       "    </tr>\n",
       "    <tr>\n",
       "      <th>4</th>\n",
       "      <td>2.0</td>\n",
       "      <td>6.244338</td>\n",
       "      <td>-75.573553</td>\n",
       "      <td>Antioquia</td>\n",
       "      <td>Medellín</td>\n",
       "      <td>Apartamento</td>\n",
       "    </tr>\n",
       "  </tbody>\n",
       "</table>\n",
       "</div>"
      ],
      "text/plain": [
       "   bathrooms       lat        lon            l2           l3 property_type\n",
       "0        4.0  6.203000 -75.572000     Antioquia     Medellín          Casa\n",
       "1        2.0  4.722748 -74.073115  Cundinamarca   Bogotá D.C   Apartamento\n",
       "2        2.0  4.709000 -74.030000  Cundinamarca   Bogotá D.C          Casa\n",
       "3        1.0  7.117263 -73.115667     Santander  Bucaramanga          Otro\n",
       "4        2.0  6.244338 -75.573553     Antioquia     Medellín   Apartamento"
      ]
     },
     "execution_count": 80,
     "metadata": {},
     "output_type": "execute_result"
    }
   ],
   "source": [
    "X_ok.head()"
   ]
  },
  {
   "cell_type": "code",
   "execution_count": 81,
   "metadata": {},
   "outputs": [
    {
     "data": {
      "text/plain": [
       "bathrooms        0\n",
       "lat              0\n",
       "lon              0\n",
       "l2               0\n",
       "l3               0\n",
       "property_type    0\n",
       "dtype: int64"
      ]
     },
     "execution_count": 81,
     "metadata": {},
     "output_type": "execute_result"
    }
   ],
   "source": [
    "X_min_ok = fill_nan(X3, description=False)\n",
    "X_min_ok.isnull().sum()"
   ]
  },
  {
   "cell_type": "code",
   "execution_count": 82,
   "metadata": {},
   "outputs": [
    {
     "data": {
      "text/html": [
       "<div>\n",
       "<style scoped>\n",
       "    .dataframe tbody tr th:only-of-type {\n",
       "        vertical-align: middle;\n",
       "    }\n",
       "\n",
       "    .dataframe tbody tr th {\n",
       "        vertical-align: top;\n",
       "    }\n",
       "\n",
       "    .dataframe thead th {\n",
       "        text-align: right;\n",
       "    }\n",
       "</style>\n",
       "<table border=\"1\" class=\"dataframe\">\n",
       "  <thead>\n",
       "    <tr style=\"text-align: right;\">\n",
       "      <th></th>\n",
       "      <th>bathrooms</th>\n",
       "      <th>lat</th>\n",
       "      <th>lon</th>\n",
       "      <th>l2</th>\n",
       "      <th>l3</th>\n",
       "      <th>property_type</th>\n",
       "    </tr>\n",
       "  </thead>\n",
       "  <tbody>\n",
       "    <tr>\n",
       "      <th>0</th>\n",
       "      <td>4.0</td>\n",
       "      <td>6.203000</td>\n",
       "      <td>-75.572000</td>\n",
       "      <td>Antioquia</td>\n",
       "      <td>Medellín</td>\n",
       "      <td>Casa</td>\n",
       "    </tr>\n",
       "    <tr>\n",
       "      <th>1</th>\n",
       "      <td>2.0</td>\n",
       "      <td>4.722748</td>\n",
       "      <td>-74.073115</td>\n",
       "      <td>Cundinamarca</td>\n",
       "      <td>Bogotá D.C</td>\n",
       "      <td>Apartamento</td>\n",
       "    </tr>\n",
       "    <tr>\n",
       "      <th>2</th>\n",
       "      <td>2.0</td>\n",
       "      <td>4.709000</td>\n",
       "      <td>-74.030000</td>\n",
       "      <td>Cundinamarca</td>\n",
       "      <td>Bogotá D.C</td>\n",
       "      <td>Casa</td>\n",
       "    </tr>\n",
       "    <tr>\n",
       "      <th>3</th>\n",
       "      <td>1.0</td>\n",
       "      <td>7.117263</td>\n",
       "      <td>-73.115667</td>\n",
       "      <td>Santander</td>\n",
       "      <td>Bucaramanga</td>\n",
       "      <td>Otro</td>\n",
       "    </tr>\n",
       "    <tr>\n",
       "      <th>4</th>\n",
       "      <td>2.0</td>\n",
       "      <td>6.244338</td>\n",
       "      <td>-75.573553</td>\n",
       "      <td>Antioquia</td>\n",
       "      <td>Medellín</td>\n",
       "      <td>Apartamento</td>\n",
       "    </tr>\n",
       "  </tbody>\n",
       "</table>\n",
       "</div>"
      ],
      "text/plain": [
       "   bathrooms       lat        lon            l2           l3 property_type\n",
       "0        4.0  6.203000 -75.572000     Antioquia     Medellín          Casa\n",
       "1        2.0  4.722748 -74.073115  Cundinamarca   Bogotá D.C   Apartamento\n",
       "2        2.0  4.709000 -74.030000  Cundinamarca   Bogotá D.C          Casa\n",
       "3        1.0  7.117263 -73.115667     Santander  Bucaramanga          Otro\n",
       "4        2.0  6.244338 -75.573553     Antioquia     Medellín   Apartamento"
      ]
     },
     "execution_count": 82,
     "metadata": {},
     "output_type": "execute_result"
    }
   ],
   "source": [
    "X_min_ok.head()"
   ]
  },
  {
   "cell_type": "code",
   "execution_count": 83,
   "metadata": {},
   "outputs": [],
   "source": [
    "l2_coder = OneHotEncoder()\n",
    "l3_coder = OneHotEncoder()\n",
    "pt_coder = OneHotEncoder()\n",
    "\n",
    "depts = capitals.keys()\n",
    "cities = set()\n",
    "for dept in dep_ciud_lat_lon:\n",
    "    for city in dep_ciud_lat_lon[dept]:\n",
    "        cities.add(city)\n",
    "\n",
    "l2_cod = l2_coder.fit(pd.Series(depts).values.reshape(-1, 1))\n",
    "l3_cod = l3_coder.fit(pd.Series(list(cities)).values.reshape(-1, 1))\n",
    "pt_cod = pt_coder.fit(property_types.reshape(-1,1))"
   ]
  },
  {
   "cell_type": "code",
   "execution_count": 84,
   "metadata": {},
   "outputs": [],
   "source": [
    "def preprocess_to_num(dataset, l2=True, l3=True, pt=True, description=True):\n",
    "    X = dataset.copy()\n",
    "    \n",
    "    if l2:\n",
    "        l2_cod = l2_coder.transform(X[['l2']])\n",
    "        new_l2 = pd.DataFrame(l2_cod.toarray())\n",
    "        X = pd.concat([X, new_l2], axis=1)\n",
    "        X.drop('l2', axis=1, inplace=True)\n",
    "\n",
    "    if l3:    \n",
    "        l3_cod = l3_coder.transform(X[['l3']])\n",
    "        new_l3 = pd.DataFrame(l3_cod.toarray())\n",
    "        X = pd.concat([X, new_l3], axis=1)\n",
    "        X.drop('l3', axis=1, inplace=True)\n",
    "    \n",
    "    if pt:\n",
    "        pt_cod = pt_coder.transform(X[['property_type']])\n",
    "        new_pt = pd.DataFrame(pt_cod.toarray(), columns=pt_coder.categories_)\n",
    "        X = pd.concat([X, new_pt], axis=1)\n",
    "        X.drop('property_type', axis=1, inplace=True)\n",
    "\n",
    "    if description:\n",
    "        pass\n",
    "\n",
    "    X_num = X.to_numpy()\n",
    "\n",
    "    return X_num"
   ]
  },
  {
   "cell_type": "code",
   "execution_count": 85,
   "metadata": {},
   "outputs": [],
   "source": [
    "X_ok = preprocess_to_num(X_ok)\n",
    "X_min_ok = X_min_ok[['bathrooms', 'lat', 'lon', 'property_type']]\n",
    "X_min_ok = preprocess_to_num(X_min_ok, l2=False, l3=False)"
   ]
  },
  {
   "cell_type": "code",
   "execution_count": 86,
   "metadata": {},
   "outputs": [
    {
     "data": {
      "text/plain": [
       "(193400, 346)"
      ]
     },
     "execution_count": 86,
     "metadata": {},
     "output_type": "execute_result"
    }
   ],
   "source": [
    "X_ok.shape"
   ]
  },
  {
   "cell_type": "code",
   "execution_count": 87,
   "metadata": {},
   "outputs": [
    {
     "data": {
      "text/plain": [
       "(111313, 11)"
      ]
     },
     "execution_count": 87,
     "metadata": {},
     "output_type": "execute_result"
    }
   ],
   "source": [
    "X_min_ok.shape"
   ]
  },
  {
   "cell_type": "code",
   "execution_count": 88,
   "metadata": {},
   "outputs": [],
   "source": [
    "#X_ok_corr = pd.concat([X_min_ok,y3], axis=1)\n"
   ]
  },
  {
   "cell_type": "code",
   "execution_count": 89,
   "metadata": {},
   "outputs": [],
   "source": [
    "#sns.pairplot(X_ok_corr.sample(frac = 0.1), hue = '')\n",
    "#plt.show()"
   ]
  },
  {
   "cell_type": "code",
   "execution_count": 90,
   "metadata": {},
   "outputs": [],
   "source": [
    "min_max_scaler = MinMaxScaler().fit(X_ok[:,:1])\n",
    "std_scaler = StandardScaler().fit(X_ok[:,1:])\n",
    "pca = PCA(n_components=30, whiten=False).fit(X_ok)\n",
    "\n",
    "\n",
    "def preprocess_std_dimred(matrix):\n",
    "    '''\n",
    "    min_max_scaler = MinMaxScaler().fit(matrix[:,:1])\n",
    "    std_scaler = StandardScaler().fit(matrix[:,1:])\n",
    "    '''\n",
    "    #print(f' STANDARDIZATION INITIAL SHAPE: {matrix.shape}')\n",
    "    X =  np.copy(matrix)\n",
    "    X[:,:1] = min_max_scaler.transform(matrix[:,:1])\n",
    "    X[:,1:] = std_scaler.transform(matrix[:,1:])\n",
    "    #print(f' STANDARDIZATION INTERMEDIATE SHAPE: {X.shape}')\n",
    "    \n",
    "    X = pca.transform(X)\n",
    "    #print(f' STANDARDIZATION FINAL SHAPE: {X.shape}')\n",
    "    return X\n",
    "    "
   ]
  },
  {
   "cell_type": "code",
   "execution_count": 91,
   "metadata": {},
   "outputs": [],
   "source": [
    "min_max_scaler2 = MinMaxScaler().fit(X_min_ok[:,:1])\n",
    "std_scaler2 = StandardScaler().fit(X_min_ok[:,1:])\n",
    "\n",
    "def preprocess_std_dimred2(matrix):\n",
    "    '''\n",
    "    min_max_scaler = MinMaxScaler().fit(matrix[:,:1])\n",
    "    std_scaler = StandardScaler().fit(matrix[:,1:])\n",
    "    '''\n",
    "    #print(f' STANDARDIZATION INITIAL SHAPE: {matrix.shape}')\n",
    "    X =  np.copy(matrix)\n",
    "    X[:,:1] = min_max_scaler2.transform(matrix[:,:1])\n",
    "    X[:,1:] = std_scaler2.transform(matrix[:,1:])\n",
    "    #print(f' STANDARDIZATION INTERMEDIATE SHAPE: {X.shape}')\n",
    "    \n",
    "    return X"
   ]
  },
  {
   "cell_type": "code",
   "execution_count": 92,
   "metadata": {},
   "outputs": [
    {
     "data": {
      "text/plain": [
       "(193400, 30)"
      ]
     },
     "execution_count": 92,
     "metadata": {},
     "output_type": "execute_result"
    }
   ],
   "source": [
    "X_ok = preprocess_std_dimred(X_ok)\n",
    "X_ok.shape"
   ]
  },
  {
   "cell_type": "code",
   "execution_count": 93,
   "metadata": {},
   "outputs": [
    {
     "data": {
      "text/plain": [
       "(111313, 11)"
      ]
     },
     "execution_count": 93,
     "metadata": {},
     "output_type": "execute_result"
    }
   ],
   "source": [
    "X_min_ok = preprocess_std_dimred2(X_min_ok)\n",
    "X_min_ok.shape"
   ]
  },
  {
   "cell_type": "code",
   "execution_count": 94,
   "metadata": {},
   "outputs": [],
   "source": [
    "fill_df = FunctionTransformer(fill_nan)\n",
    "df_to_num = FunctionTransformer(preprocess_to_num)\n",
    "mat_to_X = FunctionTransformer(preprocess_std_dimred)\n",
    "mat_to_X2 = FunctionTransformer(preprocess_std_dimred2)"
   ]
  },
  {
   "cell_type": "markdown",
   "metadata": {},
   "source": [
    "### Here we start defining our preprocesses"
   ]
  },
  {
   "cell_type": "markdown",
   "metadata": {},
   "source": [
    "We will define two processes that differ only because the second one doesn't take most of the onehot encoded categorical data and uses mostly numerical features (number of bathrooms, lat, lon, and the property type onehot codification)."
   ]
  },
  {
   "cell_type": "code",
   "execution_count": 95,
   "metadata": {},
   "outputs": [],
   "source": [
    "def preprocess1(df):\n",
    "    df_ok = df.copy()\n",
    "    df_ok2 = fill_nan(df_ok)\n",
    "    df_ok3 = preprocess_to_num(df_ok2)\n",
    "    df_ok4 = preprocess_std_dimred(df_ok3)\n",
    "\n",
    "    return df_ok4"
   ]
  },
  {
   "cell_type": "code",
   "execution_count": 96,
   "metadata": {},
   "outputs": [],
   "source": [
    "def preprocess2(df):\n",
    "    df_ok = df.copy()\n",
    "    df_ok2 = fill_nan(df_ok)\n",
    "    df_ok3 = df_ok2[['bathrooms', 'lat','lon', 'property_type']]\n",
    "    df_ok4 = preprocess_to_num(df_ok3, l2=False, l3=False, description=False)\n",
    "    df_ok5 = preprocess_std_dimred2(df_ok4)\n",
    "\n",
    "    return df_ok5"
   ]
  },
  {
   "cell_type": "code",
   "execution_count": 97,
   "metadata": {},
   "outputs": [
    {
     "data": {
      "text/plain": [
       "array([[ 0.15789474,  0.21552   , -0.48713078, ..., -0.0919878 ,\n",
       "        -0.29511709, -0.00947865],\n",
       "       [ 0.05263158, -0.45233172,  0.919328  , ..., -0.0919878 ,\n",
       "        -0.29511709, -0.00947865],\n",
       "       [ 0.05263158, -0.45853469,  0.959784  , ..., -0.0919878 ,\n",
       "        -0.29511709, -0.00947865],\n",
       "       ...,\n",
       "       [ 0.        , -1.04325684, -1.39637879, ..., -0.0919878 ,\n",
       "         3.38848558, -0.00947865],\n",
       "       [ 0.05263158, -0.47393134,  0.84992647, ..., -0.0919878 ,\n",
       "        -0.29511709, -0.00947865],\n",
       "       [ 0.        ,  2.35092603,  0.23454461, ..., -0.0919878 ,\n",
       "        -0.29511709, -0.00947865]])"
      ]
     },
     "execution_count": 97,
     "metadata": {},
     "output_type": "execute_result"
    }
   ],
   "source": [
    "preprocess2(X1)"
   ]
  },
  {
   "cell_type": "code",
   "execution_count": 98,
   "metadata": {},
   "outputs": [],
   "source": [
    "func_pp1 = FunctionTransformer(preprocess1)\n",
    "func_pp2 = FunctionTransformer(preprocess2)"
   ]
  },
  {
   "cell_type": "code",
   "execution_count": 99,
   "metadata": {},
   "outputs": [],
   "source": [
    "KNclf = KNeighborsClassifier()\n",
    "DTclf = DecisionTreeClassifier()\n",
    "RFclf = RandomForestClassifier()\n",
    "LSVCclf = LinearSVC()\n",
    "SVCclf = SVC()"
   ]
  },
  {
   "cell_type": "code",
   "execution_count": 100,
   "metadata": {},
   "outputs": [],
   "source": [
    "pipe_kn1 = make_pipeline(func_pp1, KNclf)\n",
    "pipe_dt1 = make_pipeline(func_pp1, DTclf)\n",
    "pipe_rf1 = make_pipeline(func_pp1, RFclf)\n",
    "pipe_LSVC1 = make_pipeline(func_pp1, LSVCclf)\n",
    "pipe_SVC1 = make_pipeline(func_pp1, SVCclf)"
   ]
  },
  {
   "cell_type": "code",
   "execution_count": 101,
   "metadata": {},
   "outputs": [],
   "source": [
    "pipe_kn2 = make_pipeline(func_pp2, KNclf)\n",
    "pipe_dt2 = make_pipeline(func_pp2, DTclf)\n",
    "pipe_rf2 = make_pipeline(func_pp2, RFclf)\n",
    "pipe_LSVC2 = make_pipeline(func_pp2, LSVCclf)\n",
    "pipe_SVC2 = make_pipeline(func_pp2, SVCclf)"
   ]
  },
  {
   "cell_type": "markdown",
   "metadata": {},
   "source": [
    "## ------------------ T E S T I N G --- T H E --- P I P E L I N E S --------------------"
   ]
  },
  {
   "cell_type": "code",
   "execution_count": 102,
   "metadata": {},
   "outputs": [],
   "source": [
    "scoring= {'acc': 'accuracy', 'recall': 'recall_macro'}"
   ]
  },
  {
   "cell_type": "markdown",
   "metadata": {},
   "source": [
    "### CROSS VALIDATION"
   ]
  },
  {
   "cell_type": "markdown",
   "metadata": {},
   "source": [
    "#### ------------- KNeighbors"
   ]
  },
  {
   "cell_type": "code",
   "execution_count": 100,
   "metadata": {},
   "outputs": [
    {
     "data": {
      "text/plain": [
       "{'fit_time': array([15.76625872, 15.60884166, 16.19298482, 16.75369215, 16.58904529]),\n",
       " 'score_time': array([ 8.95588946,  9.10872984,  9.51508236,  9.08830619, 10.10334182]),\n",
       " 'test_acc': array([0.77832933, 0.86804209, 0.86920551, 0.86992942, 0.87223041]),\n",
       " 'test_recall': array([0.76358807, 0.80184349, 0.79952283, 0.80478933, 0.80945119])}"
      ]
     },
     "execution_count": 100,
     "metadata": {},
     "output_type": "execute_result"
    }
   ],
   "source": [
    "cross_validate(pipe_kn1, X1, y1, cv=5, scoring=scoring)"
   ]
  },
  {
   "cell_type": "code",
   "execution_count": 101,
   "metadata": {},
   "outputs": [
    {
     "data": {
      "text/plain": [
       "{'fit_time': array([7.82627797, 7.75463176, 7.63043523, 7.55328798, 7.63892317]),\n",
       " 'score_time': array([4.17761612, 3.95524812, 3.87610173, 3.99858785, 3.86021352]),\n",
       " 'test_acc': array([0.84748297, 0.84727529, 0.85071651, 0.84926272, 0.84893043]),\n",
       " 'test_recall': array([0.77789892, 0.77822889, 0.78416586, 0.78501521, 0.7866129 ])}"
      ]
     },
     "execution_count": 101,
     "metadata": {},
     "output_type": "execute_result"
    }
   ],
   "source": [
    "cross_validate(pipe_kn1, X2, y2, cv=5, scoring=scoring)"
   ]
  },
  {
   "cell_type": "code",
   "execution_count": 102,
   "metadata": {},
   "outputs": [
    {
     "data": {
      "text/plain": [
       "{'fit_time': array([6.96152401, 6.92558503, 6.99998975, 6.99631071, 7.0344696 ]),\n",
       " 'score_time': array([3.71052885, 3.57775402, 3.52755499, 3.51782274, 3.54580307]),\n",
       " 'test_acc': array([0.84445043, 0.84449535, 0.84575304, 0.84538676, 0.84677927]),\n",
       " 'test_recall': array([0.77437633, 0.77464498, 0.779482  , 0.77828491, 0.78416648])}"
      ]
     },
     "execution_count": 102,
     "metadata": {},
     "output_type": "execute_result"
    }
   ],
   "source": [
    "cross_validate(pipe_kn1, X3, y3, cv=5, scoring=scoring)"
   ]
  },
  {
   "cell_type": "code",
   "execution_count": 105,
   "metadata": {},
   "outputs": [
    {
     "data": {
      "text/plain": [
       "{'fit_time': array([14.18290782, 13.50989294, 13.6500113 , 14.99079919, 14.05098796]),\n",
       " 'score_time': array([56.51609349, 57.96026516, 60.32239842, 71.88497567, 57.31298041]),\n",
       " 'test_acc': array([0.85630445, 0.8677577 , 0.8691538 , 0.86954161, 0.87158406]),\n",
       " 'test_recall': array([0.81076846, 0.80374981, 0.79903253, 0.80426948, 0.8085721 ])}"
      ]
     },
     "execution_count": 105,
     "metadata": {},
     "output_type": "execute_result"
    }
   ],
   "source": [
    "cross_validate(pipe_kn2, X1, y1, cv=5, scoring=scoring) ################################# MOST INTERESTING"
   ]
  },
  {
   "cell_type": "code",
   "execution_count": 106,
   "metadata": {},
   "outputs": [
    {
     "data": {
      "text/plain": [
       "{'fit_time': array([6.6536355 , 6.34678006, 6.58386087, 6.65801263, 6.37996626]),\n",
       " 'score_time': array([15.46485734, 14.75310254, 15.19360232, 16.44882417, 17.31507015]),\n",
       " 'test_acc': array([0.84723376, 0.84715069, 0.85017653, 0.8494704 , 0.84884735]),\n",
       " 'test_recall': array([0.77668534, 0.77847656, 0.78386068, 0.7858154 , 0.78666773])}"
      ]
     },
     "execution_count": 106,
     "metadata": {},
     "output_type": "execute_result"
    }
   ],
   "source": [
    "cross_validate(pipe_kn2, X2, y2, cv=5, scoring=scoring)"
   ]
  },
  {
   "cell_type": "code",
   "execution_count": 107,
   "metadata": {},
   "outputs": [
    {
     "data": {
      "text/plain": [
       "{'fit_time': array([6.05738521, 6.17148852, 6.20670199, 6.05932212, 6.76290774]),\n",
       " 'score_time': array([14.26884985, 14.0147624 , 14.46614575, 15.65272021, 14.20572662]),\n",
       " 'test_acc': array([0.84319274, 0.84471994, 0.84579796, 0.84556644, 0.84601563]),\n",
       " 'test_recall': array([0.77401461, 0.77539152, 0.77951196, 0.77798711, 0.78300065])}"
      ]
     },
     "execution_count": 107,
     "metadata": {},
     "output_type": "execute_result"
    }
   ],
   "source": [
    "cross_validate(pipe_kn2, X3, y3, cv=5, scoring=scoring)"
   ]
  },
  {
   "cell_type": "markdown",
   "metadata": {},
   "source": [
    "#### ------------- Decision Tree"
   ]
  },
  {
   "cell_type": "code",
   "execution_count": 108,
   "metadata": {},
   "outputs": [
    {
     "data": {
      "text/plain": [
       "{'fit_time': array([22.89309716, 23.00607824, 23.05350041, 23.22311926, 23.33981466]),\n",
       " 'score_time': array([3.92868447, 4.08871651, 3.95342374, 4.11821651, 4.0390625 ]),\n",
       " 'test_acc': array([0.89224127, 0.8897593 , 0.8914398 , 0.89115541, 0.89291347]),\n",
       " 'test_recall': array([0.8419106 , 0.838449  , 0.84076507, 0.84004655, 0.84469581])}"
      ]
     },
     "execution_count": 108,
     "metadata": {},
     "output_type": "execute_result"
    }
   ],
   "source": [
    "cross_validate(pipe_dt1, X1, y1, cv=5, scoring=scoring)"
   ]
  },
  {
   "cell_type": "code",
   "execution_count": 109,
   "metadata": {},
   "outputs": [
    {
     "data": {
      "text/plain": [
       "{'fit_time': array([13.07382512, 13.40874958, 13.25738335, 14.00550056, 13.46884871]),\n",
       " 'score_time': array([2.20357609, 2.1289506 , 1.94766235, 2.12201667, 1.91945577]),\n",
       " 'test_acc': array([0.8465692 , 0.85088885, 0.85063344, 0.85088266, 0.84884735]),\n",
       " 'test_recall': array([0.79040776, 0.78902065, 0.79111243, 0.79017605, 0.79124384])}"
      ]
     },
     "execution_count": 109,
     "metadata": {},
     "output_type": "execute_result"
    }
   ],
   "source": [
    "cross_validate(pipe_dt1, X2, y2, cv=5, scoring=scoring)"
   ]
  },
  {
   "cell_type": "code",
   "execution_count": 110,
   "metadata": {},
   "outputs": [
    {
     "data": {
      "text/plain": [
       "{'fit_time': array([11.99421215, 11.65551209, 11.80455661, 12.20170116, 12.02365971]),\n",
       " 'score_time': array([1.93236208, 1.90856266, 1.75685501, 1.80348611, 1.78372407]),\n",
       " 'test_acc': array([0.84040785, 0.843597  , 0.84287832, 0.83968197, 0.84372473]),\n",
       " 'test_recall': array([0.77937683, 0.78102712, 0.78347152, 0.77537391, 0.78737947])}"
      ]
     },
     "execution_count": 110,
     "metadata": {},
     "output_type": "execute_result"
    }
   ],
   "source": [
    "cross_validate(pipe_dt1, X3, y3, cv=5, scoring=scoring)"
   ]
  },
  {
   "cell_type": "code",
   "execution_count": 111,
   "metadata": {},
   "outputs": [
    {
     "data": {
      "text/plain": [
       "{'fit_time': array([14.19791508, 13.54227114, 13.5511961 , 14.00640225, 14.02162242]),\n",
       " 'score_time': array([3.2897625 , 3.32374144, 3.31043124, 3.4192965 , 3.34851623]),\n",
       " 'test_acc': array([0.89306859, 0.892112  , 0.89200858, 0.89107785, 0.89335298]),\n",
       " 'test_recall': array([0.84286992, 0.84253602, 0.84041418, 0.84003388, 0.84372781])}"
      ]
     },
     "execution_count": 111,
     "metadata": {},
     "output_type": "execute_result"
    }
   ],
   "source": [
    "cross_validate(pipe_dt2, X1, y1, cv=5, scoring=scoring)  ##################################### MOST INTERESTING"
   ]
  },
  {
   "cell_type": "code",
   "execution_count": 112,
   "metadata": {},
   "outputs": [
    {
     "data": {
      "text/plain": [
       "{'fit_time': array([6.79627919, 6.73659801, 6.77482581, 6.77934933, 6.87619209]),\n",
       " 'score_time': array([1.71386385, 1.64151239, 1.55327344, 1.56251502, 1.62599087]),\n",
       " 'test_acc': array([0.84993354, 0.85259179, 0.85478712, 0.84934579, 0.85142264]),\n",
       " 'test_recall': array([0.78940068, 0.79363048, 0.7960894 , 0.78898515, 0.79544327])}"
      ]
     },
     "execution_count": 112,
     "metadata": {},
     "output_type": "execute_result"
    }
   ],
   "source": [
    "cross_validate(pipe_dt2, X2, y2, cv=5, scoring=scoring)"
   ]
  },
  {
   "cell_type": "code",
   "execution_count": 113,
   "metadata": {},
   "outputs": [
    {
     "data": {
      "text/plain": [
       "{'fit_time': array([6.30907106, 6.3779254 , 6.17683268, 6.31683564, 6.95823431]),\n",
       " 'score_time': array([1.58472133, 1.58539414, 1.4455018 , 1.69716525, 1.67410851]),\n",
       " 'test_acc': array([0.84373175, 0.84480977, 0.84741499, 0.84152367, 0.84579103]),\n",
       " 'test_recall': array([0.78099768, 0.78529714, 0.78876568, 0.77821369, 0.78702764])}"
      ]
     },
     "execution_count": 113,
     "metadata": {},
     "output_type": "execute_result"
    }
   ],
   "source": [
    "cross_validate(pipe_dt2, X3, y3, cv=5, scoring=scoring)"
   ]
  },
  {
   "cell_type": "markdown",
   "metadata": {},
   "source": [
    "#### ------------- Random Forest"
   ]
  },
  {
   "cell_type": "code",
   "execution_count": 134,
   "metadata": {},
   "outputs": [
    {
     "data": {
      "text/plain": [
       "{'fit_time': array([79.13804507, 79.38540411, 77.21740842, 75.04187083, 74.8404572 ]),\n",
       " 'score_time': array([4.46452928, 5.16125345, 4.55946589, 5.21439505, 4.64522147]),\n",
       " 'test_acc': array([0.90054034, 0.89751545, 0.89826521, 0.89898912, 0.90061791]),\n",
       " 'test_recall': array([0.8517109 , 0.84922634, 0.84868945, 0.84912471, 0.85315687])}"
      ]
     },
     "execution_count": 134,
     "metadata": {},
     "output_type": "execute_result"
    }
   ],
   "source": [
    "cross_validate(pipe_rf1, X1, y1, cv=5, scoring=scoring)"
   ]
  },
  {
   "cell_type": "code",
   "execution_count": 135,
   "metadata": {},
   "outputs": [
    {
     "data": {
      "text/plain": [
       "{'fit_time': array([51.4400506 , 51.87565994, 50.79639697, 49.52957582, 49.37738419]),\n",
       " 'score_time': array([2.53509378, 2.34621549, 2.36966825, 2.25388694, 2.33751154]),\n",
       " 'test_acc': array([0.86397242, 0.86708756, 0.86807892, 0.86654206, 0.86641745]),\n",
       " 'test_recall': array([0.80780845, 0.80865102, 0.81118871, 0.80878486, 0.81162381])}"
      ]
     },
     "execution_count": 135,
     "metadata": {},
     "output_type": "execute_result"
    }
   ],
   "source": [
    "cross_validate(pipe_rf1, X2, y2, cv=5, scoring=scoring)"
   ]
  },
  {
   "cell_type": "code",
   "execution_count": 136,
   "metadata": {},
   "outputs": [
    {
     "data": {
      "text/plain": [
       "{'fit_time': array([48.04076672, 51.57431793, 48.3294239 , 46.45552158, 44.95006466]),\n",
       " 'score_time': array([2.55691004, 2.2811904 , 2.21504307, 2.10499907, 2.29137826]),\n",
       " 'test_acc': array([0.85729686, 0.86062076, 0.86210304, 0.85881772, 0.86205193]),\n",
       " 'test_recall': array([0.79756625, 0.80139492, 0.80333857, 0.79637496, 0.80605101])}"
      ]
     },
     "execution_count": 136,
     "metadata": {},
     "output_type": "execute_result"
    }
   ],
   "source": [
    "cross_validate(pipe_rf1, X3, y3, cv=5, scoring=scoring)"
   ]
  },
  {
   "cell_type": "code",
   "execution_count": 103,
   "metadata": {},
   "outputs": [
    {
     "data": {
      "text/plain": [
       "{'fit_time': array([29.96370602, 27.45436096, 29.10842204, 27.98951554, 27.97447658]),\n",
       " 'score_time': array([4.22649121, 4.15078521, 4.79818797, 4.2227025 , 4.32479763]),\n",
       " 'test_acc': array([0.87838676, 0.87939504, 0.8766546 , 0.87546536, 0.87784385]),\n",
       " 'test_recall': array([0.87503584, 0.87615494, 0.87184818, 0.87112812, 0.87426602])}"
      ]
     },
     "execution_count": 103,
     "metadata": {},
     "output_type": "execute_result"
    }
   ],
   "source": [
    "cross_validate(pipe_rf2, X1, y1, cv=5, scoring=scoring) ############################## MOST INTERESTING"
   ]
  },
  {
   "cell_type": "code",
   "execution_count": 138,
   "metadata": {},
   "outputs": [
    {
     "data": {
      "text/plain": [
       "{'fit_time': array([15.57574773, 16.20597696, 17.50141644, 15.57983351, 15.89280057]),\n",
       " 'score_time': array([2.16879845, 2.08867407, 2.0377593 , 1.97411275, 2.18174982]),\n",
       " 'test_acc': array([0.86222794, 0.86683835, 0.86915888, 0.86641745, 0.86571132]),\n",
       " 'test_recall': array([0.80631365, 0.80887068, 0.81179906, 0.80864658, 0.81076669])}"
      ]
     },
     "execution_count": 138,
     "metadata": {},
     "output_type": "execute_result"
    }
   ],
   "source": [
    "cross_validate(pipe_rf2, X2, y2, cv=5, scoring=scoring)"
   ]
  },
  {
   "cell_type": "code",
   "execution_count": 139,
   "metadata": {},
   "outputs": [
    {
     "data": {
      "text/plain": [
       "{'fit_time': array([15.75585413, 14.49987459, 14.35626936, 14.41298056, 14.89055347]),\n",
       " 'score_time': array([2.14486027, 1.94603801, 1.88956213, 1.89289641, 2.02546144]),\n",
       " 'test_acc': array([0.85734178, 0.86026142, 0.86416925, 0.85980595, 0.86236636]),\n",
       " 'test_recall': array([0.79753655, 0.8013342 , 0.80740224, 0.79673593, 0.80614146])}"
      ]
     },
     "execution_count": 139,
     "metadata": {},
     "output_type": "execute_result"
    }
   ],
   "source": [
    "cross_validate(pipe_rf2, X3, y3, cv=5, scoring=scoring)"
   ]
  },
  {
   "cell_type": "markdown",
   "metadata": {},
   "source": [
    "#### ------------- Linear SVC"
   ]
  },
  {
   "cell_type": "code",
   "execution_count": 144,
   "metadata": {},
   "outputs": [
    {
     "data": {
      "text/plain": [
       "{'fit_time': array([73.65826368, 74.66255355, 72.77736354, 73.25964069, 73.58268905]),\n",
       " 'score_time': array([3.9484601 , 3.78908587, 3.79566717, 3.81826687, 4.00475216]),\n",
       " 'test_acc': array([0.785284  , 0.26127873, 0.41448848, 0.77920836, 0.77377905]),\n",
       " 'test_recall': array([0.55552217, 0.5168151 , 0.61242258, 0.53978499, 0.52204582])}"
      ]
     },
     "execution_count": 144,
     "metadata": {},
     "output_type": "execute_result"
    }
   ],
   "source": [
    "cross_validate(pipe_LSVC1, X1, y1, cv=5, scoring=scoring)"
   ]
  },
  {
   "cell_type": "code",
   "execution_count": 146,
   "metadata": {},
   "outputs": [
    {
     "data": {
      "text/plain": [
       "{'fit_time': array([39.52835083, 40.79839277, 39.7820642 , 38.3153944 , 38.46641827]),\n",
       " 'score_time': array([1.92426848, 1.9485023 , 2.41100883, 1.83251691, 1.78645182]),\n",
       " 'test_acc': array([0.38349394, 0.7575594 , 0.78380062, 0.79086189, 0.29088266]),\n",
       " 'test_recall': array([0.58497072, 0.51921621, 0.59842755, 0.68997512, 0.52627793])}"
      ]
     },
     "execution_count": 146,
     "metadata": {},
     "output_type": "execute_result"
    }
   ],
   "source": [
    "cross_validate(pipe_LSVC1, X2, y2, cv=5, scoring=scoring)"
   ]
  },
  {
   "cell_type": "code",
   "execution_count": 147,
   "metadata": {},
   "outputs": [
    {
     "data": {
      "text/plain": [
       "{'fit_time': array([33.52827311, 35.14373541, 36.3456254 , 34.42434764, 35.11392808]),\n",
       " 'score_time': array([1.76718855, 1.68607497, 1.78291011, 1.64808798, 1.75025916]),\n",
       " 'test_acc': array([0.27071823, 0.77464852, 0.7750977 , 0.76911329, 0.35720061]),\n",
       " 'test_recall': array([0.51327619, 0.73353595, 0.5647285 , 0.54892777, 0.56863991])}"
      ]
     },
     "execution_count": 147,
     "metadata": {},
     "output_type": "execute_result"
    }
   ],
   "source": [
    "cross_validate(pipe_LSVC1, X3, y3, cv=5, scoring=scoring)"
   ]
  },
  {
   "cell_type": "code",
   "execution_count": 148,
   "metadata": {},
   "outputs": [
    {
     "data": {
      "text/plain": [
       "{'fit_time': array([45.07757521, 47.71512008, 43.80670214, 41.08510399, 45.84256291]),\n",
       " 'score_time': array([3.36925936, 3.46272993, 3.37830639, 3.27445316, 3.29322362]),\n",
       " 'test_acc': array([0.79272991, 0.79466894, 0.79531529, 0.79394503, 0.79601334]),\n",
       " 'test_recall': array([0.61565487, 0.61977514, 0.61860001, 0.61949204, 0.61985528])}"
      ]
     },
     "execution_count": 148,
     "metadata": {},
     "output_type": "execute_result"
    }
   ],
   "source": [
    "cross_validate(pipe_LSVC2, X1, y1, cv=5, scoring=scoring) "
   ]
  },
  {
   "cell_type": "code",
   "execution_count": 149,
   "metadata": {},
   "outputs": [
    {
     "data": {
      "text/plain": [
       "{'fit_time': array([25.00814223, 27.02097201, 24.15813971, 25.513304  , 24.24579239]),\n",
       " 'score_time': array([1.78398895, 1.68497729, 1.82414079, 1.90233016, 1.62385321]),\n",
       " 'test_acc': array([0.77857618, 0.78135903, 0.78350987, 0.77844237, 0.78292835]),\n",
       " 'test_recall': array([0.61577966, 0.61978467, 0.61753038, 0.61392847, 0.61664615])}"
      ]
     },
     "execution_count": 149,
     "metadata": {},
     "output_type": "execute_result"
    }
   ],
   "source": [
    "cross_validate(pipe_LSVC2, X2, y2, cv=5, scoring=scoring)"
   ]
  },
  {
   "cell_type": "code",
   "execution_count": 150,
   "metadata": {},
   "outputs": [
    {
     "data": {
      "text/plain": [
       "{'fit_time': array([20.8830502 , 22.56210065, 18.5906508 , 23.35831285, 24.53805327]),\n",
       " 'score_time': array([1.5736599 , 1.56822276, 1.7554636 , 1.48428798, 1.43557072]),\n",
       " 'test_acc': array([0.7817455 , 0.78331761, 0.78524907, 0.78052286, 0.78501482]),\n",
       " 'test_recall': array([0.61707929, 0.62063431, 0.61374799, 0.61513484, 0.61992179])}"
      ]
     },
     "execution_count": 150,
     "metadata": {},
     "output_type": "execute_result"
    }
   ],
   "source": [
    "cross_validate(pipe_LSVC2, X3, y3, cv=5, scoring=scoring) ############################## MOST INTERESTING... NOT SO INTERESTING..."
   ]
  },
  {
   "cell_type": "markdown",
   "metadata": {},
   "source": [
    "#### ------------- SVC"
   ]
  },
  {
   "cell_type": "code",
   "execution_count": 155,
   "metadata": {},
   "outputs": [],
   "source": [
    "cross_validate(pipe_SVC1, X1, y1, cv=5, scoring=scoring)"
   ]
  },
  {
   "cell_type": "code",
   "execution_count": null,
   "metadata": {},
   "outputs": [],
   "source": [
    "cross_validate(pipe_SVC1, X2, y2, cv=5, scoring=scoring)"
   ]
  },
  {
   "cell_type": "code",
   "execution_count": null,
   "metadata": {},
   "outputs": [],
   "source": [
    "cross_validate(pipe_SVC1, X3, y3, cv=5, scoring=scoring)"
   ]
  },
  {
   "cell_type": "code",
   "execution_count": null,
   "metadata": {},
   "outputs": [],
   "source": [
    "cross_validate(pipe_SVC2, X1, y1, cv=5, scoring=scoring)"
   ]
  },
  {
   "cell_type": "code",
   "execution_count": null,
   "metadata": {},
   "outputs": [],
   "source": [
    "cross_validate(pipe_SVC2, X2, y2, cv=5, scoring=scoring)"
   ]
  },
  {
   "cell_type": "code",
   "execution_count": 101,
   "metadata": {},
   "outputs": [
    {
     "data": {
      "text/plain": [
       "{'fit_time': array([224.28532982, 206.27716494, 184.21603179, 189.40349984,\n",
       "        185.39456367]),\n",
       " 'score_time': array([87.62521362, 80.33638406, 80.88860798, 80.21557689, 80.72905803]),\n",
       " 'test_acc': array([0.78340745, 0.78462022, 0.7868661 , 0.78366724, 0.78398167]),\n",
       " 'test_recall': array([0.59879505, 0.59906713, 0.60677124, 0.60362812, 0.59805   ])}"
      ]
     },
     "execution_count": 101,
     "metadata": {},
     "output_type": "execute_result"
    }
   ],
   "source": [
    "cross_validate(pipe_SVC2, X3, y3, cv=5, scoring=scoring)"
   ]
  },
  {
   "cell_type": "markdown",
   "metadata": {},
   "source": [
    "### Grid Searching the most interesting pipelines per model"
   ]
  },
  {
   "cell_type": "code",
   "execution_count": 189,
   "metadata": {},
   "outputs": [],
   "source": [
    "kn_params = {}\n",
    "kn_params['kneighborsclassifier__n_neighbors'] = [50, 70]\n",
    "kn_params['kneighborsclassifier__weights'] = ['distance']\n",
    "kn_params['kneighborsclassifier__metric'] = ['precomputed', 'minkowski']\n"
   ]
  },
  {
   "cell_type": "code",
   "execution_count": 190,
   "metadata": {},
   "outputs": [],
   "source": [
    "grid_kn2 = GridSearchCV(pipe_kn2, kn_params, cv=5, scoring='recall')"
   ]
  },
  {
   "cell_type": "code",
   "execution_count": 191,
   "metadata": {},
   "outputs": [
    {
     "data": {
      "text/html": [
       "<style>#sk-container-id-1 {color: black;background-color: white;}#sk-container-id-1 pre{padding: 0;}#sk-container-id-1 div.sk-toggleable {background-color: white;}#sk-container-id-1 label.sk-toggleable__label {cursor: pointer;display: block;width: 100%;margin-bottom: 0;padding: 0.3em;box-sizing: border-box;text-align: center;}#sk-container-id-1 label.sk-toggleable__label-arrow:before {content: \"▸\";float: left;margin-right: 0.25em;color: #696969;}#sk-container-id-1 label.sk-toggleable__label-arrow:hover:before {color: black;}#sk-container-id-1 div.sk-estimator:hover label.sk-toggleable__label-arrow:before {color: black;}#sk-container-id-1 div.sk-toggleable__content {max-height: 0;max-width: 0;overflow: hidden;text-align: left;background-color: #f0f8ff;}#sk-container-id-1 div.sk-toggleable__content pre {margin: 0.2em;color: black;border-radius: 0.25em;background-color: #f0f8ff;}#sk-container-id-1 input.sk-toggleable__control:checked~div.sk-toggleable__content {max-height: 200px;max-width: 100%;overflow: auto;}#sk-container-id-1 input.sk-toggleable__control:checked~label.sk-toggleable__label-arrow:before {content: \"▾\";}#sk-container-id-1 div.sk-estimator input.sk-toggleable__control:checked~label.sk-toggleable__label {background-color: #d4ebff;}#sk-container-id-1 div.sk-label input.sk-toggleable__control:checked~label.sk-toggleable__label {background-color: #d4ebff;}#sk-container-id-1 input.sk-hidden--visually {border: 0;clip: rect(1px 1px 1px 1px);clip: rect(1px, 1px, 1px, 1px);height: 1px;margin: -1px;overflow: hidden;padding: 0;position: absolute;width: 1px;}#sk-container-id-1 div.sk-estimator {font-family: monospace;background-color: #f0f8ff;border: 1px dotted black;border-radius: 0.25em;box-sizing: border-box;margin-bottom: 0.5em;}#sk-container-id-1 div.sk-estimator:hover {background-color: #d4ebff;}#sk-container-id-1 div.sk-parallel-item::after {content: \"\";width: 100%;border-bottom: 1px solid gray;flex-grow: 1;}#sk-container-id-1 div.sk-label:hover label.sk-toggleable__label {background-color: #d4ebff;}#sk-container-id-1 div.sk-serial::before {content: \"\";position: absolute;border-left: 1px solid gray;box-sizing: border-box;top: 0;bottom: 0;left: 50%;z-index: 0;}#sk-container-id-1 div.sk-serial {display: flex;flex-direction: column;align-items: center;background-color: white;padding-right: 0.2em;padding-left: 0.2em;position: relative;}#sk-container-id-1 div.sk-item {position: relative;z-index: 1;}#sk-container-id-1 div.sk-parallel {display: flex;align-items: stretch;justify-content: center;background-color: white;position: relative;}#sk-container-id-1 div.sk-item::before, #sk-container-id-1 div.sk-parallel-item::before {content: \"\";position: absolute;border-left: 1px solid gray;box-sizing: border-box;top: 0;bottom: 0;left: 50%;z-index: -1;}#sk-container-id-1 div.sk-parallel-item {display: flex;flex-direction: column;z-index: 1;position: relative;background-color: white;}#sk-container-id-1 div.sk-parallel-item:first-child::after {align-self: flex-end;width: 50%;}#sk-container-id-1 div.sk-parallel-item:last-child::after {align-self: flex-start;width: 50%;}#sk-container-id-1 div.sk-parallel-item:only-child::after {width: 0;}#sk-container-id-1 div.sk-dashed-wrapped {border: 1px dashed gray;margin: 0 0.4em 0.5em 0.4em;box-sizing: border-box;padding-bottom: 0.4em;background-color: white;}#sk-container-id-1 div.sk-label label {font-family: monospace;font-weight: bold;display: inline-block;line-height: 1.2em;}#sk-container-id-1 div.sk-label-container {text-align: center;}#sk-container-id-1 div.sk-container {/* jupyter's `normalize.less` sets `[hidden] { display: none; }` but bootstrap.min.css set `[hidden] { display: none !important; }` so we also need the `!important` here to be able to override the default hidden behavior on the sphinx rendered scikit-learn.org. See: https://github.com/scikit-learn/scikit-learn/issues/21755 */display: inline-block !important;position: relative;}#sk-container-id-1 div.sk-text-repr-fallback {display: none;}</style><div id=\"sk-container-id-1\" class=\"sk-top-container\"><div class=\"sk-text-repr-fallback\"><pre>GridSearchCV(cv=5,\n",
       "             estimator=Pipeline(steps=[(&#x27;functiontransformer&#x27;,\n",
       "                                        FunctionTransformer(func=&lt;function preprocess2 at 0x000001E915255240&gt;)),\n",
       "                                       (&#x27;kneighborsclassifier&#x27;,\n",
       "                                        KNeighborsClassifier())]),\n",
       "             param_grid={&#x27;kneighborsclassifier__metric&#x27;: [&#x27;precomputed&#x27;,\n",
       "                                                          &#x27;minkowski&#x27;],\n",
       "                         &#x27;kneighborsclassifier__n_neighbors&#x27;: [50, 70],\n",
       "                         &#x27;kneighborsclassifier__weights&#x27;: [&#x27;distance&#x27;]},\n",
       "             scoring=&#x27;recall&#x27;)</pre><b>In a Jupyter environment, please rerun this cell to show the HTML representation or trust the notebook. <br />On GitHub, the HTML representation is unable to render, please try loading this page with nbviewer.org.</b></div><div class=\"sk-container\" hidden><div class=\"sk-item sk-dashed-wrapped\"><div class=\"sk-label-container\"><div class=\"sk-label sk-toggleable\"><input class=\"sk-toggleable__control sk-hidden--visually\" id=\"sk-estimator-id-1\" type=\"checkbox\" ><label for=\"sk-estimator-id-1\" class=\"sk-toggleable__label sk-toggleable__label-arrow\">GridSearchCV</label><div class=\"sk-toggleable__content\"><pre>GridSearchCV(cv=5,\n",
       "             estimator=Pipeline(steps=[(&#x27;functiontransformer&#x27;,\n",
       "                                        FunctionTransformer(func=&lt;function preprocess2 at 0x000001E915255240&gt;)),\n",
       "                                       (&#x27;kneighborsclassifier&#x27;,\n",
       "                                        KNeighborsClassifier())]),\n",
       "             param_grid={&#x27;kneighborsclassifier__metric&#x27;: [&#x27;precomputed&#x27;,\n",
       "                                                          &#x27;minkowski&#x27;],\n",
       "                         &#x27;kneighborsclassifier__n_neighbors&#x27;: [50, 70],\n",
       "                         &#x27;kneighborsclassifier__weights&#x27;: [&#x27;distance&#x27;]},\n",
       "             scoring=&#x27;recall&#x27;)</pre></div></div></div><div class=\"sk-parallel\"><div class=\"sk-parallel-item\"><div class=\"sk-item\"><div class=\"sk-label-container\"><div class=\"sk-label sk-toggleable\"><input class=\"sk-toggleable__control sk-hidden--visually\" id=\"sk-estimator-id-2\" type=\"checkbox\" ><label for=\"sk-estimator-id-2\" class=\"sk-toggleable__label sk-toggleable__label-arrow\">estimator: Pipeline</label><div class=\"sk-toggleable__content\"><pre>Pipeline(steps=[(&#x27;functiontransformer&#x27;,\n",
       "                 FunctionTransformer(func=&lt;function preprocess2 at 0x000001E915255240&gt;)),\n",
       "                (&#x27;kneighborsclassifier&#x27;, KNeighborsClassifier())])</pre></div></div></div><div class=\"sk-serial\"><div class=\"sk-item\"><div class=\"sk-serial\"><div class=\"sk-item\"><div class=\"sk-estimator sk-toggleable\"><input class=\"sk-toggleable__control sk-hidden--visually\" id=\"sk-estimator-id-3\" type=\"checkbox\" ><label for=\"sk-estimator-id-3\" class=\"sk-toggleable__label sk-toggleable__label-arrow\">FunctionTransformer</label><div class=\"sk-toggleable__content\"><pre>FunctionTransformer(func=&lt;function preprocess2 at 0x000001E915255240&gt;)</pre></div></div></div><div class=\"sk-item\"><div class=\"sk-estimator sk-toggleable\"><input class=\"sk-toggleable__control sk-hidden--visually\" id=\"sk-estimator-id-4\" type=\"checkbox\" ><label for=\"sk-estimator-id-4\" class=\"sk-toggleable__label sk-toggleable__label-arrow\">KNeighborsClassifier</label><div class=\"sk-toggleable__content\"><pre>KNeighborsClassifier()</pre></div></div></div></div></div></div></div></div></div></div></div></div>"
      ],
      "text/plain": [
       "GridSearchCV(cv=5,\n",
       "             estimator=Pipeline(steps=[('functiontransformer',\n",
       "                                        FunctionTransformer(func=<function preprocess2 at 0x000001E915255240>)),\n",
       "                                       ('kneighborsclassifier',\n",
       "                                        KNeighborsClassifier())]),\n",
       "             param_grid={'kneighborsclassifier__metric': ['precomputed',\n",
       "                                                          'minkowski'],\n",
       "                         'kneighborsclassifier__n_neighbors': [50, 70],\n",
       "                         'kneighborsclassifier__weights': ['distance']},\n",
       "             scoring='recall')"
      ]
     },
     "execution_count": 191,
     "metadata": {},
     "output_type": "execute_result"
    }
   ],
   "source": [
    "grid_kn2.fit(X1, y1)"
   ]
  },
  {
   "cell_type": "code",
   "execution_count": 192,
   "metadata": {},
   "outputs": [
    {
     "data": {
      "text/plain": [
       "(0.7478738938240093,\n",
       " {'kneighborsclassifier__metric': 'minkowski',\n",
       "  'kneighborsclassifier__n_neighbors': 50,\n",
       "  'kneighborsclassifier__weights': 'distance'})"
      ]
     },
     "execution_count": 192,
     "metadata": {},
     "output_type": "execute_result"
    }
   ],
   "source": [
    "grid_kn2.best_score_, grid_kn2.best_params_"
   ]
  },
  {
   "cell_type": "code",
   "execution_count": 123,
   "metadata": {},
   "outputs": [],
   "source": [
    "dt_params = {}\n",
    "dt_params['decisiontreeclassifier__criterion'] = ['gini', 'entropy']\n",
    "dt_params['decisiontreeclassifier__max_depth'] = [20, None]"
   ]
  },
  {
   "cell_type": "code",
   "execution_count": 119,
   "metadata": {},
   "outputs": [],
   "source": [
    "grid_dt2 = GridSearchCV(pipe_dt2, dt_params, cv=5, scoring='recall')"
   ]
  },
  {
   "cell_type": "code",
   "execution_count": 124,
   "metadata": {},
   "outputs": [
    {
     "data": {
      "text/html": [
       "<style>#sk-container-id-3 {color: black;background-color: white;}#sk-container-id-3 pre{padding: 0;}#sk-container-id-3 div.sk-toggleable {background-color: white;}#sk-container-id-3 label.sk-toggleable__label {cursor: pointer;display: block;width: 100%;margin-bottom: 0;padding: 0.3em;box-sizing: border-box;text-align: center;}#sk-container-id-3 label.sk-toggleable__label-arrow:before {content: \"▸\";float: left;margin-right: 0.25em;color: #696969;}#sk-container-id-3 label.sk-toggleable__label-arrow:hover:before {color: black;}#sk-container-id-3 div.sk-estimator:hover label.sk-toggleable__label-arrow:before {color: black;}#sk-container-id-3 div.sk-toggleable__content {max-height: 0;max-width: 0;overflow: hidden;text-align: left;background-color: #f0f8ff;}#sk-container-id-3 div.sk-toggleable__content pre {margin: 0.2em;color: black;border-radius: 0.25em;background-color: #f0f8ff;}#sk-container-id-3 input.sk-toggleable__control:checked~div.sk-toggleable__content {max-height: 200px;max-width: 100%;overflow: auto;}#sk-container-id-3 input.sk-toggleable__control:checked~label.sk-toggleable__label-arrow:before {content: \"▾\";}#sk-container-id-3 div.sk-estimator input.sk-toggleable__control:checked~label.sk-toggleable__label {background-color: #d4ebff;}#sk-container-id-3 div.sk-label input.sk-toggleable__control:checked~label.sk-toggleable__label {background-color: #d4ebff;}#sk-container-id-3 input.sk-hidden--visually {border: 0;clip: rect(1px 1px 1px 1px);clip: rect(1px, 1px, 1px, 1px);height: 1px;margin: -1px;overflow: hidden;padding: 0;position: absolute;width: 1px;}#sk-container-id-3 div.sk-estimator {font-family: monospace;background-color: #f0f8ff;border: 1px dotted black;border-radius: 0.25em;box-sizing: border-box;margin-bottom: 0.5em;}#sk-container-id-3 div.sk-estimator:hover {background-color: #d4ebff;}#sk-container-id-3 div.sk-parallel-item::after {content: \"\";width: 100%;border-bottom: 1px solid gray;flex-grow: 1;}#sk-container-id-3 div.sk-label:hover label.sk-toggleable__label {background-color: #d4ebff;}#sk-container-id-3 div.sk-serial::before {content: \"\";position: absolute;border-left: 1px solid gray;box-sizing: border-box;top: 0;bottom: 0;left: 50%;z-index: 0;}#sk-container-id-3 div.sk-serial {display: flex;flex-direction: column;align-items: center;background-color: white;padding-right: 0.2em;padding-left: 0.2em;position: relative;}#sk-container-id-3 div.sk-item {position: relative;z-index: 1;}#sk-container-id-3 div.sk-parallel {display: flex;align-items: stretch;justify-content: center;background-color: white;position: relative;}#sk-container-id-3 div.sk-item::before, #sk-container-id-3 div.sk-parallel-item::before {content: \"\";position: absolute;border-left: 1px solid gray;box-sizing: border-box;top: 0;bottom: 0;left: 50%;z-index: -1;}#sk-container-id-3 div.sk-parallel-item {display: flex;flex-direction: column;z-index: 1;position: relative;background-color: white;}#sk-container-id-3 div.sk-parallel-item:first-child::after {align-self: flex-end;width: 50%;}#sk-container-id-3 div.sk-parallel-item:last-child::after {align-self: flex-start;width: 50%;}#sk-container-id-3 div.sk-parallel-item:only-child::after {width: 0;}#sk-container-id-3 div.sk-dashed-wrapped {border: 1px dashed gray;margin: 0 0.4em 0.5em 0.4em;box-sizing: border-box;padding-bottom: 0.4em;background-color: white;}#sk-container-id-3 div.sk-label label {font-family: monospace;font-weight: bold;display: inline-block;line-height: 1.2em;}#sk-container-id-3 div.sk-label-container {text-align: center;}#sk-container-id-3 div.sk-container {/* jupyter's `normalize.less` sets `[hidden] { display: none; }` but bootstrap.min.css set `[hidden] { display: none !important; }` so we also need the `!important` here to be able to override the default hidden behavior on the sphinx rendered scikit-learn.org. See: https://github.com/scikit-learn/scikit-learn/issues/21755 */display: inline-block !important;position: relative;}#sk-container-id-3 div.sk-text-repr-fallback {display: none;}</style><div id=\"sk-container-id-3\" class=\"sk-top-container\"><div class=\"sk-text-repr-fallback\"><pre>GridSearchCV(cv=5,\n",
       "             estimator=Pipeline(steps=[(&#x27;functiontransformer&#x27;,\n",
       "                                        FunctionTransformer(func=&lt;function preprocess2 at 0x0000018C0477D5A0&gt;)),\n",
       "                                       (&#x27;decisiontreeclassifier&#x27;,\n",
       "                                        DecisionTreeClassifier())]),\n",
       "             param_grid={&#x27;decisiontreeclassifier__criterion&#x27;: [&#x27;gini&#x27;,\n",
       "                                                               &#x27;entropy&#x27;],\n",
       "                         &#x27;decisiontreeclassifier__max_depth&#x27;: [5, 10, 15, 20]},\n",
       "             scoring=&#x27;recall&#x27;)</pre><b>In a Jupyter environment, please rerun this cell to show the HTML representation or trust the notebook. <br />On GitHub, the HTML representation is unable to render, please try loading this page with nbviewer.org.</b></div><div class=\"sk-container\" hidden><div class=\"sk-item sk-dashed-wrapped\"><div class=\"sk-label-container\"><div class=\"sk-label sk-toggleable\"><input class=\"sk-toggleable__control sk-hidden--visually\" id=\"sk-estimator-id-9\" type=\"checkbox\" ><label for=\"sk-estimator-id-9\" class=\"sk-toggleable__label sk-toggleable__label-arrow\">GridSearchCV</label><div class=\"sk-toggleable__content\"><pre>GridSearchCV(cv=5,\n",
       "             estimator=Pipeline(steps=[(&#x27;functiontransformer&#x27;,\n",
       "                                        FunctionTransformer(func=&lt;function preprocess2 at 0x0000018C0477D5A0&gt;)),\n",
       "                                       (&#x27;decisiontreeclassifier&#x27;,\n",
       "                                        DecisionTreeClassifier())]),\n",
       "             param_grid={&#x27;decisiontreeclassifier__criterion&#x27;: [&#x27;gini&#x27;,\n",
       "                                                               &#x27;entropy&#x27;],\n",
       "                         &#x27;decisiontreeclassifier__max_depth&#x27;: [5, 10, 15, 20]},\n",
       "             scoring=&#x27;recall&#x27;)</pre></div></div></div><div class=\"sk-parallel\"><div class=\"sk-parallel-item\"><div class=\"sk-item\"><div class=\"sk-label-container\"><div class=\"sk-label sk-toggleable\"><input class=\"sk-toggleable__control sk-hidden--visually\" id=\"sk-estimator-id-10\" type=\"checkbox\" ><label for=\"sk-estimator-id-10\" class=\"sk-toggleable__label sk-toggleable__label-arrow\">estimator: Pipeline</label><div class=\"sk-toggleable__content\"><pre>Pipeline(steps=[(&#x27;functiontransformer&#x27;,\n",
       "                 FunctionTransformer(func=&lt;function preprocess2 at 0x0000018C0477D5A0&gt;)),\n",
       "                (&#x27;decisiontreeclassifier&#x27;, DecisionTreeClassifier())])</pre></div></div></div><div class=\"sk-serial\"><div class=\"sk-item\"><div class=\"sk-serial\"><div class=\"sk-item\"><div class=\"sk-estimator sk-toggleable\"><input class=\"sk-toggleable__control sk-hidden--visually\" id=\"sk-estimator-id-11\" type=\"checkbox\" ><label for=\"sk-estimator-id-11\" class=\"sk-toggleable__label sk-toggleable__label-arrow\">FunctionTransformer</label><div class=\"sk-toggleable__content\"><pre>FunctionTransformer(func=&lt;function preprocess2 at 0x0000018C0477D5A0&gt;)</pre></div></div></div><div class=\"sk-item\"><div class=\"sk-estimator sk-toggleable\"><input class=\"sk-toggleable__control sk-hidden--visually\" id=\"sk-estimator-id-12\" type=\"checkbox\" ><label for=\"sk-estimator-id-12\" class=\"sk-toggleable__label sk-toggleable__label-arrow\">DecisionTreeClassifier</label><div class=\"sk-toggleable__content\"><pre>DecisionTreeClassifier()</pre></div></div></div></div></div></div></div></div></div></div></div></div>"
      ],
      "text/plain": [
       "GridSearchCV(cv=5,\n",
       "             estimator=Pipeline(steps=[('functiontransformer',\n",
       "                                        FunctionTransformer(func=<function preprocess2 at 0x0000018C0477D5A0>)),\n",
       "                                       ('decisiontreeclassifier',\n",
       "                                        DecisionTreeClassifier())]),\n",
       "             param_grid={'decisiontreeclassifier__criterion': ['gini',\n",
       "                                                               'entropy'],\n",
       "                         'decisiontreeclassifier__max_depth': [5, 10, 15, 20]},\n",
       "             scoring='recall')"
      ]
     },
     "execution_count": 124,
     "metadata": {},
     "output_type": "execute_result"
    }
   ],
   "source": [
    "grid_dt2.fit(X1, y1)"
   ]
  },
  {
   "cell_type": "code",
   "execution_count": 129,
   "metadata": {},
   "outputs": [
    {
     "data": {
      "text/plain": [
       "(0.7253686190745855,\n",
       " {'decisiontreeclassifier__criterion': 'gini',\n",
       "  'decisiontreeclassifier__max_depth': 20})"
      ]
     },
     "execution_count": 129,
     "metadata": {},
     "output_type": "execute_result"
    }
   ],
   "source": [
    "grid_dt2.best_score_, grid_dt2.best_params_"
   ]
  },
  {
   "cell_type": "code",
   "execution_count": 104,
   "metadata": {},
   "outputs": [],
   "source": [
    "rf_params = {}\n",
    "rf_params['randomforestclassifier__n_estimators'] = [50, 100, 150]\n",
    "rf_params['randomforestclassifier__max_depth'] = [20, None]"
   ]
  },
  {
   "cell_type": "code",
   "execution_count": 105,
   "metadata": {},
   "outputs": [],
   "source": [
    "grid_rf2 = GridSearchCV(pipe_rf2, rf_params, cv=5, scoring='recall')"
   ]
  },
  {
   "cell_type": "code",
   "execution_count": 106,
   "metadata": {},
   "outputs": [
    {
     "data": {
      "text/html": [
       "<style>#sk-container-id-1 {color: black;background-color: white;}#sk-container-id-1 pre{padding: 0;}#sk-container-id-1 div.sk-toggleable {background-color: white;}#sk-container-id-1 label.sk-toggleable__label {cursor: pointer;display: block;width: 100%;margin-bottom: 0;padding: 0.3em;box-sizing: border-box;text-align: center;}#sk-container-id-1 label.sk-toggleable__label-arrow:before {content: \"▸\";float: left;margin-right: 0.25em;color: #696969;}#sk-container-id-1 label.sk-toggleable__label-arrow:hover:before {color: black;}#sk-container-id-1 div.sk-estimator:hover label.sk-toggleable__label-arrow:before {color: black;}#sk-container-id-1 div.sk-toggleable__content {max-height: 0;max-width: 0;overflow: hidden;text-align: left;background-color: #f0f8ff;}#sk-container-id-1 div.sk-toggleable__content pre {margin: 0.2em;color: black;border-radius: 0.25em;background-color: #f0f8ff;}#sk-container-id-1 input.sk-toggleable__control:checked~div.sk-toggleable__content {max-height: 200px;max-width: 100%;overflow: auto;}#sk-container-id-1 input.sk-toggleable__control:checked~label.sk-toggleable__label-arrow:before {content: \"▾\";}#sk-container-id-1 div.sk-estimator input.sk-toggleable__control:checked~label.sk-toggleable__label {background-color: #d4ebff;}#sk-container-id-1 div.sk-label input.sk-toggleable__control:checked~label.sk-toggleable__label {background-color: #d4ebff;}#sk-container-id-1 input.sk-hidden--visually {border: 0;clip: rect(1px 1px 1px 1px);clip: rect(1px, 1px, 1px, 1px);height: 1px;margin: -1px;overflow: hidden;padding: 0;position: absolute;width: 1px;}#sk-container-id-1 div.sk-estimator {font-family: monospace;background-color: #f0f8ff;border: 1px dotted black;border-radius: 0.25em;box-sizing: border-box;margin-bottom: 0.5em;}#sk-container-id-1 div.sk-estimator:hover {background-color: #d4ebff;}#sk-container-id-1 div.sk-parallel-item::after {content: \"\";width: 100%;border-bottom: 1px solid gray;flex-grow: 1;}#sk-container-id-1 div.sk-label:hover label.sk-toggleable__label {background-color: #d4ebff;}#sk-container-id-1 div.sk-serial::before {content: \"\";position: absolute;border-left: 1px solid gray;box-sizing: border-box;top: 0;bottom: 0;left: 50%;z-index: 0;}#sk-container-id-1 div.sk-serial {display: flex;flex-direction: column;align-items: center;background-color: white;padding-right: 0.2em;padding-left: 0.2em;position: relative;}#sk-container-id-1 div.sk-item {position: relative;z-index: 1;}#sk-container-id-1 div.sk-parallel {display: flex;align-items: stretch;justify-content: center;background-color: white;position: relative;}#sk-container-id-1 div.sk-item::before, #sk-container-id-1 div.sk-parallel-item::before {content: \"\";position: absolute;border-left: 1px solid gray;box-sizing: border-box;top: 0;bottom: 0;left: 50%;z-index: -1;}#sk-container-id-1 div.sk-parallel-item {display: flex;flex-direction: column;z-index: 1;position: relative;background-color: white;}#sk-container-id-1 div.sk-parallel-item:first-child::after {align-self: flex-end;width: 50%;}#sk-container-id-1 div.sk-parallel-item:last-child::after {align-self: flex-start;width: 50%;}#sk-container-id-1 div.sk-parallel-item:only-child::after {width: 0;}#sk-container-id-1 div.sk-dashed-wrapped {border: 1px dashed gray;margin: 0 0.4em 0.5em 0.4em;box-sizing: border-box;padding-bottom: 0.4em;background-color: white;}#sk-container-id-1 div.sk-label label {font-family: monospace;font-weight: bold;display: inline-block;line-height: 1.2em;}#sk-container-id-1 div.sk-label-container {text-align: center;}#sk-container-id-1 div.sk-container {/* jupyter's `normalize.less` sets `[hidden] { display: none; }` but bootstrap.min.css set `[hidden] { display: none !important; }` so we also need the `!important` here to be able to override the default hidden behavior on the sphinx rendered scikit-learn.org. See: https://github.com/scikit-learn/scikit-learn/issues/21755 */display: inline-block !important;position: relative;}#sk-container-id-1 div.sk-text-repr-fallback {display: none;}</style><div id=\"sk-container-id-1\" class=\"sk-top-container\"><div class=\"sk-text-repr-fallback\"><pre>GridSearchCV(cv=5,\n",
       "             estimator=Pipeline(steps=[(&#x27;functiontransformer&#x27;,\n",
       "                                        FunctionTransformer(func=&lt;function preprocess2 at 0x000001D2E4EE53F0&gt;)),\n",
       "                                       (&#x27;randomforestclassifier&#x27;,\n",
       "                                        RandomForestClassifier())]),\n",
       "             param_grid={&#x27;randomforestclassifier__max_depth&#x27;: [20, None],\n",
       "                         &#x27;randomforestclassifier__n_estimators&#x27;: [50, 100,\n",
       "                                                                  150]},\n",
       "             scoring=&#x27;recall&#x27;)</pre><b>In a Jupyter environment, please rerun this cell to show the HTML representation or trust the notebook. <br />On GitHub, the HTML representation is unable to render, please try loading this page with nbviewer.org.</b></div><div class=\"sk-container\" hidden><div class=\"sk-item sk-dashed-wrapped\"><div class=\"sk-label-container\"><div class=\"sk-label sk-toggleable\"><input class=\"sk-toggleable__control sk-hidden--visually\" id=\"sk-estimator-id-1\" type=\"checkbox\" ><label for=\"sk-estimator-id-1\" class=\"sk-toggleable__label sk-toggleable__label-arrow\">GridSearchCV</label><div class=\"sk-toggleable__content\"><pre>GridSearchCV(cv=5,\n",
       "             estimator=Pipeline(steps=[(&#x27;functiontransformer&#x27;,\n",
       "                                        FunctionTransformer(func=&lt;function preprocess2 at 0x000001D2E4EE53F0&gt;)),\n",
       "                                       (&#x27;randomforestclassifier&#x27;,\n",
       "                                        RandomForestClassifier())]),\n",
       "             param_grid={&#x27;randomforestclassifier__max_depth&#x27;: [20, None],\n",
       "                         &#x27;randomforestclassifier__n_estimators&#x27;: [50, 100,\n",
       "                                                                  150]},\n",
       "             scoring=&#x27;recall&#x27;)</pre></div></div></div><div class=\"sk-parallel\"><div class=\"sk-parallel-item\"><div class=\"sk-item\"><div class=\"sk-label-container\"><div class=\"sk-label sk-toggleable\"><input class=\"sk-toggleable__control sk-hidden--visually\" id=\"sk-estimator-id-2\" type=\"checkbox\" ><label for=\"sk-estimator-id-2\" class=\"sk-toggleable__label sk-toggleable__label-arrow\">estimator: Pipeline</label><div class=\"sk-toggleable__content\"><pre>Pipeline(steps=[(&#x27;functiontransformer&#x27;,\n",
       "                 FunctionTransformer(func=&lt;function preprocess2 at 0x000001D2E4EE53F0&gt;)),\n",
       "                (&#x27;randomforestclassifier&#x27;, RandomForestClassifier())])</pre></div></div></div><div class=\"sk-serial\"><div class=\"sk-item\"><div class=\"sk-serial\"><div class=\"sk-item\"><div class=\"sk-estimator sk-toggleable\"><input class=\"sk-toggleable__control sk-hidden--visually\" id=\"sk-estimator-id-3\" type=\"checkbox\" ><label for=\"sk-estimator-id-3\" class=\"sk-toggleable__label sk-toggleable__label-arrow\">FunctionTransformer</label><div class=\"sk-toggleable__content\"><pre>FunctionTransformer(func=&lt;function preprocess2 at 0x000001D2E4EE53F0&gt;)</pre></div></div></div><div class=\"sk-item\"><div class=\"sk-estimator sk-toggleable\"><input class=\"sk-toggleable__control sk-hidden--visually\" id=\"sk-estimator-id-4\" type=\"checkbox\" ><label for=\"sk-estimator-id-4\" class=\"sk-toggleable__label sk-toggleable__label-arrow\">RandomForestClassifier</label><div class=\"sk-toggleable__content\"><pre>RandomForestClassifier()</pre></div></div></div></div></div></div></div></div></div></div></div></div>"
      ],
      "text/plain": [
       "GridSearchCV(cv=5,\n",
       "             estimator=Pipeline(steps=[('functiontransformer',\n",
       "                                        FunctionTransformer(func=<function preprocess2 at 0x000001D2E4EE53F0>)),\n",
       "                                       ('randomforestclassifier',\n",
       "                                        RandomForestClassifier())]),\n",
       "             param_grid={'randomforestclassifier__max_depth': [20, None],\n",
       "                         'randomforestclassifier__n_estimators': [50, 100,\n",
       "                                                                  150]},\n",
       "             scoring='recall')"
      ]
     },
     "execution_count": 106,
     "metadata": {},
     "output_type": "execute_result"
    }
   ],
   "source": [
    "grid_rf2.fit(X1, y1)"
   ]
  },
  {
   "cell_type": "code",
   "execution_count": 107,
   "metadata": {},
   "outputs": [
    {
     "data": {
      "text/plain": [
       "(0.8040529011230844,\n",
       " {'randomforestclassifier__max_depth': None,\n",
       "  'randomforestclassifier__n_estimators': 150})"
      ]
     },
     "execution_count": 107,
     "metadata": {},
     "output_type": "execute_result"
    }
   ],
   "source": [
    "grid_rf2.best_score_, grid_rf2.best_params_"
   ]
  },
  {
   "cell_type": "markdown",
   "metadata": {},
   "source": [
    "### - Let's further explore the most promising grid search: RandomForestClassifier"
   ]
  },
  {
   "cell_type": "code",
   "execution_count": 102,
   "metadata": {},
   "outputs": [],
   "source": [
    "rf_params2 = {}\n",
    "rf_params2['randomforestclassifier__n_estimators'] = [80, 100, 120]"
   ]
  },
  {
   "cell_type": "code",
   "execution_count": 104,
   "metadata": {},
   "outputs": [],
   "source": [
    "grid_rf22 = GridSearchCV(pipe_rf2, rf_params2, cv=5, scoring='recall')"
   ]
  },
  {
   "cell_type": "code",
   "execution_count": 105,
   "metadata": {},
   "outputs": [
    {
     "data": {
      "text/html": [
       "<style>#sk-container-id-1 {color: black;background-color: white;}#sk-container-id-1 pre{padding: 0;}#sk-container-id-1 div.sk-toggleable {background-color: white;}#sk-container-id-1 label.sk-toggleable__label {cursor: pointer;display: block;width: 100%;margin-bottom: 0;padding: 0.3em;box-sizing: border-box;text-align: center;}#sk-container-id-1 label.sk-toggleable__label-arrow:before {content: \"▸\";float: left;margin-right: 0.25em;color: #696969;}#sk-container-id-1 label.sk-toggleable__label-arrow:hover:before {color: black;}#sk-container-id-1 div.sk-estimator:hover label.sk-toggleable__label-arrow:before {color: black;}#sk-container-id-1 div.sk-toggleable__content {max-height: 0;max-width: 0;overflow: hidden;text-align: left;background-color: #f0f8ff;}#sk-container-id-1 div.sk-toggleable__content pre {margin: 0.2em;color: black;border-radius: 0.25em;background-color: #f0f8ff;}#sk-container-id-1 input.sk-toggleable__control:checked~div.sk-toggleable__content {max-height: 200px;max-width: 100%;overflow: auto;}#sk-container-id-1 input.sk-toggleable__control:checked~label.sk-toggleable__label-arrow:before {content: \"▾\";}#sk-container-id-1 div.sk-estimator input.sk-toggleable__control:checked~label.sk-toggleable__label {background-color: #d4ebff;}#sk-container-id-1 div.sk-label input.sk-toggleable__control:checked~label.sk-toggleable__label {background-color: #d4ebff;}#sk-container-id-1 input.sk-hidden--visually {border: 0;clip: rect(1px 1px 1px 1px);clip: rect(1px, 1px, 1px, 1px);height: 1px;margin: -1px;overflow: hidden;padding: 0;position: absolute;width: 1px;}#sk-container-id-1 div.sk-estimator {font-family: monospace;background-color: #f0f8ff;border: 1px dotted black;border-radius: 0.25em;box-sizing: border-box;margin-bottom: 0.5em;}#sk-container-id-1 div.sk-estimator:hover {background-color: #d4ebff;}#sk-container-id-1 div.sk-parallel-item::after {content: \"\";width: 100%;border-bottom: 1px solid gray;flex-grow: 1;}#sk-container-id-1 div.sk-label:hover label.sk-toggleable__label {background-color: #d4ebff;}#sk-container-id-1 div.sk-serial::before {content: \"\";position: absolute;border-left: 1px solid gray;box-sizing: border-box;top: 0;bottom: 0;left: 50%;z-index: 0;}#sk-container-id-1 div.sk-serial {display: flex;flex-direction: column;align-items: center;background-color: white;padding-right: 0.2em;padding-left: 0.2em;position: relative;}#sk-container-id-1 div.sk-item {position: relative;z-index: 1;}#sk-container-id-1 div.sk-parallel {display: flex;align-items: stretch;justify-content: center;background-color: white;position: relative;}#sk-container-id-1 div.sk-item::before, #sk-container-id-1 div.sk-parallel-item::before {content: \"\";position: absolute;border-left: 1px solid gray;box-sizing: border-box;top: 0;bottom: 0;left: 50%;z-index: -1;}#sk-container-id-1 div.sk-parallel-item {display: flex;flex-direction: column;z-index: 1;position: relative;background-color: white;}#sk-container-id-1 div.sk-parallel-item:first-child::after {align-self: flex-end;width: 50%;}#sk-container-id-1 div.sk-parallel-item:last-child::after {align-self: flex-start;width: 50%;}#sk-container-id-1 div.sk-parallel-item:only-child::after {width: 0;}#sk-container-id-1 div.sk-dashed-wrapped {border: 1px dashed gray;margin: 0 0.4em 0.5em 0.4em;box-sizing: border-box;padding-bottom: 0.4em;background-color: white;}#sk-container-id-1 div.sk-label label {font-family: monospace;font-weight: bold;display: inline-block;line-height: 1.2em;}#sk-container-id-1 div.sk-label-container {text-align: center;}#sk-container-id-1 div.sk-container {/* jupyter's `normalize.less` sets `[hidden] { display: none; }` but bootstrap.min.css set `[hidden] { display: none !important; }` so we also need the `!important` here to be able to override the default hidden behavior on the sphinx rendered scikit-learn.org. See: https://github.com/scikit-learn/scikit-learn/issues/21755 */display: inline-block !important;position: relative;}#sk-container-id-1 div.sk-text-repr-fallback {display: none;}</style><div id=\"sk-container-id-1\" class=\"sk-top-container\"><div class=\"sk-text-repr-fallback\"><pre>GridSearchCV(cv=5,\n",
       "             estimator=Pipeline(steps=[(&#x27;functiontransformer&#x27;,\n",
       "                                        FunctionTransformer(func=&lt;function preprocess2 at 0x0000026F3E40D120&gt;)),\n",
       "                                       (&#x27;randomforestclassifier&#x27;,\n",
       "                                        RandomForestClassifier())]),\n",
       "             param_grid={&#x27;randomforestclassifier__n_estimators&#x27;: [80, 100,\n",
       "                                                                  120]},\n",
       "             scoring=&#x27;recall&#x27;)</pre><b>In a Jupyter environment, please rerun this cell to show the HTML representation or trust the notebook. <br />On GitHub, the HTML representation is unable to render, please try loading this page with nbviewer.org.</b></div><div class=\"sk-container\" hidden><div class=\"sk-item sk-dashed-wrapped\"><div class=\"sk-label-container\"><div class=\"sk-label sk-toggleable\"><input class=\"sk-toggleable__control sk-hidden--visually\" id=\"sk-estimator-id-1\" type=\"checkbox\" ><label for=\"sk-estimator-id-1\" class=\"sk-toggleable__label sk-toggleable__label-arrow\">GridSearchCV</label><div class=\"sk-toggleable__content\"><pre>GridSearchCV(cv=5,\n",
       "             estimator=Pipeline(steps=[(&#x27;functiontransformer&#x27;,\n",
       "                                        FunctionTransformer(func=&lt;function preprocess2 at 0x0000026F3E40D120&gt;)),\n",
       "                                       (&#x27;randomforestclassifier&#x27;,\n",
       "                                        RandomForestClassifier())]),\n",
       "             param_grid={&#x27;randomforestclassifier__n_estimators&#x27;: [80, 100,\n",
       "                                                                  120]},\n",
       "             scoring=&#x27;recall&#x27;)</pre></div></div></div><div class=\"sk-parallel\"><div class=\"sk-parallel-item\"><div class=\"sk-item\"><div class=\"sk-label-container\"><div class=\"sk-label sk-toggleable\"><input class=\"sk-toggleable__control sk-hidden--visually\" id=\"sk-estimator-id-2\" type=\"checkbox\" ><label for=\"sk-estimator-id-2\" class=\"sk-toggleable__label sk-toggleable__label-arrow\">estimator: Pipeline</label><div class=\"sk-toggleable__content\"><pre>Pipeline(steps=[(&#x27;functiontransformer&#x27;,\n",
       "                 FunctionTransformer(func=&lt;function preprocess2 at 0x0000026F3E40D120&gt;)),\n",
       "                (&#x27;randomforestclassifier&#x27;, RandomForestClassifier())])</pre></div></div></div><div class=\"sk-serial\"><div class=\"sk-item\"><div class=\"sk-serial\"><div class=\"sk-item\"><div class=\"sk-estimator sk-toggleable\"><input class=\"sk-toggleable__control sk-hidden--visually\" id=\"sk-estimator-id-3\" type=\"checkbox\" ><label for=\"sk-estimator-id-3\" class=\"sk-toggleable__label sk-toggleable__label-arrow\">FunctionTransformer</label><div class=\"sk-toggleable__content\"><pre>FunctionTransformer(func=&lt;function preprocess2 at 0x0000026F3E40D120&gt;)</pre></div></div></div><div class=\"sk-item\"><div class=\"sk-estimator sk-toggleable\"><input class=\"sk-toggleable__control sk-hidden--visually\" id=\"sk-estimator-id-4\" type=\"checkbox\" ><label for=\"sk-estimator-id-4\" class=\"sk-toggleable__label sk-toggleable__label-arrow\">RandomForestClassifier</label><div class=\"sk-toggleable__content\"><pre>RandomForestClassifier()</pre></div></div></div></div></div></div></div></div></div></div></div></div>"
      ],
      "text/plain": [
       "GridSearchCV(cv=5,\n",
       "             estimator=Pipeline(steps=[('functiontransformer',\n",
       "                                        FunctionTransformer(func=<function preprocess2 at 0x0000026F3E40D120>)),\n",
       "                                       ('randomforestclassifier',\n",
       "                                        RandomForestClassifier())]),\n",
       "             param_grid={'randomforestclassifier__n_estimators': [80, 100,\n",
       "                                                                  120]},\n",
       "             scoring='recall')"
      ]
     },
     "execution_count": 105,
     "metadata": {},
     "output_type": "execute_result"
    }
   ],
   "source": [
    "grid_rf22.fit(X1, y1)"
   ]
  },
  {
   "cell_type": "code",
   "execution_count": 108,
   "metadata": {},
   "outputs": [
    {
     "data": {
      "text/plain": [
       "(0.7581591516932689, {'randomforestclassifier__n_estimators': 120})"
      ]
     },
     "execution_count": 108,
     "metadata": {},
     "output_type": "execute_result"
    }
   ],
   "source": [
    "grid_rf22.best_score_, grid_rf22.best_params_"
   ]
  },
  {
   "cell_type": "code",
   "execution_count": 104,
   "metadata": {},
   "outputs": [],
   "source": [
    "rf_params3 = {}\n",
    "rf_params3['randomforestclassifier__n_estimators'] = [120,150]\n",
    "rf_params3['randomforestclassifier__min_samples_split'] = [2]\n",
    "rf_params3['randomforestclassifier__min_samples_leaf'] = [2]\n",
    "rf_params3['randomforestclassifier__bootstrap'] = [True, False]"
   ]
  },
  {
   "cell_type": "code",
   "execution_count": 105,
   "metadata": {},
   "outputs": [],
   "source": [
    "grid_rf23 = GridSearchCV(pipe_rf2, rf_params3, cv=5, scoring='recall')"
   ]
  },
  {
   "cell_type": "code",
   "execution_count": 106,
   "metadata": {},
   "outputs": [
    {
     "data": {
      "text/html": [
       "<style>#sk-container-id-1 {color: black;background-color: white;}#sk-container-id-1 pre{padding: 0;}#sk-container-id-1 div.sk-toggleable {background-color: white;}#sk-container-id-1 label.sk-toggleable__label {cursor: pointer;display: block;width: 100%;margin-bottom: 0;padding: 0.3em;box-sizing: border-box;text-align: center;}#sk-container-id-1 label.sk-toggleable__label-arrow:before {content: \"▸\";float: left;margin-right: 0.25em;color: #696969;}#sk-container-id-1 label.sk-toggleable__label-arrow:hover:before {color: black;}#sk-container-id-1 div.sk-estimator:hover label.sk-toggleable__label-arrow:before {color: black;}#sk-container-id-1 div.sk-toggleable__content {max-height: 0;max-width: 0;overflow: hidden;text-align: left;background-color: #f0f8ff;}#sk-container-id-1 div.sk-toggleable__content pre {margin: 0.2em;color: black;border-radius: 0.25em;background-color: #f0f8ff;}#sk-container-id-1 input.sk-toggleable__control:checked~div.sk-toggleable__content {max-height: 200px;max-width: 100%;overflow: auto;}#sk-container-id-1 input.sk-toggleable__control:checked~label.sk-toggleable__label-arrow:before {content: \"▾\";}#sk-container-id-1 div.sk-estimator input.sk-toggleable__control:checked~label.sk-toggleable__label {background-color: #d4ebff;}#sk-container-id-1 div.sk-label input.sk-toggleable__control:checked~label.sk-toggleable__label {background-color: #d4ebff;}#sk-container-id-1 input.sk-hidden--visually {border: 0;clip: rect(1px 1px 1px 1px);clip: rect(1px, 1px, 1px, 1px);height: 1px;margin: -1px;overflow: hidden;padding: 0;position: absolute;width: 1px;}#sk-container-id-1 div.sk-estimator {font-family: monospace;background-color: #f0f8ff;border: 1px dotted black;border-radius: 0.25em;box-sizing: border-box;margin-bottom: 0.5em;}#sk-container-id-1 div.sk-estimator:hover {background-color: #d4ebff;}#sk-container-id-1 div.sk-parallel-item::after {content: \"\";width: 100%;border-bottom: 1px solid gray;flex-grow: 1;}#sk-container-id-1 div.sk-label:hover label.sk-toggleable__label {background-color: #d4ebff;}#sk-container-id-1 div.sk-serial::before {content: \"\";position: absolute;border-left: 1px solid gray;box-sizing: border-box;top: 0;bottom: 0;left: 50%;z-index: 0;}#sk-container-id-1 div.sk-serial {display: flex;flex-direction: column;align-items: center;background-color: white;padding-right: 0.2em;padding-left: 0.2em;position: relative;}#sk-container-id-1 div.sk-item {position: relative;z-index: 1;}#sk-container-id-1 div.sk-parallel {display: flex;align-items: stretch;justify-content: center;background-color: white;position: relative;}#sk-container-id-1 div.sk-item::before, #sk-container-id-1 div.sk-parallel-item::before {content: \"\";position: absolute;border-left: 1px solid gray;box-sizing: border-box;top: 0;bottom: 0;left: 50%;z-index: -1;}#sk-container-id-1 div.sk-parallel-item {display: flex;flex-direction: column;z-index: 1;position: relative;background-color: white;}#sk-container-id-1 div.sk-parallel-item:first-child::after {align-self: flex-end;width: 50%;}#sk-container-id-1 div.sk-parallel-item:last-child::after {align-self: flex-start;width: 50%;}#sk-container-id-1 div.sk-parallel-item:only-child::after {width: 0;}#sk-container-id-1 div.sk-dashed-wrapped {border: 1px dashed gray;margin: 0 0.4em 0.5em 0.4em;box-sizing: border-box;padding-bottom: 0.4em;background-color: white;}#sk-container-id-1 div.sk-label label {font-family: monospace;font-weight: bold;display: inline-block;line-height: 1.2em;}#sk-container-id-1 div.sk-label-container {text-align: center;}#sk-container-id-1 div.sk-container {/* jupyter's `normalize.less` sets `[hidden] { display: none; }` but bootstrap.min.css set `[hidden] { display: none !important; }` so we also need the `!important` here to be able to override the default hidden behavior on the sphinx rendered scikit-learn.org. See: https://github.com/scikit-learn/scikit-learn/issues/21755 */display: inline-block !important;position: relative;}#sk-container-id-1 div.sk-text-repr-fallback {display: none;}</style><div id=\"sk-container-id-1\" class=\"sk-top-container\"><div class=\"sk-text-repr-fallback\"><pre>GridSearchCV(cv=5,\n",
       "             estimator=Pipeline(steps=[(&#x27;functiontransformer&#x27;,\n",
       "                                        FunctionTransformer(func=&lt;function preprocess2 at 0x000001F973C59480&gt;)),\n",
       "                                       (&#x27;randomforestclassifier&#x27;,\n",
       "                                        RandomForestClassifier())]),\n",
       "             param_grid={&#x27;randomforestclassifier__bootstrap&#x27;: [True, False],\n",
       "                         &#x27;randomforestclassifier__min_samples_leaf&#x27;: [2],\n",
       "                         &#x27;randomforestclassifier__min_samples_split&#x27;: [2],\n",
       "                         &#x27;randomforestclassifier__n_estimators&#x27;: [120, 150]},\n",
       "             scoring=&#x27;recall&#x27;)</pre><b>In a Jupyter environment, please rerun this cell to show the HTML representation or trust the notebook. <br />On GitHub, the HTML representation is unable to render, please try loading this page with nbviewer.org.</b></div><div class=\"sk-container\" hidden><div class=\"sk-item sk-dashed-wrapped\"><div class=\"sk-label-container\"><div class=\"sk-label sk-toggleable\"><input class=\"sk-toggleable__control sk-hidden--visually\" id=\"sk-estimator-id-1\" type=\"checkbox\" ><label for=\"sk-estimator-id-1\" class=\"sk-toggleable__label sk-toggleable__label-arrow\">GridSearchCV</label><div class=\"sk-toggleable__content\"><pre>GridSearchCV(cv=5,\n",
       "             estimator=Pipeline(steps=[(&#x27;functiontransformer&#x27;,\n",
       "                                        FunctionTransformer(func=&lt;function preprocess2 at 0x000001F973C59480&gt;)),\n",
       "                                       (&#x27;randomforestclassifier&#x27;,\n",
       "                                        RandomForestClassifier())]),\n",
       "             param_grid={&#x27;randomforestclassifier__bootstrap&#x27;: [True, False],\n",
       "                         &#x27;randomforestclassifier__min_samples_leaf&#x27;: [2],\n",
       "                         &#x27;randomforestclassifier__min_samples_split&#x27;: [2],\n",
       "                         &#x27;randomforestclassifier__n_estimators&#x27;: [120, 150]},\n",
       "             scoring=&#x27;recall&#x27;)</pre></div></div></div><div class=\"sk-parallel\"><div class=\"sk-parallel-item\"><div class=\"sk-item\"><div class=\"sk-label-container\"><div class=\"sk-label sk-toggleable\"><input class=\"sk-toggleable__control sk-hidden--visually\" id=\"sk-estimator-id-2\" type=\"checkbox\" ><label for=\"sk-estimator-id-2\" class=\"sk-toggleable__label sk-toggleable__label-arrow\">estimator: Pipeline</label><div class=\"sk-toggleable__content\"><pre>Pipeline(steps=[(&#x27;functiontransformer&#x27;,\n",
       "                 FunctionTransformer(func=&lt;function preprocess2 at 0x000001F973C59480&gt;)),\n",
       "                (&#x27;randomforestclassifier&#x27;, RandomForestClassifier())])</pre></div></div></div><div class=\"sk-serial\"><div class=\"sk-item\"><div class=\"sk-serial\"><div class=\"sk-item\"><div class=\"sk-estimator sk-toggleable\"><input class=\"sk-toggleable__control sk-hidden--visually\" id=\"sk-estimator-id-3\" type=\"checkbox\" ><label for=\"sk-estimator-id-3\" class=\"sk-toggleable__label sk-toggleable__label-arrow\">FunctionTransformer</label><div class=\"sk-toggleable__content\"><pre>FunctionTransformer(func=&lt;function preprocess2 at 0x000001F973C59480&gt;)</pre></div></div></div><div class=\"sk-item\"><div class=\"sk-estimator sk-toggleable\"><input class=\"sk-toggleable__control sk-hidden--visually\" id=\"sk-estimator-id-4\" type=\"checkbox\" ><label for=\"sk-estimator-id-4\" class=\"sk-toggleable__label sk-toggleable__label-arrow\">RandomForestClassifier</label><div class=\"sk-toggleable__content\"><pre>RandomForestClassifier()</pre></div></div></div></div></div></div></div></div></div></div></div></div>"
      ],
      "text/plain": [
       "GridSearchCV(cv=5,\n",
       "             estimator=Pipeline(steps=[('functiontransformer',\n",
       "                                        FunctionTransformer(func=<function preprocess2 at 0x000001F973C59480>)),\n",
       "                                       ('randomforestclassifier',\n",
       "                                        RandomForestClassifier())]),\n",
       "             param_grid={'randomforestclassifier__bootstrap': [True, False],\n",
       "                         'randomforestclassifier__min_samples_leaf': [2],\n",
       "                         'randomforestclassifier__min_samples_split': [2],\n",
       "                         'randomforestclassifier__n_estimators': [120, 150]},\n",
       "             scoring='recall')"
      ]
     },
     "execution_count": 106,
     "metadata": {},
     "output_type": "execute_result"
    }
   ],
   "source": [
    "grid_rf23.fit(X1, y1)"
   ]
  },
  {
   "cell_type": "code",
   "execution_count": 107,
   "metadata": {},
   "outputs": [
    {
     "data": {
      "text/plain": [
       "(0.8421829435219902,\n",
       " {'randomforestclassifier__bootstrap': False,\n",
       "  'randomforestclassifier__min_samples_leaf': 2,\n",
       "  'randomforestclassifier__min_samples_split': 2,\n",
       "  'randomforestclassifier__n_estimators': 120})"
      ]
     },
     "execution_count": 107,
     "metadata": {},
     "output_type": "execute_result"
    }
   ],
   "source": [
    "grid_rf23.best_score_, grid_rf23.best_params_"
   ]
  },
  {
   "cell_type": "code",
   "execution_count": null,
   "metadata": {},
   "outputs": [],
   "source": []
  },
  {
   "cell_type": "markdown",
   "metadata": {},
   "source": [
    "## ---------------------- G E N E R A T I N G --- T H E --- M O D E L ----------------------"
   ]
  },
  {
   "cell_type": "code",
   "execution_count": 108,
   "metadata": {},
   "outputs": [],
   "source": [
    "real_test = pd.read_csv('datasets/properties_colombia_test.csv')\n",
    "real_test1 = preprocess1(real_test)\n",
    "real_test2 = preprocess2(real_test)\n",
    "#z = pipe_kn1.fit(X3,y3).predict(real_test)"
   ]
  },
  {
   "cell_type": "code",
   "execution_count": 109,
   "metadata": {},
   "outputs": [
    {
     "name": "stdout",
     "output_type": "stream",
     "text": [
      "[1 1 0 ... 0 0 0]\n"
     ]
    }
   ],
   "source": [
    "# Trying final predictions with Decision tree classifier max_depth=15\n",
    "#final_model = RandomForestClassifier(n_estimators=120,min_samples_leaf=2,min_samples_split=2,bootstrap=False)\n",
    "final_model = RandomForestClassifier(n_estimators=120,min_samples_leaf=2,min_samples_split=2,bootstrap=False)\n",
    "X_train = preprocess2(X1)\n",
    "final_model.fit(X_train, y1)\n",
    "final_preds = final_model.predict(real_test2)\n",
    "print(final_preds)"
   ]
  },
  {
   "cell_type": "code",
   "execution_count": 110,
   "metadata": {},
   "outputs": [
    {
     "data": {
      "text/plain": [
       "(65850,)"
      ]
     },
     "execution_count": 110,
     "metadata": {},
     "output_type": "execute_result"
    }
   ],
   "source": [
    "final_preds.shape"
   ]
  },
  {
   "cell_type": "code",
   "execution_count": 111,
   "metadata": {},
   "outputs": [
    {
     "data": {
      "text/html": [
       "<div>\n",
       "<style scoped>\n",
       "    .dataframe tbody tr th:only-of-type {\n",
       "        vertical-align: middle;\n",
       "    }\n",
       "\n",
       "    .dataframe tbody tr th {\n",
       "        vertical-align: top;\n",
       "    }\n",
       "\n",
       "    .dataframe thead th {\n",
       "        text-align: right;\n",
       "    }\n",
       "</style>\n",
       "<table border=\"1\" class=\"dataframe\">\n",
       "  <thead>\n",
       "    <tr style=\"text-align: right;\">\n",
       "      <th></th>\n",
       "      <th>pred</th>\n",
       "    </tr>\n",
       "  </thead>\n",
       "  <tbody>\n",
       "    <tr>\n",
       "      <th>0</th>\n",
       "      <td>1</td>\n",
       "    </tr>\n",
       "    <tr>\n",
       "      <th>1</th>\n",
       "      <td>1</td>\n",
       "    </tr>\n",
       "    <tr>\n",
       "      <th>2</th>\n",
       "      <td>0</td>\n",
       "    </tr>\n",
       "    <tr>\n",
       "      <th>3</th>\n",
       "      <td>1</td>\n",
       "    </tr>\n",
       "    <tr>\n",
       "      <th>4</th>\n",
       "      <td>1</td>\n",
       "    </tr>\n",
       "    <tr>\n",
       "      <th>5</th>\n",
       "      <td>1</td>\n",
       "    </tr>\n",
       "    <tr>\n",
       "      <th>6</th>\n",
       "      <td>0</td>\n",
       "    </tr>\n",
       "    <tr>\n",
       "      <th>7</th>\n",
       "      <td>0</td>\n",
       "    </tr>\n",
       "    <tr>\n",
       "      <th>8</th>\n",
       "      <td>0</td>\n",
       "    </tr>\n",
       "    <tr>\n",
       "      <th>9</th>\n",
       "      <td>0</td>\n",
       "    </tr>\n",
       "  </tbody>\n",
       "</table>\n",
       "</div>"
      ],
      "text/plain": [
       "   pred\n",
       "0     1\n",
       "1     1\n",
       "2     0\n",
       "3     1\n",
       "4     1\n",
       "5     1\n",
       "6     0\n",
       "7     0\n",
       "8     0\n",
       "9     0"
      ]
     },
     "execution_count": 111,
     "metadata": {},
     "output_type": "execute_result"
    }
   ],
   "source": [
    "preds = pd.DataFrame({'pred':final_preds})\n",
    "preds.head(10)"
   ]
  },
  {
   "cell_type": "code",
   "execution_count": 112,
   "metadata": {},
   "outputs": [],
   "source": [
    "preds.to_csv(path_or_buf='acidminded95.csv', index=False)"
   ]
  },
  {
   "cell_type": "markdown",
   "metadata": {},
   "source": [
    "## -------------------------- One last attempt D:"
   ]
  },
  {
   "cell_type": "code",
   "execution_count": null,
   "metadata": {},
   "outputs": [],
   "source": [
    "'''\n",
    "The following was our first attempt at choosing some words that reflected the most used words in the description of \n",
    "an expensive or cheap house. After some trials we quickly concluded that the appearance of these words in the description\n",
    "had less than 1% correlation with the target variable. So we searched for a more comprehensive list.\n",
    "'''\n",
    "'''\n",
    "description_expensive = ['excelente', 'exclusivo', 'exclusiva', 'club', 'mejor', 'lujo', 'playa', 'piscina', 'jacuzzi', 'terraza', 'campestre', 'condominio']\n",
    "description_cheap = ['negociable', 'economico', 'economica', 'sencillo', 'sencilla']\n",
    "'''"
   ]
  },
  {
   "cell_type": "code",
   "execution_count": 109,
   "metadata": {},
   "outputs": [],
   "source": [
    "chars_to_ignore = ['!','?','@','#','$','%','^','&','*','(',')','-','_','=','+',',','.','1','2','3','4','5','6','7','8','9','0',':',';','/','|','\\n','<b>','<br>','<br >', '<br  >','<br />', 'para','como', 'cuenta', 'baño', 'piso']\n",
    "def get_words(str):\n",
    "    sent = str.lower().strip()\n",
    "    for char in chars_to_ignore:\n",
    "        sent = sent.replace(char,' ')\n",
    "    sent_list = sent.split()\n",
    "    sent_list_big = []\n",
    "    for word in sent_list:\n",
    "        if len(word) >= 4:\n",
    "            sent_list_big.append(word)\n",
    "    return sent_list_big"
   ]
  },
  {
   "cell_type": "code",
   "execution_count": 110,
   "metadata": {},
   "outputs": [],
   "source": [
    "# flc: feels like cheating... But we're only extracting the most used words in the descriptions of the properties per target category.\n",
    "\n",
    "flc = pd.DataFrame({'description':X1['description'], 'target':y1})\n",
    "flc.reset_index(inplace=True, drop=True)\n",
    "flc['description'] = fill_description(flc)"
   ]
  },
  {
   "cell_type": "code",
   "execution_count": 111,
   "metadata": {},
   "outputs": [
    {
     "name": "stdout",
     "output_type": "stream",
     "text": [
      "Expensive top len:  27499\n",
      "Cheap top len:  38993\n",
      "\n",
      "\n",
      "MOST EXPENSIVE WORDS (458)\n",
      "['buen', 'rutas', 'circuito', 'salon', 'buenas', 'todos', 'alta', 'todo', 'construcción', 'vivir', 'biblioteca', 'vehículos', 'oacute', 'lavandería', 'frente', 'deben', 'manos', 'poblado', 'expertos', 'ampliarte', 'todas', 'iluminación', 'terreno', 'portería', 'altura', 'puerta', 'cubiertos', 'ascensor', 'aire', 'ntilde', 'millones', 'útil', 'exterior', 'encuentra', 'infantil', 'garajes', 'vías', 'interno', 'vendo', 'este', 'solo', 'supermercados', 'calle', 'valor', 'gran', 'excelentes', 'local', 'restaurantes', 'residencial', 'turco', 'hall', 'espacio', 'total', 'natural', 'información', 'construida', 'abierta', 'cerrada', 'estar', 'juegos', 'cancha', 'primer', 'madera', 'segundo', 'area', 'acabados', 'horas', 'vende', 'habitación', 'amplios', 'finca', 'consta', 'garaje', 'parque', 'unidad', 'patio', 'edificio', 'amplio', 'comercial', 'ubicado', 'nivel', 'ropas', 'closet', 'espacios', 'tres', 'vestier', 'parqueadero', 'zonas', 'piscina', 'terraza', 'sector', 'integral', 'cuarto', 'principal', 'excelente', 'alcobas', 'apartamento', 'comedor', 'sala', 'casa']\n",
      "\n",
      "\n",
      "MOST CHEAP WORDS (458)\n",
      "['exterior', 'alta', 'puerta', 'lavandería', 'americana', 'negociable', 'código', 'ceramica', 'buenas', 'vivir', 'todo', 'construida', 'lavamanos', 'estar', 'aire', 'hall', 'cercano', 'fácil', 'frente', 'manizales', 'cucuta', 'parques', 'adicionales', 'salon', 'solo', 'gran', 'tercer', 'oficios', 'iluminación', 'espacio', 'buen', 'oacute', 'restaurantes', 'local', 'encuentra', 'semi', 'rutas', 'estrenar', 'adultos', 'vías', 'abierta', 'didades', 'ntilde', 'amplios', 'cabinados', 'infantil', 'millones', 'area', 'turco', 'útil', 'excelentes', 'calle', 'este', 'natural', 'madera', 'cerrada', 'vendo', 'supermercados', 'valor', 'información', 'primer', 'nivel', 'habitación', 'portería', 'vestier', 'espacios', 'cancha', 'segundo', 'acabados', 'residencial', 'edificio', 'amplio', 'comercial', 'parque', 'terraza', 'garaje', 'horas', 'tres', 'juegos', 'ascensor', 'cuarto', 'vende', 'unidad', 'consta', 'patio', 'ubicado', 'zonas', 'piscina', 'principal', 'sector', 'ropas', 'excelente', 'closet', 'parqueadero', 'alcobas', 'casa', 'integral', 'apartamento', 'comedor', 'sala']\n"
     ]
    }
   ],
   "source": [
    "expensive_words = {}\n",
    "cheap_words = {}\n",
    "\n",
    "for x in range(len(flc)):\n",
    "    dsc = flc.loc[x,'description']\n",
    "    tar = flc.loc[x,'target']\n",
    "    \n",
    "    dsc_list_big = get_words(dsc)\n",
    "    \n",
    "    for word in dsc_list_big:\n",
    "        if tar == 1:\n",
    "            if word in expensive_words.keys():\n",
    "                expensive_words[word] += 1\n",
    "            else:\n",
    "                expensive_words[word] = 1\n",
    "        elif tar == 0:\n",
    "            if word in cheap_words.keys():\n",
    "                cheap_words[word] += 1\n",
    "            else:\n",
    "                cheap_words[word] = 1\n",
    "\n",
    "\n",
    "expensive_sorted = sorted(expensive_words.items(), key=lambda x:x[1])\n",
    "cheap_sorted = sorted(cheap_words.items(), key=lambda x:x[1])\n",
    "print('Expensive top len: ', len(expensive_sorted))\n",
    "print('Cheap top len: ', len(cheap_sorted))\n",
    "amount_ew = -800 #round(0-(len(expensive_sorted)/10))\n",
    "amount_cw = -800 #round(0-(len(cheap_sorted)/10))\n",
    "\n",
    "ex_top_sorted = expensive_sorted[amount_ew:]\n",
    "exp = []\n",
    "for x in ex_top_sorted:\n",
    "    exp.append(x[0])\n",
    "\n",
    "ch_top_sorted = cheap_sorted[amount_cw:]\n",
    "chp = []\n",
    "for x in ch_top_sorted:\n",
    "    chp.append(x[0])\n",
    "\n",
    "for x in exp:\n",
    "    if x in chp:\n",
    "        exp.remove(x)\n",
    "        chp.remove(x)\n",
    "\n",
    "print(f'\\n\\nMOST EXPENSIVE WORDS ({len(exp)})')\n",
    "print(exp[-100:])\n",
    "print(f'\\n\\nMOST CHEAP WORDS ({len(chp)})')\n",
    "print(chp[-100:])\n"
   ]
  },
  {
   "cell_type": "code",
   "execution_count": 234,
   "metadata": {},
   "outputs": [],
   "source": [
    "def description_interpreter(df):\n",
    "    dsc_ints = []\n",
    "    for x in range(len(df)):\n",
    "        dsc = df.loc[x,'description']\n",
    "        \n",
    "        dsc_list = get_words(dsc)\n",
    "        dsc_in = 0\n",
    "        \n",
    "        for word in dsc_list:\n",
    "            if word in exp:\n",
    "                dsc_in += 3\n",
    "            elif word in chp:\n",
    "                dsc_in -= 15\n",
    "            else:\n",
    "                pass\n",
    "        dsc_ints.append(dsc_in)\n",
    "    return pd.Series(dsc_ints)"
   ]
  },
  {
   "cell_type": "code",
   "execution_count": 174,
   "metadata": {},
   "outputs": [],
   "source": [
    "def description_interpreter2(df):\n",
    "    dsc_ints = []\n",
    "    for x in range(len(df)):\n",
    "        dsc = df.loc[x,'description']\n",
    "        \n",
    "        dsc_list = get_words(dsc)\n",
    "        dsc_ew = 0\n",
    "        dsc_cw = 0\n",
    "        \n",
    "        for word in dsc_list:\n",
    "            if word in exp:\n",
    "                dsc_ew += 1\n",
    "            elif word in chp:\n",
    "                dsc_cw += 16\n",
    "            else:\n",
    "                pass\n",
    "        if dsc_ew > dsc_cw:\n",
    "            dsc_ints.append(1)\n",
    "        elif dsc_ew < dsc_cw:\n",
    "            dsc_ints.append(0)\n",
    "        else:\n",
    "            dsc_ints.append(1)\n",
    "    return pd.Series(dsc_ints)"
   ]
  },
  {
   "cell_type": "code",
   "execution_count": 175,
   "metadata": {},
   "outputs": [],
   "source": [
    "trials = pd.DataFrame(X1['description'][:1000])\n",
    "trials.reset_index(inplace=True, drop=True)\n",
    "trials['description'] = fill_description(trials)\n",
    "#trials.head()\n",
    "trials['int'] = description_interpreter2(trials)\n",
    "#trials.head(20)"
   ]
  },
  {
   "cell_type": "code",
   "execution_count": 176,
   "metadata": {},
   "outputs": [
    {
     "data": {
      "text/plain": [
       "1    612\n",
       "0    388\n",
       "Name: int, dtype: int64"
      ]
     },
     "execution_count": 176,
     "metadata": {},
     "output_type": "execute_result"
    }
   ],
   "source": [
    "trials.int.value_counts()"
   ]
  },
  {
   "cell_type": "code",
   "execution_count": 177,
   "metadata": {},
   "outputs": [],
   "source": [
    "trials['target'] = y1[:1000]"
   ]
  },
  {
   "cell_type": "code",
   "execution_count": 178,
   "metadata": {},
   "outputs": [],
   "source": [
    "trials['int_mm'] = min_max_scaler.transform(trials[['int']])\n",
    "trials['int_std'] = StandardScaler().fit_transform(trials[['int']])\n",
    "#trials['int_std'] = std_scaler.transform(trials[['int']])"
   ]
  },
  {
   "cell_type": "code",
   "execution_count": 179,
   "metadata": {},
   "outputs": [
    {
     "data": {
      "text/html": [
       "<div>\n",
       "<style scoped>\n",
       "    .dataframe tbody tr th:only-of-type {\n",
       "        vertical-align: middle;\n",
       "    }\n",
       "\n",
       "    .dataframe tbody tr th {\n",
       "        vertical-align: top;\n",
       "    }\n",
       "\n",
       "    .dataframe thead th {\n",
       "        text-align: right;\n",
       "    }\n",
       "</style>\n",
       "<table border=\"1\" class=\"dataframe\">\n",
       "  <thead>\n",
       "    <tr style=\"text-align: right;\">\n",
       "      <th></th>\n",
       "      <th>int</th>\n",
       "      <th>target</th>\n",
       "      <th>int_mm</th>\n",
       "      <th>int_std</th>\n",
       "    </tr>\n",
       "  </thead>\n",
       "  <tbody>\n",
       "    <tr>\n",
       "      <th>int</th>\n",
       "      <td>1.000000</td>\n",
       "      <td>0.229601</td>\n",
       "      <td>1.000000</td>\n",
       "      <td>1.000000</td>\n",
       "    </tr>\n",
       "    <tr>\n",
       "      <th>target</th>\n",
       "      <td>0.229601</td>\n",
       "      <td>1.000000</td>\n",
       "      <td>0.229601</td>\n",
       "      <td>0.229601</td>\n",
       "    </tr>\n",
       "    <tr>\n",
       "      <th>int_mm</th>\n",
       "      <td>1.000000</td>\n",
       "      <td>0.229601</td>\n",
       "      <td>1.000000</td>\n",
       "      <td>1.000000</td>\n",
       "    </tr>\n",
       "    <tr>\n",
       "      <th>int_std</th>\n",
       "      <td>1.000000</td>\n",
       "      <td>0.229601</td>\n",
       "      <td>1.000000</td>\n",
       "      <td>1.000000</td>\n",
       "    </tr>\n",
       "  </tbody>\n",
       "</table>\n",
       "</div>"
      ],
      "text/plain": [
       "              int    target    int_mm   int_std\n",
       "int      1.000000  0.229601  1.000000  1.000000\n",
       "target   0.229601  1.000000  0.229601  0.229601\n",
       "int_mm   1.000000  0.229601  1.000000  1.000000\n",
       "int_std  1.000000  0.229601  1.000000  1.000000"
      ]
     },
     "execution_count": 179,
     "metadata": {},
     "output_type": "execute_result"
    }
   ],
   "source": [
    "trials.corr()"
   ]
  },
  {
   "cell_type": "code",
   "execution_count": 180,
   "metadata": {},
   "outputs": [],
   "source": [
    "def preprocess_std_dimred3(matrix):\n",
    "    \n",
    "    X =  np.copy(matrix)\n",
    "    X[:,:1] = MinMaxScaler().fit_transform(matrix[:,:1])\n",
    "    X[:,1:] = StandardScaler().fit_transform(matrix[:,1:])\n",
    "    \n",
    "    return X"
   ]
  },
  {
   "cell_type": "code",
   "execution_count": 181,
   "metadata": {},
   "outputs": [],
   "source": [
    "def preprocess3(df):\n",
    "    df_ok = df.copy()\n",
    "    df_ok2 = fill_nan(df_ok, description=True)\n",
    "    df_ok3 = df_ok2[['bathrooms', 'lat','lon', 'property_type', 'description']]\n",
    "    df_ok3['description'] = description_interpreter2(df_ok3)\n",
    "    df_ok4 = preprocess_to_num(df_ok3, l2=False, l3=False, description=True)\n",
    "    df_ok5 = preprocess_std_dimred3(df_ok4)\n",
    "\n",
    "    return df_ok5"
   ]
  },
  {
   "cell_type": "code",
   "execution_count": 182,
   "metadata": {},
   "outputs": [],
   "source": [
    "X_fa = preprocess3(X1)"
   ]
  },
  {
   "cell_type": "code",
   "execution_count": 183,
   "metadata": {},
   "outputs": [
    {
     "data": {
      "text/plain": [
       "(193395, 12)"
      ]
     },
     "execution_count": 183,
     "metadata": {},
     "output_type": "execute_result"
    }
   ],
   "source": [
    "X_fa.shape"
   ]
  },
  {
   "cell_type": "code",
   "execution_count": 184,
   "metadata": {},
   "outputs": [],
   "source": [
    "func_pp3 = FunctionTransformer(preprocess3)"
   ]
  },
  {
   "cell_type": "code",
   "execution_count": 185,
   "metadata": {},
   "outputs": [],
   "source": [
    "pipe_rf3 = make_pipeline(func_pp3, RFclf)"
   ]
  },
  {
   "cell_type": "code",
   "execution_count": 186,
   "metadata": {},
   "outputs": [
    {
     "data": {
      "text/plain": [
       "{'fit_time': array([88.59920835, 83.58234382, 87.65987062, 81.07367492, 80.16410136]),\n",
       " 'score_time': array([17.17124271, 17.97142291, 17.16933393, 18.09267282, 17.2541666 ]),\n",
       " 'test_acc': array([0.819773  , 0.83076088, 0.81483492, 0.81920422, 0.81599835]),\n",
       " 'test_recall': array([0.72317457, 0.75692586, 0.74251874, 0.70760062, 0.74016004])}"
      ]
     },
     "execution_count": 186,
     "metadata": {},
     "output_type": "execute_result"
    }
   ],
   "source": [
    "cross_validate(pipe_rf3, X1, y1, cv=5, scoring=scoring)"
   ]
  },
  {
   "cell_type": "code",
   "execution_count": 187,
   "metadata": {},
   "outputs": [
    {
     "data": {
      "text/plain": [
       "{'fit_time': array([44.2829988 , 43.11424708, 46.21974206, 43.49551773, 48.17798829]),\n",
       " 'score_time': array([9.1252501 , 8.89193702, 9.7481122 , 9.46472931, 9.66995454]),\n",
       " 'test_acc': array([0.78857297, 0.81035799, 0.79751157, 0.80585752, 0.80154523]),\n",
       " 'test_recall': array([0.74825578, 0.72877742, 0.73261838, 0.73031215, 0.69700394])}"
      ]
     },
     "execution_count": 187,
     "metadata": {},
     "output_type": "execute_result"
    }
   ],
   "source": [
    "cross_validate(pipe_rf3, X3, y3, cv=5, scoring=scoring)"
   ]
  },
  {
   "cell_type": "markdown",
   "metadata": {},
   "source": [
    "None of the two versions of the 'description_interpreter' function yielded the desired results.."
   ]
  }
 ],
 "metadata": {
  "kernelspec": {
   "display_name": "Python 3",
   "language": "python",
   "name": "python3"
  },
  "language_info": {
   "codemirror_mode": {
    "name": "ipython",
    "version": 3
   },
   "file_extension": ".py",
   "mimetype": "text/x-python",
   "name": "python",
   "nbconvert_exporter": "python",
   "pygments_lexer": "ipython3",
   "version": "3.10.4"
  },
  "orig_nbformat": 4,
  "vscode": {
   "interpreter": {
    "hash": "369f2c481f4da34e4445cda3fffd2e751bd1c4d706f27375911949ba6bb62e1c"
   }
  }
 },
 "nbformat": 4,
 "nbformat_minor": 2
}
