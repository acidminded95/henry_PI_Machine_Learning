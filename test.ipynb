{
 "cells": [
  {
   "cell_type": "markdown",
   "metadata": {},
   "source": [
    "# Henry PI 2: Machine Learning\n",
    "\n",
    "• Caros incluyen el promedio\n",
    "\n",
    "• stacking & walking\n",
    "\n",
    "• revisar descripciones repetidas: anuncios publicados múltiples veces\n",
    "\n",
    "• robustscaler lidia mejor con outliers que standardscaler\n",
    "\n",
    "• el registro más al sur parece estar en Nariño, pero también hay registros en el amazonas"
   ]
  },
  {
   "cell_type": "markdown",
   "metadata": {},
   "source": [
    "## ------------- D A T A --- E X P L O R A T I O N --------------"
   ]
  },
  {
   "cell_type": "markdown",
   "metadata": {},
   "source": [
    "We start by importing the libraries that we need"
   ]
  },
  {
   "cell_type": "code",
   "execution_count": 1,
   "metadata": {},
   "outputs": [],
   "source": [
    "import pandas as pd\n",
    "import numpy as np\n",
    "import matplotlib.pyplot as plt\n",
    "import seaborn as sns\n",
    "import requests\n",
    "from sklearn import preprocessing\n",
    "from geopy.geocoders import Nominatim\n",
    "from geopy.extra.rate_limiter import RateLimiter\n",
    "from helpers import *"
   ]
  },
  {
   "cell_type": "code",
   "execution_count": 2,
   "metadata": {},
   "outputs": [],
   "source": [
    "# Next we import the dataset with the training data into a Pandas DataFrame\n",
    "\n",
    "original_df = pd.read_csv('datasets/properties_colombia_train.csv')\n",
    "#original_df.sample(5)"
   ]
  },
  {
   "cell_type": "code",
   "execution_count": 3,
   "metadata": {},
   "outputs": [
    {
     "name": "stdout",
     "output_type": "stream",
     "text": [
      "• Original shape: (197549, 27)\n",
      "\n",
      "• Original columns: Index(['Unnamed: 0', 'id', 'ad_type', 'start_date', 'end_date', 'created_on',\n",
      "       'lat', 'lon', 'l1', 'l2', 'l3', 'l4', 'l5', 'l6', 'rooms', 'bedrooms',\n",
      "       'bathrooms', 'surface_total', 'surface_covered', 'price', 'currency',\n",
      "       'price_period', 'title', 'description', 'property_type',\n",
      "       'operation_type', 'geometry'],\n",
      "      dtype='object')\n",
      "\n",
      "• Original price column's mean: 643605091.0064613\n"
     ]
    }
   ],
   "source": [
    "# Now we obtain some basic information about the DataFrame, along with the mean value from the feature we will use to create the target column\n",
    "\n",
    "original_price_mean = original_df.price.mean()\n",
    "\n",
    "print(f'• Original shape: {original_df.shape}\\n')\n",
    "print(f'• Original columns: {original_df.columns}\\n')\n",
    "print(f\"• Original price column's mean: {original_price_mean}\")"
   ]
  },
  {
   "cell_type": "code",
   "execution_count": 4,
   "metadata": {},
   "outputs": [
    {
     "data": {
      "text/plain": [
       "False    197549\n",
       "dtype: int64"
      ]
     },
     "execution_count": 4,
     "metadata": {},
     "output_type": "execute_result"
    }
   ],
   "source": [
    "# We look for duplicated registers (spoiler: there are none)\n",
    "\n",
    "original_df.duplicated().value_counts()"
   ]
  },
  {
   "cell_type": "code",
   "execution_count": 5,
   "metadata": {},
   "outputs": [
    {
     "data": {
      "text/plain": [
       "Unnamed: 0              0\n",
       "id                      0\n",
       "ad_type                 0\n",
       "start_date              0\n",
       "end_date                0\n",
       "created_on              0\n",
       "lat                 49498\n",
       "lon                 49498\n",
       "l1                      0\n",
       "l2                      0\n",
       "l3                  11032\n",
       "l4                 152182\n",
       "l5                 170140\n",
       "l6                 190682\n",
       "rooms              170012\n",
       "bedrooms           157024\n",
       "bathrooms           41082\n",
       "surface_total      190575\n",
       "surface_covered    187747\n",
       "price                  63\n",
       "currency               67\n",
       "price_period       161578\n",
       "title                   1\n",
       "description           121\n",
       "property_type           0\n",
       "operation_type          0\n",
       "geometry                0\n",
       "dtype: int64"
      ]
     },
     "execution_count": 5,
     "metadata": {},
     "output_type": "execute_result"
    }
   ],
   "source": [
    "# We look for missing values per feature (we find a lot of them, particularly in l4, l5, l6, rooms, bedrooms, surface_total, surface_covered and price_period)\n",
    "\n",
    "original_df.isnull().sum()"
   ]
  },
  {
   "cell_type": "markdown",
   "metadata": {},
   "source": [
    "## ---------- G E N E R A T I N G --- T A R G E T --- C O L U M N ----------"
   ]
  },
  {
   "cell_type": "code",
   "execution_count": 6,
   "metadata": {},
   "outputs": [
    {
     "data": {
      "text/plain": [
       "63"
      ]
     },
     "execution_count": 6,
     "metadata": {},
     "output_type": "execute_result"
    }
   ],
   "source": [
    "# We start by creating a copy of the original dataset and looking for missing values in the 'price' column (which we can see above as well)\n",
    "# Our targets will be obtained from the information contained in this column, so any training data without an associated target value will be pretty much useless.\n",
    "\n",
    "df_Xy = original_df.copy()\n",
    "df_Xy.price.isnull().sum()"
   ]
  },
  {
   "cell_type": "markdown",
   "metadata": {},
   "source": [
    "We can see that we have 63 missing values in the 'price' column, the one we will be using to create our target classification based on it's mean value.\n",
    "\n",
    "We procceed to drop those registers, this is because we need them to have a target value in order to train our models."
   ]
  },
  {
   "cell_type": "code",
   "execution_count": 7,
   "metadata": {},
   "outputs": [
    {
     "name": "stdout",
     "output_type": "stream",
     "text": [
      "Original DataFrame Shape: (197549, 27)\n",
      "• DataFrame Shape (after dropna-price): (197486, 27)\n",
      "\n",
      "• DataFrame Price column mean (after dropna-price): 643605091.0064613\n",
      "\n",
      "• Is the price's mean still the same as the original: True\n"
     ]
    }
   ],
   "source": [
    "df_Xy.dropna(subset=['price'], inplace=True)\n",
    "\n",
    "price_mean_after_dropna = df_Xy.price.mean()\n",
    "\n",
    "print(f'Original DataFrame Shape: {original_df.shape}')\n",
    "print(f'• DataFrame Shape (after dropna-price): {df_Xy.shape}\\n')\n",
    "print(f'• DataFrame Price column mean (after dropna-price): {price_mean_after_dropna}\\n')\n",
    "print(f\"• Is the price's mean still the same as the original: {price_mean_after_dropna==original_price_mean}\")"
   ]
  },
  {
   "cell_type": "code",
   "execution_count": 8,
   "metadata": {},
   "outputs": [
    {
     "data": {
      "text/plain": [
       "0"
      ]
     },
     "execution_count": 8,
     "metadata": {},
     "output_type": "execute_result"
    }
   ],
   "source": [
    "# We check again for missing values\n",
    "\n",
    "df_Xy.price.isnull().sum()"
   ]
  },
  {
   "cell_type": "code",
   "execution_count": 9,
   "metadata": {},
   "outputs": [
    {
     "data": {
      "text/plain": [
       "(0.0, 345000000000.0)"
      ]
     },
     "execution_count": 9,
     "metadata": {},
     "output_type": "execute_result"
    }
   ],
   "source": [
    "# We check for the extreme values in the column\n",
    "\n",
    "df_Xy.price.min(), df_Xy.price.max()"
   ]
  },
  {
   "cell_type": "code",
   "execution_count": 10,
   "metadata": {},
   "outputs": [
    {
     "data": {
      "text/plain": [
       "(4, 1)"
      ]
     },
     "execution_count": 10,
     "metadata": {},
     "output_type": "execute_result"
    }
   ],
   "source": [
    "# We check for the amount of appereances of these extreme values\n",
    "\n",
    "df_Xy.price.value_counts()[0], df_Xy.price.value_counts()[345000000000.0]"
   ]
  },
  {
   "cell_type": "code",
   "execution_count": 11,
   "metadata": {},
   "outputs": [],
   "source": [
    "# As we found an absurdly big value as the max value of price column we check for some information about the biggest values in this column.\n",
    "\n",
    "#df_Xy.sort_values(by='price',ascending=False).head(100).price.mean() # Output: 54,246'115,351.52\n",
    "#df_Xy.sort_values(by='price',ascending=False).head(1000).price.mean() # Output: 17,829'070,843.313"
   ]
  },
  {
   "cell_type": "markdown",
   "metadata": {},
   "source": [
    "#### • IMPORTANT NOTE:\n",
    "\n",
    "Above we can see that there are extreme outliers in the column from which we are getting our training data targets. This is an important situation that must be adressed with the client, as these outliers (specially the big ones) will distort the column's mean value, affecting the division betweeen 'expensive' and 'cheap' house we are creating in our target column."
   ]
  },
  {
   "cell_type": "markdown",
   "metadata": {},
   "source": [
    "Now we will create the 'target' column using the values from 'price', separating them into two categories based on the mean of the column."
   ]
  },
  {
   "cell_type": "code",
   "execution_count": 12,
   "metadata": {},
   "outputs": [
    {
     "name": "stdout",
     "output_type": "stream",
     "text": [
      "(197486,)\n"
     ]
    },
    {
     "data": {
      "text/plain": [
       "0    151128\n",
       "1     46358\n",
       "Name: target, dtype: int64"
      ]
     },
     "execution_count": 12,
     "metadata": {},
     "output_type": "execute_result"
    }
   ],
   "source": [
    "df_Xy['target'] = (df_Xy['price'] >= original_price_mean).astype(int)\n",
    "print(df_Xy['target'].shape)\n",
    "df_Xy['target'].value_counts()"
   ]
  },
  {
   "cell_type": "code",
   "execution_count": 13,
   "metadata": {},
   "outputs": [
    {
     "name": "stdout",
     "output_type": "stream",
     "text": [
      "\n",
      "• Unnamed: 0:\t197486\n",
      "\n",
      "• id:\t197486\n",
      "\n",
      "• ad_type:\t1\n",
      "\n",
      "• start_date:\t145\n",
      "\n",
      "• end_date:\t446\n",
      "\n",
      "• created_on:\t145\n",
      "\n",
      "• lat:\t51075\n",
      "\n",
      "• lon:\t50107\n",
      "\n",
      "• l1:\t1\n",
      "\n",
      "• l2:\t31\n",
      "\n",
      "• l3:\t293\n",
      "\n",
      "• l4:\t58\n",
      "\n",
      "• l5:\t20\n",
      "\n",
      "• l6:\t146\n",
      "\n",
      "• rooms:\t29\n",
      "\n",
      "• bedrooms:\t37\n",
      "\n",
      "• bathrooms:\t20\n",
      "\n",
      "• surface_total:\t1030\n",
      "\n",
      "• surface_covered:\t781\n",
      "\n",
      "• price:\t6096\n",
      "\n",
      "• currency:\t2\n",
      "\n",
      "• price_period:\t1\n",
      "\n",
      "• title:\t94963\n",
      "\n",
      "• description:\t111312\n",
      "\n",
      "• property_type:\t8\n",
      "\n",
      "• operation_type:\t1\n",
      "\n",
      "• geometry:\t62785\n",
      "\n",
      "• target:\t2\n"
     ]
    }
   ],
   "source": [
    "# Now we look for the amount of different values per feature (in order to filter out redundant and non-informative features)\n",
    "\n",
    "for x in df_Xy:\n",
    "    print(f'\\n• {x}:\\t{len(df_Xy[x].value_counts())}')"
   ]
  },
  {
   "cell_type": "markdown",
   "metadata": {},
   "source": [
    "From the output above we can see that:\n",
    "1) There are several features with only one value throughout all of the 197486 registers (ad_type, l1, price_period, operation_type). This features give us no information.\n",
    "2) We can see that the columns labeled 'Unnamed: 0' and the 'id' have unique values (identifiers) for each one of the rows and thus are redundant.\n",
    "\n",
    "We will procceed to create another dataframe from the original one ignoring these features, along with the 'price' column which was only useful for us in order to obtain our 'target' column. \n",
    "\n",
    "After this we will check for duplicates (once we have removed the identifiers that guaranteed every row was unique) and remove them. This will give us a somewhat clean dataset to begin preprocessing our data, i.e. applying to it the changes that we would apply to any input data given to our finished model in order to get predictions from it."
   ]
  },
  {
   "cell_type": "code",
   "execution_count": 14,
   "metadata": {},
   "outputs": [
    {
     "name": "stdout",
     "output_type": "stream",
     "text": [
      "• Training DataFrame Shape: (197486, 21)\n",
      "\n",
      "• Training DataFrame Columns: Index(['start_date', 'end_date', 'created_on', 'lat', 'lon', 'l2', 'l3', 'l4',\n",
      "       'l5', 'l6', 'rooms', 'bedrooms', 'bathrooms', 'surface_total',\n",
      "       'surface_covered', 'currency', 'title', 'description', 'property_type',\n",
      "       'geometry', 'target'],\n",
      "      dtype='object')\n",
      "\n"
     ]
    }
   ],
   "source": [
    "# We create a new DataFrame which we will use to train our model with, ignoring the unnecessary columns\n",
    "\n",
    "df_train = df_Xy.drop(['ad_type', 'l1', 'price_period', 'operation_type', 'Unnamed: 0', 'id', 'price'], axis=1)\n",
    "print(f'• Training DataFrame Shape: {df_train.shape}\\n')\n",
    "print(f'• Training DataFrame Columns: {df_train.columns}\\n')"
   ]
  },
  {
   "cell_type": "code",
   "execution_count": 15,
   "metadata": {},
   "outputs": [
    {
     "data": {
      "text/plain": [
       "False    193395\n",
       "True       4091\n",
       "dtype: int64"
      ]
     },
     "execution_count": 15,
     "metadata": {},
     "output_type": "execute_result"
    }
   ],
   "source": [
    "df_train.duplicated().value_counts()"
   ]
  },
  {
   "cell_type": "markdown",
   "metadata": {},
   "source": [
    "We can see that after dropping the redundant and identifier columns we got a total of 4091 duplicated registers.\n",
    "\n",
    "We procceed to eliminate them."
   ]
  },
  {
   "cell_type": "code",
   "execution_count": 16,
   "metadata": {},
   "outputs": [
    {
     "data": {
      "text/plain": [
       "False    193395\n",
       "dtype: int64"
      ]
     },
     "execution_count": 16,
     "metadata": {},
     "output_type": "execute_result"
    }
   ],
   "source": [
    "df_train.drop_duplicates(inplace=True)\n",
    "df_train.duplicated().value_counts()"
   ]
  },
  {
   "cell_type": "markdown",
   "metadata": {},
   "source": [
    "## -------------- D A T A --- P R E P R O C E S S I N G --- 1 --------------"
   ]
  },
  {
   "cell_type": "markdown",
   "metadata": {},
   "source": [
    "### ---------------------- FINDING THE APPROPIATE TRANSFORMATIONS ----------------------"
   ]
  },
  {
   "cell_type": "markdown",
   "metadata": {},
   "source": [
    "In this section we will analyze our dataset's features grouping them by the type of data portrayed in them (date, location, ).\n",
    "\n",
    "This way, we will be able to determine the best transformations to perform on each of them in order to feed our models with the best quality data we can get."
   ]
  },
  {
   "cell_type": "code",
   "execution_count": 17,
   "metadata": {},
   "outputs": [
    {
     "name": "stdout",
     "output_type": "stream",
     "text": [
      "<class 'pandas.core.frame.DataFrame'>\n",
      "Int64Index: 193395 entries, 0 to 197548\n",
      "Data columns (total 21 columns):\n",
      " #   Column           Non-Null Count   Dtype  \n",
      "---  ------           --------------   -----  \n",
      " 0   start_date       193395 non-null  object \n",
      " 1   end_date         193395 non-null  object \n",
      " 2   created_on       193395 non-null  object \n",
      " 3   lat              144876 non-null  float64\n",
      " 4   lon              144876 non-null  float64\n",
      " 5   l2               193395 non-null  object \n",
      " 6   l3               182567 non-null  object \n",
      " 7   l4               44345 non-null   object \n",
      " 8   l5               26773 non-null   object \n",
      " 9   l6               6793 non-null    object \n",
      " 10  rooms            27453 non-null   float64\n",
      " 11  bedrooms         40378 non-null   float64\n",
      " 12  bathrooms        153016 non-null  float64\n",
      " 13  surface_total    6942 non-null    float64\n",
      " 14  surface_covered  9755 non-null    float64\n",
      " 15  currency         193391 non-null  object \n",
      " 16  title            193394 non-null  object \n",
      " 17  description      193274 non-null  object \n",
      " 18  property_type    193395 non-null  object \n",
      " 19  geometry         193395 non-null  object \n",
      " 20  target           193395 non-null  int32  \n",
      "dtypes: float64(7), int32(1), object(13)\n",
      "memory usage: 31.7+ MB\n"
     ]
    }
   ],
   "source": [
    "df_train.info()"
   ]
  },
  {
   "cell_type": "code",
   "execution_count": 18,
   "metadata": {},
   "outputs": [
    {
     "name": "stdout",
     "output_type": "stream",
     "text": [
      "• Total registers: 193395\n",
      "• Null values per feature:\n"
     ]
    },
    {
     "data": {
      "text/plain": [
       "start_date              0\n",
       "end_date                0\n",
       "created_on              0\n",
       "lat                 48519\n",
       "lon                 48519\n",
       "l2                      0\n",
       "l3                  10828\n",
       "l4                 149050\n",
       "l5                 166622\n",
       "l6                 186602\n",
       "rooms              165942\n",
       "bedrooms           153017\n",
       "bathrooms           40379\n",
       "surface_total      186453\n",
       "surface_covered    183640\n",
       "currency                4\n",
       "title                   1\n",
       "description           121\n",
       "property_type           0\n",
       "geometry                0\n",
       "target                  0\n",
       "dtype: int64"
      ]
     },
     "execution_count": 18,
     "metadata": {},
     "output_type": "execute_result"
    }
   ],
   "source": [
    "print(f'• Total registers: {len(df_train)}')\n",
    "print('• Null values per feature:')\n",
    "df_train.isnull().sum()"
   ]
  },
  {
   "cell_type": "code",
   "execution_count": 19,
   "metadata": {},
   "outputs": [],
   "source": [
    "def get_info(feature_list, dataset=df_train, maxmin=False, stats=False):\n",
    "    for x in feature_list:\n",
    "        types = set()\n",
    "        for y in dataset[x]:\n",
    "            types.add(type(y))\n",
    "        print(f'\\n----- {x} -----\\n •Data types: {types}\\n •Missing values:')\n",
    "        print(dataset[x].isnull().value_counts(),'\\n')\n",
    "        if maxmin:\n",
    "            print(f' •Min: {dataset[x].min()}\\n •Max: {dataset[x].max()}\\n')\n",
    "        if stats:\n",
    "            print(f' •Mean: {dataset[x].mean()}\\n •Median: {dataset[x].median()}\\n •Mode: {dataset[x].mode()}\\n')"
   ]
  },
  {
   "cell_type": "markdown",
   "metadata": {},
   "source": [
    "### 1) DATE FEATURES: start_date, end_date & created_on"
   ]
  },
  {
   "cell_type": "code",
   "execution_count": 20,
   "metadata": {},
   "outputs": [
    {
     "name": "stdout",
     "output_type": "stream",
     "text": [
      "\n",
      "----- start_date -----\n",
      " •Data types: {<class 'str'>}\n",
      " •Missing values:\n",
      "False    193395\n",
      "Name: start_date, dtype: int64 \n",
      "\n",
      " •Min: 2020-07-26\n",
      " •Max: 2020-12-31\n",
      "\n",
      "\n",
      "----- end_date -----\n",
      " •Data types: {<class 'str'>}\n",
      " •Missing values:\n",
      "False    193395\n",
      "Name: end_date, dtype: int64 \n",
      "\n",
      " •Min: 2020-07-26\n",
      " •Max: 9999-12-31\n",
      "\n",
      "\n",
      "----- created_on -----\n",
      " •Data types: {<class 'str'>}\n",
      " •Missing values:\n",
      "False    193395\n",
      "Name: created_on, dtype: int64 \n",
      "\n",
      " •Min: 2020-07-26\n",
      " •Max: 2020-12-31\n",
      "\n"
     ]
    }
   ],
   "source": [
    "date_features = ['start_date', 'end_date', 'created_on']\n",
    "\n",
    "get_info(date_features, maxmin=True)"
   ]
  },
  {
   "cell_type": "markdown",
   "metadata": {},
   "source": [
    "Here we can see that the maximum value for the 'end_date' feature has wrong data, as it is supposed to be the date when the 'for sale' announcement stopped showing."
   ]
  },
  {
   "cell_type": "code",
   "execution_count": 21,
   "metadata": {},
   "outputs": [
    {
     "data": {
      "text/plain": [
       "9999-12-31    11925\n",
       "2020-08-27     3994\n",
       "2020-11-13     3801\n",
       "2020-07-27     2621\n",
       "2020-11-30     2399\n",
       "              ...  \n",
       "2021-08-16        2\n",
       "2021-09-26        2\n",
       "2021-10-03        1\n",
       "2021-07-04        1\n",
       "2021-06-20        1\n",
       "Name: end_date, Length: 446, dtype: int64"
      ]
     },
     "execution_count": 21,
     "metadata": {},
     "output_type": "execute_result"
    }
   ],
   "source": [
    "df_train.end_date.value_counts()"
   ]
  },
  {
   "cell_type": "code",
   "execution_count": 22,
   "metadata": {},
   "outputs": [
    {
     "data": {
      "text/html": [
       "<div>\n",
       "<style scoped>\n",
       "    .dataframe tbody tr th:only-of-type {\n",
       "        vertical-align: middle;\n",
       "    }\n",
       "\n",
       "    .dataframe tbody tr th {\n",
       "        vertical-align: top;\n",
       "    }\n",
       "\n",
       "    .dataframe thead th {\n",
       "        text-align: right;\n",
       "    }\n",
       "</style>\n",
       "<table border=\"1\" class=\"dataframe\">\n",
       "  <thead>\n",
       "    <tr style=\"text-align: right;\">\n",
       "      <th></th>\n",
       "      <th>start_date</th>\n",
       "      <th>end_date</th>\n",
       "      <th>created_on</th>\n",
       "    </tr>\n",
       "  </thead>\n",
       "  <tbody>\n",
       "    <tr>\n",
       "      <th>6193</th>\n",
       "      <td>2020-12-31</td>\n",
       "      <td>9999-12-31</td>\n",
       "      <td>2020-12-31</td>\n",
       "    </tr>\n",
       "    <tr>\n",
       "      <th>9072</th>\n",
       "      <td>2020-12-31</td>\n",
       "      <td>9999-12-31</td>\n",
       "      <td>2020-12-31</td>\n",
       "    </tr>\n",
       "    <tr>\n",
       "      <th>20600</th>\n",
       "      <td>2020-12-31</td>\n",
       "      <td>9999-12-31</td>\n",
       "      <td>2020-12-31</td>\n",
       "    </tr>\n",
       "    <tr>\n",
       "      <th>25347</th>\n",
       "      <td>2020-12-31</td>\n",
       "      <td>9999-12-31</td>\n",
       "      <td>2020-12-31</td>\n",
       "    </tr>\n",
       "    <tr>\n",
       "      <th>44356</th>\n",
       "      <td>2020-12-31</td>\n",
       "      <td>9999-12-31</td>\n",
       "      <td>2020-12-31</td>\n",
       "    </tr>\n",
       "    <tr>\n",
       "      <th>...</th>\n",
       "      <td>...</td>\n",
       "      <td>...</td>\n",
       "      <td>...</td>\n",
       "    </tr>\n",
       "    <tr>\n",
       "      <th>190288</th>\n",
       "      <td>2020-07-26</td>\n",
       "      <td>9999-12-31</td>\n",
       "      <td>2020-07-26</td>\n",
       "    </tr>\n",
       "    <tr>\n",
       "      <th>193889</th>\n",
       "      <td>2020-07-26</td>\n",
       "      <td>9999-12-31</td>\n",
       "      <td>2020-07-26</td>\n",
       "    </tr>\n",
       "    <tr>\n",
       "      <th>147834</th>\n",
       "      <td>2020-12-26</td>\n",
       "      <td>2021-10-18</td>\n",
       "      <td>2020-12-26</td>\n",
       "    </tr>\n",
       "    <tr>\n",
       "      <th>7068</th>\n",
       "      <td>2020-12-11</td>\n",
       "      <td>2021-10-18</td>\n",
       "      <td>2020-12-11</td>\n",
       "    </tr>\n",
       "    <tr>\n",
       "      <th>37905</th>\n",
       "      <td>2020-12-11</td>\n",
       "      <td>2021-10-18</td>\n",
       "      <td>2020-12-11</td>\n",
       "    </tr>\n",
       "  </tbody>\n",
       "</table>\n",
       "<p>11928 rows × 3 columns</p>\n",
       "</div>"
      ],
      "text/plain": [
       "        start_date    end_date  created_on\n",
       "6193    2020-12-31  9999-12-31  2020-12-31\n",
       "9072    2020-12-31  9999-12-31  2020-12-31\n",
       "20600   2020-12-31  9999-12-31  2020-12-31\n",
       "25347   2020-12-31  9999-12-31  2020-12-31\n",
       "44356   2020-12-31  9999-12-31  2020-12-31\n",
       "...            ...         ...         ...\n",
       "190288  2020-07-26  9999-12-31  2020-07-26\n",
       "193889  2020-07-26  9999-12-31  2020-07-26\n",
       "147834  2020-12-26  2021-10-18  2020-12-26\n",
       "7068    2020-12-11  2021-10-18  2020-12-11\n",
       "37905   2020-12-11  2021-10-18  2020-12-11\n",
       "\n",
       "[11928 rows x 3 columns]"
      ]
     },
     "execution_count": 22,
     "metadata": {},
     "output_type": "execute_result"
    }
   ],
   "source": [
    "df_train[['start_date', 'end_date', 'created_on']].sort_values(by=['end_date', 'start_date'], ascending=False).head(11928)"
   ]
  },
  {
   "cell_type": "code",
   "execution_count": 23,
   "metadata": {},
   "outputs": [
    {
     "data": {
      "text/plain": [
       "0.0616613666330567"
      ]
     },
     "execution_count": 23,
     "metadata": {},
     "output_type": "execute_result"
    }
   ],
   "source": [
    "11925/len(df_train)"
   ]
  },
  {
   "cell_type": "markdown",
   "metadata": {},
   "source": [
    "We have 11925 wrong values in the 'end_date' feature (0.06%). \n",
    "\n",
    "We will try to replace them with a the average date difference (between start_date and end_date, not including the wrong values) if we use this column.\n",
    "\n",
    "Also, we will convert this colonms to 'datetime' data type and afterwards wi will format them into timestamp format."
   ]
  },
  {
   "cell_type": "code",
   "execution_count": null,
   "metadata": {},
   "outputs": [],
   "source": []
  },
  {
   "cell_type": "markdown",
   "metadata": {},
   "source": [
    "### 2) LOCATION FEATURES: l2, l3, l4, l5, l6, geometry, lat & lon"
   ]
  },
  {
   "cell_type": "code",
   "execution_count": 24,
   "metadata": {},
   "outputs": [
    {
     "name": "stdout",
     "output_type": "stream",
     "text": [
      "\n",
      "----- l2 -----\n",
      " •Data types: {<class 'str'>}\n",
      " •Missing values:\n",
      "False    193395\n",
      "Name: l2, dtype: int64 \n",
      "\n",
      "\n",
      "----- l3 -----\n",
      " •Data types: {<class 'str'>, <class 'float'>}\n",
      " •Missing values:\n",
      "False    182567\n",
      "True      10828\n",
      "Name: l3, dtype: int64 \n",
      "\n",
      "\n",
      "----- l4 -----\n",
      " •Data types: {<class 'str'>, <class 'float'>}\n",
      " •Missing values:\n",
      "True     149050\n",
      "False     44345\n",
      "Name: l4, dtype: int64 \n",
      "\n",
      "\n",
      "----- l5 -----\n",
      " •Data types: {<class 'str'>, <class 'float'>}\n",
      " •Missing values:\n",
      "True     166622\n",
      "False     26773\n",
      "Name: l5, dtype: int64 \n",
      "\n",
      "\n",
      "----- l6 -----\n",
      " •Data types: {<class 'str'>, <class 'float'>}\n",
      " •Missing values:\n",
      "True     186602\n",
      "False      6793\n",
      "Name: l6, dtype: int64 \n",
      "\n",
      "\n",
      "----- geometry -----\n",
      " •Data types: {<class 'str'>}\n",
      " •Missing values:\n",
      "False    193395\n",
      "Name: geometry, dtype: int64 \n",
      "\n",
      "\n",
      "----- lat -----\n",
      " •Data types: {<class 'float'>}\n",
      " •Missing values:\n",
      "False    144876\n",
      "True      48519\n",
      "Name: lat, dtype: int64 \n",
      "\n",
      " •Min: -32.787342\n",
      " •Max: 34.420334\n",
      "\n",
      "\n",
      "----- lon -----\n",
      " •Data types: {<class 'float'>}\n",
      " •Missing values:\n",
      "False    144876\n",
      "True      48519\n",
      "Name: lon, dtype: int64 \n",
      "\n",
      " •Min: -119.69819\n",
      " •Max: -67.4825696\n",
      "\n"
     ]
    }
   ],
   "source": [
    "location_features = ['l2', 'l3', 'l4', 'l5', 'l6', 'geometry', 'lat', 'lon']\n",
    "\n",
    "get_info(location_features[:-2])\n",
    "get_info(location_features[-2:], maxmin=True)"
   ]
  },
  {
   "cell_type": "markdown",
   "metadata": {},
   "source": [
    "From the output above we can see that the 'l4', 'l5' and 'l6' have more than half the values missing, so this columns must be dropped.\n",
    "\n",
    "#### In the 'l2' feature, corresponding to Colombia's departments (their equivalent to states or provinces) we have no values missing.\n",
    "\n",
    "#### In the case of 'l3', there are 10828 values missing (about 5.5% of the registers). We will replace the missing values with the capital of the corresponding departments obtained from 'l2'."
   ]
  },
  {
   "cell_type": "code",
   "execution_count": 25,
   "metadata": {},
   "outputs": [
    {
     "data": {
      "text/plain": [
       "32"
      ]
     },
     "execution_count": 25,
     "metadata": {},
     "output_type": "execute_result"
    }
   ],
   "source": [
    "# Here we have a dictionary containing each of the 32 colombian departments as keys followed by their corresponding capitals as values.\n",
    "# This list will be stored in the helpers.py file\n",
    "\n",
    "'''\n",
    "capitals = {'Amazonas': 'Leticia', 'Antioquia': 'Medellín', 'Arauca': 'Arauca', 'Atlántico': 'Barranquilla', 'Bolívar' : 'Cartagena', 'Boyacá': 'Tunja',\n",
    "            'Caldas': 'Manizales', 'Caquetá': 'Florencia', 'Casanare': 'Yopal', 'Cauca': 'Popayán', 'Cesar': 'Valledupar', 'Chocó': 'Quibdó', 'Córdoba': 'Montería',\n",
    "            'Cundinamarca': 'Bogotá D.C', 'Guainía': 'Puerto Inírida', 'Guaviare': 'San José del Guaviare', 'Huila': 'Neiva', 'La Guajira': 'Riohacha', \n",
    "            'Magdalena': 'Santa Marta', 'Meta': 'Villavicencio', 'Nariño': 'Pasto', 'Norte de Santander': 'Cúcuta', 'Putumayo': 'Mocoa', 'Quindío': 'Armenia',\n",
    "            'Risaralda': 'Pereira', 'San Andrés Providencia y Santa Catalina': 'San Andrés', 'Santander': 'Bucaramanga', 'Sucre': 'Sincelejo', 'Tolima': 'Ibagué',\n",
    "            'Valle del Cauca': 'Cali', 'Vaupés': 'Mitú', 'Vichada': 'Puerto Carreño'}\n",
    "'''\n",
    "len(capitals)\n"
   ]
  },
  {
   "cell_type": "code",
   "execution_count": 26,
   "metadata": {},
   "outputs": [
    {
     "data": {
      "text/plain": [
       "294"
      ]
     },
     "execution_count": 26,
     "metadata": {},
     "output_type": "execute_result"
    }
   ],
   "source": [
    "# This is the amount of different cities in the 'l3' feature\n",
    "len(df_train.l3.unique())"
   ]
  },
  {
   "cell_type": "markdown",
   "metadata": {},
   "source": [
    "#### Regarding the latitude and longitude values from the dataset, we can see from the output from the function at the beginning of this section that there are 48519 missing values on each of these features.\n"
   ]
  },
  {
   "cell_type": "code",
   "execution_count": 27,
   "metadata": {},
   "outputs": [
    {
     "name": "stdout",
     "output_type": "stream",
     "text": [
      "Rows missing 'lat' values: 48519\n",
      "Rows missing 'lon' values: 48519\n",
      "Rows missing both 'lat' and 'lon' values (2): 48519\n"
     ]
    }
   ],
   "source": [
    "# Here we check whether the missing values correspond to the same registers in the dataset:\n",
    "\n",
    "print(f\"Rows missing 'lat' values: {len(df_train[df_train['lat'].isnull()])}\")\n",
    "print(f\"Rows missing 'lon' values: {len(df_train[df_train['lon'].isnull()])}\")\n",
    "#print(f\"Rows missing both 'lat' and 'lon' values (1): {len(df_train[df_train['lat'].isnull()][df_train['lon'].isnull()])}\")\n",
    "print(f\"Rows missing both 'lat' and 'lon' values (2): {len(df_train[df_train['lat'].isnull()][df_train[df_train['lat'].isnull()]['lon'].isnull()])}\")\n"
   ]
  },
  {
   "cell_type": "code",
   "execution_count": 28,
   "metadata": {},
   "outputs": [
    {
     "data": {
      "text/html": [
       "<div>\n",
       "<style scoped>\n",
       "    .dataframe tbody tr th:only-of-type {\n",
       "        vertical-align: middle;\n",
       "    }\n",
       "\n",
       "    .dataframe tbody tr th {\n",
       "        vertical-align: top;\n",
       "    }\n",
       "\n",
       "    .dataframe thead th {\n",
       "        text-align: right;\n",
       "    }\n",
       "</style>\n",
       "<table border=\"1\" class=\"dataframe\">\n",
       "  <thead>\n",
       "    <tr style=\"text-align: right;\">\n",
       "      <th></th>\n",
       "      <th>start_date</th>\n",
       "      <th>end_date</th>\n",
       "      <th>created_on</th>\n",
       "      <th>lat</th>\n",
       "      <th>lon</th>\n",
       "      <th>l2</th>\n",
       "      <th>l3</th>\n",
       "      <th>l4</th>\n",
       "      <th>l5</th>\n",
       "      <th>l6</th>\n",
       "      <th>...</th>\n",
       "      <th>bedrooms</th>\n",
       "      <th>bathrooms</th>\n",
       "      <th>surface_total</th>\n",
       "      <th>surface_covered</th>\n",
       "      <th>currency</th>\n",
       "      <th>title</th>\n",
       "      <th>description</th>\n",
       "      <th>property_type</th>\n",
       "      <th>geometry</th>\n",
       "      <th>target</th>\n",
       "    </tr>\n",
       "  </thead>\n",
       "  <tbody>\n",
       "    <tr>\n",
       "      <th>100086</th>\n",
       "      <td>2020-12-23</td>\n",
       "      <td>2020-12-25</td>\n",
       "      <td>2020-12-23</td>\n",
       "      <td>NaN</td>\n",
       "      <td>NaN</td>\n",
       "      <td>Antioquia</td>\n",
       "      <td>Medellín</td>\n",
       "      <td>NaN</td>\n",
       "      <td>NaN</td>\n",
       "      <td>NaN</td>\n",
       "      <td>...</td>\n",
       "      <td>NaN</td>\n",
       "      <td>1.0</td>\n",
       "      <td>NaN</td>\n",
       "      <td>NaN</td>\n",
       "      <td>COP</td>\n",
       "      <td>Apartamento en Venta Ubicado en MEDELLIN</td>\n",
       "      <td>Codigo Inmueble 273 Se vende apartamento en Ar...</td>\n",
       "      <td>Apartamento</td>\n",
       "      <td>POINT EMPTY</td>\n",
       "      <td>0</td>\n",
       "    </tr>\n",
       "    <tr>\n",
       "      <th>168389</th>\n",
       "      <td>2020-12-30</td>\n",
       "      <td>2020-12-31</td>\n",
       "      <td>2020-12-30</td>\n",
       "      <td>NaN</td>\n",
       "      <td>NaN</td>\n",
       "      <td>Antioquia</td>\n",
       "      <td>Medellín</td>\n",
       "      <td>NaN</td>\n",
       "      <td>NaN</td>\n",
       "      <td>NaN</td>\n",
       "      <td>...</td>\n",
       "      <td>NaN</td>\n",
       "      <td>NaN</td>\n",
       "      <td>NaN</td>\n",
       "      <td>NaN</td>\n",
       "      <td>COP</td>\n",
       "      <td>Terreno en Venta Ubicado en CARMEN DE VIBORAL</td>\n",
       "      <td>Codigo Inmueble 6528 Hermoso lote con una exce...</td>\n",
       "      <td>Lote</td>\n",
       "      <td>POINT EMPTY</td>\n",
       "      <td>1</td>\n",
       "    </tr>\n",
       "    <tr>\n",
       "      <th>69395</th>\n",
       "      <td>2020-10-09</td>\n",
       "      <td>2020-10-10</td>\n",
       "      <td>2020-10-09</td>\n",
       "      <td>NaN</td>\n",
       "      <td>NaN</td>\n",
       "      <td>Antioquia</td>\n",
       "      <td>Medellín</td>\n",
       "      <td>NaN</td>\n",
       "      <td>NaN</td>\n",
       "      <td>NaN</td>\n",
       "      <td>...</td>\n",
       "      <td>NaN</td>\n",
       "      <td>NaN</td>\n",
       "      <td>NaN</td>\n",
       "      <td>NaN</td>\n",
       "      <td>COP</td>\n",
       "      <td>Terreno en Venta Ubicado en ENVIGADO</td>\n",
       "      <td>Codigo Inmueble 6394 Excelente oportunidad de ...</td>\n",
       "      <td>Lote</td>\n",
       "      <td>POINT EMPTY</td>\n",
       "      <td>1</td>\n",
       "    </tr>\n",
       "    <tr>\n",
       "      <th>7396</th>\n",
       "      <td>2020-10-26</td>\n",
       "      <td>2020-10-27</td>\n",
       "      <td>2020-10-26</td>\n",
       "      <td>NaN</td>\n",
       "      <td>NaN</td>\n",
       "      <td>Antioquia</td>\n",
       "      <td>Medellín</td>\n",
       "      <td>NaN</td>\n",
       "      <td>NaN</td>\n",
       "      <td>NaN</td>\n",
       "      <td>...</td>\n",
       "      <td>NaN</td>\n",
       "      <td>2.0</td>\n",
       "      <td>NaN</td>\n",
       "      <td>NaN</td>\n",
       "      <td>COP</td>\n",
       "      <td>Apartamento en Venta Ubicado en RIONEGRO</td>\n",
       "      <td>Codigo Inmueble 6323 Cómodo apartamento con 3 ...</td>\n",
       "      <td>Apartamento</td>\n",
       "      <td>POINT EMPTY</td>\n",
       "      <td>0</td>\n",
       "    </tr>\n",
       "    <tr>\n",
       "      <th>13445</th>\n",
       "      <td>2020-11-06</td>\n",
       "      <td>2020-11-07</td>\n",
       "      <td>2020-11-06</td>\n",
       "      <td>NaN</td>\n",
       "      <td>NaN</td>\n",
       "      <td>Antioquia</td>\n",
       "      <td>Medellín</td>\n",
       "      <td>NaN</td>\n",
       "      <td>NaN</td>\n",
       "      <td>NaN</td>\n",
       "      <td>...</td>\n",
       "      <td>NaN</td>\n",
       "      <td>2.0</td>\n",
       "      <td>NaN</td>\n",
       "      <td>NaN</td>\n",
       "      <td>COP</td>\n",
       "      <td>Apartamento en Venta Ubicado en SABANETA</td>\n",
       "      <td>Codigo Inmueble 4018 APARTAMENTO CON 3 ALCOBAS...</td>\n",
       "      <td>Apartamento</td>\n",
       "      <td>POINT EMPTY</td>\n",
       "      <td>0</td>\n",
       "    </tr>\n",
       "    <tr>\n",
       "      <th>113034</th>\n",
       "      <td>2020-07-27</td>\n",
       "      <td>2020-07-27</td>\n",
       "      <td>2020-07-27</td>\n",
       "      <td>NaN</td>\n",
       "      <td>NaN</td>\n",
       "      <td>Caldas</td>\n",
       "      <td>Manizales</td>\n",
       "      <td>NaN</td>\n",
       "      <td>NaN</td>\n",
       "      <td>NaN</td>\n",
       "      <td>...</td>\n",
       "      <td>NaN</td>\n",
       "      <td>4.0</td>\n",
       "      <td>NaN</td>\n",
       "      <td>NaN</td>\n",
       "      <td>COP</td>\n",
       "      <td>CASA EN VENTA EN SAN BERNARDO DEL VIENTO  MANI...</td>\n",
       "      <td>Casa con un área de 3200 mts cuenta con 5 alco...</td>\n",
       "      <td>Casa</td>\n",
       "      <td>POINT EMPTY</td>\n",
       "      <td>1</td>\n",
       "    </tr>\n",
       "    <tr>\n",
       "      <th>82541</th>\n",
       "      <td>2020-11-29</td>\n",
       "      <td>2020-12-03</td>\n",
       "      <td>2020-11-29</td>\n",
       "      <td>NaN</td>\n",
       "      <td>NaN</td>\n",
       "      <td>Antioquia</td>\n",
       "      <td>Medellín</td>\n",
       "      <td>NaN</td>\n",
       "      <td>NaN</td>\n",
       "      <td>NaN</td>\n",
       "      <td>...</td>\n",
       "      <td>NaN</td>\n",
       "      <td>2.0</td>\n",
       "      <td>NaN</td>\n",
       "      <td>NaN</td>\n",
       "      <td>COP</td>\n",
       "      <td>Casa en Venta Ubicado en SABANETA</td>\n",
       "      <td>Codigo Inmueble 169 Casa de segundo piso ubica...</td>\n",
       "      <td>Casa</td>\n",
       "      <td>POINT EMPTY</td>\n",
       "      <td>0</td>\n",
       "    </tr>\n",
       "    <tr>\n",
       "      <th>193075</th>\n",
       "      <td>2020-10-07</td>\n",
       "      <td>2020-10-08</td>\n",
       "      <td>2020-10-07</td>\n",
       "      <td>NaN</td>\n",
       "      <td>NaN</td>\n",
       "      <td>Antioquia</td>\n",
       "      <td>Medellín</td>\n",
       "      <td>NaN</td>\n",
       "      <td>NaN</td>\n",
       "      <td>NaN</td>\n",
       "      <td>...</td>\n",
       "      <td>NaN</td>\n",
       "      <td>2.0</td>\n",
       "      <td>NaN</td>\n",
       "      <td>NaN</td>\n",
       "      <td>COP</td>\n",
       "      <td>Apartamento en Venta Ubicado en MEDELLIN</td>\n",
       "      <td>Codigo Inmueble 972 APARTAMENTO MODERNO de 51 ...</td>\n",
       "      <td>Apartamento</td>\n",
       "      <td>POINT EMPTY</td>\n",
       "      <td>0</td>\n",
       "    </tr>\n",
       "    <tr>\n",
       "      <th>56046</th>\n",
       "      <td>2020-12-03</td>\n",
       "      <td>2021-03-01</td>\n",
       "      <td>2020-12-03</td>\n",
       "      <td>NaN</td>\n",
       "      <td>NaN</td>\n",
       "      <td>Valle del Cauca</td>\n",
       "      <td>Cali</td>\n",
       "      <td>NaN</td>\n",
       "      <td>NaN</td>\n",
       "      <td>NaN</td>\n",
       "      <td>...</td>\n",
       "      <td>NaN</td>\n",
       "      <td>5.0</td>\n",
       "      <td>NaN</td>\n",
       "      <td>NaN</td>\n",
       "      <td>COP</td>\n",
       "      <td>Apartamento En Venta En Cali Santa Teresita Co...</td>\n",
       "      <td>VENTA ESPECTACULAR APTO EN SANTA TERESITA| PIS...</td>\n",
       "      <td>Apartamento</td>\n",
       "      <td>POINT EMPTY</td>\n",
       "      <td>1</td>\n",
       "    </tr>\n",
       "    <tr>\n",
       "      <th>107821</th>\n",
       "      <td>2020-11-23</td>\n",
       "      <td>2021-02-22</td>\n",
       "      <td>2020-11-23</td>\n",
       "      <td>NaN</td>\n",
       "      <td>NaN</td>\n",
       "      <td>Atlántico</td>\n",
       "      <td>Barranquilla</td>\n",
       "      <td>NaN</td>\n",
       "      <td>NaN</td>\n",
       "      <td>NaN</td>\n",
       "      <td>...</td>\n",
       "      <td>NaN</td>\n",
       "      <td>3.0</td>\n",
       "      <td>NaN</td>\n",
       "      <td>NaN</td>\n",
       "      <td>COP</td>\n",
       "      <td>APARTAMENTO EN ZONA CIUDAD JARDIN | PARA ESTRENAR</td>\n",
       "      <td>Apartamento en venta, con área de 121 m2, sala...</td>\n",
       "      <td>Apartamento</td>\n",
       "      <td>POINT EMPTY</td>\n",
       "      <td>0</td>\n",
       "    </tr>\n",
       "  </tbody>\n",
       "</table>\n",
       "<p>10 rows × 21 columns</p>\n",
       "</div>"
      ],
      "text/plain": [
       "        start_date    end_date  created_on  lat  lon               l2  \\\n",
       "100086  2020-12-23  2020-12-25  2020-12-23  NaN  NaN        Antioquia   \n",
       "168389  2020-12-30  2020-12-31  2020-12-30  NaN  NaN        Antioquia   \n",
       "69395   2020-10-09  2020-10-10  2020-10-09  NaN  NaN        Antioquia   \n",
       "7396    2020-10-26  2020-10-27  2020-10-26  NaN  NaN        Antioquia   \n",
       "13445   2020-11-06  2020-11-07  2020-11-06  NaN  NaN        Antioquia   \n",
       "113034  2020-07-27  2020-07-27  2020-07-27  NaN  NaN           Caldas   \n",
       "82541   2020-11-29  2020-12-03  2020-11-29  NaN  NaN        Antioquia   \n",
       "193075  2020-10-07  2020-10-08  2020-10-07  NaN  NaN        Antioquia   \n",
       "56046   2020-12-03  2021-03-01  2020-12-03  NaN  NaN  Valle del Cauca   \n",
       "107821  2020-11-23  2021-02-22  2020-11-23  NaN  NaN        Atlántico   \n",
       "\n",
       "                  l3   l4   l5   l6  ...  bedrooms  bathrooms  surface_total  \\\n",
       "100086      Medellín  NaN  NaN  NaN  ...       NaN        1.0            NaN   \n",
       "168389      Medellín  NaN  NaN  NaN  ...       NaN        NaN            NaN   \n",
       "69395       Medellín  NaN  NaN  NaN  ...       NaN        NaN            NaN   \n",
       "7396        Medellín  NaN  NaN  NaN  ...       NaN        2.0            NaN   \n",
       "13445       Medellín  NaN  NaN  NaN  ...       NaN        2.0            NaN   \n",
       "113034     Manizales  NaN  NaN  NaN  ...       NaN        4.0            NaN   \n",
       "82541       Medellín  NaN  NaN  NaN  ...       NaN        2.0            NaN   \n",
       "193075      Medellín  NaN  NaN  NaN  ...       NaN        2.0            NaN   \n",
       "56046           Cali  NaN  NaN  NaN  ...       NaN        5.0            NaN   \n",
       "107821  Barranquilla  NaN  NaN  NaN  ...       NaN        3.0            NaN   \n",
       "\n",
       "        surface_covered  currency  \\\n",
       "100086              NaN       COP   \n",
       "168389              NaN       COP   \n",
       "69395               NaN       COP   \n",
       "7396                NaN       COP   \n",
       "13445               NaN       COP   \n",
       "113034              NaN       COP   \n",
       "82541               NaN       COP   \n",
       "193075              NaN       COP   \n",
       "56046               NaN       COP   \n",
       "107821              NaN       COP   \n",
       "\n",
       "                                                    title  \\\n",
       "100086           Apartamento en Venta Ubicado en MEDELLIN   \n",
       "168389      Terreno en Venta Ubicado en CARMEN DE VIBORAL   \n",
       "69395                Terreno en Venta Ubicado en ENVIGADO   \n",
       "7396             Apartamento en Venta Ubicado en RIONEGRO   \n",
       "13445            Apartamento en Venta Ubicado en SABANETA   \n",
       "113034  CASA EN VENTA EN SAN BERNARDO DEL VIENTO  MANI...   \n",
       "82541                   Casa en Venta Ubicado en SABANETA   \n",
       "193075           Apartamento en Venta Ubicado en MEDELLIN   \n",
       "56046   Apartamento En Venta En Cali Santa Teresita Co...   \n",
       "107821  APARTAMENTO EN ZONA CIUDAD JARDIN | PARA ESTRENAR   \n",
       "\n",
       "                                              description property_type  \\\n",
       "100086  Codigo Inmueble 273 Se vende apartamento en Ar...   Apartamento   \n",
       "168389  Codigo Inmueble 6528 Hermoso lote con una exce...          Lote   \n",
       "69395   Codigo Inmueble 6394 Excelente oportunidad de ...          Lote   \n",
       "7396    Codigo Inmueble 6323 Cómodo apartamento con 3 ...   Apartamento   \n",
       "13445   Codigo Inmueble 4018 APARTAMENTO CON 3 ALCOBAS...   Apartamento   \n",
       "113034  Casa con un área de 3200 mts cuenta con 5 alco...          Casa   \n",
       "82541   Codigo Inmueble 169 Casa de segundo piso ubica...          Casa   \n",
       "193075  Codigo Inmueble 972 APARTAMENTO MODERNO de 51 ...   Apartamento   \n",
       "56046   VENTA ESPECTACULAR APTO EN SANTA TERESITA| PIS...   Apartamento   \n",
       "107821  Apartamento en venta, con área de 121 m2, sala...   Apartamento   \n",
       "\n",
       "           geometry target  \n",
       "100086  POINT EMPTY      0  \n",
       "168389  POINT EMPTY      1  \n",
       "69395   POINT EMPTY      1  \n",
       "7396    POINT EMPTY      0  \n",
       "13445   POINT EMPTY      0  \n",
       "113034  POINT EMPTY      1  \n",
       "82541   POINT EMPTY      0  \n",
       "193075  POINT EMPTY      0  \n",
       "56046   POINT EMPTY      1  \n",
       "107821  POINT EMPTY      0  \n",
       "\n",
       "[10 rows x 21 columns]"
      ]
     },
     "execution_count": 28,
     "metadata": {},
     "output_type": "execute_result"
    }
   ],
   "source": [
    "# Here we take a sample to further proof that every row missing a 'lat' value is missing it's 'lon' value as well\n",
    "df_train[df_train['lat'].isnull()].sample(10)"
   ]
  },
  {
   "cell_type": "markdown",
   "metadata": {},
   "source": [
    "#### In order to analize the latitudes and longitudes from the rows with a value for these columns, we need to define certain limits for the colombian territory, beyond which we shouldn't expect to find any lat or lon values.\n",
    "\n",
    "![Colombia Latitudes and Longitudes](https://i.imgur.com/ZdKWfRG.png)"
   ]
  },
  {
   "cell_type": "code",
   "execution_count": 29,
   "metadata": {},
   "outputs": [],
   "source": [
    "# We define the corresponding limits as two lists, one for the latitudes and one for the longitudes\n",
    "# This limits encompass the colombian insular territories, which extend further west an north than it's continental territory\n",
    "\n",
    "lat_col = [-4.5, 15]    # Southernmost and northernmost latitudes respectively\n",
    "lon_col = [-82, -67]    # Westernmost and easternmost longitudes respectively"
   ]
  },
  {
   "cell_type": "code",
   "execution_count": 30,
   "metadata": {},
   "outputs": [
    {
     "name": "stdout",
     "output_type": "stream",
     "text": [
      "• Latitudes south from Colombia: 1\n",
      "• Latitudes north from Colombia: 1\n"
     ]
    }
   ],
   "source": [
    "count_lat_smaller = 0   # Registers with a latitude to the south of Colombia\n",
    "count_lat_greater = 0   # Registers with a latitude to the north of Colombia\n",
    "for x in df_train.lat:\n",
    "    if x<lat_col[0]:\n",
    "        count_lat_smaller += 1\n",
    "    elif x>lat_col[1]:\n",
    "        count_lat_greater += 1\n",
    "    \n",
    "print(f'• Latitudes south from Colombia: {count_lat_smaller}\\n• Latitudes north from Colombia: {count_lat_greater}')"
   ]
  },
  {
   "cell_type": "markdown",
   "metadata": {},
   "source": [
    "As we can see, there's only 1 value exceeding Colombia's latitudes on each direction in our dataset. We can visualize them:"
   ]
  },
  {
   "cell_type": "code",
   "execution_count": 31,
   "metadata": {},
   "outputs": [
    {
     "data": {
      "text/html": [
       "<div>\n",
       "<style scoped>\n",
       "    .dataframe tbody tr th:only-of-type {\n",
       "        vertical-align: middle;\n",
       "    }\n",
       "\n",
       "    .dataframe tbody tr th {\n",
       "        vertical-align: top;\n",
       "    }\n",
       "\n",
       "    .dataframe thead th {\n",
       "        text-align: right;\n",
       "    }\n",
       "</style>\n",
       "<table border=\"1\" class=\"dataframe\">\n",
       "  <thead>\n",
       "    <tr style=\"text-align: right;\">\n",
       "      <th></th>\n",
       "      <th>start_date</th>\n",
       "      <th>end_date</th>\n",
       "      <th>created_on</th>\n",
       "      <th>lat</th>\n",
       "      <th>lon</th>\n",
       "      <th>l2</th>\n",
       "      <th>l3</th>\n",
       "      <th>l4</th>\n",
       "      <th>l5</th>\n",
       "      <th>l6</th>\n",
       "      <th>...</th>\n",
       "      <th>bedrooms</th>\n",
       "      <th>bathrooms</th>\n",
       "      <th>surface_total</th>\n",
       "      <th>surface_covered</th>\n",
       "      <th>currency</th>\n",
       "      <th>title</th>\n",
       "      <th>description</th>\n",
       "      <th>property_type</th>\n",
       "      <th>geometry</th>\n",
       "      <th>target</th>\n",
       "    </tr>\n",
       "  </thead>\n",
       "  <tbody>\n",
       "    <tr>\n",
       "      <th>138682</th>\n",
       "      <td>2020-09-29</td>\n",
       "      <td>2021-07-26</td>\n",
       "      <td>2020-09-29</td>\n",
       "      <td>-32.787342</td>\n",
       "      <td>-71.20732</td>\n",
       "      <td>Cundinamarca</td>\n",
       "      <td>La Calera</td>\n",
       "      <td>NaN</td>\n",
       "      <td>NaN</td>\n",
       "      <td>NaN</td>\n",
       "      <td>...</td>\n",
       "      <td>NaN</td>\n",
       "      <td>6.0</td>\n",
       "      <td>NaN</td>\n",
       "      <td>NaN</td>\n",
       "      <td>COP</td>\n",
       "      <td>51548 LA  CALERA  MIRADO DEL LAGO</td>\n",
       "      <td>Casa hermosa,amplia, vigilancia sector&amp;nbsp; t...</td>\n",
       "      <td>Casa</td>\n",
       "      <td>POINT (-71.20732 -32.787342)</td>\n",
       "      <td>1</td>\n",
       "    </tr>\n",
       "    <tr>\n",
       "      <th>177722</th>\n",
       "      <td>2020-11-19</td>\n",
       "      <td>9999-12-31</td>\n",
       "      <td>2020-11-19</td>\n",
       "      <td>0.823972</td>\n",
       "      <td>-77.62271</td>\n",
       "      <td>Nariño</td>\n",
       "      <td>NaN</td>\n",
       "      <td>NaN</td>\n",
       "      <td>NaN</td>\n",
       "      <td>NaN</td>\n",
       "      <td>...</td>\n",
       "      <td>4.0</td>\n",
       "      <td>NaN</td>\n",
       "      <td>NaN</td>\n",
       "      <td>NaN</td>\n",
       "      <td>COP</td>\n",
       "      <td>Se vende casa en Ipiales</td>\n",
       "      <td>Venta de casa en colina verde\\nInfo: 320302104...</td>\n",
       "      <td>Casa</td>\n",
       "      <td>POINT (-77.6227098 0.823972)</td>\n",
       "      <td>0</td>\n",
       "    </tr>\n",
       "  </tbody>\n",
       "</table>\n",
       "<p>2 rows × 21 columns</p>\n",
       "</div>"
      ],
      "text/plain": [
       "        start_date    end_date  created_on        lat       lon            l2  \\\n",
       "138682  2020-09-29  2021-07-26  2020-09-29 -32.787342 -71.20732  Cundinamarca   \n",
       "177722  2020-11-19  9999-12-31  2020-11-19   0.823972 -77.62271        Nariño   \n",
       "\n",
       "               l3   l4   l5   l6  ...  bedrooms  bathrooms  surface_total  \\\n",
       "138682  La Calera  NaN  NaN  NaN  ...       NaN        6.0            NaN   \n",
       "177722        NaN  NaN  NaN  NaN  ...       4.0        NaN            NaN   \n",
       "\n",
       "        surface_covered  currency                                title  \\\n",
       "138682              NaN       COP  51548 LA  CALERA  MIRADO DEL LAGO     \n",
       "177722              NaN       COP             Se vende casa en Ipiales   \n",
       "\n",
       "                                              description property_type  \\\n",
       "138682  Casa hermosa,amplia, vigilancia sector&nbsp; t...          Casa   \n",
       "177722  Venta de casa en colina verde\\nInfo: 320302104...          Casa   \n",
       "\n",
       "                            geometry target  \n",
       "138682  POINT (-71.20732 -32.787342)      1  \n",
       "177722  POINT (-77.6227098 0.823972)      0  \n",
       "\n",
       "[2 rows x 21 columns]"
      ]
     },
     "execution_count": 31,
     "metadata": {},
     "output_type": "execute_result"
    }
   ],
   "source": [
    "# \n",
    "df_train.sort_values(by='lat').head(2)\n",
    "#df_Xy.sort_values(by='price',ascending=False).head(100).price.mean() # Output: 54,246'115,351.52"
   ]
  },
  {
   "cell_type": "code",
   "execution_count": 32,
   "metadata": {},
   "outputs": [
    {
     "data": {
      "text/html": [
       "<div>\n",
       "<style scoped>\n",
       "    .dataframe tbody tr th:only-of-type {\n",
       "        vertical-align: middle;\n",
       "    }\n",
       "\n",
       "    .dataframe tbody tr th {\n",
       "        vertical-align: top;\n",
       "    }\n",
       "\n",
       "    .dataframe thead th {\n",
       "        text-align: right;\n",
       "    }\n",
       "</style>\n",
       "<table border=\"1\" class=\"dataframe\">\n",
       "  <thead>\n",
       "    <tr style=\"text-align: right;\">\n",
       "      <th></th>\n",
       "      <th>start_date</th>\n",
       "      <th>end_date</th>\n",
       "      <th>created_on</th>\n",
       "      <th>lat</th>\n",
       "      <th>lon</th>\n",
       "      <th>l2</th>\n",
       "      <th>l3</th>\n",
       "      <th>l4</th>\n",
       "      <th>l5</th>\n",
       "      <th>l6</th>\n",
       "      <th>...</th>\n",
       "      <th>bedrooms</th>\n",
       "      <th>bathrooms</th>\n",
       "      <th>surface_total</th>\n",
       "      <th>surface_covered</th>\n",
       "      <th>currency</th>\n",
       "      <th>title</th>\n",
       "      <th>description</th>\n",
       "      <th>property_type</th>\n",
       "      <th>geometry</th>\n",
       "      <th>target</th>\n",
       "    </tr>\n",
       "  </thead>\n",
       "  <tbody>\n",
       "    <tr>\n",
       "      <th>148562</th>\n",
       "      <td>2020-11-06</td>\n",
       "      <td>2021-07-26</td>\n",
       "      <td>2020-11-06</td>\n",
       "      <td>34.420334</td>\n",
       "      <td>-119.69819</td>\n",
       "      <td>Cundinamarca</td>\n",
       "      <td>Bogotá D.C</td>\n",
       "      <td>NaN</td>\n",
       "      <td>NaN</td>\n",
       "      <td>NaN</td>\n",
       "      <td>...</td>\n",
       "      <td>NaN</td>\n",
       "      <td>4.0</td>\n",
       "      <td>NaN</td>\n",
       "      <td>NaN</td>\n",
       "      <td>COP</td>\n",
       "      <td>51599  SANTA  BARBARA  APARTAMENTO  506</td>\n",
       "      <td>Apartamento&amp;nbsp; para&amp;nbsp; remodelar , duple...</td>\n",
       "      <td>Apartamento</td>\n",
       "      <td>POINT (-119.69819 34.420334)</td>\n",
       "      <td>0</td>\n",
       "    </tr>\n",
       "    <tr>\n",
       "      <th>7159</th>\n",
       "      <td>2020-09-02</td>\n",
       "      <td>2020-09-02</td>\n",
       "      <td>2020-09-02</td>\n",
       "      <td>13.351917</td>\n",
       "      <td>-81.35745</td>\n",
       "      <td>San Andrés Providencia y Santa Catalina</td>\n",
       "      <td>Providencia</td>\n",
       "      <td>NaN</td>\n",
       "      <td>NaN</td>\n",
       "      <td>NaN</td>\n",
       "      <td>...</td>\n",
       "      <td>NaN</td>\n",
       "      <td>NaN</td>\n",
       "      <td>NaN</td>\n",
       "      <td>NaN</td>\n",
       "      <td>COP</td>\n",
       "      <td>Lote Terreno en Venta en Providencia _ wasi150...</td>\n",
       "      <td>De la Isla de San Andrés en Avión son 20 minut...</td>\n",
       "      <td>Lote</td>\n",
       "      <td>POINT (-81.35745049 13.35191746)</td>\n",
       "      <td>1</td>\n",
       "    </tr>\n",
       "  </tbody>\n",
       "</table>\n",
       "<p>2 rows × 21 columns</p>\n",
       "</div>"
      ],
      "text/plain": [
       "        start_date    end_date  created_on        lat        lon  \\\n",
       "148562  2020-11-06  2021-07-26  2020-11-06  34.420334 -119.69819   \n",
       "7159    2020-09-02  2020-09-02  2020-09-02  13.351917  -81.35745   \n",
       "\n",
       "                                             l2           l3   l4   l5   l6  \\\n",
       "148562                             Cundinamarca   Bogotá D.C  NaN  NaN  NaN   \n",
       "7159    San Andrés Providencia y Santa Catalina  Providencia  NaN  NaN  NaN   \n",
       "\n",
       "        ...  bedrooms  bathrooms  surface_total  surface_covered  currency  \\\n",
       "148562  ...       NaN        4.0            NaN              NaN       COP   \n",
       "7159    ...       NaN        NaN            NaN              NaN       COP   \n",
       "\n",
       "                                                    title  \\\n",
       "148562           51599  SANTA  BARBARA  APARTAMENTO  506    \n",
       "7159    Lote Terreno en Venta en Providencia _ wasi150...   \n",
       "\n",
       "                                              description property_type  \\\n",
       "148562  Apartamento&nbsp; para&nbsp; remodelar , duple...   Apartamento   \n",
       "7159    De la Isla de San Andrés en Avión son 20 minut...          Lote   \n",
       "\n",
       "                                geometry target  \n",
       "148562      POINT (-119.69819 34.420334)      0  \n",
       "7159    POINT (-81.35745049 13.35191746)      1  \n",
       "\n",
       "[2 rows x 21 columns]"
      ]
     },
     "execution_count": 32,
     "metadata": {},
     "output_type": "execute_result"
    }
   ],
   "source": [
    "df_train.sort_values(by='lat', ascending=False).head(2)"
   ]
  },
  {
   "cell_type": "code",
   "execution_count": 33,
   "metadata": {},
   "outputs": [
    {
     "name": "stdout",
     "output_type": "stream",
     "text": [
      "• Longitudes to the west from Colombia: 1\n",
      "• Longitudes to the east from Colombia: 0\n"
     ]
    }
   ],
   "source": [
    "count_lon_smaller = 0   # Registers with a longitude to the west of Colombia\n",
    "count_lon_greater = 0   # Registers with a longitude to the east of Colombia\n",
    "for x in df_train.lon:\n",
    "    if x<lon_col[0]:\n",
    "        count_lon_smaller += 1\n",
    "    elif x>lon_col[1]:\n",
    "        count_lon_greater += 1\n",
    "    \n",
    "print(f'• Longitudes to the west from Colombia: {count_lon_smaller}\\n• Longitudes to the east from Colombia: {count_lon_greater}')"
   ]
  },
  {
   "cell_type": "markdown",
   "metadata": {},
   "source": [
    "We found only one missplaced longitude, to the west of Colombia. Now we visualize it:"
   ]
  },
  {
   "cell_type": "code",
   "execution_count": 34,
   "metadata": {},
   "outputs": [
    {
     "data": {
      "text/html": [
       "<div>\n",
       "<style scoped>\n",
       "    .dataframe tbody tr th:only-of-type {\n",
       "        vertical-align: middle;\n",
       "    }\n",
       "\n",
       "    .dataframe tbody tr th {\n",
       "        vertical-align: top;\n",
       "    }\n",
       "\n",
       "    .dataframe thead th {\n",
       "        text-align: right;\n",
       "    }\n",
       "</style>\n",
       "<table border=\"1\" class=\"dataframe\">\n",
       "  <thead>\n",
       "    <tr style=\"text-align: right;\">\n",
       "      <th></th>\n",
       "      <th>start_date</th>\n",
       "      <th>end_date</th>\n",
       "      <th>created_on</th>\n",
       "      <th>lat</th>\n",
       "      <th>lon</th>\n",
       "      <th>l2</th>\n",
       "      <th>l3</th>\n",
       "      <th>l4</th>\n",
       "      <th>l5</th>\n",
       "      <th>l6</th>\n",
       "      <th>...</th>\n",
       "      <th>bedrooms</th>\n",
       "      <th>bathrooms</th>\n",
       "      <th>surface_total</th>\n",
       "      <th>surface_covered</th>\n",
       "      <th>currency</th>\n",
       "      <th>title</th>\n",
       "      <th>description</th>\n",
       "      <th>property_type</th>\n",
       "      <th>geometry</th>\n",
       "      <th>target</th>\n",
       "    </tr>\n",
       "  </thead>\n",
       "  <tbody>\n",
       "    <tr>\n",
       "      <th>148562</th>\n",
       "      <td>2020-11-06</td>\n",
       "      <td>2021-07-26</td>\n",
       "      <td>2020-11-06</td>\n",
       "      <td>34.420334</td>\n",
       "      <td>-119.69819</td>\n",
       "      <td>Cundinamarca</td>\n",
       "      <td>Bogotá D.C</td>\n",
       "      <td>NaN</td>\n",
       "      <td>NaN</td>\n",
       "      <td>NaN</td>\n",
       "      <td>...</td>\n",
       "      <td>NaN</td>\n",
       "      <td>4.0</td>\n",
       "      <td>NaN</td>\n",
       "      <td>NaN</td>\n",
       "      <td>COP</td>\n",
       "      <td>51599  SANTA  BARBARA  APARTAMENTO  506</td>\n",
       "      <td>Apartamento&amp;nbsp; para&amp;nbsp; remodelar , duple...</td>\n",
       "      <td>Apartamento</td>\n",
       "      <td>POINT (-119.69819 34.420334)</td>\n",
       "      <td>0</td>\n",
       "    </tr>\n",
       "    <tr>\n",
       "      <th>114121</th>\n",
       "      <td>2020-09-16</td>\n",
       "      <td>9999-12-31</td>\n",
       "      <td>2020-09-16</td>\n",
       "      <td>12.524494</td>\n",
       "      <td>-81.72839</td>\n",
       "      <td>San Andrés Providencia y Santa Catalina</td>\n",
       "      <td>NaN</td>\n",
       "      <td>NaN</td>\n",
       "      <td>NaN</td>\n",
       "      <td>NaN</td>\n",
       "      <td>...</td>\n",
       "      <td>8.0</td>\n",
       "      <td>NaN</td>\n",
       "      <td>NaN</td>\n",
       "      <td>NaN</td>\n",
       "      <td>COP</td>\n",
       "      <td>Casa de Lujo en la Isla de Andrés</td>\n",
       "      <td>Para vivir o para invertir, ésta casa llena de...</td>\n",
       "      <td>Finca</td>\n",
       "      <td>POINT (-81.7283900951 12.5244938806)</td>\n",
       "      <td>1</td>\n",
       "    </tr>\n",
       "  </tbody>\n",
       "</table>\n",
       "<p>2 rows × 21 columns</p>\n",
       "</div>"
      ],
      "text/plain": [
       "        start_date    end_date  created_on        lat        lon  \\\n",
       "148562  2020-11-06  2021-07-26  2020-11-06  34.420334 -119.69819   \n",
       "114121  2020-09-16  9999-12-31  2020-09-16  12.524494  -81.72839   \n",
       "\n",
       "                                             l2          l3   l4   l5   l6  \\\n",
       "148562                             Cundinamarca  Bogotá D.C  NaN  NaN  NaN   \n",
       "114121  San Andrés Providencia y Santa Catalina         NaN  NaN  NaN  NaN   \n",
       "\n",
       "        ...  bedrooms  bathrooms  surface_total  surface_covered  currency  \\\n",
       "148562  ...       NaN        4.0            NaN              NaN       COP   \n",
       "114121  ...       8.0        NaN            NaN              NaN       COP   \n",
       "\n",
       "                                           title  \\\n",
       "148562  51599  SANTA  BARBARA  APARTAMENTO  506    \n",
       "114121         Casa de Lujo en la Isla de Andrés   \n",
       "\n",
       "                                              description property_type  \\\n",
       "148562  Apartamento&nbsp; para&nbsp; remodelar , duple...   Apartamento   \n",
       "114121  Para vivir o para invertir, ésta casa llena de...         Finca   \n",
       "\n",
       "                                    geometry target  \n",
       "148562          POINT (-119.69819 34.420334)      0  \n",
       "114121  POINT (-81.7283900951 12.5244938806)      1  \n",
       "\n",
       "[2 rows x 21 columns]"
      ]
     },
     "execution_count": 34,
     "metadata": {},
     "output_type": "execute_result"
    }
   ],
   "source": [
    "df_train.sort_values(by='lon').head(2)"
   ]
  },
  {
   "cell_type": "code",
   "execution_count": 35,
   "metadata": {},
   "outputs": [
    {
     "data": {
      "text/html": [
       "<div>\n",
       "<style scoped>\n",
       "    .dataframe tbody tr th:only-of-type {\n",
       "        vertical-align: middle;\n",
       "    }\n",
       "\n",
       "    .dataframe tbody tr th {\n",
       "        vertical-align: top;\n",
       "    }\n",
       "\n",
       "    .dataframe thead th {\n",
       "        text-align: right;\n",
       "    }\n",
       "</style>\n",
       "<table border=\"1\" class=\"dataframe\">\n",
       "  <thead>\n",
       "    <tr style=\"text-align: right;\">\n",
       "      <th></th>\n",
       "      <th>start_date</th>\n",
       "      <th>end_date</th>\n",
       "      <th>created_on</th>\n",
       "      <th>lat</th>\n",
       "      <th>lon</th>\n",
       "      <th>l2</th>\n",
       "      <th>l3</th>\n",
       "      <th>l4</th>\n",
       "      <th>l5</th>\n",
       "      <th>l6</th>\n",
       "      <th>...</th>\n",
       "      <th>bedrooms</th>\n",
       "      <th>bathrooms</th>\n",
       "      <th>surface_total</th>\n",
       "      <th>surface_covered</th>\n",
       "      <th>currency</th>\n",
       "      <th>title</th>\n",
       "      <th>description</th>\n",
       "      <th>property_type</th>\n",
       "      <th>geometry</th>\n",
       "      <th>target</th>\n",
       "    </tr>\n",
       "  </thead>\n",
       "  <tbody>\n",
       "    <tr>\n",
       "      <th>59361</th>\n",
       "      <td>2020-08-01</td>\n",
       "      <td>2020-09-16</td>\n",
       "      <td>2020-08-01</td>\n",
       "      <td>6.189912</td>\n",
       "      <td>-67.482570</td>\n",
       "      <td>Vichada</td>\n",
       "      <td>Puerto Carreño</td>\n",
       "      <td>NaN</td>\n",
       "      <td>NaN</td>\n",
       "      <td>NaN</td>\n",
       "      <td>...</td>\n",
       "      <td>NaN</td>\n",
       "      <td>1.0</td>\n",
       "      <td>NaN</td>\n",
       "      <td>NaN</td>\n",
       "      <td>COP</td>\n",
       "      <td>FINCA  AGROINDUSTRIAL PUERTO CARREÑO</td>\n",
       "      <td>FINCA  AGROINDUSTRIAL Y GANADERA  A 10 MINUTOS...</td>\n",
       "      <td>Otro</td>\n",
       "      <td>POINT (-67.4825696 6.1899117)</td>\n",
       "      <td>1</td>\n",
       "    </tr>\n",
       "    <tr>\n",
       "      <th>2232</th>\n",
       "      <td>2020-10-03</td>\n",
       "      <td>2020-11-30</td>\n",
       "      <td>2020-10-03</td>\n",
       "      <td>3.870204</td>\n",
       "      <td>-67.924336</td>\n",
       "      <td>Guainía</td>\n",
       "      <td>Inírida</td>\n",
       "      <td>NaN</td>\n",
       "      <td>NaN</td>\n",
       "      <td>NaN</td>\n",
       "      <td>...</td>\n",
       "      <td>NaN</td>\n",
       "      <td>NaN</td>\n",
       "      <td>NaN</td>\n",
       "      <td>NaN</td>\n",
       "      <td>COP</td>\n",
       "      <td>SE VENDE FINCA EN INIRIDA GUAINIA</td>\n",
       "      <td>Finca de 14,56 hectáreas en venta en la zona r...</td>\n",
       "      <td>Lote</td>\n",
       "      <td>POINT (-67.9243361 3.8702044)</td>\n",
       "      <td>0</td>\n",
       "    </tr>\n",
       "  </tbody>\n",
       "</table>\n",
       "<p>2 rows × 21 columns</p>\n",
       "</div>"
      ],
      "text/plain": [
       "       start_date    end_date  created_on       lat        lon       l2  \\\n",
       "59361  2020-08-01  2020-09-16  2020-08-01  6.189912 -67.482570  Vichada   \n",
       "2232   2020-10-03  2020-11-30  2020-10-03  3.870204 -67.924336  Guainía   \n",
       "\n",
       "                   l3   l4   l5   l6  ...  bedrooms  bathrooms  surface_total  \\\n",
       "59361  Puerto Carreño  NaN  NaN  NaN  ...       NaN        1.0            NaN   \n",
       "2232          Inírida  NaN  NaN  NaN  ...       NaN        NaN            NaN   \n",
       "\n",
       "       surface_covered  currency                                 title  \\\n",
       "59361              NaN       COP  FINCA  AGROINDUSTRIAL PUERTO CARREÑO   \n",
       "2232               NaN       COP     SE VENDE FINCA EN INIRIDA GUAINIA   \n",
       "\n",
       "                                             description property_type  \\\n",
       "59361  FINCA  AGROINDUSTRIAL Y GANADERA  A 10 MINUTOS...          Otro   \n",
       "2232   Finca de 14,56 hectáreas en venta en la zona r...          Lote   \n",
       "\n",
       "                            geometry target  \n",
       "59361  POINT (-67.4825696 6.1899117)      1  \n",
       "2232   POINT (-67.9243361 3.8702044)      0  \n",
       "\n",
       "[2 rows x 21 columns]"
      ]
     },
     "execution_count": 35,
     "metadata": {},
     "output_type": "execute_result"
    }
   ],
   "source": [
    "df_train.sort_values(by='lon', ascending=False).head(2)"
   ]
  },
  {
   "cell_type": "markdown",
   "metadata": {},
   "source": [
    "#### There where only 3 misplaced latitude and longitude values in total. Those can be replaced by the coordinates from the city in the register ('l3' value)."
   ]
  },
  {
   "cell_type": "code",
   "execution_count": 36,
   "metadata": {},
   "outputs": [],
   "source": [
    "# Here we get a pd.Series with the possible combinatorics of the values in 'l2' and 'l3' for each row.\n",
    "\n",
    "combinations = []\n",
    "for x in range(len(df_train)):\n",
    "    if str(df_train.iloc[x].l3) != 'nan':\n",
    "        combinations.append(f'{df_train.iloc[x].l3}, {df_train.iloc[x].l2}')\n",
    "comb_series = pd.Series(combinations)\n",
    "unique_l2_l3 = comb_series.unique()"
   ]
  },
  {
   "cell_type": "code",
   "execution_count": 37,
   "metadata": {},
   "outputs": [
    {
     "name": "stdout",
     "output_type": "stream",
     "text": [
      "299\n"
     ]
    }
   ],
   "source": [
    "print(len(unique_l2_l3))"
   ]
  },
  {
   "cell_type": "code",
   "execution_count": 38,
   "metadata": {},
   "outputs": [
    {
     "name": "stdout",
     "output_type": "stream",
     "text": [
      "Amount of different cities in df_train.l3: 294\n",
      "Amount of different cities in the combination df_train.l3-df_train.l2: 299\n"
     ]
    }
   ],
   "source": [
    "df_cities = df_train.l3.unique()\n",
    "print(f'Amount of different cities in df_train.l3: {len(df_cities)}')\n",
    "print(f'Amount of different cities in the combination df_train.l3-df_train.l2: {len(unique_l2_l3)}')"
   ]
  },
  {
   "cell_type": "code",
   "execution_count": 39,
   "metadata": {},
   "outputs": [
    {
     "name": "stdout",
     "output_type": "stream",
     "text": [
      "['Granada', ' Meta']\n",
      "['San Martín', ' Cesar']\n",
      "['Restrepo', ' Meta']\n",
      "['Guamal', ' Meta']\n",
      "['Armenia', ' Antioquia']\n",
      "['Barbosa', ' Santander']\n"
     ]
    }
   ],
   "source": [
    "l2_l3_cities = []\n",
    "repeated_cities = []\n",
    "for x in unique_l2_l3:\n",
    "    y = x.split(',')\n",
    "    if y[0] not in l2_l3_cities:\n",
    "        l2_l3_cities.append(y[0])\n",
    "    else:\n",
    "        repeated_cities.append(y[0])\n",
    "        print(y)\n"
   ]
  },
  {
   "cell_type": "markdown",
   "metadata": {},
   "source": [
    "The output above represents different cities with the same name but in different departments from Colombia. This explains the difference between the amount of unique values in 'l3' and the amount of unique values in the combinatory of 'l2' and 'l3'.\n",
    "\n",
    "Below you can see the complete list of the aforementioned combinatorics and corroborate that the cities listed above have two entries in the list."
   ]
  },
  {
   "cell_type": "code",
   "execution_count": 40,
   "metadata": {},
   "outputs": [
    {
     "name": "stdout",
     "output_type": "stream",
     "text": [
      "Armenia, Quindío\n",
      "Barbosa, Antioquia\n",
      "Guamal, Magdalena\n",
      "Restrepo, Valle del Cauca\n",
      "Granada, Cundinamarca\n",
      "San Martín, Meta\n",
      "Granada, Meta\n",
      "San Martín, Cesar\n",
      "Restrepo, Meta\n",
      "Guamal, Meta\n",
      "Armenia, Antioquia\n",
      "Barbosa, Santander\n"
     ]
    }
   ],
   "source": [
    "for x in unique_l2_l3:\n",
    "    y = x.split(',')\n",
    "    if y[0] in repeated_cities:\n",
    "        print(x)"
   ]
  },
  {
   "cell_type": "code",
   "execution_count": 41,
   "metadata": {},
   "outputs": [
    {
     "data": {
      "text/plain": [
       "\"\\ngeolocator = Nominatim(user_agent='acidminded')\\ngeocode = RateLimiter(geolocator.geocode, min_delay_seconds=1)\\n\\ndep_ciud_lat_lon = {}\\n\\nfor x in capitals.keys():\\n    dep_ciud_lat_lon[x] = {}\\n\\nfor x in unique_l2_l3:\\n    coor = geocode(x)\\n    y = x.split(',')\\n    ciud = y[0]\\n    dep = y[1][1:]\\n    dep_ciud_lat_lon[dep][ciud] = {'lat':coor.latitude, 'lon':coor.longitude}\\n\\nfor x in capitals:\\n    dep = x\\n    if capitals[x] not in dep_ciud_lat_lon[x]:\\n        ciud = capitals[x]\\n        coor = geocode(f'{ciud}, {dep}')\\n        dep_ciud_lat_lon[dep][ciud] = {'lat':coor.latitude, 'lon':coor.longitude}\\n\\nprint(dep_ciud_lat_lon)\\n\""
      ]
     },
     "execution_count": 41,
     "metadata": {},
     "output_type": "execute_result"
    }
   ],
   "source": [
    "# Now we create a dictionary with the coordinates for each of the unique combinatorics\n",
    "# This code takes too long to run, so it will be commented out and it's output saved in a dictionary in the helpers.py file.\n",
    "\n",
    "'''\n",
    "geolocator = Nominatim(user_agent='acidminded')\n",
    "geocode = RateLimiter(geolocator.geocode, min_delay_seconds=1)\n",
    "\n",
    "dep_ciud_lat_lon = {}\n",
    "\n",
    "for x in capitals.keys():\n",
    "    dep_ciud_lat_lon[x] = {}\n",
    "\n",
    "for x in unique_l2_l3:\n",
    "    coor = geocode(x)\n",
    "    y = x.split(',')\n",
    "    ciud = y[0]\n",
    "    dep = y[1][1:]\n",
    "    dep_ciud_lat_lon[dep][ciud] = {'lat':coor.latitude, 'lon':coor.longitude}\n",
    "\n",
    "for x in capitals:\n",
    "    dep = x\n",
    "    if capitals[x] not in dep_ciud_lat_lon[x]:\n",
    "        ciud = capitals[x]\n",
    "        coor = geocode(f'{ciud}, {dep}')\n",
    "        dep_ciud_lat_lon[dep][ciud] = {'lat':coor.latitude, 'lon':coor.longitude}\n",
    "\n",
    "print(dep_ciud_lat_lon)\n",
    "'''"
   ]
  },
  {
   "cell_type": "code",
   "execution_count": 42,
   "metadata": {},
   "outputs": [
    {
     "data": {
      "text/plain": [
       "\"\\nOUTPUT:\\n1\\n[('Bolívar', 'Santa Rosa', 'lon problem')]\\n\""
      ]
     },
     "execution_count": 42,
     "metadata": {},
     "output_type": "execute_result"
    }
   ],
   "source": [
    "# Here we check for any problem within our dictionary and found one which is corrected manually.\n",
    "\n",
    "'''\n",
    "count = 0\n",
    "problems = []\n",
    "for dep in dep_ciud_lat_lon:\n",
    "    for city in  dep_ciud_lat_lon[dep]:\n",
    "        if (dep_ciud_lat_lon[dep][city]['lat'] < lat_col[0]) or (dep_ciud_lat_lon[dep][city]['lat'] > lat_col[1]):\n",
    "            count += 1\n",
    "            problems.append((dep, city, 'lat problem'))\n",
    "        if (dep_ciud_lat_lon[dep][city]['lon'] < lon_col[0]) or (dep_ciud_lat_lon[dep][city]['lon'] > lon_col[1]):\n",
    "            count += 1\n",
    "            problems.append((dep, city, 'lon problem'))\n",
    "print(count)\n",
    "print(problems)\n",
    "'''\n",
    "\n",
    "'''\n",
    "OUTPUT:\n",
    "1\n",
    "[('Bolívar', 'Santa Rosa', 'lon problem')]\n",
    "'''\n"
   ]
  },
  {
   "cell_type": "code",
   "execution_count": 43,
   "metadata": {},
   "outputs": [
    {
     "name": "stdout",
     "output_type": "stream",
     "text": [
      "dict_keys(['Amazonas', 'Antioquia', 'Arauca', 'Atlántico', 'Bolívar', 'Boyacá', 'Caldas', 'Caquetá', 'Casanare', 'Cauca', 'Cesar', 'Chocó', 'Córdoba', 'Cundinamarca', 'Guainía', 'Guaviare', 'Huila', 'La Guajira', 'Magdalena', 'Meta', 'Nariño', 'Norte de Santander', 'Putumayo', 'Quindío', 'Risaralda', 'San Andrés Providencia y Santa Catalina', 'Santander', 'Sucre', 'Tolima', 'Valle del Cauca', 'Vaupés', 'Vichada'])\n"
     ]
    }
   ],
   "source": [
    "print(dep_ciud_lat_lon.keys())"
   ]
  },
  {
   "cell_type": "code",
   "execution_count": 44,
   "metadata": {},
   "outputs": [
    {
     "data": {
      "text/plain": [
       "POINT EMPTY                             48519\n",
       "POINT (-73.112 7.119)                     264\n",
       "POINT (-75.572 6.203)                     259\n",
       "POINT (-76.554 3.258)                     199\n",
       "POINT (-74.1376942 4.6303361)             137\n",
       "                                        ...  \n",
       "POINT (-74.8649382591 11.0254292246)        1\n",
       "POINT (-74.061 4.715)                       1\n",
       "POINT (-75.43534316 6.02491343)             1\n",
       "POINT (-74.0868554 4.6703724)               1\n",
       "POINT (-73.106 7.064)                       1\n",
       "Name: geometry, Length: 62785, dtype: int64"
      ]
     },
     "execution_count": 44,
     "metadata": {},
     "output_type": "execute_result"
    }
   ],
   "source": [
    "# Let's see the missing values from the 'geometry' feature\n",
    "\n",
    "df_train.geometry.value_counts()"
   ]
  },
  {
   "cell_type": "markdown",
   "metadata": {},
   "source": [
    "There are 48519 values missing from 'geometry', but once we have obtained the lat and lon for all our missing columns we can fill in this feature as well."
   ]
  },
  {
   "cell_type": "markdown",
   "metadata": {},
   "source": [
    "### 4) PROPERTY FEATURES: rooms, bedrooms, bathrooms, surface_total, surface_covered & property_type"
   ]
  },
  {
   "cell_type": "code",
   "execution_count": 45,
   "metadata": {},
   "outputs": [
    {
     "name": "stdout",
     "output_type": "stream",
     "text": [
      "\n",
      "----- rooms -----\n",
      " •Data types: {<class 'float'>}\n",
      " •Missing values:\n",
      "True     165942\n",
      "False     27453\n",
      "Name: rooms, dtype: int64 \n",
      "\n",
      " •Min: 1.0\n",
      " •Max: 40.0\n",
      "\n",
      " •Mean: 3.290387207226897\n",
      " •Median: 3.0\n",
      " •Mode: 0    3.0\n",
      "Name: rooms, dtype: float64\n",
      "\n",
      "\n",
      "----- bedrooms -----\n",
      " •Data types: {<class 'float'>}\n",
      " •Missing values:\n",
      "True     153017\n",
      "False     40378\n",
      "Name: bedrooms, dtype: int64 \n",
      "\n",
      " •Min: 0.0\n",
      " •Max: 96.0\n",
      "\n",
      " •Mean: 3.241047104859082\n",
      " •Median: 3.0\n",
      " •Mode: 0    3.0\n",
      "Name: bedrooms, dtype: float64\n",
      "\n",
      "\n",
      "----- bathrooms -----\n",
      " •Data types: {<class 'float'>}\n",
      " •Missing values:\n",
      "False    153016\n",
      "True      40379\n",
      "Name: bathrooms, dtype: int64 \n",
      "\n",
      " •Min: 1.0\n",
      " •Max: 20.0\n",
      "\n",
      " •Mean: 2.638789407643645\n",
      " •Median: 2.0\n",
      " •Mode: 0    2.0\n",
      "Name: bathrooms, dtype: float64\n",
      "\n",
      "\n",
      "----- surface_total -----\n",
      " •Data types: {<class 'float'>}\n",
      " •Missing values:\n",
      "True     186453\n",
      "False      6942\n",
      "Name: surface_total, dtype: int64 \n",
      "\n",
      " •Min: 10.0\n",
      " •Max: 180000.0\n",
      "\n",
      " •Mean: 1329.7345145491213\n",
      " •Median: 120.0\n",
      " •Mode: 0    60.0\n",
      "Name: surface_total, dtype: float64\n",
      "\n",
      "\n",
      "----- surface_covered -----\n",
      " •Data types: {<class 'float'>}\n",
      " •Missing values:\n",
      "True     183640\n",
      "False      9755\n",
      "Name: surface_covered, dtype: int64 \n",
      "\n",
      " •Min: 1.0\n",
      " •Max: 3480000.0\n",
      "\n",
      " •Mean: 946.7107124551512\n",
      " •Median: 114.0\n",
      " •Mode: 0    60.0\n",
      "Name: surface_covered, dtype: float64\n",
      "\n",
      "\n",
      "----- property_type -----\n",
      " •Data types: {<class 'str'>}\n",
      " •Missing values:\n",
      "False    193395\n",
      "Name: property_type, dtype: int64 \n",
      "\n"
     ]
    }
   ],
   "source": [
    "property_features = ['rooms', 'bedrooms', 'bathrooms', 'surface_total', 'surface_covered', 'property_type']\n",
    "\n",
    "get_info(property_features[:-1], maxmin=True, stats=True)\n",
    "get_info(property_features[-1:])"
   ]
  },
  {
   "cell_type": "markdown",
   "metadata": {},
   "source": [
    "From the output above we can see that the only ones of these features that have less than half of it's values missing are 'bathrooms' and 'property_type'.\n",
    "\n",
    "Because of this, 'bathrooms' and 'property_type' will be the only columns from this subset of features that we will be using for training our models by the moment.\n",
    "\n",
    "We are awere that it exists the possibility for us to extract meaningful information from each sale's description in order to fill the missing data from these columns and that may be a path we will explore when improving our first models. But for the moment these two features will suffice."
   ]
  },
  {
   "cell_type": "markdown",
   "metadata": {},
   "source": [
    "#### The missing values from the 'bathrooms' column will be imputed with it's floor rounded mean value (2), which also happens to be it's median and mode."
   ]
  },
  {
   "cell_type": "code",
   "execution_count": 46,
   "metadata": {},
   "outputs": [
    {
     "data": {
      "text/plain": [
       "2.0     69152\n",
       "3.0     30953\n",
       "1.0     22229\n",
       "4.0     17019\n",
       "5.0      7557\n",
       "6.0      2937\n",
       "7.0      1158\n",
       "10.0      928\n",
       "8.0       681\n",
       "9.0       329\n",
       "20.0       14\n",
       "12.0       14\n",
       "13.0       11\n",
       "11.0        8\n",
       "15.0        7\n",
       "19.0        6\n",
       "14.0        5\n",
       "18.0        5\n",
       "16.0        2\n",
       "17.0        1\n",
       "Name: bathrooms, dtype: int64"
      ]
     },
     "execution_count": 46,
     "metadata": {},
     "output_type": "execute_result"
    }
   ],
   "source": [
    "df_train.bathrooms.value_counts()"
   ]
  },
  {
   "cell_type": "code",
   "execution_count": 47,
   "metadata": {},
   "outputs": [
    {
     "data": {
      "text/html": [
       "<div>\n",
       "<style scoped>\n",
       "    .dataframe tbody tr th:only-of-type {\n",
       "        vertical-align: middle;\n",
       "    }\n",
       "\n",
       "    .dataframe tbody tr th {\n",
       "        vertical-align: top;\n",
       "    }\n",
       "\n",
       "    .dataframe thead th {\n",
       "        text-align: right;\n",
       "    }\n",
       "</style>\n",
       "<table border=\"1\" class=\"dataframe\">\n",
       "  <thead>\n",
       "    <tr style=\"text-align: right;\">\n",
       "      <th></th>\n",
       "      <th>start_date</th>\n",
       "      <th>end_date</th>\n",
       "      <th>created_on</th>\n",
       "      <th>lat</th>\n",
       "      <th>lon</th>\n",
       "      <th>l2</th>\n",
       "      <th>l3</th>\n",
       "      <th>l4</th>\n",
       "      <th>l5</th>\n",
       "      <th>l6</th>\n",
       "      <th>...</th>\n",
       "      <th>bedrooms</th>\n",
       "      <th>bathrooms</th>\n",
       "      <th>surface_total</th>\n",
       "      <th>surface_covered</th>\n",
       "      <th>currency</th>\n",
       "      <th>title</th>\n",
       "      <th>description</th>\n",
       "      <th>property_type</th>\n",
       "      <th>geometry</th>\n",
       "      <th>target</th>\n",
       "    </tr>\n",
       "  </thead>\n",
       "  <tbody>\n",
       "    <tr>\n",
       "      <th>8442</th>\n",
       "      <td>2020-08-05</td>\n",
       "      <td>9999-12-31</td>\n",
       "      <td>2020-08-05</td>\n",
       "      <td>7.114464</td>\n",
       "      <td>-73.119884</td>\n",
       "      <td>Santander</td>\n",
       "      <td>Bucaramanga</td>\n",
       "      <td>NaN</td>\n",
       "      <td>NaN</td>\n",
       "      <td>NaN</td>\n",
       "      <td>...</td>\n",
       "      <td>3.0</td>\n",
       "      <td>20.0</td>\n",
       "      <td>NaN</td>\n",
       "      <td>NaN</td>\n",
       "      <td>COP</td>\n",
       "      <td>APARTAMENTO EN VENTA, BUCARAMANGA-CONCORDIA</td>\n",
       "      <td>Inmogestion presenta este bonito apartamento e...</td>\n",
       "      <td>Apartamento</td>\n",
       "      <td>POINT (-73.1198842 7.1144635)</td>\n",
       "      <td>0</td>\n",
       "    </tr>\n",
       "    <tr>\n",
       "      <th>169137</th>\n",
       "      <td>2020-11-27</td>\n",
       "      <td>2020-12-01</td>\n",
       "      <td>2020-11-27</td>\n",
       "      <td>2.811000</td>\n",
       "      <td>-75.227000</td>\n",
       "      <td>Huila</td>\n",
       "      <td>Rivera</td>\n",
       "      <td>NaN</td>\n",
       "      <td>NaN</td>\n",
       "      <td>NaN</td>\n",
       "      <td>...</td>\n",
       "      <td>23.0</td>\n",
       "      <td>20.0</td>\n",
       "      <td>3287.0</td>\n",
       "      <td>500.0</td>\n",
       "      <td>COP</td>\n",
       "      <td>Casa Campestre En Venta En Rivera  Cod. VGBX49...</td>\n",
       "      <td>Espectacular Hotel Campestre ubicado en el Cor...</td>\n",
       "      <td>Casa</td>\n",
       "      <td>POINT (-75.227 2.811)</td>\n",
       "      <td>1</td>\n",
       "    </tr>\n",
       "    <tr>\n",
       "      <th>51712</th>\n",
       "      <td>2020-11-23</td>\n",
       "      <td>2021-08-20</td>\n",
       "      <td>2020-11-23</td>\n",
       "      <td>4.632800</td>\n",
       "      <td>-74.072722</td>\n",
       "      <td>Cundinamarca</td>\n",
       "      <td>Bogotá D.C</td>\n",
       "      <td>Zona Chapinero</td>\n",
       "      <td>Teusaquillo</td>\n",
       "      <td>NaN</td>\n",
       "      <td>...</td>\n",
       "      <td>21.0</td>\n",
       "      <td>20.0</td>\n",
       "      <td>NaN</td>\n",
       "      <td>NaN</td>\n",
       "      <td>COP</td>\n",
       "      <td>EDIFICIO EN VENTA, BOGOTA-SANTA TERESITA</td>\n",
       "      <td>UBICADÍSIMO EDIFICIO ESQUINERO EN VENTA  21 HA...</td>\n",
       "      <td>Otro</td>\n",
       "      <td>POINT (-74.0727222 4.6328001)</td>\n",
       "      <td>1</td>\n",
       "    </tr>\n",
       "    <tr>\n",
       "      <th>138694</th>\n",
       "      <td>2020-08-27</td>\n",
       "      <td>9999-12-31</td>\n",
       "      <td>2020-08-27</td>\n",
       "      <td>NaN</td>\n",
       "      <td>NaN</td>\n",
       "      <td>Cundinamarca</td>\n",
       "      <td>Bogotá D.C</td>\n",
       "      <td>Zona Chapinero</td>\n",
       "      <td>Chapinero</td>\n",
       "      <td>Chapinero Central</td>\n",
       "      <td>...</td>\n",
       "      <td>0.0</td>\n",
       "      <td>20.0</td>\n",
       "      <td>NaN</td>\n",
       "      <td>NaN</td>\n",
       "      <td>COP</td>\n",
       "      <td>EDIFICIO EN VENTA, BOGOTA-CHAPINERO CENTRAL</td>\n",
       "      <td>Edificio para venta en el sector de Chapinero....</td>\n",
       "      <td>Otro</td>\n",
       "      <td>POINT EMPTY</td>\n",
       "      <td>1</td>\n",
       "    </tr>\n",
       "    <tr>\n",
       "      <th>185592</th>\n",
       "      <td>2020-09-12</td>\n",
       "      <td>2020-11-13</td>\n",
       "      <td>2020-09-12</td>\n",
       "      <td>3.421000</td>\n",
       "      <td>-76.545000</td>\n",
       "      <td>Valle del Cauca</td>\n",
       "      <td>Cali</td>\n",
       "      <td>NaN</td>\n",
       "      <td>NaN</td>\n",
       "      <td>NaN</td>\n",
       "      <td>...</td>\n",
       "      <td>20.0</td>\n",
       "      <td>20.0</td>\n",
       "      <td>210.0</td>\n",
       "      <td>692.0</td>\n",
       "      <td>COP</td>\n",
       "      <td>Edificio En Arriendo/venta En Cali Urbanizacin...</td>\n",
       "      <td>Se Vende o Se alquila, edificio en la zona sur...</td>\n",
       "      <td>Otro</td>\n",
       "      <td>POINT (-76.545 3.421)</td>\n",
       "      <td>1</td>\n",
       "    </tr>\n",
       "    <tr>\n",
       "      <th>53449</th>\n",
       "      <td>2020-11-30</td>\n",
       "      <td>2021-07-01</td>\n",
       "      <td>2020-11-30</td>\n",
       "      <td>4.644464</td>\n",
       "      <td>-74.060546</td>\n",
       "      <td>Cundinamarca</td>\n",
       "      <td>Bogotá D.C</td>\n",
       "      <td>Zona Chapinero</td>\n",
       "      <td>Chapinero</td>\n",
       "      <td>NaN</td>\n",
       "      <td>...</td>\n",
       "      <td>22.0</td>\n",
       "      <td>20.0</td>\n",
       "      <td>NaN</td>\n",
       "      <td>NaN</td>\n",
       "      <td>COP</td>\n",
       "      <td>CASA EN VENTA, BOGOTA-CHAPINERO</td>\n",
       "      <td>Casa esquinera remodelada. ambiente acogedor. ...</td>\n",
       "      <td>Casa</td>\n",
       "      <td>POINT (-74.060546 4.6444642)</td>\n",
       "      <td>1</td>\n",
       "    </tr>\n",
       "    <tr>\n",
       "      <th>39286</th>\n",
       "      <td>2020-09-02</td>\n",
       "      <td>9999-12-31</td>\n",
       "      <td>2020-09-02</td>\n",
       "      <td>4.809850</td>\n",
       "      <td>-74.101838</td>\n",
       "      <td>Cundinamarca</td>\n",
       "      <td>Cota</td>\n",
       "      <td>NaN</td>\n",
       "      <td>NaN</td>\n",
       "      <td>NaN</td>\n",
       "      <td>...</td>\n",
       "      <td>0.0</td>\n",
       "      <td>20.0</td>\n",
       "      <td>NaN</td>\n",
       "      <td>NaN</td>\n",
       "      <td>COP</td>\n",
       "      <td>BODEGA EN VENTA, COTA-COTA</td>\n",
       "      <td>Bodegas 545.04 Mts2 y oficinas 245,28. Mts2 pa...</td>\n",
       "      <td>Otro</td>\n",
       "      <td>POINT (-74.1018383 4.8098502)</td>\n",
       "      <td>1</td>\n",
       "    </tr>\n",
       "    <tr>\n",
       "      <th>96152</th>\n",
       "      <td>2020-09-30</td>\n",
       "      <td>2021-01-18</td>\n",
       "      <td>2020-09-30</td>\n",
       "      <td>4.680884</td>\n",
       "      <td>-74.130453</td>\n",
       "      <td>Cundinamarca</td>\n",
       "      <td>Bogotá D.C</td>\n",
       "      <td>Zona Occidental</td>\n",
       "      <td>Fontibón</td>\n",
       "      <td>NaN</td>\n",
       "      <td>...</td>\n",
       "      <td>0.0</td>\n",
       "      <td>20.0</td>\n",
       "      <td>NaN</td>\n",
       "      <td>NaN</td>\n",
       "      <td>COP</td>\n",
       "      <td>EDIFICIO EN VENTA, BOGOTA-EL DORADO</td>\n",
       "      <td>Excelente ubicación muy cerca de estaciones de...</td>\n",
       "      <td>Otro</td>\n",
       "      <td>POINT (-74.1304534018 4.6808835909)</td>\n",
       "      <td>1</td>\n",
       "    </tr>\n",
       "    <tr>\n",
       "      <th>69334</th>\n",
       "      <td>2020-09-10</td>\n",
       "      <td>2021-05-24</td>\n",
       "      <td>2020-09-10</td>\n",
       "      <td>4.637380</td>\n",
       "      <td>-74.064302</td>\n",
       "      <td>Cundinamarca</td>\n",
       "      <td>Bogotá D.C</td>\n",
       "      <td>Zona Chapinero</td>\n",
       "      <td>Chapinero</td>\n",
       "      <td>Marly</td>\n",
       "      <td>...</td>\n",
       "      <td>45.0</td>\n",
       "      <td>20.0</td>\n",
       "      <td>NaN</td>\n",
       "      <td>NaN</td>\n",
       "      <td>COP</td>\n",
       "      <td>EDIFICIO EN ARRIENDO/VENTA, BOGOTA-MARLY</td>\n",
       "      <td>espectacular edificio de 4000 mtrs2 construido...</td>\n",
       "      <td>Otro</td>\n",
       "      <td>POINT (-74.0643016 4.6373802)</td>\n",
       "      <td>0</td>\n",
       "    </tr>\n",
       "    <tr>\n",
       "      <th>42219</th>\n",
       "      <td>2020-08-28</td>\n",
       "      <td>2020-12-02</td>\n",
       "      <td>2020-08-28</td>\n",
       "      <td>NaN</td>\n",
       "      <td>NaN</td>\n",
       "      <td>Cundinamarca</td>\n",
       "      <td>Bogotá D.C</td>\n",
       "      <td>Zona Centro</td>\n",
       "      <td>La Candelaria</td>\n",
       "      <td>Las Aguas</td>\n",
       "      <td>...</td>\n",
       "      <td>96.0</td>\n",
       "      <td>20.0</td>\n",
       "      <td>NaN</td>\n",
       "      <td>NaN</td>\n",
       "      <td>COP</td>\n",
       "      <td>HOTEL EN VENTA, BOGOTA-LAS AGUAS</td>\n",
       "      <td>Perfecta ubicación en el centro de Bogotá. A t...</td>\n",
       "      <td>Otro</td>\n",
       "      <td>POINT EMPTY</td>\n",
       "      <td>1</td>\n",
       "    </tr>\n",
       "    <tr>\n",
       "      <th>175440</th>\n",
       "      <td>2020-10-15</td>\n",
       "      <td>2021-04-07</td>\n",
       "      <td>2020-10-15</td>\n",
       "      <td>NaN</td>\n",
       "      <td>NaN</td>\n",
       "      <td>Atlántico</td>\n",
       "      <td>Barranquilla</td>\n",
       "      <td>NaN</td>\n",
       "      <td>NaN</td>\n",
       "      <td>NaN</td>\n",
       "      <td>...</td>\n",
       "      <td>23.0</td>\n",
       "      <td>20.0</td>\n",
       "      <td>NaN</td>\n",
       "      <td>NaN</td>\n",
       "      <td>COP</td>\n",
       "      <td>HOTEL EN VENTA, BARRANQUILLA-EL POBLADO</td>\n",
       "      <td>Medellín se ha convertido en un destino turíst...</td>\n",
       "      <td>Otro</td>\n",
       "      <td>POINT EMPTY</td>\n",
       "      <td>1</td>\n",
       "    </tr>\n",
       "    <tr>\n",
       "      <th>58649</th>\n",
       "      <td>2020-08-21</td>\n",
       "      <td>2020-10-23</td>\n",
       "      <td>2020-08-21</td>\n",
       "      <td>4.652547</td>\n",
       "      <td>-74.058393</td>\n",
       "      <td>Cundinamarca</td>\n",
       "      <td>Bogotá D.C</td>\n",
       "      <td>Zona Chapinero</td>\n",
       "      <td>Chapinero</td>\n",
       "      <td>Quinta Camacho</td>\n",
       "      <td>...</td>\n",
       "      <td>24.0</td>\n",
       "      <td>20.0</td>\n",
       "      <td>NaN</td>\n",
       "      <td>NaN</td>\n",
       "      <td>COP</td>\n",
       "      <td>CASA EN VENTA, BOGOTA-QUINTA CAMACHO</td>\n",
       "      <td>Arriendo Espectacular hotel  ubicado en el cor...</td>\n",
       "      <td>Casa</td>\n",
       "      <td>POINT (-74.0583932 4.6525474)</td>\n",
       "      <td>1</td>\n",
       "    </tr>\n",
       "    <tr>\n",
       "      <th>109313</th>\n",
       "      <td>2020-11-28</td>\n",
       "      <td>2020-12-01</td>\n",
       "      <td>2020-11-28</td>\n",
       "      <td>5.324000</td>\n",
       "      <td>-72.404000</td>\n",
       "      <td>Casanare</td>\n",
       "      <td>Yopal</td>\n",
       "      <td>NaN</td>\n",
       "      <td>NaN</td>\n",
       "      <td>NaN</td>\n",
       "      <td>...</td>\n",
       "      <td>40.0</td>\n",
       "      <td>20.0</td>\n",
       "      <td>200.0</td>\n",
       "      <td>1000.0</td>\n",
       "      <td>COP</td>\n",
       "      <td>Edificio En Venta En Yopal Yopal Cod. VIRD315</td>\n",
       "      <td>SE VENDE ESPECTACULAR HOTEL UBICADO EN LA CIUD...</td>\n",
       "      <td>Otro</td>\n",
       "      <td>POINT (-72.404 5.324)</td>\n",
       "      <td>1</td>\n",
       "    </tr>\n",
       "    <tr>\n",
       "      <th>102407</th>\n",
       "      <td>2020-11-11</td>\n",
       "      <td>2020-11-18</td>\n",
       "      <td>2020-11-11</td>\n",
       "      <td>4.204624</td>\n",
       "      <td>-74.631732</td>\n",
       "      <td>Tolima</td>\n",
       "      <td>Melgar</td>\n",
       "      <td>NaN</td>\n",
       "      <td>NaN</td>\n",
       "      <td>NaN</td>\n",
       "      <td>...</td>\n",
       "      <td>21.0</td>\n",
       "      <td>20.0</td>\n",
       "      <td>NaN</td>\n",
       "      <td>NaN</td>\n",
       "      <td>COP</td>\n",
       "      <td>HOTEL EN VENTA, MELGAR-MELGAR</td>\n",
       "      <td>Hotel en privilegiada ubicación, colindante co...</td>\n",
       "      <td>Otro</td>\n",
       "      <td>POINT (-74.6317323 4.2046243)</td>\n",
       "      <td>1</td>\n",
       "    </tr>\n",
       "    <tr>\n",
       "      <th>12322</th>\n",
       "      <td>2020-12-10</td>\n",
       "      <td>9999-12-31</td>\n",
       "      <td>2020-12-10</td>\n",
       "      <td>6.239000</td>\n",
       "      <td>-75.602000</td>\n",
       "      <td>Antioquia</td>\n",
       "      <td>Medellín</td>\n",
       "      <td>Laureles</td>\n",
       "      <td>NaN</td>\n",
       "      <td>NaN</td>\n",
       "      <td>...</td>\n",
       "      <td>18.0</td>\n",
       "      <td>19.0</td>\n",
       "      <td>900.0</td>\n",
       "      <td>900.0</td>\n",
       "      <td>COP</td>\n",
       "      <td>Casa En Venta En Medellin Laureles Nogal Cod. ...</td>\n",
       "      <td>CDIGO: 4367  CASA SOBRE LA 33   TOTALMENTE COM...</td>\n",
       "      <td>Casa</td>\n",
       "      <td>POINT (-75.602 6.239)</td>\n",
       "      <td>1</td>\n",
       "    </tr>\n",
       "  </tbody>\n",
       "</table>\n",
       "<p>15 rows × 21 columns</p>\n",
       "</div>"
      ],
      "text/plain": [
       "        start_date    end_date  created_on       lat        lon  \\\n",
       "8442    2020-08-05  9999-12-31  2020-08-05  7.114464 -73.119884   \n",
       "169137  2020-11-27  2020-12-01  2020-11-27  2.811000 -75.227000   \n",
       "51712   2020-11-23  2021-08-20  2020-11-23  4.632800 -74.072722   \n",
       "138694  2020-08-27  9999-12-31  2020-08-27       NaN        NaN   \n",
       "185592  2020-09-12  2020-11-13  2020-09-12  3.421000 -76.545000   \n",
       "53449   2020-11-30  2021-07-01  2020-11-30  4.644464 -74.060546   \n",
       "39286   2020-09-02  9999-12-31  2020-09-02  4.809850 -74.101838   \n",
       "96152   2020-09-30  2021-01-18  2020-09-30  4.680884 -74.130453   \n",
       "69334   2020-09-10  2021-05-24  2020-09-10  4.637380 -74.064302   \n",
       "42219   2020-08-28  2020-12-02  2020-08-28       NaN        NaN   \n",
       "175440  2020-10-15  2021-04-07  2020-10-15       NaN        NaN   \n",
       "58649   2020-08-21  2020-10-23  2020-08-21  4.652547 -74.058393   \n",
       "109313  2020-11-28  2020-12-01  2020-11-28  5.324000 -72.404000   \n",
       "102407  2020-11-11  2020-11-18  2020-11-11  4.204624 -74.631732   \n",
       "12322   2020-12-10  9999-12-31  2020-12-10  6.239000 -75.602000   \n",
       "\n",
       "                     l2            l3               l4             l5  \\\n",
       "8442          Santander   Bucaramanga              NaN            NaN   \n",
       "169137            Huila        Rivera              NaN            NaN   \n",
       "51712      Cundinamarca    Bogotá D.C   Zona Chapinero    Teusaquillo   \n",
       "138694     Cundinamarca    Bogotá D.C   Zona Chapinero      Chapinero   \n",
       "185592  Valle del Cauca          Cali              NaN            NaN   \n",
       "53449      Cundinamarca    Bogotá D.C   Zona Chapinero      Chapinero   \n",
       "39286      Cundinamarca          Cota              NaN            NaN   \n",
       "96152      Cundinamarca    Bogotá D.C  Zona Occidental       Fontibón   \n",
       "69334      Cundinamarca    Bogotá D.C   Zona Chapinero      Chapinero   \n",
       "42219      Cundinamarca    Bogotá D.C      Zona Centro  La Candelaria   \n",
       "175440        Atlántico  Barranquilla              NaN            NaN   \n",
       "58649      Cundinamarca    Bogotá D.C   Zona Chapinero      Chapinero   \n",
       "109313         Casanare         Yopal              NaN            NaN   \n",
       "102407           Tolima        Melgar              NaN            NaN   \n",
       "12322         Antioquia      Medellín         Laureles            NaN   \n",
       "\n",
       "                       l6  ...  bedrooms  bathrooms  surface_total  \\\n",
       "8442                  NaN  ...       3.0       20.0            NaN   \n",
       "169137                NaN  ...      23.0       20.0         3287.0   \n",
       "51712                 NaN  ...      21.0       20.0            NaN   \n",
       "138694  Chapinero Central  ...       0.0       20.0            NaN   \n",
       "185592                NaN  ...      20.0       20.0          210.0   \n",
       "53449                 NaN  ...      22.0       20.0            NaN   \n",
       "39286                 NaN  ...       0.0       20.0            NaN   \n",
       "96152                 NaN  ...       0.0       20.0            NaN   \n",
       "69334               Marly  ...      45.0       20.0            NaN   \n",
       "42219           Las Aguas  ...      96.0       20.0            NaN   \n",
       "175440                NaN  ...      23.0       20.0            NaN   \n",
       "58649      Quinta Camacho  ...      24.0       20.0            NaN   \n",
       "109313                NaN  ...      40.0       20.0          200.0   \n",
       "102407                NaN  ...      21.0       20.0            NaN   \n",
       "12322                 NaN  ...      18.0       19.0          900.0   \n",
       "\n",
       "        surface_covered  currency  \\\n",
       "8442                NaN       COP   \n",
       "169137            500.0       COP   \n",
       "51712               NaN       COP   \n",
       "138694              NaN       COP   \n",
       "185592            692.0       COP   \n",
       "53449               NaN       COP   \n",
       "39286               NaN       COP   \n",
       "96152               NaN       COP   \n",
       "69334               NaN       COP   \n",
       "42219               NaN       COP   \n",
       "175440              NaN       COP   \n",
       "58649               NaN       COP   \n",
       "109313           1000.0       COP   \n",
       "102407              NaN       COP   \n",
       "12322             900.0       COP   \n",
       "\n",
       "                                                    title  \\\n",
       "8442          APARTAMENTO EN VENTA, BUCARAMANGA-CONCORDIA   \n",
       "169137  Casa Campestre En Venta En Rivera  Cod. VGBX49...   \n",
       "51712            EDIFICIO EN VENTA, BOGOTA-SANTA TERESITA   \n",
       "138694        EDIFICIO EN VENTA, BOGOTA-CHAPINERO CENTRAL   \n",
       "185592  Edificio En Arriendo/venta En Cali Urbanizacin...   \n",
       "53449                     CASA EN VENTA, BOGOTA-CHAPINERO   \n",
       "39286                          BODEGA EN VENTA, COTA-COTA   \n",
       "96152                 EDIFICIO EN VENTA, BOGOTA-EL DORADO   \n",
       "69334            EDIFICIO EN ARRIENDO/VENTA, BOGOTA-MARLY   \n",
       "42219                    HOTEL EN VENTA, BOGOTA-LAS AGUAS   \n",
       "175440            HOTEL EN VENTA, BARRANQUILLA-EL POBLADO   \n",
       "58649                CASA EN VENTA, BOGOTA-QUINTA CAMACHO   \n",
       "109313      Edificio En Venta En Yopal Yopal Cod. VIRD315   \n",
       "102407                      HOTEL EN VENTA, MELGAR-MELGAR   \n",
       "12322   Casa En Venta En Medellin Laureles Nogal Cod. ...   \n",
       "\n",
       "                                              description property_type  \\\n",
       "8442    Inmogestion presenta este bonito apartamento e...   Apartamento   \n",
       "169137  Espectacular Hotel Campestre ubicado en el Cor...          Casa   \n",
       "51712   UBICADÍSIMO EDIFICIO ESQUINERO EN VENTA  21 HA...          Otro   \n",
       "138694  Edificio para venta en el sector de Chapinero....          Otro   \n",
       "185592  Se Vende o Se alquila, edificio en la zona sur...          Otro   \n",
       "53449   Casa esquinera remodelada. ambiente acogedor. ...          Casa   \n",
       "39286   Bodegas 545.04 Mts2 y oficinas 245,28. Mts2 pa...          Otro   \n",
       "96152   Excelente ubicación muy cerca de estaciones de...          Otro   \n",
       "69334   espectacular edificio de 4000 mtrs2 construido...          Otro   \n",
       "42219   Perfecta ubicación en el centro de Bogotá. A t...          Otro   \n",
       "175440  Medellín se ha convertido en un destino turíst...          Otro   \n",
       "58649   Arriendo Espectacular hotel  ubicado en el cor...          Casa   \n",
       "109313  SE VENDE ESPECTACULAR HOTEL UBICADO EN LA CIUD...          Otro   \n",
       "102407  Hotel en privilegiada ubicación, colindante co...          Otro   \n",
       "12322   CDIGO: 4367  CASA SOBRE LA 33   TOTALMENTE COM...          Casa   \n",
       "\n",
       "                                   geometry target  \n",
       "8442          POINT (-73.1198842 7.1144635)      0  \n",
       "169137                POINT (-75.227 2.811)      1  \n",
       "51712         POINT (-74.0727222 4.6328001)      1  \n",
       "138694                          POINT EMPTY      1  \n",
       "185592                POINT (-76.545 3.421)      1  \n",
       "53449          POINT (-74.060546 4.6444642)      1  \n",
       "39286         POINT (-74.1018383 4.8098502)      1  \n",
       "96152   POINT (-74.1304534018 4.6808835909)      1  \n",
       "69334         POINT (-74.0643016 4.6373802)      0  \n",
       "42219                           POINT EMPTY      1  \n",
       "175440                          POINT EMPTY      1  \n",
       "58649         POINT (-74.0583932 4.6525474)      1  \n",
       "109313                POINT (-72.404 5.324)      1  \n",
       "102407        POINT (-74.6317323 4.2046243)      1  \n",
       "12322                 POINT (-75.602 6.239)      1  \n",
       "\n",
       "[15 rows x 21 columns]"
      ]
     },
     "execution_count": 47,
     "metadata": {},
     "output_type": "execute_result"
    }
   ],
   "source": [
    "df_train.sort_values(by=['bathrooms'], ascending=False).head(15)"
   ]
  },
  {
   "cell_type": "code",
   "execution_count": 48,
   "metadata": {},
   "outputs": [
    {
     "data": {
      "text/plain": [
       "Apartamento        98687\n",
       "Casa               59114\n",
       "Otro               16152\n",
       "Lote               15981\n",
       "Local comercial     1248\n",
       "Finca               1131\n",
       "Oficina             1072\n",
       "Parqueadero           10\n",
       "Name: property_type, dtype: int64"
      ]
     },
     "execution_count": 48,
     "metadata": {},
     "output_type": "execute_result"
    }
   ],
   "source": [
    "df_train.property_type.value_counts()"
   ]
  },
  {
   "cell_type": "code",
   "execution_count": 169,
   "metadata": {},
   "outputs": [
    {
     "name": "stdout",
     "output_type": "stream",
     "text": [
      "['Casa' 'Apartamento' 'Otro' 'Oficina' 'Finca' 'Lote' 'Local comercial'\n",
      " 'Parqueadero']\n"
     ]
    }
   ],
   "source": [
    "property_types = df_train.property_type.unique()\n",
    "print(property_types)"
   ]
  },
  {
   "cell_type": "code",
   "execution_count": 53,
   "metadata": {},
   "outputs": [
    {
     "name": "stdout",
     "output_type": "stream",
     "text": [
      "\n",
      "Houses and apartments by amount of bathrooms:\n",
      "\n",
      "• 5 bathrooms:\n",
      "\t 11061\n",
      "• 6 bathrooms:\n",
      "\t 4390\n",
      "• 7 bathrooms:\n",
      "\t 2045\n",
      "• 8 bathrooms:\n",
      "\t 1134\n",
      "• 9 bathrooms:\n",
      "\t 661\n",
      "• 10 bathrooms:\n",
      "\t 412\n",
      "• 11 bathrooms:\n",
      "\t 30\n",
      "• 12 bathrooms:\n",
      "\t 26\n",
      "• 13 bathrooms:\n",
      "\t 20\n",
      "• 14 bathrooms:\n",
      "\t 13\n",
      "• 15 bathrooms:\n",
      "\t 10\n",
      "• 16 bathrooms:\n",
      "\t 7\n",
      "• 17 bathrooms:\n",
      "\t 7\n",
      "• 18 bathrooms:\n",
      "\t 7\n",
      "• 19 bathrooms:\n",
      "\t 6\n",
      "• 20 bathrooms:\n",
      "\t 4\n"
     ]
    }
   ],
   "source": [
    "print(f'\\nHouse or apartment registries by amount of bathrooms:\\n')\n",
    "for x in range(5,21):\n",
    "    print(f'• {x} bathrooms:')\n",
    "    print('\\t',len(df_train.loc[((df_train.property_type == 'Casa') | (df_train.property_type == 'Apartamento'))&((df_train.bathrooms >= x))]))"
   ]
  },
  {
   "cell_type": "markdown",
   "metadata": {},
   "source": [
    "It is very unlikely that a house or an apartment will have 6 or more bathrooms, for this reason, those values will be replaced by the floor rounded mean of the column (2)."
   ]
  },
  {
   "cell_type": "markdown",
   "metadata": {},
   "source": [
    "### 5) ADVERTISING FEATURES: currency, title & description "
   ]
  },
  {
   "cell_type": "code",
   "execution_count": 54,
   "metadata": {},
   "outputs": [
    {
     "name": "stdout",
     "output_type": "stream",
     "text": [
      "\n",
      "----- currency -----\n",
      " •Data types: {<class 'str'>, <class 'float'>}\n",
      " •Missing values:\n",
      "False    193391\n",
      "True          4\n",
      "Name: currency, dtype: int64 \n",
      "\n",
      "\n",
      "----- title -----\n",
      " •Data types: {<class 'str'>, <class 'float'>}\n",
      " •Missing values:\n",
      "False    193394\n",
      "True          1\n",
      "Name: title, dtype: int64 \n",
      "\n",
      "\n",
      "----- description -----\n",
      " •Data types: {<class 'str'>, <class 'float'>}\n",
      " •Missing values:\n",
      "False    193274\n",
      "True        121\n",
      "Name: description, dtype: int64 \n",
      "\n"
     ]
    }
   ],
   "source": [
    "advertising_features = ['currency', 'title', 'description']\n",
    "\n",
    "get_info(advertising_features)"
   ]
  },
  {
   "cell_type": "code",
   "execution_count": 55,
   "metadata": {},
   "outputs": [
    {
     "name": "stdout",
     "output_type": "stream",
     "text": [
      "<class 'pandas.core.frame.DataFrame'>\n",
      "Int64Index: 193395 entries, 0 to 197548\n",
      "Data columns (total 3 columns):\n",
      " #   Column       Non-Null Count   Dtype \n",
      "---  ------       --------------   ----- \n",
      " 0   currency     193391 non-null  object\n",
      " 1   title        193394 non-null  object\n",
      " 2   description  193274 non-null  object\n",
      "dtypes: object(3)\n",
      "memory usage: 5.9+ MB\n"
     ]
    }
   ],
   "source": [
    "df_train[['currency', 'title', 'description']].info()"
   ]
  },
  {
   "cell_type": "code",
   "execution_count": 56,
   "metadata": {},
   "outputs": [
    {
     "data": {
      "text/html": [
       "<div>\n",
       "<style scoped>\n",
       "    .dataframe tbody tr th:only-of-type {\n",
       "        vertical-align: middle;\n",
       "    }\n",
       "\n",
       "    .dataframe tbody tr th {\n",
       "        vertical-align: top;\n",
       "    }\n",
       "\n",
       "    .dataframe thead th {\n",
       "        text-align: right;\n",
       "    }\n",
       "</style>\n",
       "<table border=\"1\" class=\"dataframe\">\n",
       "  <thead>\n",
       "    <tr style=\"text-align: right;\">\n",
       "      <th></th>\n",
       "      <th>start_date</th>\n",
       "      <th>end_date</th>\n",
       "      <th>created_on</th>\n",
       "      <th>lat</th>\n",
       "      <th>lon</th>\n",
       "      <th>l2</th>\n",
       "      <th>l3</th>\n",
       "      <th>l4</th>\n",
       "      <th>l5</th>\n",
       "      <th>l6</th>\n",
       "      <th>...</th>\n",
       "      <th>bedrooms</th>\n",
       "      <th>bathrooms</th>\n",
       "      <th>surface_total</th>\n",
       "      <th>surface_covered</th>\n",
       "      <th>currency</th>\n",
       "      <th>title</th>\n",
       "      <th>description</th>\n",
       "      <th>property_type</th>\n",
       "      <th>geometry</th>\n",
       "      <th>target</th>\n",
       "    </tr>\n",
       "  </thead>\n",
       "  <tbody>\n",
       "    <tr>\n",
       "      <th>16240</th>\n",
       "      <td>2020-11-27</td>\n",
       "      <td>2020-11-27</td>\n",
       "      <td>2020-11-27</td>\n",
       "      <td>NaN</td>\n",
       "      <td>NaN</td>\n",
       "      <td>Valle del Cauca</td>\n",
       "      <td>Cali</td>\n",
       "      <td>NaN</td>\n",
       "      <td>NaN</td>\n",
       "      <td>NaN</td>\n",
       "      <td>...</td>\n",
       "      <td>6.0</td>\n",
       "      <td>2.0</td>\n",
       "      <td>NaN</td>\n",
       "      <td>NaN</td>\n",
       "      <td>NaN</td>\n",
       "      <td>Venta casa  barrio cuidad Córdoba cali vall</td>\n",
       "      <td>&lt;b&gt;Venta casa  barrio cuidad Córdoba cali vall...</td>\n",
       "      <td>Casa</td>\n",
       "      <td>POINT EMPTY</td>\n",
       "      <td>0</td>\n",
       "    </tr>\n",
       "    <tr>\n",
       "      <th>53528</th>\n",
       "      <td>2020-12-15</td>\n",
       "      <td>2020-12-15</td>\n",
       "      <td>2020-12-15</td>\n",
       "      <td>NaN</td>\n",
       "      <td>NaN</td>\n",
       "      <td>Tolima</td>\n",
       "      <td>Ibagué</td>\n",
       "      <td>NaN</td>\n",
       "      <td>NaN</td>\n",
       "      <td>NaN</td>\n",
       "      <td>...</td>\n",
       "      <td>4.0</td>\n",
       "      <td>NaN</td>\n",
       "      <td>NaN</td>\n",
       "      <td>NaN</td>\n",
       "      <td>NaN</td>\n",
       "      <td>VENDO APARTAMENTO  BALCONES DEL VERGEL</td>\n",
       "      <td>&lt;b&gt;VENDO APARTAMENTO  BALCONES DEL VERGEL&lt;/b&gt;&lt;...</td>\n",
       "      <td>Apartamento</td>\n",
       "      <td>POINT EMPTY</td>\n",
       "      <td>0</td>\n",
       "    </tr>\n",
       "    <tr>\n",
       "      <th>90818</th>\n",
       "      <td>2020-10-21</td>\n",
       "      <td>2020-10-21</td>\n",
       "      <td>2020-10-21</td>\n",
       "      <td>NaN</td>\n",
       "      <td>NaN</td>\n",
       "      <td>Antioquia</td>\n",
       "      <td>Sabaneta</td>\n",
       "      <td>NaN</td>\n",
       "      <td>NaN</td>\n",
       "      <td>NaN</td>\n",
       "      <td>...</td>\n",
       "      <td>3.0</td>\n",
       "      <td>NaN</td>\n",
       "      <td>NaN</td>\n",
       "      <td>NaN</td>\n",
       "      <td>NaN</td>\n",
       "      <td>Cod12 Aparatamento en Venta Poblado</td>\n",
       "      <td>&lt;br /&gt;\\n  &lt;br /&gt;\\n Ref#582518.</td>\n",
       "      <td>Apartamento</td>\n",
       "      <td>POINT EMPTY</td>\n",
       "      <td>0</td>\n",
       "    </tr>\n",
       "    <tr>\n",
       "      <th>119682</th>\n",
       "      <td>2020-10-21</td>\n",
       "      <td>2020-10-21</td>\n",
       "      <td>2020-10-21</td>\n",
       "      <td>NaN</td>\n",
       "      <td>NaN</td>\n",
       "      <td>Santander</td>\n",
       "      <td>Bucaramanga</td>\n",
       "      <td>NaN</td>\n",
       "      <td>NaN</td>\n",
       "      <td>NaN</td>\n",
       "      <td>...</td>\n",
       "      <td>NaN</td>\n",
       "      <td>NaN</td>\n",
       "      <td>NaN</td>\n",
       "      <td>NaN</td>\n",
       "      <td>NaN</td>\n",
       "      <td>Vendo Casa Campestre</td>\n",
       "      <td>&lt;br /&gt;\\n  &lt;br /&gt;\\n Ref#582835.</td>\n",
       "      <td>Finca</td>\n",
       "      <td>POINT EMPTY</td>\n",
       "      <td>0</td>\n",
       "    </tr>\n",
       "  </tbody>\n",
       "</table>\n",
       "<p>4 rows × 21 columns</p>\n",
       "</div>"
      ],
      "text/plain": [
       "        start_date    end_date  created_on  lat  lon               l2  \\\n",
       "16240   2020-11-27  2020-11-27  2020-11-27  NaN  NaN  Valle del Cauca   \n",
       "53528   2020-12-15  2020-12-15  2020-12-15  NaN  NaN           Tolima   \n",
       "90818   2020-10-21  2020-10-21  2020-10-21  NaN  NaN        Antioquia   \n",
       "119682  2020-10-21  2020-10-21  2020-10-21  NaN  NaN        Santander   \n",
       "\n",
       "                 l3   l4   l5   l6  ...  bedrooms  bathrooms  surface_total  \\\n",
       "16240          Cali  NaN  NaN  NaN  ...       6.0        2.0            NaN   \n",
       "53528        Ibagué  NaN  NaN  NaN  ...       4.0        NaN            NaN   \n",
       "90818      Sabaneta  NaN  NaN  NaN  ...       3.0        NaN            NaN   \n",
       "119682  Bucaramanga  NaN  NaN  NaN  ...       NaN        NaN            NaN   \n",
       "\n",
       "        surface_covered  currency  \\\n",
       "16240               NaN       NaN   \n",
       "53528               NaN       NaN   \n",
       "90818               NaN       NaN   \n",
       "119682              NaN       NaN   \n",
       "\n",
       "                                              title  \\\n",
       "16240   Venta casa  barrio cuidad Córdoba cali vall   \n",
       "53528        VENDO APARTAMENTO  BALCONES DEL VERGEL   \n",
       "90818           Cod12 Aparatamento en Venta Poblado   \n",
       "119682                         Vendo Casa Campestre   \n",
       "\n",
       "                                              description property_type  \\\n",
       "16240   <b>Venta casa  barrio cuidad Córdoba cali vall...          Casa   \n",
       "53528   <b>VENDO APARTAMENTO  BALCONES DEL VERGEL</b><...   Apartamento   \n",
       "90818                      <br />\\n  <br />\\n Ref#582518.   Apartamento   \n",
       "119682                     <br />\\n  <br />\\n Ref#582835.         Finca   \n",
       "\n",
       "           geometry target  \n",
       "16240   POINT EMPTY      0  \n",
       "53528   POINT EMPTY      0  \n",
       "90818   POINT EMPTY      0  \n",
       "119682  POINT EMPTY      0  \n",
       "\n",
       "[4 rows x 21 columns]"
      ]
     },
     "execution_count": 56,
     "metadata": {},
     "output_type": "execute_result"
    }
   ],
   "source": [
    "df_train[df_train['currency'].isnull()]"
   ]
  },
  {
   "cell_type": "code",
   "execution_count": 57,
   "metadata": {},
   "outputs": [
    {
     "data": {
      "text/plain": [
       "COP    193383\n",
       "USD         8\n",
       "Name: currency, dtype: int64"
      ]
     },
     "execution_count": 57,
     "metadata": {},
     "output_type": "execute_result"
    }
   ],
   "source": [
    "# Here we can see that 8 of the registers have a price in usd\n",
    "df_train.currency.value_counts()"
   ]
  },
  {
   "cell_type": "code",
   "execution_count": 58,
   "metadata": {},
   "outputs": [
    {
     "data": {
      "text/html": [
       "<div>\n",
       "<style scoped>\n",
       "    .dataframe tbody tr th:only-of-type {\n",
       "        vertical-align: middle;\n",
       "    }\n",
       "\n",
       "    .dataframe tbody tr th {\n",
       "        vertical-align: top;\n",
       "    }\n",
       "\n",
       "    .dataframe thead th {\n",
       "        text-align: right;\n",
       "    }\n",
       "</style>\n",
       "<table border=\"1\" class=\"dataframe\">\n",
       "  <thead>\n",
       "    <tr style=\"text-align: right;\">\n",
       "      <th></th>\n",
       "      <th>start_date</th>\n",
       "      <th>end_date</th>\n",
       "      <th>created_on</th>\n",
       "      <th>lat</th>\n",
       "      <th>lon</th>\n",
       "      <th>l2</th>\n",
       "      <th>l3</th>\n",
       "      <th>l4</th>\n",
       "      <th>l5</th>\n",
       "      <th>l6</th>\n",
       "      <th>...</th>\n",
       "      <th>bedrooms</th>\n",
       "      <th>bathrooms</th>\n",
       "      <th>surface_total</th>\n",
       "      <th>surface_covered</th>\n",
       "      <th>currency</th>\n",
       "      <th>title</th>\n",
       "      <th>description</th>\n",
       "      <th>property_type</th>\n",
       "      <th>geometry</th>\n",
       "      <th>target</th>\n",
       "    </tr>\n",
       "  </thead>\n",
       "  <tbody>\n",
       "    <tr>\n",
       "      <th>5902</th>\n",
       "      <td>2020-08-25</td>\n",
       "      <td>9999-12-31</td>\n",
       "      <td>2020-08-25</td>\n",
       "      <td>4.914310</td>\n",
       "      <td>-73.993189</td>\n",
       "      <td>Cundinamarca</td>\n",
       "      <td>Sopó</td>\n",
       "      <td>NaN</td>\n",
       "      <td>NaN</td>\n",
       "      <td>NaN</td>\n",
       "      <td>...</td>\n",
       "      <td>3.0</td>\n",
       "      <td>NaN</td>\n",
       "      <td>NaN</td>\n",
       "      <td>NaN</td>\n",
       "      <td>USD</td>\n",
       "      <td>Vendo espectacular casa entre Bogota y Briceño</td>\n",
       "      <td>Espectacular casa entre Bogota- Briceño km 12 ...</td>\n",
       "      <td>Casa</td>\n",
       "      <td>POINT (-73.9931885 4.9143096)</td>\n",
       "      <td>0</td>\n",
       "    </tr>\n",
       "    <tr>\n",
       "      <th>49196</th>\n",
       "      <td>2020-10-07</td>\n",
       "      <td>2021-01-22</td>\n",
       "      <td>2020-10-07</td>\n",
       "      <td>10.513831</td>\n",
       "      <td>-75.498685</td>\n",
       "      <td>Bolívar</td>\n",
       "      <td>Cartagena</td>\n",
       "      <td>NaN</td>\n",
       "      <td>NaN</td>\n",
       "      <td>NaN</td>\n",
       "      <td>...</td>\n",
       "      <td>5.0</td>\n",
       "      <td>NaN</td>\n",
       "      <td>NaN</td>\n",
       "      <td>NaN</td>\n",
       "      <td>USD</td>\n",
       "      <td>Exclusive beach house for sale - Manzanillo de...</td>\n",
       "      <td>¡EXCLUSIVE BEACH HOUSE FOR SALE - MANZANILLO D...</td>\n",
       "      <td>Casa</td>\n",
       "      <td>POINT (-75.4986852407 10.5138313669)</td>\n",
       "      <td>0</td>\n",
       "    </tr>\n",
       "    <tr>\n",
       "      <th>56159</th>\n",
       "      <td>2020-10-26</td>\n",
       "      <td>2020-10-26</td>\n",
       "      <td>2020-10-26</td>\n",
       "      <td>4.739003</td>\n",
       "      <td>-74.098302</td>\n",
       "      <td>Cundinamarca</td>\n",
       "      <td>Bogotá D.C</td>\n",
       "      <td>Zona Noroccidental</td>\n",
       "      <td>NaN</td>\n",
       "      <td>NaN</td>\n",
       "      <td>...</td>\n",
       "      <td>5.0</td>\n",
       "      <td>NaN</td>\n",
       "      <td>NaN</td>\n",
       "      <td>NaN</td>\n",
       "      <td>USD</td>\n",
       "      <td>Casa en Venta Costa del Este RAH PA: 20-11172</td>\n",
       "      <td>Viva en una casa espaciosa con terrazas y pati...</td>\n",
       "      <td>Casa</td>\n",
       "      <td>POINT (-74.098302 4.7390028)</td>\n",
       "      <td>0</td>\n",
       "    </tr>\n",
       "    <tr>\n",
       "      <th>56522</th>\n",
       "      <td>2020-10-26</td>\n",
       "      <td>2020-10-26</td>\n",
       "      <td>2020-10-26</td>\n",
       "      <td>4.695757</td>\n",
       "      <td>-74.043894</td>\n",
       "      <td>Cundinamarca</td>\n",
       "      <td>Bogotá D.C</td>\n",
       "      <td>Zona Norte</td>\n",
       "      <td>Usaquén</td>\n",
       "      <td>NaN</td>\n",
       "      <td>...</td>\n",
       "      <td>4.0</td>\n",
       "      <td>NaN</td>\n",
       "      <td>NaN</td>\n",
       "      <td>NaN</td>\n",
       "      <td>USD</td>\n",
       "      <td>Apartamento en Venta Santa Maria RAH PA: 20-10683</td>\n",
       "      <td>Majestuoso apartamento a estrenar con la mejor...</td>\n",
       "      <td>Apartamento</td>\n",
       "      <td>POINT (-74.0438943 4.6957568)</td>\n",
       "      <td>0</td>\n",
       "    </tr>\n",
       "    <tr>\n",
       "      <th>116979</th>\n",
       "      <td>2020-09-13</td>\n",
       "      <td>2021-01-12</td>\n",
       "      <td>2020-09-13</td>\n",
       "      <td>NaN</td>\n",
       "      <td>NaN</td>\n",
       "      <td>Santander</td>\n",
       "      <td>Bucaramanga</td>\n",
       "      <td>NaN</td>\n",
       "      <td>NaN</td>\n",
       "      <td>NaN</td>\n",
       "      <td>...</td>\n",
       "      <td>NaN</td>\n",
       "      <td>NaN</td>\n",
       "      <td>NaN</td>\n",
       "      <td>NaN</td>\n",
       "      <td>USD</td>\n",
       "      <td>Villa for sale Bali</td>\n",
       "      <td>Villa for sale Bali&lt;br /&gt;\\n&lt;br /&gt;\\nLocation: J...</td>\n",
       "      <td>Finca</td>\n",
       "      <td>POINT EMPTY</td>\n",
       "      <td>0</td>\n",
       "    </tr>\n",
       "    <tr>\n",
       "      <th>136236</th>\n",
       "      <td>2020-09-16</td>\n",
       "      <td>2020-10-29</td>\n",
       "      <td>2020-09-16</td>\n",
       "      <td>4.622794</td>\n",
       "      <td>-74.090960</td>\n",
       "      <td>Cundinamarca</td>\n",
       "      <td>Bogotá D.C</td>\n",
       "      <td>Zona Centro</td>\n",
       "      <td>Puente Aranda</td>\n",
       "      <td>NaN</td>\n",
       "      <td>...</td>\n",
       "      <td>3.0</td>\n",
       "      <td>2.0</td>\n",
       "      <td>NaN</td>\n",
       "      <td>NaN</td>\n",
       "      <td>USD</td>\n",
       "      <td>Venta Casa Excelente</td>\n",
       "      <td>&lt;br /&gt;\\n - Calefacción\\n- Parrilla\\n &lt;br /&gt;\\n ...</td>\n",
       "      <td>Casa</td>\n",
       "      <td>POINT (-74.0909602 4.622794)</td>\n",
       "      <td>0</td>\n",
       "    </tr>\n",
       "    <tr>\n",
       "      <th>137025</th>\n",
       "      <td>2020-08-29</td>\n",
       "      <td>9999-12-31</td>\n",
       "      <td>2020-08-29</td>\n",
       "      <td>12.585979</td>\n",
       "      <td>-81.714549</td>\n",
       "      <td>San Andrés Providencia y Santa Catalina</td>\n",
       "      <td>NaN</td>\n",
       "      <td>NaN</td>\n",
       "      <td>NaN</td>\n",
       "      <td>NaN</td>\n",
       "      <td>...</td>\n",
       "      <td>0.0</td>\n",
       "      <td>NaN</td>\n",
       "      <td>NaN</td>\n",
       "      <td>NaN</td>\n",
       "      <td>USD</td>\n",
       "      <td>HOTEL EN VENTA EN LA ISLA DE SAN ANDRÉS</td>\n",
       "      <td>\\nUn Hotel Boutique TOTALMENTE frente al mar.\\...</td>\n",
       "      <td>Otro</td>\n",
       "      <td>POINT (-81.7145490646 12.5859785199)</td>\n",
       "      <td>0</td>\n",
       "    </tr>\n",
       "    <tr>\n",
       "      <th>167143</th>\n",
       "      <td>2020-08-08</td>\n",
       "      <td>9999-12-31</td>\n",
       "      <td>2020-08-08</td>\n",
       "      <td>10.829302</td>\n",
       "      <td>-75.160260</td>\n",
       "      <td>Atlántico</td>\n",
       "      <td>NaN</td>\n",
       "      <td>NaN</td>\n",
       "      <td>NaN</td>\n",
       "      <td>NaN</td>\n",
       "      <td>...</td>\n",
       "      <td>NaN</td>\n",
       "      <td>NaN</td>\n",
       "      <td>NaN</td>\n",
       "      <td>NaN</td>\n",
       "      <td>USD</td>\n",
       "      <td>Lote en venta Vía Barranquilla Cartagena</td>\n",
       "      <td>OPORTUNIDAD DE INVERSIÒN EN EL CARIBE COLOMBIA...</td>\n",
       "      <td>Lote</td>\n",
       "      <td>POINT (-75.1602602005 10.8293016581)</td>\n",
       "      <td>0</td>\n",
       "    </tr>\n",
       "  </tbody>\n",
       "</table>\n",
       "<p>8 rows × 21 columns</p>\n",
       "</div>"
      ],
      "text/plain": [
       "        start_date    end_date  created_on        lat        lon  \\\n",
       "5902    2020-08-25  9999-12-31  2020-08-25   4.914310 -73.993189   \n",
       "49196   2020-10-07  2021-01-22  2020-10-07  10.513831 -75.498685   \n",
       "56159   2020-10-26  2020-10-26  2020-10-26   4.739003 -74.098302   \n",
       "56522   2020-10-26  2020-10-26  2020-10-26   4.695757 -74.043894   \n",
       "116979  2020-09-13  2021-01-12  2020-09-13        NaN        NaN   \n",
       "136236  2020-09-16  2020-10-29  2020-09-16   4.622794 -74.090960   \n",
       "137025  2020-08-29  9999-12-31  2020-08-29  12.585979 -81.714549   \n",
       "167143  2020-08-08  9999-12-31  2020-08-08  10.829302 -75.160260   \n",
       "\n",
       "                                             l2           l3  \\\n",
       "5902                               Cundinamarca         Sopó   \n",
       "49196                                   Bolívar    Cartagena   \n",
       "56159                              Cundinamarca   Bogotá D.C   \n",
       "56522                              Cundinamarca   Bogotá D.C   \n",
       "116979                                Santander  Bucaramanga   \n",
       "136236                             Cundinamarca   Bogotá D.C   \n",
       "137025  San Andrés Providencia y Santa Catalina          NaN   \n",
       "167143                                Atlántico          NaN   \n",
       "\n",
       "                        l4             l5   l6  ...  bedrooms  bathrooms  \\\n",
       "5902                   NaN            NaN  NaN  ...       3.0        NaN   \n",
       "49196                  NaN            NaN  NaN  ...       5.0        NaN   \n",
       "56159   Zona Noroccidental            NaN  NaN  ...       5.0        NaN   \n",
       "56522           Zona Norte        Usaquén  NaN  ...       4.0        NaN   \n",
       "116979                 NaN            NaN  NaN  ...       NaN        NaN   \n",
       "136236         Zona Centro  Puente Aranda  NaN  ...       3.0        2.0   \n",
       "137025                 NaN            NaN  NaN  ...       0.0        NaN   \n",
       "167143                 NaN            NaN  NaN  ...       NaN        NaN   \n",
       "\n",
       "        surface_total  surface_covered  currency  \\\n",
       "5902              NaN              NaN       USD   \n",
       "49196             NaN              NaN       USD   \n",
       "56159             NaN              NaN       USD   \n",
       "56522             NaN              NaN       USD   \n",
       "116979            NaN              NaN       USD   \n",
       "136236            NaN              NaN       USD   \n",
       "137025            NaN              NaN       USD   \n",
       "167143            NaN              NaN       USD   \n",
       "\n",
       "                                                    title  \\\n",
       "5902       Vendo espectacular casa entre Bogota y Briceño   \n",
       "49196   Exclusive beach house for sale - Manzanillo de...   \n",
       "56159       Casa en Venta Costa del Este RAH PA: 20-11172   \n",
       "56522   Apartamento en Venta Santa Maria RAH PA: 20-10683   \n",
       "116979                                Villa for sale Bali   \n",
       "136236                               Venta Casa Excelente   \n",
       "137025           HOTEL EN VENTA EN LA ISLA DE SAN ANDRÉS    \n",
       "167143           Lote en venta Vía Barranquilla Cartagena   \n",
       "\n",
       "                                              description property_type  \\\n",
       "5902    Espectacular casa entre Bogota- Briceño km 12 ...          Casa   \n",
       "49196   ¡EXCLUSIVE BEACH HOUSE FOR SALE - MANZANILLO D...          Casa   \n",
       "56159   Viva en una casa espaciosa con terrazas y pati...          Casa   \n",
       "56522   Majestuoso apartamento a estrenar con la mejor...   Apartamento   \n",
       "116979  Villa for sale Bali<br />\\n<br />\\nLocation: J...         Finca   \n",
       "136236  <br />\\n - Calefacción\\n- Parrilla\\n <br />\\n ...          Casa   \n",
       "137025  \\nUn Hotel Boutique TOTALMENTE frente al mar.\\...          Otro   \n",
       "167143  OPORTUNIDAD DE INVERSIÒN EN EL CARIBE COLOMBIA...          Lote   \n",
       "\n",
       "                                    geometry target  \n",
       "5902           POINT (-73.9931885 4.9143096)      0  \n",
       "49196   POINT (-75.4986852407 10.5138313669)      0  \n",
       "56159           POINT (-74.098302 4.7390028)      0  \n",
       "56522          POINT (-74.0438943 4.6957568)      0  \n",
       "116979                           POINT EMPTY      0  \n",
       "136236          POINT (-74.0909602 4.622794)      0  \n",
       "137025  POINT (-81.7145490646 12.5859785199)      0  \n",
       "167143  POINT (-75.1602602005 10.8293016581)      0  \n",
       "\n",
       "[8 rows x 21 columns]"
      ]
     },
     "execution_count": 58,
     "metadata": {},
     "output_type": "execute_result"
    }
   ],
   "source": [
    "df_train.loc[df_train.currency=='USD']"
   ]
  },
  {
   "cell_type": "code",
   "execution_count": 71,
   "metadata": {},
   "outputs": [
    {
     "data": {
      "text/plain": [
       "False    111313\n",
       "True      82082\n",
       "Name: description, dtype: int64"
      ]
     },
     "execution_count": 71,
     "metadata": {},
     "output_type": "execute_result"
    }
   ],
   "source": [
    "df_train.description.duplicated().value_counts()\n"
   ]
  },
  {
   "cell_type": "code",
   "execution_count": 60,
   "metadata": {},
   "outputs": [
    {
     "data": {
      "text/plain": [
       "Index(['start_date', 'end_date', 'created_on', 'lat', 'lon', 'l2', 'l3', 'l4',\n",
       "       'l5', 'l6', 'rooms', 'bedrooms', 'bathrooms', 'surface_total',\n",
       "       'surface_covered', 'currency', 'title', 'description', 'property_type',\n",
       "       'geometry', 'target'],\n",
       "      dtype='object')"
      ]
     },
     "execution_count": 60,
     "metadata": {},
     "output_type": "execute_result"
    }
   ],
   "source": [
    "df_train.columns"
   ]
  },
  {
   "cell_type": "code",
   "execution_count": 72,
   "metadata": {},
   "outputs": [
    {
     "data": {
      "text/plain": [
       "False    120377\n",
       "True      73018\n",
       "dtype: int64"
      ]
     },
     "execution_count": 72,
     "metadata": {},
     "output_type": "execute_result"
    }
   ],
   "source": [
    "df_train_nd = df_train[['lat', 'lon', 'l2', 'l3', 'l4',\n",
    "       'l5', 'l6', 'rooms', 'bedrooms', 'bathrooms', 'surface_total',\n",
    "       'surface_covered', 'currency', 'title', 'description', 'property_type',\n",
    "       'geometry', 'target']].copy()\n",
    "df_train_nd.duplicated().value_counts()"
   ]
  },
  {
   "cell_type": "code",
   "execution_count": 73,
   "metadata": {},
   "outputs": [
    {
     "data": {
      "text/plain": [
       "False    111313\n",
       "True      82082\n",
       "Name: description, dtype: int64"
      ]
     },
     "execution_count": 73,
     "metadata": {},
     "output_type": "execute_result"
    }
   ],
   "source": [
    "df_train_nd.description.duplicated().value_counts()"
   ]
  },
  {
   "cell_type": "code",
   "execution_count": 74,
   "metadata": {},
   "outputs": [
    {
     "data": {
      "text/plain": [
       "False    111313\n",
       "True       9064\n",
       "Name: description, dtype: int64"
      ]
     },
     "execution_count": 74,
     "metadata": {},
     "output_type": "execute_result"
    }
   ],
   "source": [
    "df_train_nd.drop_duplicates(inplace=True)\n",
    "df_train_nd.description.duplicated().value_counts()"
   ]
  },
  {
   "cell_type": "code",
   "execution_count": 70,
   "metadata": {},
   "outputs": [
    {
     "name": "stdout",
     "output_type": "stream",
     "text": [
      "<class 'pandas.core.frame.DataFrame'>\n",
      "Int64Index: 120377 entries, 0 to 197545\n",
      "Data columns (total 18 columns):\n",
      " #   Column           Non-Null Count   Dtype  \n",
      "---  ------           --------------   -----  \n",
      " 0   lat              105851 non-null  float64\n",
      " 1   lon              105851 non-null  float64\n",
      " 2   l2               120377 non-null  object \n",
      " 3   l3               110748 non-null  object \n",
      " 4   l4               34480 non-null   object \n",
      " 5   l5               20377 non-null   object \n",
      " 6   l6               5910 non-null    object \n",
      " 7   rooms            26914 non-null   float64\n",
      " 8   bedrooms         39718 non-null   float64\n",
      " 9   bathrooms        87712 non-null   float64\n",
      " 10  surface_total    6922 non-null    float64\n",
      " 11  surface_covered  9723 non-null    float64\n",
      " 12  currency         120373 non-null  object \n",
      " 13  title            120376 non-null  object \n",
      " 14  description      120257 non-null  object \n",
      " 15  property_type    120377 non-null  object \n",
      " 16  geometry         120377 non-null  object \n",
      " 17  target           120377 non-null  int32  \n",
      "dtypes: float64(7), int32(1), object(10)\n",
      "memory usage: 17.0+ MB\n"
     ]
    }
   ],
   "source": [
    "df_train_nd.info()"
   ]
  },
  {
   "cell_type": "code",
   "execution_count": 75,
   "metadata": {},
   "outputs": [
    {
     "data": {
      "text/plain": [
       "(193395, 21)"
      ]
     },
     "execution_count": 75,
     "metadata": {},
     "output_type": "execute_result"
    }
   ],
   "source": [
    "dft = df_train.copy()\n",
    "dft.shape"
   ]
  },
  {
   "cell_type": "code",
   "execution_count": 76,
   "metadata": {},
   "outputs": [
    {
     "data": {
      "text/plain": [
       "False    120377\n",
       "True      73018\n",
       "dtype: int64"
      ]
     },
     "execution_count": 76,
     "metadata": {},
     "output_type": "execute_result"
    }
   ],
   "source": [
    "dft[['lat', 'lon', 'l2', 'l3', 'l4',\n",
    "       'l5', 'l6', 'rooms', 'bedrooms', 'bathrooms', 'surface_total',\n",
    "       'surface_covered', 'currency', 'title', 'description', 'property_type',\n",
    "       'geometry', 'target']].duplicated().value_counts()"
   ]
  },
  {
   "cell_type": "code",
   "execution_count": 78,
   "metadata": {},
   "outputs": [
    {
     "data": {
      "text/plain": [
       "(120377, 21)"
      ]
     },
     "execution_count": 78,
     "metadata": {},
     "output_type": "execute_result"
    }
   ],
   "source": [
    "dft.drop_duplicates(subset=['lat', 'lon', 'l2', 'l3', 'l4',\n",
    "       'l5', 'l6', 'rooms', 'bedrooms', 'bathrooms', 'surface_total',\n",
    "       'surface_covered', 'currency', 'title', 'description', 'property_type',\n",
    "       'geometry', 'target'], inplace=True)\n",
    "dft.shape"
   ]
  },
  {
   "cell_type": "code",
   "execution_count": 79,
   "metadata": {},
   "outputs": [
    {
     "data": {
      "text/plain": [
       "Index(['start_date', 'end_date', 'created_on', 'lat', 'lon', 'l2', 'l3', 'l4',\n",
       "       'l5', 'l6', 'rooms', 'bedrooms', 'bathrooms', 'surface_total',\n",
       "       'surface_covered', 'currency', 'title', 'description', 'property_type',\n",
       "       'geometry', 'target'],\n",
       "      dtype='object')"
      ]
     },
     "execution_count": 79,
     "metadata": {},
     "output_type": "execute_result"
    }
   ],
   "source": [
    "dft.columns"
   ]
  },
  {
   "cell_type": "code",
   "execution_count": 80,
   "metadata": {},
   "outputs": [
    {
     "data": {
      "text/plain": [
       "False    120377\n",
       "dtype: int64"
      ]
     },
     "execution_count": 80,
     "metadata": {},
     "output_type": "execute_result"
    }
   ],
   "source": [
    "dft.duplicated().value_counts()"
   ]
  },
  {
   "cell_type": "code",
   "execution_count": 201,
   "metadata": {},
   "outputs": [],
   "source": [
    "#dft.surface_total.isnull().value_counts()\n",
    "#dft.info()"
   ]
  },
  {
   "cell_type": "markdown",
   "metadata": {},
   "source": [
    "## -------------- D A T A --- P R E P R O C E S S I N G --- 2 --------------"
   ]
  },
  {
   "cell_type": "markdown",
   "metadata": {},
   "source": [
    "### ------------------------------------ CREATING THE PIPELINE ------------------------------------"
   ]
  },
  {
   "cell_type": "markdown",
   "metadata": {},
   "source": [
    "We will design a pipeline the recieves a dataset with the same features as the one we just explored ('df_train') as it was at the beginning of the previous section (minus the target column). This pipeline will perform the necessary changes to the dataset, feed it to a model of our selection, perform a cross validation and give us the results.\n",
    "\n",
    "As we concluded on the previous section, we will select a few features that will be considered relevant to continue with the data preprocessing and model training: l2, l3, lat, lon, bathrooms and property_type."
   ]
  },
  {
   "cell_type": "markdown",
   "metadata": {},
   "source": [
    "l2--- categorical (needs encoding). MissVal (0, ok!)\n",
    "\n",
    "l3--- categorical (needs encoding). MissVal (needs imputation using 'capitals')\n",
    "\n",
    "lat--- numerical (ok). MissVal (needs imputation using 'dep_ciud_lat_lon') -standard scaler\n",
    "\n",
    "lon--- numerical (ok). MissVal (needs imputation using 'dep_ciud_lat_lon')\n",
    "\n",
    "bathrooms-- numerical (ok). MissVal (needs imputation using mean 2). Replace values greater than 5 (and with property type 'casa' or 'apartamento) with 2 by 2\n",
    "\n",
    "property_type--- categorical (needs encoding). MissVal (0, ok!)"
   ]
  },
  {
   "cell_type": "code",
   "execution_count": 404,
   "metadata": {},
   "outputs": [],
   "source": [
    "from sklearn.preprocessing import StandardScaler, MinMaxScaler, FunctionTransformer, OneHotEncoder\n",
    "from sklearn.neighbors import KNeighborsClassifier\n",
    "from sklearn.tree import DecisionTreeClassifier\n",
    "from sklearn.decomposition import PCA\n",
    "from sklearn.pipeline import Pipeline\n",
    "from sklearn.metrics import confusion_matrix, accuracy_score, recall_score\n",
    "from sklearn.model_selection import train_test_split"
   ]
  },
  {
   "cell_type": "code",
   "execution_count": 255,
   "metadata": {},
   "outputs": [],
   "source": [
    "X1 = dft.drop('target',axis=1)\n",
    "y1 = dft.target"
   ]
  },
  {
   "cell_type": "markdown",
   "metadata": {},
   "source": [
    "#### Here we define some helper functions that will be used to fill missing values during the preprocessing"
   ]
  },
  {
   "cell_type": "code",
   "execution_count": 257,
   "metadata": {},
   "outputs": [],
   "source": [
    "def fill_l3(df):\n",
    "    l3_ok = []\n",
    "    for x in range(len(df)):\n",
    "        if type(df.loc[x,'l3']) == float:\n",
    "            dep = df.loc[x,'l2']\n",
    "            l3_ok.append(str(capitals[dep]))\n",
    "        else:\n",
    "            l3_ok.append(str(df.loc[x,'l3']))\n",
    "    return pd.Series(l3_ok)\n",
    "        "
   ]
  },
  {
   "cell_type": "code",
   "execution_count": 258,
   "metadata": {},
   "outputs": [],
   "source": [
    "def fill_coor(df):\n",
    "    lat_ok = []\n",
    "    lon_ok = []\n",
    "    for x in range(len(df)):\n",
    "        if str(df.loc[x,'lat']) == 'nan':\n",
    "            dep, city = df.loc[x,'l2':'l3']\n",
    "            #print('NAN FOUND: ',dep, city, df.loc[x,'lat'], df.loc[x,'lon'])\n",
    "            lat_ok.append(float(dep_ciud_lat_lon[dep][city]['lat']))\n",
    "            lon_ok.append(float(dep_ciud_lat_lon[dep][city]['lon']))\n",
    "        else:\n",
    "            lat_ok.append(df.loc[x,'lat'])\n",
    "            lon_ok.append(df.loc[x,'lon'])\n",
    "    return pd.Series(lat_ok), pd.Series(lon_ok)"
   ]
  },
  {
   "cell_type": "code",
   "execution_count": 259,
   "metadata": {},
   "outputs": [],
   "source": [
    "prtypes = ['Casa', 'Apartamento', 'Otro', 'Oficina', 'Finca', 'Lote', 'Local comercial', 'Parqueadero']\n",
    "prtypes_avgbtrms = {}\n",
    "\n",
    "for x in prtypes:\n",
    "    prtypes_avgbtrms[x] = X1.loc[X1.property_type==x].bathrooms.mean()\n",
    "    if str(prtypes_avgbtrms[x]) == 'nan':\n",
    "        prtypes_avgbtrms[x] = 1\n",
    "for x in prtypes_avgbtrms:\n",
    "    prtypes_avgbtrms[x] = round(prtypes_avgbtrms[x])\n",
    "\n",
    "def fill_bathrooms(df):  #hehe\n",
    "    btrms_ok = []\n",
    "    for x in range(len(df)):\n",
    "        btrms = df.loc[x,'bathrooms'] \n",
    "        prtype = df.loc[x,'property_type']\n",
    "\n",
    "        if str(btrms) == 'nan':\n",
    "            btrms_ok.append(prtypes_avgbtrms[prtype])\n",
    "        elif btrms >= 6:\n",
    "            if prtype in ['Casa', 'Apartamento']:\n",
    "                btrms_ok.append(float(2))\n",
    "            else:\n",
    "                btrms_ok.append(btrms)\n",
    "        else:\n",
    "            btrms_ok.append(btrms)\n",
    "    return pd.Series(btrms_ok)"
   ]
  },
  {
   "cell_type": "code",
   "execution_count": 261,
   "metadata": {},
   "outputs": [
    {
     "name": "stdout",
     "output_type": "stream",
     "text": [
      "(120377, 20)\n"
     ]
    }
   ],
   "source": [
    "#std_scaler = StandardScaler().fit(X1[['lat','lon']].to_numpy()[:,:])\n",
    "#min_max_scaler = MinMaxScaler().fit(X1[['bathrooms']].to_numpy()[:,:])\n",
    "print(X1.to_numpy().shape)"
   ]
  },
  {
   "cell_type": "code",
   "execution_count": 375,
   "metadata": {},
   "outputs": [],
   "source": [
    "def fill_nan(dataset):\n",
    "    X = dataset[['bathrooms', 'lat', 'lon', 'l2', 'l3', 'property_type']].copy()\n",
    "    X.reset_index(inplace=True, drop=True)\n",
    "    # Fill missing values\n",
    "    X['l3'] = fill_l3(X)\n",
    "    X['lat'], X['lon'] = fill_coor(X)\n",
    "    X['bathrooms'] = fill_bathrooms(X)\n",
    "    # Prepare to transform to numerical\n",
    "    X['l2'] = X['l2'].astype('category')\n",
    "    X['l3'] = X['l3'].astype('category')\n",
    "    X['property_type'] = X['property_type'].astype('category')\n",
    "    return X"
   ]
  },
  {
   "cell_type": "code",
   "execution_count": 376,
   "metadata": {},
   "outputs": [
    {
     "data": {
      "text/plain": [
       "bathrooms        0\n",
       "lat              0\n",
       "lon              0\n",
       "l2               0\n",
       "l3               0\n",
       "property_type    0\n",
       "dtype: int64"
      ]
     },
     "execution_count": 376,
     "metadata": {},
     "output_type": "execute_result"
    }
   ],
   "source": [
    "X2 = fill_nan(X1)\n",
    "X2.isnull().sum()"
   ]
  },
  {
   "cell_type": "code",
   "execution_count": 393,
   "metadata": {},
   "outputs": [],
   "source": [
    "l2_coder = OneHotEncoder()\n",
    "l3_coder = OneHotEncoder()\n",
    "pt_coder = OneHotEncoder()\n",
    "l2_cod = l2_coder.fit(X2[['l2']])\n",
    "l3_cod = l3_coder.fit(X2[['l3']])\n",
    "pt_cod = pt_coder.fit(X2[['property_type']])\n",
    "\n",
    "\n",
    "def preprocess_to_num(dataset):\n",
    "    #print(f'INITIAL TO_NUM SHAPE: {dataset.shape}')\n",
    "    \n",
    "    X = dataset.copy()\n",
    "    \n",
    "    #print(f'TO_NUM SHAPE BEFORE ONEHOT: {X.shape}')\n",
    "\n",
    "    #l2_coder = OneHotEncoder()\n",
    "    #l2_cod = l2_coder.fit_transform(X[['l2']])\n",
    "    l2_cod = l2_coder.transform(X[['l2']])\n",
    "    new_l2 = pd.DataFrame(l2_cod.toarray(), columns=l2_coder.categories_)\n",
    "    #print(f'+{new_l2.shape} (l2)')\n",
    "\n",
    "    #l3_coder = OneHotEncoder()\n",
    "    #l3_cod = l3_coder.fit_transform(X[['l3']])\n",
    "    l3_cod = l3_coder.transform(X[['l3']])\n",
    "    new_l3 = pd.DataFrame(l3_cod.toarray(), columns=l3_coder.categories_)\n",
    "    #print(f'+{new_l3.shape} (l3)')\n",
    "\n",
    "    #pt_coder = OneHotEncoder()\n",
    "    #pt_cod = pt_coder.fit_transform(X[['property_type']])\n",
    "    pt_cod = pt_coder.transform(X[['property_type']])\n",
    "    new_pt = pd.DataFrame(pt_cod.toarray(), columns=pt_coder.categories_)\n",
    "    #print(f'+{new_pt.shape} (pt)')\n",
    "\n",
    "    #print(f'TO_NUM SHAPE AFTER ONEHOT: {X.shape}')\n",
    "\n",
    "    X_ok = pd.concat([X, new_l2, new_l3, new_pt], axis=1)\n",
    "    X_ok.drop(['l2','l3','property_type'], axis=1, inplace=True)\n",
    "\n",
    "    X_num = X_ok.to_numpy()\n",
    "    #print(f'FINAL TO_NUM SHAPE: {X_num.shape}')\n",
    "\n",
    "    return X_num\n",
    "    \n",
    "\n",
    "X_num = preprocess_to_num(X2)"
   ]
  },
  {
   "cell_type": "code",
   "execution_count": 379,
   "metadata": {},
   "outputs": [
    {
     "name": "stdout",
     "output_type": "stream",
     "text": [
      "(120377, 339)\n"
     ]
    },
    {
     "data": {
      "text/plain": [
       "array([[  4.       ,   6.203    , -75.572    , ...,   0.       ,\n",
       "          0.       ,   0.       ],\n",
       "       [  2.       ,   4.7227485, -74.0731146, ...,   0.       ,\n",
       "          0.       ,   0.       ],\n",
       "       [  2.       ,   4.709    , -74.03     , ...,   0.       ,\n",
       "          0.       ,   0.       ],\n",
       "       ...,\n",
       "       [  2.       ,   7.064    , -73.106    , ...,   0.       ,\n",
       "          0.       ,   0.       ],\n",
       "       [  2.       ,   4.649682 , -74.1619504, ...,   0.       ,\n",
       "          0.       ,   0.       ],\n",
       "       [  1.       ,   4.668    , -74.055    , ...,   1.       ,\n",
       "          0.       ,   0.       ]])"
      ]
     },
     "execution_count": 379,
     "metadata": {},
     "output_type": "execute_result"
    }
   ],
   "source": [
    "print(X_num.shape)\n",
    "X_num"
   ]
  },
  {
   "cell_type": "code",
   "execution_count": 394,
   "metadata": {},
   "outputs": [],
   "source": [
    "min_max_scaler = MinMaxScaler().fit(X_num[:,:1])\n",
    "std_scaler = StandardScaler().fit(X_num[:,1:])\n",
    "pca = PCA(n_components=30, whiten=False).fit(X_num)\n",
    "\n",
    "def preprocess_std_dimred(matrix):\n",
    "    #print(f' STANDARDIZATION INITIAL SHAPE: {matrix.shape}')\n",
    "    X =  np.copy(matrix)\n",
    "    X[:,:1] = min_max_scaler.transform(matrix[:,:1])\n",
    "    X[:,1:] = std_scaler.transform(matrix[:,1:])\n",
    "    #print(f' STANDARDIZATION INTERMEDIATE SHAPE: {X.shape}')\n",
    "    X = pca.transform(X)\n",
    "    #print(f' STANDARDIZATION FINAL SHAPE: {X.shape}')\n",
    "    return X\n",
    "    "
   ]
  },
  {
   "cell_type": "code",
   "execution_count": 395,
   "metadata": {},
   "outputs": [
    {
     "data": {
      "text/plain": [
       "(120377, 30)"
      ]
     },
     "execution_count": 395,
     "metadata": {},
     "output_type": "execute_result"
    }
   ],
   "source": [
    "X_ready = preprocess_std_dimred(X_num)\n",
    "X_ready.shape"
   ]
  },
  {
   "cell_type": "code",
   "execution_count": 396,
   "metadata": {},
   "outputs": [],
   "source": [
    "fill_df = FunctionTransformer(fill_nan)\n",
    "df_to_num = FunctionTransformer(preprocess_to_num)\n",
    "mat_to_X = FunctionTransformer(preprocess_std_dimred)"
   ]
  },
  {
   "cell_type": "code",
   "execution_count": 409,
   "metadata": {},
   "outputs": [],
   "source": [
    "clf_kn = KNeighborsClassifier(n_neighbors=10)"
   ]
  },
  {
   "cell_type": "code",
   "execution_count": 414,
   "metadata": {},
   "outputs": [],
   "source": [
    "clf_dt = DecisionTreeClassifier(max_depth=8)"
   ]
  },
  {
   "cell_type": "code",
   "execution_count": 410,
   "metadata": {},
   "outputs": [
    {
     "data": {
      "text/html": [
       "<style>#sk-container-id-14 {color: black;background-color: white;}#sk-container-id-14 pre{padding: 0;}#sk-container-id-14 div.sk-toggleable {background-color: white;}#sk-container-id-14 label.sk-toggleable__label {cursor: pointer;display: block;width: 100%;margin-bottom: 0;padding: 0.3em;box-sizing: border-box;text-align: center;}#sk-container-id-14 label.sk-toggleable__label-arrow:before {content: \"▸\";float: left;margin-right: 0.25em;color: #696969;}#sk-container-id-14 label.sk-toggleable__label-arrow:hover:before {color: black;}#sk-container-id-14 div.sk-estimator:hover label.sk-toggleable__label-arrow:before {color: black;}#sk-container-id-14 div.sk-toggleable__content {max-height: 0;max-width: 0;overflow: hidden;text-align: left;background-color: #f0f8ff;}#sk-container-id-14 div.sk-toggleable__content pre {margin: 0.2em;color: black;border-radius: 0.25em;background-color: #f0f8ff;}#sk-container-id-14 input.sk-toggleable__control:checked~div.sk-toggleable__content {max-height: 200px;max-width: 100%;overflow: auto;}#sk-container-id-14 input.sk-toggleable__control:checked~label.sk-toggleable__label-arrow:before {content: \"▾\";}#sk-container-id-14 div.sk-estimator input.sk-toggleable__control:checked~label.sk-toggleable__label {background-color: #d4ebff;}#sk-container-id-14 div.sk-label input.sk-toggleable__control:checked~label.sk-toggleable__label {background-color: #d4ebff;}#sk-container-id-14 input.sk-hidden--visually {border: 0;clip: rect(1px 1px 1px 1px);clip: rect(1px, 1px, 1px, 1px);height: 1px;margin: -1px;overflow: hidden;padding: 0;position: absolute;width: 1px;}#sk-container-id-14 div.sk-estimator {font-family: monospace;background-color: #f0f8ff;border: 1px dotted black;border-radius: 0.25em;box-sizing: border-box;margin-bottom: 0.5em;}#sk-container-id-14 div.sk-estimator:hover {background-color: #d4ebff;}#sk-container-id-14 div.sk-parallel-item::after {content: \"\";width: 100%;border-bottom: 1px solid gray;flex-grow: 1;}#sk-container-id-14 div.sk-label:hover label.sk-toggleable__label {background-color: #d4ebff;}#sk-container-id-14 div.sk-serial::before {content: \"\";position: absolute;border-left: 1px solid gray;box-sizing: border-box;top: 0;bottom: 0;left: 50%;z-index: 0;}#sk-container-id-14 div.sk-serial {display: flex;flex-direction: column;align-items: center;background-color: white;padding-right: 0.2em;padding-left: 0.2em;position: relative;}#sk-container-id-14 div.sk-item {position: relative;z-index: 1;}#sk-container-id-14 div.sk-parallel {display: flex;align-items: stretch;justify-content: center;background-color: white;position: relative;}#sk-container-id-14 div.sk-item::before, #sk-container-id-14 div.sk-parallel-item::before {content: \"\";position: absolute;border-left: 1px solid gray;box-sizing: border-box;top: 0;bottom: 0;left: 50%;z-index: -1;}#sk-container-id-14 div.sk-parallel-item {display: flex;flex-direction: column;z-index: 1;position: relative;background-color: white;}#sk-container-id-14 div.sk-parallel-item:first-child::after {align-self: flex-end;width: 50%;}#sk-container-id-14 div.sk-parallel-item:last-child::after {align-self: flex-start;width: 50%;}#sk-container-id-14 div.sk-parallel-item:only-child::after {width: 0;}#sk-container-id-14 div.sk-dashed-wrapped {border: 1px dashed gray;margin: 0 0.4em 0.5em 0.4em;box-sizing: border-box;padding-bottom: 0.4em;background-color: white;}#sk-container-id-14 div.sk-label label {font-family: monospace;font-weight: bold;display: inline-block;line-height: 1.2em;}#sk-container-id-14 div.sk-label-container {text-align: center;}#sk-container-id-14 div.sk-container {/* jupyter's `normalize.less` sets `[hidden] { display: none; }` but bootstrap.min.css set `[hidden] { display: none !important; }` so we also need the `!important` here to be able to override the default hidden behavior on the sphinx rendered scikit-learn.org. See: https://github.com/scikit-learn/scikit-learn/issues/21755 */display: inline-block !important;position: relative;}#sk-container-id-14 div.sk-text-repr-fallback {display: none;}</style><div id=\"sk-container-id-14\" class=\"sk-top-container\"><div class=\"sk-text-repr-fallback\"><pre>Pipeline(steps=[(&#x27;Fill_DF&#x27;,\n",
       "                 FunctionTransformer(func=&lt;function fill_nan at 0x0000020BC11ACAF0&gt;)),\n",
       "                (&#x27;To_Num&#x27;,\n",
       "                 FunctionTransformer(func=&lt;function preprocess_to_num at 0x0000020C1A6B0AF0&gt;)),\n",
       "                (&#x27;Standardize_&amp;_DimRed&#x27;,\n",
       "                 FunctionTransformer(func=&lt;function preprocess_std_dimred at 0x0000020C1A6B0670&gt;)),\n",
       "                (&#x27;KNClassifier&#x27;, KNeighborsClassifier(n_neighbors=10))])</pre><b>In a Jupyter environment, please rerun this cell to show the HTML representation or trust the notebook. <br />On GitHub, the HTML representation is unable to render, please try loading this page with nbviewer.org.</b></div><div class=\"sk-container\" hidden><div class=\"sk-item sk-dashed-wrapped\"><div class=\"sk-label-container\"><div class=\"sk-label sk-toggleable\"><input class=\"sk-toggleable__control sk-hidden--visually\" id=\"sk-estimator-id-52\" type=\"checkbox\" ><label for=\"sk-estimator-id-52\" class=\"sk-toggleable__label sk-toggleable__label-arrow\">Pipeline</label><div class=\"sk-toggleable__content\"><pre>Pipeline(steps=[(&#x27;Fill_DF&#x27;,\n",
       "                 FunctionTransformer(func=&lt;function fill_nan at 0x0000020BC11ACAF0&gt;)),\n",
       "                (&#x27;To_Num&#x27;,\n",
       "                 FunctionTransformer(func=&lt;function preprocess_to_num at 0x0000020C1A6B0AF0&gt;)),\n",
       "                (&#x27;Standardize_&amp;_DimRed&#x27;,\n",
       "                 FunctionTransformer(func=&lt;function preprocess_std_dimred at 0x0000020C1A6B0670&gt;)),\n",
       "                (&#x27;KNClassifier&#x27;, KNeighborsClassifier(n_neighbors=10))])</pre></div></div></div><div class=\"sk-serial\"><div class=\"sk-item\"><div class=\"sk-estimator sk-toggleable\"><input class=\"sk-toggleable__control sk-hidden--visually\" id=\"sk-estimator-id-53\" type=\"checkbox\" ><label for=\"sk-estimator-id-53\" class=\"sk-toggleable__label sk-toggleable__label-arrow\">FunctionTransformer</label><div class=\"sk-toggleable__content\"><pre>FunctionTransformer(func=&lt;function fill_nan at 0x0000020BC11ACAF0&gt;)</pre></div></div></div><div class=\"sk-item\"><div class=\"sk-estimator sk-toggleable\"><input class=\"sk-toggleable__control sk-hidden--visually\" id=\"sk-estimator-id-54\" type=\"checkbox\" ><label for=\"sk-estimator-id-54\" class=\"sk-toggleable__label sk-toggleable__label-arrow\">FunctionTransformer</label><div class=\"sk-toggleable__content\"><pre>FunctionTransformer(func=&lt;function preprocess_to_num at 0x0000020C1A6B0AF0&gt;)</pre></div></div></div><div class=\"sk-item\"><div class=\"sk-estimator sk-toggleable\"><input class=\"sk-toggleable__control sk-hidden--visually\" id=\"sk-estimator-id-55\" type=\"checkbox\" ><label for=\"sk-estimator-id-55\" class=\"sk-toggleable__label sk-toggleable__label-arrow\">FunctionTransformer</label><div class=\"sk-toggleable__content\"><pre>FunctionTransformer(func=&lt;function preprocess_std_dimred at 0x0000020C1A6B0670&gt;)</pre></div></div></div><div class=\"sk-item\"><div class=\"sk-estimator sk-toggleable\"><input class=\"sk-toggleable__control sk-hidden--visually\" id=\"sk-estimator-id-56\" type=\"checkbox\" ><label for=\"sk-estimator-id-56\" class=\"sk-toggleable__label sk-toggleable__label-arrow\">KNeighborsClassifier</label><div class=\"sk-toggleable__content\"><pre>KNeighborsClassifier(n_neighbors=10)</pre></div></div></div></div></div></div></div>"
      ],
      "text/plain": [
       "Pipeline(steps=[('Fill_DF',\n",
       "                 FunctionTransformer(func=<function fill_nan at 0x0000020BC11ACAF0>)),\n",
       "                ('To_Num',\n",
       "                 FunctionTransformer(func=<function preprocess_to_num at 0x0000020C1A6B0AF0>)),\n",
       "                ('Standardize_&_DimRed',\n",
       "                 FunctionTransformer(func=<function preprocess_std_dimred at 0x0000020C1A6B0670>)),\n",
       "                ('KNClassifier', KNeighborsClassifier(n_neighbors=10))])"
      ]
     },
     "execution_count": 410,
     "metadata": {},
     "output_type": "execute_result"
    }
   ],
   "source": [
    "pipeline_1 = Pipeline([('Fill_DF', fill_df),('To_Num', df_to_num),('Standardize_&_DimRed', mat_to_X), ('KNClassifier', clf_kn)])\n",
    "pipeline_1"
   ]
  },
  {
   "cell_type": "code",
   "execution_count": 415,
   "metadata": {},
   "outputs": [],
   "source": [
    "pipeline_2 = Pipeline([('Fill_DF', fill_df),('To_Num', df_to_num),('Standardize_&_DimRed', mat_to_X), ('DTClassifier', clf_dt)])"
   ]
  },
  {
   "cell_type": "code",
   "execution_count": 411,
   "metadata": {},
   "outputs": [],
   "source": [
    "def fit_and_print(pipeline, X_train, y_train, X_test, y_test):\n",
    "    #print(f'SHAPE TO FIT: {X_train.shape}')\n",
    "    pipeline.fit(X_train, y_train)\n",
    "    train_preds = pipeline.predict(X_train)\n",
    "    test_preds = pipeline.predict(X_test)\n",
    "    print('• TRAIN DATA:')\n",
    "    print(f'Train confusion matrix: \\n{confusion_matrix(y_train, train_preds)}')\n",
    "    print(f'Train accuracy: {accuracy_score(y_train, train_preds)}')\n",
    "    print(f'Train recall: {recall_score(y_train, train_preds)}\\n\\n')\n",
    "\n",
    "    print('• TEST DATA:')\n",
    "    print(f'Test confusion matrix: \\n{confusion_matrix(y_test, test_preds)}')\n",
    "    print(f'Test accuracy: {accuracy_score(y_test, test_preds)}')\n",
    "    print(f'Test recall: {recall_score(y_test, test_preds)}')"
   ]
  },
  {
   "cell_type": "code",
   "execution_count": 412,
   "metadata": {},
   "outputs": [
    {
     "data": {
      "text/plain": [
       "((96301, 6), (96301,), (24076, 6), (24076,))"
      ]
     },
     "execution_count": 412,
     "metadata": {},
     "output_type": "execute_result"
    }
   ],
   "source": [
    "X_train, X_test, y_train, y_test = train_test_split(X2, y1, test_size=0.2, random_state=42)\n",
    "X_train.shape, y_train.shape, X_test.shape, y_test.shape"
   ]
  },
  {
   "cell_type": "code",
   "execution_count": 413,
   "metadata": {},
   "outputs": [
    {
     "name": "stdout",
     "output_type": "stream",
     "text": [
      "• TRAIN DATA:\n",
      "Train confusion matrix: \n",
      "[[68396  3762]\n",
      " [ 8977 15166]]\n",
      "Train accuracy: 0.8677168461386694\n",
      "Train recall: 0.6281737977881787\n",
      "\n",
      "\n",
      "• TEST DATA:\n",
      "Test confusion matrix: \n",
      "[[16839  1204]\n",
      " [ 2503  3530]]\n",
      "Test accuracy: 0.8460292407376641\n",
      "Test recall: 0.585115199734792\n"
     ]
    }
   ],
   "source": [
    "# Kneighbors classifier n_neighbors=10\n",
    "fit_and_print(pipeline_1, X_train, y_train, X_test, y_test)"
   ]
  },
  {
   "cell_type": "code",
   "execution_count": 416,
   "metadata": {},
   "outputs": [
    {
     "name": "stdout",
     "output_type": "stream",
     "text": [
      "• TRAIN DATA:\n",
      "Train confusion matrix: \n",
      "[[67744  4414]\n",
      " [12046 12097]]\n",
      "Train accuracy: 0.8290775796720699\n",
      "Train recall: 0.5010562067680073\n",
      "\n",
      "\n",
      "• TEST DATA:\n",
      "Test confusion matrix: \n",
      "[[16807  1236]\n",
      " [ 3001  3032]]\n",
      "Test accuracy: 0.8240156172121615\n",
      "Test recall: 0.5025692027183822\n"
     ]
    }
   ],
   "source": [
    "# Decision tree classifier max_depth=8\n",
    "fit_and_print(pipeline_2, X_train, y_train, X_test, y_test)"
   ]
  }
 ],
 "metadata": {
  "kernelspec": {
   "display_name": "Python 3",
   "language": "python",
   "name": "python3"
  },
  "language_info": {
   "codemirror_mode": {
    "name": "ipython",
    "version": 3
   },
   "file_extension": ".py",
   "mimetype": "text/x-python",
   "name": "python",
   "nbconvert_exporter": "python",
   "pygments_lexer": "ipython3",
   "version": "3.10.4"
  },
  "orig_nbformat": 4,
  "vscode": {
   "interpreter": {
    "hash": "369f2c481f4da34e4445cda3fffd2e751bd1c4d706f27375911949ba6bb62e1c"
   }
  }
 },
 "nbformat": 4,
 "nbformat_minor": 2
}
